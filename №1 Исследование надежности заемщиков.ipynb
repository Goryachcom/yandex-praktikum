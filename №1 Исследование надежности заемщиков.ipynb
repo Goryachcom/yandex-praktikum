{
 "cells": [
  {
   "cell_type": "markdown",
   "id": "e4a58121",
   "metadata": {
    "deletable": false,
    "editable": false,
    "id": "c81daeeb"
   },
   "source": [
    "# Исследование надежности заемщиков\n"
   ]
  },
  {
   "cell_type": "markdown",
   "id": "be5a414c",
   "metadata": {
    "deletable": false,
    "editable": false,
    "id": "827c20bf"
   },
   "source": [
    "Во второй части проекта вы выполните шаги 3 и 4. Их вручную проверит ревьюер.\n",
    "Чтобы вам не пришлось писать код заново для шагов 1 и 2, мы добавили авторские решения в ячейки с кодом. \n",
    "\n"
   ]
  },
  {
   "cell_type": "markdown",
   "id": "8efa1f0f",
   "metadata": {
    "deletable": false,
    "editable": false,
    "id": "744d7639"
   },
   "source": [
    "## Откройте таблицу и изучите общую информацию о данных"
   ]
  },
  {
   "cell_type": "markdown",
   "id": "a363de2a",
   "metadata": {
    "deletable": false,
    "editable": false,
    "id": "e7a14c31"
   },
   "source": [
    "**Задание 1. Импортируйте библиотеку pandas. Считайте данные из csv-файла в датафрейм и сохраните в переменную `data`.**\n"
   ]
  },
  {
   "cell_type": "code",
   "execution_count": 1,
   "id": "d9e0dc7f",
   "metadata": {
    "deletable": false,
    "id": "7bcf75c9"
   },
   "outputs": [],
   "source": [
    "import pandas as pd\n",
    "\n",
    "try:\n",
    "    data = pd.read_csv('/datasets/data.csv')\n",
    "except:\n",
    "    data = pd.read_csv('https://code.s3.yandex.net/datasets/data.csv')"
   ]
  },
  {
   "cell_type": "markdown",
   "id": "e4cc4ad5",
   "metadata": {
    "deletable": false,
    "editable": false,
    "id": "b8038fe3"
   },
   "source": [
    "**Задание 2. Выведите первые 20 строчек датафрейма `data` на экран.**"
   ]
  },
  {
   "cell_type": "code",
   "execution_count": 2,
   "id": "5c29cfa5",
   "metadata": {
    "deletable": false,
    "id": "2a7cab99",
    "outputId": "1a8f3ef2-d323-4ec2-ddf7-89670b5944c4"
   },
   "outputs": [
    {
     "data": {
      "text/html": [
       "<div>\n",
       "<style scoped>\n",
       "    .dataframe tbody tr th:only-of-type {\n",
       "        vertical-align: middle;\n",
       "    }\n",
       "\n",
       "    .dataframe tbody tr th {\n",
       "        vertical-align: top;\n",
       "    }\n",
       "\n",
       "    .dataframe thead th {\n",
       "        text-align: right;\n",
       "    }\n",
       "</style>\n",
       "<table border=\"1\" class=\"dataframe\">\n",
       "  <thead>\n",
       "    <tr style=\"text-align: right;\">\n",
       "      <th></th>\n",
       "      <th>children</th>\n",
       "      <th>days_employed</th>\n",
       "      <th>dob_years</th>\n",
       "      <th>education</th>\n",
       "      <th>education_id</th>\n",
       "      <th>family_status</th>\n",
       "      <th>family_status_id</th>\n",
       "      <th>gender</th>\n",
       "      <th>income_type</th>\n",
       "      <th>debt</th>\n",
       "      <th>total_income</th>\n",
       "      <th>purpose</th>\n",
       "    </tr>\n",
       "  </thead>\n",
       "  <tbody>\n",
       "    <tr>\n",
       "      <th>0</th>\n",
       "      <td>1</td>\n",
       "      <td>-8437.673028</td>\n",
       "      <td>42</td>\n",
       "      <td>высшее</td>\n",
       "      <td>0</td>\n",
       "      <td>женат / замужем</td>\n",
       "      <td>0</td>\n",
       "      <td>F</td>\n",
       "      <td>сотрудник</td>\n",
       "      <td>0</td>\n",
       "      <td>253875.639453</td>\n",
       "      <td>покупка жилья</td>\n",
       "    </tr>\n",
       "    <tr>\n",
       "      <th>1</th>\n",
       "      <td>1</td>\n",
       "      <td>-4024.803754</td>\n",
       "      <td>36</td>\n",
       "      <td>среднее</td>\n",
       "      <td>1</td>\n",
       "      <td>женат / замужем</td>\n",
       "      <td>0</td>\n",
       "      <td>F</td>\n",
       "      <td>сотрудник</td>\n",
       "      <td>0</td>\n",
       "      <td>112080.014102</td>\n",
       "      <td>приобретение автомобиля</td>\n",
       "    </tr>\n",
       "    <tr>\n",
       "      <th>2</th>\n",
       "      <td>0</td>\n",
       "      <td>-5623.422610</td>\n",
       "      <td>33</td>\n",
       "      <td>Среднее</td>\n",
       "      <td>1</td>\n",
       "      <td>женат / замужем</td>\n",
       "      <td>0</td>\n",
       "      <td>M</td>\n",
       "      <td>сотрудник</td>\n",
       "      <td>0</td>\n",
       "      <td>145885.952297</td>\n",
       "      <td>покупка жилья</td>\n",
       "    </tr>\n",
       "    <tr>\n",
       "      <th>3</th>\n",
       "      <td>3</td>\n",
       "      <td>-4124.747207</td>\n",
       "      <td>32</td>\n",
       "      <td>среднее</td>\n",
       "      <td>1</td>\n",
       "      <td>женат / замужем</td>\n",
       "      <td>0</td>\n",
       "      <td>M</td>\n",
       "      <td>сотрудник</td>\n",
       "      <td>0</td>\n",
       "      <td>267628.550329</td>\n",
       "      <td>дополнительное образование</td>\n",
       "    </tr>\n",
       "    <tr>\n",
       "      <th>4</th>\n",
       "      <td>0</td>\n",
       "      <td>340266.072047</td>\n",
       "      <td>53</td>\n",
       "      <td>среднее</td>\n",
       "      <td>1</td>\n",
       "      <td>гражданский брак</td>\n",
       "      <td>1</td>\n",
       "      <td>F</td>\n",
       "      <td>пенсионер</td>\n",
       "      <td>0</td>\n",
       "      <td>158616.077870</td>\n",
       "      <td>сыграть свадьбу</td>\n",
       "    </tr>\n",
       "    <tr>\n",
       "      <th>5</th>\n",
       "      <td>0</td>\n",
       "      <td>-926.185831</td>\n",
       "      <td>27</td>\n",
       "      <td>высшее</td>\n",
       "      <td>0</td>\n",
       "      <td>гражданский брак</td>\n",
       "      <td>1</td>\n",
       "      <td>M</td>\n",
       "      <td>компаньон</td>\n",
       "      <td>0</td>\n",
       "      <td>255763.565419</td>\n",
       "      <td>покупка жилья</td>\n",
       "    </tr>\n",
       "    <tr>\n",
       "      <th>6</th>\n",
       "      <td>0</td>\n",
       "      <td>-2879.202052</td>\n",
       "      <td>43</td>\n",
       "      <td>высшее</td>\n",
       "      <td>0</td>\n",
       "      <td>женат / замужем</td>\n",
       "      <td>0</td>\n",
       "      <td>F</td>\n",
       "      <td>компаньон</td>\n",
       "      <td>0</td>\n",
       "      <td>240525.971920</td>\n",
       "      <td>операции с жильем</td>\n",
       "    </tr>\n",
       "    <tr>\n",
       "      <th>7</th>\n",
       "      <td>0</td>\n",
       "      <td>-152.779569</td>\n",
       "      <td>50</td>\n",
       "      <td>СРЕДНЕЕ</td>\n",
       "      <td>1</td>\n",
       "      <td>женат / замужем</td>\n",
       "      <td>0</td>\n",
       "      <td>M</td>\n",
       "      <td>сотрудник</td>\n",
       "      <td>0</td>\n",
       "      <td>135823.934197</td>\n",
       "      <td>образование</td>\n",
       "    </tr>\n",
       "    <tr>\n",
       "      <th>8</th>\n",
       "      <td>2</td>\n",
       "      <td>-6929.865299</td>\n",
       "      <td>35</td>\n",
       "      <td>ВЫСШЕЕ</td>\n",
       "      <td>0</td>\n",
       "      <td>гражданский брак</td>\n",
       "      <td>1</td>\n",
       "      <td>F</td>\n",
       "      <td>сотрудник</td>\n",
       "      <td>0</td>\n",
       "      <td>95856.832424</td>\n",
       "      <td>на проведение свадьбы</td>\n",
       "    </tr>\n",
       "    <tr>\n",
       "      <th>9</th>\n",
       "      <td>0</td>\n",
       "      <td>-2188.756445</td>\n",
       "      <td>41</td>\n",
       "      <td>среднее</td>\n",
       "      <td>1</td>\n",
       "      <td>женат / замужем</td>\n",
       "      <td>0</td>\n",
       "      <td>M</td>\n",
       "      <td>сотрудник</td>\n",
       "      <td>0</td>\n",
       "      <td>144425.938277</td>\n",
       "      <td>покупка жилья для семьи</td>\n",
       "    </tr>\n",
       "    <tr>\n",
       "      <th>10</th>\n",
       "      <td>2</td>\n",
       "      <td>-4171.483647</td>\n",
       "      <td>36</td>\n",
       "      <td>высшее</td>\n",
       "      <td>0</td>\n",
       "      <td>женат / замужем</td>\n",
       "      <td>0</td>\n",
       "      <td>M</td>\n",
       "      <td>компаньон</td>\n",
       "      <td>0</td>\n",
       "      <td>113943.491460</td>\n",
       "      <td>покупка недвижимости</td>\n",
       "    </tr>\n",
       "    <tr>\n",
       "      <th>11</th>\n",
       "      <td>0</td>\n",
       "      <td>-792.701887</td>\n",
       "      <td>40</td>\n",
       "      <td>среднее</td>\n",
       "      <td>1</td>\n",
       "      <td>женат / замужем</td>\n",
       "      <td>0</td>\n",
       "      <td>F</td>\n",
       "      <td>сотрудник</td>\n",
       "      <td>0</td>\n",
       "      <td>77069.234271</td>\n",
       "      <td>покупка коммерческой недвижимости</td>\n",
       "    </tr>\n",
       "    <tr>\n",
       "      <th>12</th>\n",
       "      <td>0</td>\n",
       "      <td>NaN</td>\n",
       "      <td>65</td>\n",
       "      <td>среднее</td>\n",
       "      <td>1</td>\n",
       "      <td>гражданский брак</td>\n",
       "      <td>1</td>\n",
       "      <td>M</td>\n",
       "      <td>пенсионер</td>\n",
       "      <td>0</td>\n",
       "      <td>NaN</td>\n",
       "      <td>сыграть свадьбу</td>\n",
       "    </tr>\n",
       "    <tr>\n",
       "      <th>13</th>\n",
       "      <td>0</td>\n",
       "      <td>-1846.641941</td>\n",
       "      <td>54</td>\n",
       "      <td>неоконченное высшее</td>\n",
       "      <td>2</td>\n",
       "      <td>женат / замужем</td>\n",
       "      <td>0</td>\n",
       "      <td>F</td>\n",
       "      <td>сотрудник</td>\n",
       "      <td>0</td>\n",
       "      <td>130458.228857</td>\n",
       "      <td>приобретение автомобиля</td>\n",
       "    </tr>\n",
       "    <tr>\n",
       "      <th>14</th>\n",
       "      <td>0</td>\n",
       "      <td>-1844.956182</td>\n",
       "      <td>56</td>\n",
       "      <td>высшее</td>\n",
       "      <td>0</td>\n",
       "      <td>гражданский брак</td>\n",
       "      <td>1</td>\n",
       "      <td>F</td>\n",
       "      <td>компаньон</td>\n",
       "      <td>1</td>\n",
       "      <td>165127.911772</td>\n",
       "      <td>покупка жилой недвижимости</td>\n",
       "    </tr>\n",
       "    <tr>\n",
       "      <th>15</th>\n",
       "      <td>1</td>\n",
       "      <td>-972.364419</td>\n",
       "      <td>26</td>\n",
       "      <td>среднее</td>\n",
       "      <td>1</td>\n",
       "      <td>женат / замужем</td>\n",
       "      <td>0</td>\n",
       "      <td>F</td>\n",
       "      <td>сотрудник</td>\n",
       "      <td>0</td>\n",
       "      <td>116820.904450</td>\n",
       "      <td>строительство собственной недвижимости</td>\n",
       "    </tr>\n",
       "    <tr>\n",
       "      <th>16</th>\n",
       "      <td>0</td>\n",
       "      <td>-1719.934226</td>\n",
       "      <td>35</td>\n",
       "      <td>среднее</td>\n",
       "      <td>1</td>\n",
       "      <td>женат / замужем</td>\n",
       "      <td>0</td>\n",
       "      <td>F</td>\n",
       "      <td>сотрудник</td>\n",
       "      <td>0</td>\n",
       "      <td>289202.704229</td>\n",
       "      <td>недвижимость</td>\n",
       "    </tr>\n",
       "    <tr>\n",
       "      <th>17</th>\n",
       "      <td>0</td>\n",
       "      <td>-2369.999720</td>\n",
       "      <td>33</td>\n",
       "      <td>высшее</td>\n",
       "      <td>0</td>\n",
       "      <td>гражданский брак</td>\n",
       "      <td>1</td>\n",
       "      <td>M</td>\n",
       "      <td>сотрудник</td>\n",
       "      <td>0</td>\n",
       "      <td>90410.586745</td>\n",
       "      <td>строительство недвижимости</td>\n",
       "    </tr>\n",
       "    <tr>\n",
       "      <th>18</th>\n",
       "      <td>0</td>\n",
       "      <td>400281.136913</td>\n",
       "      <td>53</td>\n",
       "      <td>среднее</td>\n",
       "      <td>1</td>\n",
       "      <td>вдовец / вдова</td>\n",
       "      <td>2</td>\n",
       "      <td>F</td>\n",
       "      <td>пенсионер</td>\n",
       "      <td>0</td>\n",
       "      <td>56823.777243</td>\n",
       "      <td>на покупку подержанного автомобиля</td>\n",
       "    </tr>\n",
       "    <tr>\n",
       "      <th>19</th>\n",
       "      <td>0</td>\n",
       "      <td>-10038.818549</td>\n",
       "      <td>48</td>\n",
       "      <td>СРЕДНЕЕ</td>\n",
       "      <td>1</td>\n",
       "      <td>в разводе</td>\n",
       "      <td>3</td>\n",
       "      <td>F</td>\n",
       "      <td>сотрудник</td>\n",
       "      <td>0</td>\n",
       "      <td>242831.107982</td>\n",
       "      <td>на покупку своего автомобиля</td>\n",
       "    </tr>\n",
       "  </tbody>\n",
       "</table>\n",
       "</div>"
      ],
      "text/plain": [
       "    children  days_employed  dob_years            education  education_id  \\\n",
       "0          1   -8437.673028         42               высшее             0   \n",
       "1          1   -4024.803754         36              среднее             1   \n",
       "2          0   -5623.422610         33              Среднее             1   \n",
       "3          3   -4124.747207         32              среднее             1   \n",
       "4          0  340266.072047         53              среднее             1   \n",
       "5          0    -926.185831         27               высшее             0   \n",
       "6          0   -2879.202052         43               высшее             0   \n",
       "7          0    -152.779569         50              СРЕДНЕЕ             1   \n",
       "8          2   -6929.865299         35               ВЫСШЕЕ             0   \n",
       "9          0   -2188.756445         41              среднее             1   \n",
       "10         2   -4171.483647         36               высшее             0   \n",
       "11         0    -792.701887         40              среднее             1   \n",
       "12         0            NaN         65              среднее             1   \n",
       "13         0   -1846.641941         54  неоконченное высшее             2   \n",
       "14         0   -1844.956182         56               высшее             0   \n",
       "15         1    -972.364419         26              среднее             1   \n",
       "16         0   -1719.934226         35              среднее             1   \n",
       "17         0   -2369.999720         33               высшее             0   \n",
       "18         0  400281.136913         53              среднее             1   \n",
       "19         0  -10038.818549         48              СРЕДНЕЕ             1   \n",
       "\n",
       "       family_status  family_status_id gender income_type  debt  \\\n",
       "0    женат / замужем                 0      F   сотрудник     0   \n",
       "1    женат / замужем                 0      F   сотрудник     0   \n",
       "2    женат / замужем                 0      M   сотрудник     0   \n",
       "3    женат / замужем                 0      M   сотрудник     0   \n",
       "4   гражданский брак                 1      F   пенсионер     0   \n",
       "5   гражданский брак                 1      M   компаньон     0   \n",
       "6    женат / замужем                 0      F   компаньон     0   \n",
       "7    женат / замужем                 0      M   сотрудник     0   \n",
       "8   гражданский брак                 1      F   сотрудник     0   \n",
       "9    женат / замужем                 0      M   сотрудник     0   \n",
       "10   женат / замужем                 0      M   компаньон     0   \n",
       "11   женат / замужем                 0      F   сотрудник     0   \n",
       "12  гражданский брак                 1      M   пенсионер     0   \n",
       "13   женат / замужем                 0      F   сотрудник     0   \n",
       "14  гражданский брак                 1      F   компаньон     1   \n",
       "15   женат / замужем                 0      F   сотрудник     0   \n",
       "16   женат / замужем                 0      F   сотрудник     0   \n",
       "17  гражданский брак                 1      M   сотрудник     0   \n",
       "18    вдовец / вдова                 2      F   пенсионер     0   \n",
       "19         в разводе                 3      F   сотрудник     0   \n",
       "\n",
       "     total_income                                 purpose  \n",
       "0   253875.639453                           покупка жилья  \n",
       "1   112080.014102                 приобретение автомобиля  \n",
       "2   145885.952297                           покупка жилья  \n",
       "3   267628.550329              дополнительное образование  \n",
       "4   158616.077870                         сыграть свадьбу  \n",
       "5   255763.565419                           покупка жилья  \n",
       "6   240525.971920                       операции с жильем  \n",
       "7   135823.934197                             образование  \n",
       "8    95856.832424                   на проведение свадьбы  \n",
       "9   144425.938277                 покупка жилья для семьи  \n",
       "10  113943.491460                    покупка недвижимости  \n",
       "11   77069.234271       покупка коммерческой недвижимости  \n",
       "12            NaN                         сыграть свадьбу  \n",
       "13  130458.228857                 приобретение автомобиля  \n",
       "14  165127.911772              покупка жилой недвижимости  \n",
       "15  116820.904450  строительство собственной недвижимости  \n",
       "16  289202.704229                            недвижимость  \n",
       "17   90410.586745              строительство недвижимости  \n",
       "18   56823.777243      на покупку подержанного автомобиля  \n",
       "19  242831.107982            на покупку своего автомобиля  "
      ]
     },
     "execution_count": 2,
     "metadata": {},
     "output_type": "execute_result"
    }
   ],
   "source": [
    "data.head(20)"
   ]
  },
  {
   "cell_type": "markdown",
   "id": "a25a195b",
   "metadata": {
    "deletable": false,
    "editable": false,
    "id": "1c12e233"
   },
   "source": [
    "**Задание 3. Выведите основную информацию о датафрейме с помощью метода `info()`.**"
   ]
  },
  {
   "cell_type": "code",
   "execution_count": 3,
   "id": "e6842346",
   "metadata": {
    "deletable": false,
    "id": "2b757bca",
    "outputId": "15376089-8dad-46c9-b520-c05248d43158"
   },
   "outputs": [
    {
     "name": "stdout",
     "output_type": "stream",
     "text": [
      "<class 'pandas.core.frame.DataFrame'>\n",
      "RangeIndex: 21525 entries, 0 to 21524\n",
      "Data columns (total 12 columns):\n",
      " #   Column            Non-Null Count  Dtype  \n",
      "---  ------            --------------  -----  \n",
      " 0   children          21525 non-null  int64  \n",
      " 1   days_employed     19351 non-null  float64\n",
      " 2   dob_years         21525 non-null  int64  \n",
      " 3   education         21525 non-null  object \n",
      " 4   education_id      21525 non-null  int64  \n",
      " 5   family_status     21525 non-null  object \n",
      " 6   family_status_id  21525 non-null  int64  \n",
      " 7   gender            21525 non-null  object \n",
      " 8   income_type       21525 non-null  object \n",
      " 9   debt              21525 non-null  int64  \n",
      " 10  total_income      19351 non-null  float64\n",
      " 11  purpose           21525 non-null  object \n",
      "dtypes: float64(2), int64(5), object(5)\n",
      "memory usage: 2.0+ MB\n"
     ]
    }
   ],
   "source": [
    "data.info()"
   ]
  },
  {
   "cell_type": "markdown",
   "id": "00598a4b",
   "metadata": {
    "deletable": false,
    "editable": false,
    "id": "333ec665"
   },
   "source": [
    "## Предобработка данных"
   ]
  },
  {
   "cell_type": "markdown",
   "id": "4a5b5fc5",
   "metadata": {
    "deletable": false,
    "editable": false,
    "id": "02d92d53"
   },
   "source": [
    "### Удаление пропусков"
   ]
  },
  {
   "cell_type": "markdown",
   "id": "71009c7c",
   "metadata": {
    "deletable": false,
    "editable": false,
    "id": "cd84967c"
   },
   "source": [
    "**Задание 4. Выведите количество пропущенных значений для каждого столбца. Используйте комбинацию двух методов.**"
   ]
  },
  {
   "cell_type": "code",
   "execution_count": 4,
   "id": "397ba2ac",
   "metadata": {
    "deletable": false,
    "id": "7f9b2309",
    "outputId": "81f4d817-781c-465c-ed15-91ce4446810d"
   },
   "outputs": [
    {
     "data": {
      "text/plain": [
       "children               0\n",
       "days_employed       2174\n",
       "dob_years              0\n",
       "education              0\n",
       "education_id           0\n",
       "family_status          0\n",
       "family_status_id       0\n",
       "gender                 0\n",
       "income_type            0\n",
       "debt                   0\n",
       "total_income        2174\n",
       "purpose                0\n",
       "dtype: int64"
      ]
     },
     "execution_count": 4,
     "metadata": {},
     "output_type": "execute_result"
    }
   ],
   "source": [
    "data.isna().sum()"
   ]
  },
  {
   "cell_type": "markdown",
   "id": "9aa9c936",
   "metadata": {
    "deletable": false,
    "editable": false,
    "id": "db86e27b"
   },
   "source": [
    "**Задание 5. В двух столбцах есть пропущенные значения. Один из них — `days_employed`. Пропуски в этом столбце вы обработаете на следующем этапе. Другой столбец с пропущенными значениями — `total_income` — хранит данные о доходах. На сумму дохода сильнее всего влияет тип занятости, поэтому заполнить пропуски в этом столбце нужно медианным значением по каждому типу из столбца `income_type`. Например, у человека с типом занятости `сотрудник` пропуск в столбце `total_income` должен быть заполнен медианным доходом среди всех записей с тем же типом.**"
   ]
  },
  {
   "cell_type": "code",
   "execution_count": 5,
   "id": "c1cbec6c",
   "metadata": {
    "deletable": false,
    "id": "42006a93"
   },
   "outputs": [],
   "source": [
    "for t in data['income_type'].unique():\n",
    "    data.loc[(data['income_type'] == t) & (data['total_income'].isna()), 'total_income'] = \\\n",
    "    data.loc[(data['income_type'] == t), 'total_income'].median()"
   ]
  },
  {
   "cell_type": "markdown",
   "id": "6f6e217c",
   "metadata": {
    "deletable": false,
    "editable": false,
    "id": "89da5ece"
   },
   "source": [
    "### Обработка аномальных значений"
   ]
  },
  {
   "cell_type": "markdown",
   "id": "0914c496",
   "metadata": {
    "deletable": false,
    "editable": false,
    "id": "57964554"
   },
   "source": [
    "**Задание 6. В данных могут встречаться артефакты (аномалии) — значения, которые не отражают действительность и появились по какой-то ошибке. таким артефактом будет отрицательное количество дней трудового стажа в столбце `days_employed`. Для реальных данных это нормально. Обработайте значения в этом столбце: замените все отрицательные значения положительными с помощью метода `abs()`.**"
   ]
  },
  {
   "cell_type": "code",
   "execution_count": 6,
   "id": "7c2e989e",
   "metadata": {
    "deletable": false,
    "id": "f6f055bf"
   },
   "outputs": [],
   "source": [
    "data['days_employed'] = data['days_employed'].abs()"
   ]
  },
  {
   "cell_type": "markdown",
   "id": "f09ca3fd",
   "metadata": {
    "deletable": false,
    "editable": false,
    "id": "6107dd2f"
   },
   "source": [
    "**Задание 7. Для каждого типа занятости выведите медианное значение трудового стажа `days_employed` в днях.**"
   ]
  },
  {
   "cell_type": "code",
   "execution_count": 7,
   "id": "90beb0a3",
   "metadata": {
    "deletable": false,
    "id": "85a5faf6",
    "outputId": "801ef80e-522b-4668-f34e-565af7432bcf"
   },
   "outputs": [
    {
     "data": {
      "text/plain": [
       "income_type\n",
       "безработный        366413.652744\n",
       "в декрете            3296.759962\n",
       "госслужащий          2689.368353\n",
       "компаньон            1547.382223\n",
       "пенсионер          365213.306266\n",
       "предприниматель       520.848083\n",
       "сотрудник            1574.202821\n",
       "студент               578.751554\n",
       "Name: days_employed, dtype: float64"
      ]
     },
     "execution_count": 7,
     "metadata": {},
     "output_type": "execute_result"
    }
   ],
   "source": [
    "data.groupby('income_type')['days_employed'].agg('median')"
   ]
  },
  {
   "cell_type": "markdown",
   "id": "d93ad607",
   "metadata": {
    "deletable": false,
    "editable": false,
    "id": "38d1a030"
   },
   "source": [
    "У двух типов (безработные и пенсионеры) получатся аномально большие значения. Исправить такие значения сложно, поэтому оставьте их как есть. Тем более этот столбец не понадобится вам для исследования."
   ]
  },
  {
   "cell_type": "markdown",
   "id": "6d79cd9c",
   "metadata": {
    "deletable": false,
    "editable": false,
    "id": "d8a9f147"
   },
   "source": [
    "**Задание 8. Выведите перечень уникальных значений столбца `children`.**"
   ]
  },
  {
   "cell_type": "code",
   "execution_count": 8,
   "id": "996fb18e",
   "metadata": {
    "deletable": false,
    "id": "ef5056eb",
    "outputId": "6975b15c-7f95-4697-d16d-a0c79b657b03"
   },
   "outputs": [
    {
     "data": {
      "text/plain": [
       "array([ 1,  0,  3,  2, -1,  4, 20,  5])"
      ]
     },
     "execution_count": 8,
     "metadata": {},
     "output_type": "execute_result"
    }
   ],
   "source": [
    "data['children'].unique()"
   ]
  },
  {
   "cell_type": "markdown",
   "id": "8370dad7",
   "metadata": {
    "deletable": false,
    "editable": false,
    "id": "40b9ebf2"
   },
   "source": [
    "**Задание 9. В столбце `children` есть два аномальных значения. Удалите строки, в которых встречаются такие аномальные значения из датафрейма `data`.**"
   ]
  },
  {
   "cell_type": "code",
   "execution_count": 9,
   "id": "0a075017",
   "metadata": {
    "deletable": false,
    "id": "3ff9801d"
   },
   "outputs": [],
   "source": [
    "data = data[(data['children'] != -1) & (data['children'] != 20)]"
   ]
  },
  {
   "cell_type": "markdown",
   "id": "3381f351",
   "metadata": {
    "deletable": false,
    "editable": false,
    "id": "bbc4d0ce"
   },
   "source": [
    "**Задание 10. Ещё раз выведите перечень уникальных значений столбца `children`, чтобы убедиться, что артефакты удалены.**"
   ]
  },
  {
   "cell_type": "code",
   "execution_count": 10,
   "id": "2ff0edb8",
   "metadata": {
    "deletable": false,
    "id": "ad4fa8b7",
    "outputId": "b2097101-d49d-44d9-901b-32a65c9463d1"
   },
   "outputs": [
    {
     "data": {
      "text/plain": [
       "array([1, 0, 3, 2, 4, 5])"
      ]
     },
     "execution_count": 10,
     "metadata": {},
     "output_type": "execute_result"
    }
   ],
   "source": [
    "data['children'].unique()"
   ]
  },
  {
   "cell_type": "markdown",
   "id": "dfb43904",
   "metadata": {
    "deletable": false,
    "editable": false,
    "id": "75440b63"
   },
   "source": [
    "### Удаление пропусков (продолжение)"
   ]
  },
  {
   "cell_type": "markdown",
   "id": "20cbcd87",
   "metadata": {
    "deletable": false,
    "editable": false,
    "id": "f4ea573f"
   },
   "source": [
    "**Задание 11. Заполните пропуски в столбце `days_employed` медианными значениями по каждого типа занятости `income_type`.**"
   ]
  },
  {
   "cell_type": "code",
   "execution_count": 11,
   "id": "870ecf27",
   "metadata": {
    "deletable": false,
    "id": "af6b1a7e"
   },
   "outputs": [],
   "source": [
    "for t in data['income_type'].unique():\n",
    "    data.loc[(data['income_type'] == t) & (data['days_employed'].isna()), 'days_employed'] = \\\n",
    "    data.loc[(data['income_type'] == t), 'days_employed'].median()"
   ]
  },
  {
   "cell_type": "markdown",
   "id": "297434c3",
   "metadata": {
    "deletable": false,
    "editable": false,
    "id": "2753f40d"
   },
   "source": [
    "**Задание 12. Убедитесь, что все пропуски заполнены. Проверьте себя и ещё раз выведите количество пропущенных значений для каждого столбца с помощью двух методов.**"
   ]
  },
  {
   "cell_type": "code",
   "execution_count": 12,
   "id": "1808dee2",
   "metadata": {
    "deletable": false,
    "id": "55f78bc2",
    "outputId": "8da1e4e1-358e-4e87-98c9-f261bce0a7b2"
   },
   "outputs": [
    {
     "data": {
      "text/plain": [
       "children            0\n",
       "days_employed       0\n",
       "dob_years           0\n",
       "education           0\n",
       "education_id        0\n",
       "family_status       0\n",
       "family_status_id    0\n",
       "gender              0\n",
       "income_type         0\n",
       "debt                0\n",
       "total_income        0\n",
       "purpose             0\n",
       "dtype: int64"
      ]
     },
     "execution_count": 12,
     "metadata": {},
     "output_type": "execute_result"
    }
   ],
   "source": [
    "data.isna().sum()"
   ]
  },
  {
   "cell_type": "markdown",
   "id": "5a8fc51c",
   "metadata": {
    "deletable": false,
    "editable": false,
    "id": "ddc81e43"
   },
   "source": [
    "### Изменение типов данных"
   ]
  },
  {
   "cell_type": "markdown",
   "id": "91ef6109",
   "metadata": {
    "deletable": false,
    "editable": false,
    "id": "42d19d24"
   },
   "source": [
    "**Задание 13. Замените вещественный тип данных в столбце `total_income` на целочисленный с помощью метода `astype()`.**"
   ]
  },
  {
   "cell_type": "code",
   "execution_count": 13,
   "id": "6a642f77",
   "metadata": {
    "deletable": false,
    "id": "920b65ad"
   },
   "outputs": [],
   "source": [
    "data['total_income'] = data['total_income'].astype(int)"
   ]
  },
  {
   "cell_type": "markdown",
   "id": "e82c6888",
   "metadata": {
    "deletable": false,
    "editable": false,
    "id": "80c420ba"
   },
   "source": [
    "### Обработка дубликатов"
   ]
  },
  {
   "cell_type": "markdown",
   "id": "6f285076",
   "metadata": {
    "deletable": false,
    "editable": false
   },
   "source": [
    "**Задание 14. Обработайте неявные дубликаты в столбце `education`. В этом столбце есть одни и те же значения, но записанные по-разному: с использованием заглавных и строчных букв. Приведите их к нижнему регистру. Проверьте остальные столбцы.**"
   ]
  },
  {
   "cell_type": "code",
   "execution_count": 14,
   "id": "8a6af18d",
   "metadata": {
    "deletable": false
   },
   "outputs": [],
   "source": [
    "data['education'] = data['education'].str.lower()"
   ]
  },
  {
   "cell_type": "markdown",
   "id": "d6cd3045",
   "metadata": {
    "deletable": false,
    "editable": false,
    "id": "dc587695"
   },
   "source": [
    "**Задание 15. Выведите на экран количество строк-дубликатов в данных. Если такие строки присутствуют, удалите их.**"
   ]
  },
  {
   "cell_type": "code",
   "execution_count": 15,
   "id": "72c0ebf2",
   "metadata": {
    "deletable": false,
    "id": "3ee445e4",
    "outputId": "9684deba-1934-42d1-99e1-cda61740f822"
   },
   "outputs": [
    {
     "data": {
      "text/plain": [
       "71"
      ]
     },
     "execution_count": 15,
     "metadata": {},
     "output_type": "execute_result"
    }
   ],
   "source": [
    "data.duplicated().sum()"
   ]
  },
  {
   "cell_type": "code",
   "execution_count": 16,
   "id": "d4fec4fb",
   "metadata": {
    "deletable": false,
    "id": "8575fe05"
   },
   "outputs": [],
   "source": [
    "data = data.drop_duplicates()"
   ]
  },
  {
   "cell_type": "markdown",
   "id": "ac51f5e7",
   "metadata": {
    "deletable": false,
    "editable": false,
    "id": "9904cf55"
   },
   "source": [
    "### Категоризация данных"
   ]
  },
  {
   "cell_type": "markdown",
   "id": "ba416109",
   "metadata": {
    "deletable": false,
    "editable": false,
    "id": "72fcc8a2"
   },
   "source": [
    "**Задание 16. На основании диапазонов, указанных ниже, создайте в датафрейме `data` столбец `total_income_category` с категориями:**\n",
    "\n",
    "- 0–30000 — `'E'`;\n",
    "- 30001–50000 — `'D'`;\n",
    "- 50001–200000 — `'C'`;\n",
    "- 200001–1000000 — `'B'`;\n",
    "- 1000001 и выше — `'A'`.\n",
    "\n",
    "\n",
    "**Например, кредитополучателю с доходом 25000 нужно назначить категорию `'E'`, а клиенту, получающему 235000, — `'B'`. Используйте собственную функцию с именем `categorize_income()` и метод `apply()`.**"
   ]
  },
  {
   "cell_type": "code",
   "execution_count": 17,
   "id": "443f970c",
   "metadata": {
    "deletable": false,
    "id": "e1771346"
   },
   "outputs": [],
   "source": [
    "def categorize_income(income):\n",
    "    try:\n",
    "        if 0 <= income <= 30000:\n",
    "            return 'E'\n",
    "        elif 30001 <= income <= 50000:\n",
    "            return 'D'\n",
    "        elif 50001 <= income <= 200000:\n",
    "            return 'C'\n",
    "        elif 200001 <= income <= 1000000:\n",
    "            return 'B'\n",
    "        elif income >= 1000001:\n",
    "            return 'A'\n",
    "    except:\n",
    "        pass"
   ]
  },
  {
   "cell_type": "code",
   "execution_count": 18,
   "id": "a59df36b",
   "metadata": {
    "deletable": false,
    "id": "d5f3586d"
   },
   "outputs": [],
   "source": [
    "data['total_income_category'] = data['total_income'].apply(categorize_income)"
   ]
  },
  {
   "cell_type": "markdown",
   "id": "4aaefc80",
   "metadata": {
    "deletable": false,
    "editable": false,
    "id": "dde49b5c"
   },
   "source": [
    "**Задание 17. Выведите на экран перечень уникальных целей взятия кредита из столбца `purpose`.**"
   ]
  },
  {
   "cell_type": "code",
   "execution_count": 19,
   "id": "f4bdf1c6",
   "metadata": {
    "deletable": false,
    "id": "f67ce9b3",
    "outputId": "673c12d9-7d7e-4ae0-9812-c622c89dd244"
   },
   "outputs": [
    {
     "data": {
      "text/plain": [
       "array(['покупка жилья', 'приобретение автомобиля',\n",
       "       'дополнительное образование', 'сыграть свадьбу',\n",
       "       'операции с жильем', 'образование', 'на проведение свадьбы',\n",
       "       'покупка жилья для семьи', 'покупка недвижимости',\n",
       "       'покупка коммерческой недвижимости', 'покупка жилой недвижимости',\n",
       "       'строительство собственной недвижимости', 'недвижимость',\n",
       "       'строительство недвижимости', 'на покупку подержанного автомобиля',\n",
       "       'на покупку своего автомобиля',\n",
       "       'операции с коммерческой недвижимостью',\n",
       "       'строительство жилой недвижимости', 'жилье',\n",
       "       'операции со своей недвижимостью', 'автомобили',\n",
       "       'заняться образованием', 'сделка с подержанным автомобилем',\n",
       "       'получение образования', 'автомобиль', 'свадьба',\n",
       "       'получение дополнительного образования', 'покупка своего жилья',\n",
       "       'операции с недвижимостью', 'получение высшего образования',\n",
       "       'свой автомобиль', 'сделка с автомобилем',\n",
       "       'профильное образование', 'высшее образование',\n",
       "       'покупка жилья для сдачи', 'на покупку автомобиля', 'ремонт жилью',\n",
       "       'заняться высшим образованием'], dtype=object)"
      ]
     },
     "execution_count": 19,
     "metadata": {},
     "output_type": "execute_result"
    }
   ],
   "source": [
    "data['purpose'].unique()"
   ]
  },
  {
   "cell_type": "markdown",
   "id": "e07574a0",
   "metadata": {
    "deletable": false,
    "editable": false,
    "id": "85d0aef0"
   },
   "source": [
    "**Задание 18. Создайте функцию, которая на основании данных из столбца `purpose` сформирует новый столбец `purpose_category`, в который войдут следующие категории:**\n",
    "\n",
    "- `'операции с автомобилем'`,\n",
    "- `'операции с недвижимостью'`,\n",
    "- `'проведение свадьбы'`,\n",
    "- `'получение образования'`.\n",
    "\n",
    "**Например, если в столбце `purpose` находится подстрока `'на покупку автомобиля'`, то в столбце `purpose_category` должна появиться строка `'операции с автомобилем'`.**\n",
    "\n",
    "**Используйте собственную функцию с именем `categorize_purpose()` и метод `apply()`. Изучите данные в столбце `purpose` и определите, какие подстроки помогут вам правильно определить категорию.**"
   ]
  },
  {
   "cell_type": "code",
   "execution_count": 20,
   "id": "359d91f8",
   "metadata": {
    "deletable": false,
    "id": "e149fab4"
   },
   "outputs": [],
   "source": [
    "def categorize_purpose(row):\n",
    "    try:\n",
    "        if 'автом' in row:\n",
    "            return 'операции с автомобилем'\n",
    "        elif 'жил' in row or 'недвиж' in row:\n",
    "            return 'операции с недвижимостью'\n",
    "        elif 'свад' in row:\n",
    "            return 'проведение свадьбы'\n",
    "        elif 'образов' in row:\n",
    "            return 'получение образования'\n",
    "    except:\n",
    "        return 'нет категории'"
   ]
  },
  {
   "cell_type": "code",
   "execution_count": 21,
   "id": "c16650b4",
   "metadata": {
    "deletable": false,
    "id": "bf36e69b"
   },
   "outputs": [],
   "source": [
    "data['purpose_category'] = data['purpose'].apply(categorize_purpose)"
   ]
  },
  {
   "cell_type": "markdown",
   "id": "f6185a82",
   "metadata": {
    "deletable": false,
    "editable": false,
    "id": "09b242bf"
   },
   "source": [
    "### Шаг 3. Исследуйте данные и ответьте на вопросы"
   ]
  },
  {
   "cell_type": "markdown",
   "id": "56399bac",
   "metadata": {
    "deletable": false,
    "editable": false,
    "id": "c5d66278"
   },
   "source": [
    "#### 3.1 Есть ли зависимость между количеством детей и возвратом кредита в срок?"
   ]
  },
  {
   "cell_type": "code",
   "execution_count": 22,
   "id": "9262a19f",
   "metadata": {
    "deletable": false,
    "id": "2cacfc4a",
    "scrolled": true
   },
   "outputs": [
    {
     "data": {
      "text/html": [
       "<div>\n",
       "<style scoped>\n",
       "    .dataframe tbody tr th:only-of-type {\n",
       "        vertical-align: middle;\n",
       "    }\n",
       "\n",
       "    .dataframe tbody tr th {\n",
       "        vertical-align: top;\n",
       "    }\n",
       "\n",
       "    .dataframe thead th {\n",
       "        text-align: right;\n",
       "    }\n",
       "</style>\n",
       "<table border=\"1\" class=\"dataframe\">\n",
       "  <thead>\n",
       "    <tr style=\"text-align: right;\">\n",
       "      <th></th>\n",
       "      <th>count_children</th>\n",
       "      <th>sum_children</th>\n",
       "      <th>result_children</th>\n",
       "    </tr>\n",
       "    <tr>\n",
       "      <th>children</th>\n",
       "      <th></th>\n",
       "      <th></th>\n",
       "      <th></th>\n",
       "    </tr>\n",
       "  </thead>\n",
       "  <tbody>\n",
       "    <tr>\n",
       "      <th>4</th>\n",
       "      <td>41</td>\n",
       "      <td>4</td>\n",
       "      <td>0.097561</td>\n",
       "    </tr>\n",
       "    <tr>\n",
       "      <th>2</th>\n",
       "      <td>2052</td>\n",
       "      <td>194</td>\n",
       "      <td>0.094542</td>\n",
       "    </tr>\n",
       "    <tr>\n",
       "      <th>1</th>\n",
       "      <td>4808</td>\n",
       "      <td>444</td>\n",
       "      <td>0.092346</td>\n",
       "    </tr>\n",
       "    <tr>\n",
       "      <th>3</th>\n",
       "      <td>330</td>\n",
       "      <td>27</td>\n",
       "      <td>0.081818</td>\n",
       "    </tr>\n",
       "    <tr>\n",
       "      <th>0</th>\n",
       "      <td>14091</td>\n",
       "      <td>1063</td>\n",
       "      <td>0.075438</td>\n",
       "    </tr>\n",
       "    <tr>\n",
       "      <th>5</th>\n",
       "      <td>9</td>\n",
       "      <td>0</td>\n",
       "      <td>0.000000</td>\n",
       "    </tr>\n",
       "  </tbody>\n",
       "</table>\n",
       "</div>"
      ],
      "text/plain": [
       "          count_children  sum_children  result_children\n",
       "children                                               \n",
       "4                     41             4         0.097561\n",
       "2                   2052           194         0.094542\n",
       "1                   4808           444         0.092346\n",
       "3                    330            27         0.081818\n",
       "0                  14091          1063         0.075438\n",
       "5                      9             0         0.000000"
      ]
     },
     "execution_count": 22,
     "metadata": {},
     "output_type": "execute_result"
    }
   ],
   "source": [
    "#создаем таблицу debt_children\n",
    "debt_children = pd.DataFrame()\n",
    "\n",
    "#определяем количество должников по количесву детей\n",
    "debt_children['count_children'] = data.groupby('children')['debt'].count()\n",
    "\n",
    "#определяем сумму должников по количеству детей\n",
    "debt_children['sum_children'] = data.groupby('children')['debt'].sum()\n",
    "\n",
    "#делим столбец sum_children на count_children\n",
    "debt_children['result_children'] = debt_children['sum_children'] / debt_children['count_children']\n",
    "\n",
    "#сортируем результат деления по убыванию\n",
    "debt_children.sort_values('result_children', ascending = False)"
   ]
  },
  {
   "cell_type": "markdown",
   "id": "737fa48f",
   "metadata": {
    "deletable": false,
    "id": "3a6b99ec"
   },
   "source": [
    "**С увеличением количества детей мы видим увеличение количества просроченных задолженностей, хотя люди с 3 детьми чаще платят в срок чем люди с 1 ребенком. Бездетные, как правило реже просрачивают оплату по кредиту, чем люди с детьми.** "
   ]
  },
  {
   "cell_type": "markdown",
   "id": "63c7a6cf",
   "metadata": {
    "deletable": false,
    "editable": false,
    "id": "97be82ca"
   },
   "source": [
    "#### 3.2 Есть ли зависимость между семейным положением и возвратом кредита в срок?"
   ]
  },
  {
   "cell_type": "code",
   "execution_count": 23,
   "id": "991bea64",
   "metadata": {
    "deletable": false,
    "id": "dc3f7ee8"
   },
   "outputs": [
    {
     "data": {
      "text/html": [
       "<div>\n",
       "<style scoped>\n",
       "    .dataframe tbody tr th:only-of-type {\n",
       "        vertical-align: middle;\n",
       "    }\n",
       "\n",
       "    .dataframe tbody tr th {\n",
       "        vertical-align: top;\n",
       "    }\n",
       "\n",
       "    .dataframe thead th {\n",
       "        text-align: right;\n",
       "    }\n",
       "</style>\n",
       "<table border=\"1\" class=\"dataframe\">\n",
       "  <thead>\n",
       "    <tr style=\"text-align: right;\">\n",
       "      <th></th>\n",
       "      <th>count_family_status</th>\n",
       "      <th>sum_family_status</th>\n",
       "      <th>result_family_status</th>\n",
       "    </tr>\n",
       "    <tr>\n",
       "      <th>family_status</th>\n",
       "      <th></th>\n",
       "      <th></th>\n",
       "      <th></th>\n",
       "    </tr>\n",
       "  </thead>\n",
       "  <tbody>\n",
       "    <tr>\n",
       "      <th>Не женат / не замужем</th>\n",
       "      <td>2796</td>\n",
       "      <td>273</td>\n",
       "      <td>0.097639</td>\n",
       "    </tr>\n",
       "    <tr>\n",
       "      <th>гражданский брак</th>\n",
       "      <td>4134</td>\n",
       "      <td>385</td>\n",
       "      <td>0.093130</td>\n",
       "    </tr>\n",
       "    <tr>\n",
       "      <th>женат / замужем</th>\n",
       "      <td>12261</td>\n",
       "      <td>927</td>\n",
       "      <td>0.075606</td>\n",
       "    </tr>\n",
       "    <tr>\n",
       "      <th>в разводе</th>\n",
       "      <td>1189</td>\n",
       "      <td>84</td>\n",
       "      <td>0.070648</td>\n",
       "    </tr>\n",
       "    <tr>\n",
       "      <th>вдовец / вдова</th>\n",
       "      <td>951</td>\n",
       "      <td>63</td>\n",
       "      <td>0.066246</td>\n",
       "    </tr>\n",
       "  </tbody>\n",
       "</table>\n",
       "</div>"
      ],
      "text/plain": [
       "                       count_family_status  sum_family_status  \\\n",
       "family_status                                                   \n",
       "Не женат / не замужем                 2796                273   \n",
       "гражданский брак                      4134                385   \n",
       "женат / замужем                      12261                927   \n",
       "в разводе                             1189                 84   \n",
       "вдовец / вдова                         951                 63   \n",
       "\n",
       "                       result_family_status  \n",
       "family_status                                \n",
       "Не женат / не замужем              0.097639  \n",
       "гражданский брак                   0.093130  \n",
       "женат / замужем                    0.075606  \n",
       "в разводе                          0.070648  \n",
       "вдовец / вдова                     0.066246  "
      ]
     },
     "execution_count": 23,
     "metadata": {},
     "output_type": "execute_result"
    }
   ],
   "source": [
    "#создаем таблицу debt_family_status\n",
    "debt_family_status = pd.DataFrame()\n",
    "\n",
    "#определяем количество должников по семейному положению\n",
    "debt_family_status['count_family_status'] = data.groupby('family_status')['debt'].count()\n",
    "\n",
    "#определяем сумму должников по семейному положению\n",
    "debt_family_status['sum_family_status'] = data.groupby('family_status')['debt'].sum()\n",
    "\n",
    "#определяем зависимость между суммой и количеством должников\n",
    "debt_family_status['result_family_status'] = debt_family_status['sum_family_status'] / debt_family_status['count_family_status']\n",
    "\n",
    "#сортируем результат деления по убыванию\n",
    "debt_family_status.sort_values('result_family_status', ascending = False)"
   ]
  },
  {
   "cell_type": "markdown",
   "id": "c42987f1",
   "metadata": {
    "deletable": false,
    "id": "1cef7837"
   },
   "source": [
    "**Да, зависимость есть. Люди не в браке и не бывавшие в браке имеют больший процент невозвратов в срок. Но, те кто развелись или овдовели чаще платят в срок, чем люди в браке.**"
   ]
  },
  {
   "cell_type": "markdown",
   "id": "23309718",
   "metadata": {
    "deletable": false,
    "editable": false,
    "id": "1e8b2fca"
   },
   "source": [
    "#### 3.3 Есть ли зависимость между уровнем дохода и возвратом кредита в срок?"
   ]
  },
  {
   "cell_type": "code",
   "execution_count": 24,
   "id": "935b9093",
   "metadata": {
    "deletable": false,
    "id": "cd7e3720",
    "scrolled": true
   },
   "outputs": [
    {
     "data": {
      "text/html": [
       "<div>\n",
       "<style scoped>\n",
       "    .dataframe tbody tr th:only-of-type {\n",
       "        vertical-align: middle;\n",
       "    }\n",
       "\n",
       "    .dataframe tbody tr th {\n",
       "        vertical-align: top;\n",
       "    }\n",
       "\n",
       "    .dataframe thead th {\n",
       "        text-align: right;\n",
       "    }\n",
       "</style>\n",
       "<table border=\"1\" class=\"dataframe\">\n",
       "  <thead>\n",
       "    <tr style=\"text-align: right;\">\n",
       "      <th></th>\n",
       "      <th>count</th>\n",
       "      <th>sum</th>\n",
       "      <th>result</th>\n",
       "    </tr>\n",
       "    <tr>\n",
       "      <th>total_income_category</th>\n",
       "      <th></th>\n",
       "      <th></th>\n",
       "      <th></th>\n",
       "    </tr>\n",
       "  </thead>\n",
       "  <tbody>\n",
       "    <tr>\n",
       "      <th>D</th>\n",
       "      <td>349</td>\n",
       "      <td>21</td>\n",
       "      <td>0.060</td>\n",
       "    </tr>\n",
       "    <tr>\n",
       "      <th>B</th>\n",
       "      <td>5014</td>\n",
       "      <td>354</td>\n",
       "      <td>0.071</td>\n",
       "    </tr>\n",
       "    <tr>\n",
       "      <th>A</th>\n",
       "      <td>25</td>\n",
       "      <td>2</td>\n",
       "      <td>0.080</td>\n",
       "    </tr>\n",
       "    <tr>\n",
       "      <th>C</th>\n",
       "      <td>15921</td>\n",
       "      <td>1353</td>\n",
       "      <td>0.085</td>\n",
       "    </tr>\n",
       "    <tr>\n",
       "      <th>E</th>\n",
       "      <td>22</td>\n",
       "      <td>2</td>\n",
       "      <td>0.091</td>\n",
       "    </tr>\n",
       "  </tbody>\n",
       "</table>\n",
       "</div>"
      ],
      "text/plain": [
       "                       count   sum  result\n",
       "total_income_category                     \n",
       "D                        349    21   0.060\n",
       "B                       5014   354   0.071\n",
       "A                         25     2   0.080\n",
       "C                      15921  1353   0.085\n",
       "E                         22     2   0.091"
      ]
     },
     "execution_count": 24,
     "metadata": {},
     "output_type": "execute_result"
    }
   ],
   "source": [
    "debt_total_income_category = pd.DataFrame()\n",
    "debt_total_income_category['count'] = data.groupby('total_income_category')['debt'].count()\n",
    "debt_total_income_category['sum'] = data.groupby('total_income_category')['debt'].sum()\n",
    "debt_total_income_category['result'] = round(debt_total_income_category['sum'] / debt_total_income_category['count'], 3) \n",
    "debt_total_income_category.sort_values('result', ascending = True)"
   ]
  },
  {
   "cell_type": "markdown",
   "id": "8a763e95",
   "metadata": {
    "deletable": false,
    "id": "e8593def"
   },
   "source": [
    "**Самый высокий возврат кредита у людей с доходом от 30 до 50 тысяч. Скорее всего люди не хотят штрафов, так как доход может не покрыть их. Люди с доходом от 50 до 200 имеют высокую вероятность, относительно остальных, не вернуть кредит. Возможно, это объясняется тем, что это основная масса людей, которые имею семьи и у которых не один кредит на руках. Люди, с самым низким доходом имеют наивысшую вероятность не вернуть кредит.**"
   ]
  },
  {
   "cell_type": "markdown",
   "id": "396759e9",
   "metadata": {
    "deletable": false,
    "editable": false,
    "id": "99ecbd1f"
   },
   "source": [
    "#### 3.4 Как разные цели кредита влияют на его возврат в срок?"
   ]
  },
  {
   "cell_type": "code",
   "execution_count": 25,
   "id": "cfc9560a",
   "metadata": {
    "deletable": false,
    "id": "2b687290"
   },
   "outputs": [
    {
     "data": {
      "text/html": [
       "<div>\n",
       "<style scoped>\n",
       "    .dataframe tbody tr th:only-of-type {\n",
       "        vertical-align: middle;\n",
       "    }\n",
       "\n",
       "    .dataframe tbody tr th {\n",
       "        vertical-align: top;\n",
       "    }\n",
       "\n",
       "    .dataframe thead th {\n",
       "        text-align: right;\n",
       "    }\n",
       "</style>\n",
       "<table border=\"1\" class=\"dataframe\">\n",
       "  <thead>\n",
       "    <tr style=\"text-align: right;\">\n",
       "      <th></th>\n",
       "      <th>count</th>\n",
       "      <th>sum</th>\n",
       "      <th>mean</th>\n",
       "    </tr>\n",
       "    <tr>\n",
       "      <th>purpose_category</th>\n",
       "      <th></th>\n",
       "      <th></th>\n",
       "      <th></th>\n",
       "    </tr>\n",
       "  </thead>\n",
       "  <tbody>\n",
       "    <tr>\n",
       "      <th>операции с автомобилем</th>\n",
       "      <td>4279</td>\n",
       "      <td>400</td>\n",
       "      <td>0.093480</td>\n",
       "    </tr>\n",
       "    <tr>\n",
       "      <th>получение образования</th>\n",
       "      <td>3988</td>\n",
       "      <td>369</td>\n",
       "      <td>0.092528</td>\n",
       "    </tr>\n",
       "    <tr>\n",
       "      <th>проведение свадьбы</th>\n",
       "      <td>2313</td>\n",
       "      <td>183</td>\n",
       "      <td>0.079118</td>\n",
       "    </tr>\n",
       "    <tr>\n",
       "      <th>операции с недвижимостью</th>\n",
       "      <td>10751</td>\n",
       "      <td>780</td>\n",
       "      <td>0.072551</td>\n",
       "    </tr>\n",
       "  </tbody>\n",
       "</table>\n",
       "</div>"
      ],
      "text/plain": [
       "                          count  sum      mean\n",
       "purpose_category                              \n",
       "операции с автомобилем     4279  400  0.093480\n",
       "получение образования      3988  369  0.092528\n",
       "проведение свадьбы         2313  183  0.079118\n",
       "операции с недвижимостью  10751  780  0.072551"
      ]
     },
     "execution_count": 25,
     "metadata": {},
     "output_type": "execute_result"
    }
   ],
   "source": [
    "data.groupby('purpose_category')['debt'].agg(['count', 'sum', 'mean'])\\\n",
    "  .sort_values(by = 'mean', ascending = False)"
   ]
  },
  {
   "cell_type": "markdown",
   "id": "7b41a971",
   "metadata": {
    "deletable": false,
    "id": "b4bb2ce6"
   },
   "source": [
    "**При цели кредита на недвижимость люди чаще всего платят в срок, просрочка чаще всего у людей, которые берут кредит на автомобиль и образование.** "
   ]
  },
  {
   "cell_type": "markdown",
   "id": "d29701bd",
   "metadata": {
    "deletable": false,
    "editable": false,
    "id": "09c3ac4c"
   },
   "source": [
    "#### 3.5 Приведите возможные причины появления пропусков в исходных данных."
   ]
  },
  {
   "cell_type": "markdown",
   "id": "da019c62",
   "metadata": {
    "deletable": false,
    "id": "9da2ceda"
   },
   "source": [
    "*В столбцах days_employed и total_income одинаковое количество пропусков, поэтому можно сделать вывод, что заполнение одного столбца зависит от другого, скорее всего человеческий фактор, люди не предоставили справку о доходах и информацию о трудовом стаже  поэтому в исходных данных появились пропуски.* "
   ]
  },
  {
   "cell_type": "markdown",
   "id": "63cce50d",
   "metadata": {
    "deletable": false,
    "editable": false,
    "id": "7b0487d6"
   },
   "source": [
    "#### 3.6 Объясните, почему заполнить пропуски медианным значением — лучшее решение для количественных переменных."
   ]
  },
  {
   "cell_type": "markdown",
   "id": "6612635e",
   "metadata": {
    "deletable": false,
    "id": "7ecf2b8e"
   },
   "source": [
    "*Медианное значение лучше всего отражает выборку в целом, в случае, если есть незаполненные данные. Среднее арифметическое не учитывает разброс данных.* "
   ]
  },
  {
   "cell_type": "markdown",
   "id": "11c43fb1",
   "metadata": {
    "deletable": false,
    "editable": false,
    "id": "6db5255a"
   },
   "source": [
    "### Шаг 4: общий вывод."
   ]
  },
  {
   "cell_type": "markdown",
   "id": "cd1a1742",
   "metadata": {
    "deletable": false,
    "id": "bad65432"
   },
   "source": [
    "**Cемейный статус влияет на вероятность платежей по кредиту в срок - люди, бывший в браке чаще плятят в срок чем те, кто не бывали в браке, причем разведенные и овдовевшие платят в срок чаще, чем люди в браке. Чем больше детей, тем чаще платят не в срок, бездетные реже просрачивают оплату.**"
   ]
  }
 ],
 "metadata": {
  "ExecuteTimeLog": [
   {
    "duration": 726,
    "start_time": "2022-12-21T01:31:47.954Z"
   },
   {
    "duration": 20,
    "start_time": "2022-12-21T01:31:51.538Z"
   },
   {
    "duration": 14,
    "start_time": "2022-12-21T01:32:36.144Z"
   },
   {
    "duration": 10,
    "start_time": "2022-12-21T01:32:59.354Z"
   },
   {
    "duration": 34,
    "start_time": "2022-12-21T01:34:15.339Z"
   },
   {
    "duration": 4,
    "start_time": "2022-12-21T01:34:39.805Z"
   },
   {
    "duration": 9,
    "start_time": "2022-12-21T01:34:46.470Z"
   },
   {
    "duration": 5,
    "start_time": "2022-12-21T01:35:16.469Z"
   },
   {
    "duration": 7,
    "start_time": "2022-12-21T01:35:49.919Z"
   },
   {
    "duration": 5,
    "start_time": "2022-12-21T01:35:53.179Z"
   },
   {
    "duration": 31,
    "start_time": "2022-12-21T01:36:08.265Z"
   },
   {
    "duration": 10,
    "start_time": "2022-12-21T01:36:11.307Z"
   },
   {
    "duration": 4,
    "start_time": "2022-12-21T01:36:35.269Z"
   },
   {
    "duration": 13,
    "start_time": "2022-12-21T01:36:53.179Z"
   },
   {
    "duration": 21,
    "start_time": "2022-12-21T01:36:56.107Z"
   },
   {
    "duration": 19,
    "start_time": "2022-12-21T01:37:00.578Z"
   },
   {
    "duration": 4,
    "start_time": "2022-12-21T01:37:25.725Z"
   },
   {
    "duration": 10,
    "start_time": "2022-12-21T01:37:28.705Z"
   },
   {
    "duration": 7,
    "start_time": "2022-12-21T01:37:42.582Z"
   },
   {
    "duration": 3,
    "start_time": "2022-12-21T01:38:16.538Z"
   },
   {
    "duration": 8,
    "start_time": "2022-12-21T01:38:18.915Z"
   },
   {
    "duration": 60,
    "start_time": "2022-12-21T01:42:51.844Z"
   },
   {
    "duration": 75,
    "start_time": "2022-12-21T01:47:21.001Z"
   },
   {
    "duration": 14,
    "start_time": "2022-12-21T01:47:21.851Z"
   },
   {
    "duration": 19,
    "start_time": "2022-12-21T01:47:22.465Z"
   },
   {
    "duration": 10,
    "start_time": "2022-12-21T01:47:23.464Z"
   },
   {
    "duration": 30,
    "start_time": "2022-12-21T01:47:23.897Z"
   },
   {
    "duration": 3,
    "start_time": "2022-12-21T01:47:24.649Z"
   },
   {
    "duration": 7,
    "start_time": "2022-12-21T01:47:25.152Z"
   },
   {
    "duration": 5,
    "start_time": "2022-12-21T01:47:26.246Z"
   },
   {
    "duration": 5,
    "start_time": "2022-12-21T01:47:26.735Z"
   },
   {
    "duration": 4,
    "start_time": "2022-12-21T01:47:27.247Z"
   },
   {
    "duration": 31,
    "start_time": "2022-12-21T01:47:28.345Z"
   },
   {
    "duration": 11,
    "start_time": "2022-12-21T01:47:28.821Z"
   },
   {
    "duration": 4,
    "start_time": "2022-12-21T01:47:30.267Z"
   },
   {
    "duration": 11,
    "start_time": "2022-12-21T01:47:31.207Z"
   },
   {
    "duration": 18,
    "start_time": "2022-12-21T01:47:32.169Z"
   },
   {
    "duration": 17,
    "start_time": "2022-12-21T01:47:32.607Z"
   },
   {
    "duration": 4,
    "start_time": "2022-12-21T01:47:34.047Z"
   },
   {
    "duration": 9,
    "start_time": "2022-12-21T01:47:34.646Z"
   },
   {
    "duration": 5,
    "start_time": "2022-12-21T01:47:35.547Z"
   },
   {
    "duration": 3,
    "start_time": "2022-12-21T01:47:37.657Z"
   },
   {
    "duration": 7,
    "start_time": "2022-12-21T01:47:38.089Z"
   },
   {
    "duration": 19,
    "start_time": "2022-12-21T01:48:13.310Z"
   },
   {
    "duration": 10,
    "start_time": "2022-12-21T01:52:19.378Z"
   },
   {
    "duration": 3,
    "start_time": "2022-12-21T01:52:22.199Z"
   },
   {
    "duration": 9,
    "start_time": "2022-12-21T01:52:22.999Z"
   },
   {
    "duration": 17,
    "start_time": "2022-12-21T01:53:07.449Z"
   },
   {
    "duration": 13,
    "start_time": "2022-12-21T01:53:30.829Z"
   },
   {
    "duration": 7,
    "start_time": "2022-12-21T01:53:44.049Z"
   },
   {
    "duration": 9,
    "start_time": "2022-12-21T01:54:07.519Z"
   },
   {
    "duration": 5,
    "start_time": "2022-12-21T01:56:55.588Z"
   },
   {
    "duration": 4,
    "start_time": "2022-12-21T01:57:13.430Z"
   },
   {
    "duration": 9,
    "start_time": "2022-12-21T02:01:42.933Z"
   },
   {
    "duration": 5,
    "start_time": "2022-12-21T02:02:00.368Z"
   },
   {
    "duration": 11,
    "start_time": "2022-12-21T02:04:35.386Z"
   },
   {
    "duration": 6,
    "start_time": "2022-12-21T02:04:45.396Z"
   },
   {
    "duration": 505,
    "start_time": "2022-12-21T02:05:21.235Z"
   },
   {
    "duration": 6,
    "start_time": "2022-12-21T02:05:50.026Z"
   },
   {
    "duration": 495,
    "start_time": "2023-01-23T08:40:48.310Z"
   },
   {
    "duration": 21,
    "start_time": "2023-01-23T08:40:56.688Z"
   },
   {
    "duration": 14,
    "start_time": "2023-01-23T08:41:19.589Z"
   },
   {
    "duration": 11,
    "start_time": "2023-01-23T08:41:40.297Z"
   },
   {
    "duration": 36,
    "start_time": "2023-01-23T08:42:22.369Z"
   },
   {
    "duration": 5,
    "start_time": "2023-01-23T08:42:54.221Z"
   },
   {
    "duration": 10,
    "start_time": "2023-01-23T08:43:13.670Z"
   },
   {
    "duration": 4,
    "start_time": "2023-01-23T08:43:33.652Z"
   },
   {
    "duration": 7,
    "start_time": "2023-01-23T08:43:42.933Z"
   },
   {
    "duration": 5,
    "start_time": "2023-01-23T08:43:56.069Z"
   },
   {
    "duration": 31,
    "start_time": "2023-01-23T08:44:09.790Z"
   },
   {
    "duration": 10,
    "start_time": "2023-01-23T08:44:21.229Z"
   },
   {
    "duration": 3,
    "start_time": "2023-01-23T08:44:34.810Z"
   },
   {
    "duration": 11,
    "start_time": "2023-01-23T08:44:53.757Z"
   },
   {
    "duration": 19,
    "start_time": "2023-01-23T08:44:59.817Z"
   },
   {
    "duration": 16,
    "start_time": "2023-01-23T08:45:04.878Z"
   },
   {
    "duration": 3,
    "start_time": "2023-01-23T08:45:19.678Z"
   },
   {
    "duration": 10,
    "start_time": "2023-01-23T08:45:20.572Z"
   },
   {
    "duration": 7,
    "start_time": "2023-01-23T08:45:29.016Z"
   },
   {
    "duration": 3,
    "start_time": "2023-01-23T08:45:46.365Z"
   },
   {
    "duration": 11,
    "start_time": "2023-01-23T08:45:47.737Z"
   },
   {
    "duration": 18,
    "start_time": "2023-01-23T08:45:58.533Z"
   },
   {
    "duration": 6,
    "start_time": "2023-01-23T08:46:06.869Z"
   },
   {
    "duration": 7,
    "start_time": "2023-01-23T08:46:07.583Z"
   },
   {
    "duration": 5,
    "start_time": "2023-01-23T08:46:19.859Z"
   },
   {
    "duration": 5,
    "start_time": "2023-01-23T08:46:20.438Z"
   },
   {
    "duration": 9,
    "start_time": "2023-01-23T08:46:45.610Z"
   },
   {
    "duration": 5,
    "start_time": "2023-01-23T08:46:48.216Z"
   },
   {
    "duration": 3,
    "start_time": "2023-01-23T08:46:49.913Z"
   },
   {
    "duration": 2,
    "start_time": "2023-01-23T08:46:54.529Z"
   },
   {
    "duration": 11,
    "start_time": "2023-01-23T08:46:59.610Z"
   },
   {
    "duration": 583,
    "start_time": "2023-01-23T08:47:07.070Z"
   },
   {
    "duration": 9,
    "start_time": "2023-01-23T09:03:48.409Z"
   },
   {
    "duration": 13,
    "start_time": "2023-01-23T09:04:28.112Z"
   },
   {
    "duration": 6,
    "start_time": "2023-01-23T09:05:59.675Z"
   },
   {
    "duration": 50,
    "start_time": "2023-01-23T09:15:45.521Z"
   },
   {
    "duration": 7,
    "start_time": "2023-01-23T09:16:02.966Z"
   },
   {
    "duration": 439,
    "start_time": "2023-01-23T09:16:12.364Z"
   },
   {
    "duration": 21,
    "start_time": "2023-01-23T09:16:13.600Z"
   },
   {
    "duration": 15,
    "start_time": "2023-01-23T09:16:14.650Z"
   },
   {
    "duration": 10,
    "start_time": "2023-01-23T09:16:16.588Z"
   },
   {
    "duration": 32,
    "start_time": "2023-01-23T09:16:17.552Z"
   },
   {
    "duration": 3,
    "start_time": "2023-01-23T09:16:18.732Z"
   },
   {
    "duration": 7,
    "start_time": "2023-01-23T09:16:19.660Z"
   },
   {
    "duration": 4,
    "start_time": "2023-01-23T09:16:21.112Z"
   },
   {
    "duration": 6,
    "start_time": "2023-01-23T09:16:21.988Z"
   },
   {
    "duration": 4,
    "start_time": "2023-01-23T09:16:22.856Z"
   },
   {
    "duration": 34,
    "start_time": "2023-01-23T09:16:24.224Z"
   },
   {
    "duration": 11,
    "start_time": "2023-01-23T09:16:25.040Z"
   },
   {
    "duration": 3,
    "start_time": "2023-01-23T09:16:26.504Z"
   },
   {
    "duration": 10,
    "start_time": "2023-01-23T09:16:27.716Z"
   },
   {
    "duration": 21,
    "start_time": "2023-01-23T09:16:28.672Z"
   },
   {
    "duration": 17,
    "start_time": "2023-01-23T09:16:29.179Z"
   },
   {
    "duration": 4,
    "start_time": "2023-01-23T09:16:30.732Z"
   },
   {
    "duration": 10,
    "start_time": "2023-01-23T09:16:31.197Z"
   },
   {
    "duration": 6,
    "start_time": "2023-01-23T09:16:32.036Z"
   },
   {
    "duration": 3,
    "start_time": "2023-01-23T09:16:33.508Z"
   },
   {
    "duration": 9,
    "start_time": "2023-01-23T09:16:33.992Z"
   },
   {
    "duration": 15,
    "start_time": "2023-01-23T09:16:35.861Z"
   },
   {
    "duration": 16,
    "start_time": "2023-01-23T09:16:38.920Z"
   },
   {
    "duration": 30,
    "start_time": "2023-01-23T09:18:36.003Z"
   },
   {
    "duration": 16,
    "start_time": "2023-01-23T09:19:02.644Z"
   },
   {
    "duration": 23,
    "start_time": "2023-01-23T09:19:28.309Z"
   },
   {
    "duration": 25,
    "start_time": "2023-01-23T09:19:47.988Z"
   },
   {
    "duration": 16,
    "start_time": "2023-01-23T09:20:49.994Z"
   },
   {
    "duration": 817,
    "start_time": "2023-01-24T05:06:26.179Z"
   },
   {
    "duration": 20,
    "start_time": "2023-01-24T05:06:27.584Z"
   },
   {
    "duration": 15,
    "start_time": "2023-01-24T05:06:28.508Z"
   },
   {
    "duration": 14,
    "start_time": "2023-01-24T05:06:30.811Z"
   },
   {
    "duration": 56,
    "start_time": "2023-01-24T05:06:31.870Z"
   },
   {
    "duration": 5,
    "start_time": "2023-01-24T05:06:33.111Z"
   },
   {
    "duration": 8,
    "start_time": "2023-01-24T05:06:34.199Z"
   },
   {
    "duration": 6,
    "start_time": "2023-01-24T05:06:35.624Z"
   },
   {
    "duration": 8,
    "start_time": "2023-01-24T05:06:36.551Z"
   },
   {
    "duration": 6,
    "start_time": "2023-01-24T05:06:37.494Z"
   },
   {
    "duration": 52,
    "start_time": "2023-01-24T05:06:38.960Z"
   },
   {
    "duration": 16,
    "start_time": "2023-01-24T05:06:39.826Z"
   },
   {
    "duration": 5,
    "start_time": "2023-01-24T05:06:41.311Z"
   },
   {
    "duration": 12,
    "start_time": "2023-01-24T05:06:42.699Z"
   },
   {
    "duration": 30,
    "start_time": "2023-01-24T05:06:43.979Z"
   },
   {
    "duration": 25,
    "start_time": "2023-01-24T05:06:44.570Z"
   },
   {
    "duration": 4,
    "start_time": "2023-01-24T05:06:46.874Z"
   },
   {
    "duration": 13,
    "start_time": "2023-01-24T05:06:47.739Z"
   },
   {
    "duration": 6,
    "start_time": "2023-01-24T05:06:49.490Z"
   },
   {
    "duration": 5,
    "start_time": "2023-01-24T05:06:50.931Z"
   },
   {
    "duration": 8,
    "start_time": "2023-01-24T05:06:51.287Z"
   },
   {
    "duration": 16,
    "start_time": "2023-01-24T05:06:54.099Z"
   },
   {
    "duration": 26,
    "start_time": "2023-01-24T05:06:59.568Z"
   },
   {
    "duration": 38,
    "start_time": "2023-01-24T05:07:02.139Z"
   },
   {
    "duration": 16,
    "start_time": "2023-01-24T05:07:08.270Z"
   },
   {
    "duration": 53,
    "start_time": "2023-01-24T05:32:57.446Z"
   },
   {
    "duration": 9,
    "start_time": "2023-01-24T05:38:27.549Z"
   },
   {
    "duration": 6,
    "start_time": "2023-01-24T05:39:35.626Z"
   },
   {
    "duration": 13,
    "start_time": "2023-01-24T05:39:37.224Z"
   },
   {
    "duration": 5,
    "start_time": "2023-01-24T05:39:50.723Z"
   },
   {
    "duration": 37,
    "start_time": "2023-01-24T05:41:43.873Z"
   },
   {
    "duration": 12,
    "start_time": "2023-01-24T05:42:45.664Z"
   },
   {
    "duration": 4,
    "start_time": "2023-01-24T05:43:57.408Z"
   },
   {
    "duration": 12,
    "start_time": "2023-01-24T05:44:57.630Z"
   },
   {
    "duration": 26,
    "start_time": "2023-01-24T05:45:41.619Z"
   },
   {
    "duration": 23,
    "start_time": "2023-01-24T05:45:46.263Z"
   },
   {
    "duration": 4,
    "start_time": "2023-01-24T05:48:21.417Z"
   },
   {
    "duration": 12,
    "start_time": "2023-01-24T05:49:04.038Z"
   },
   {
    "duration": 7,
    "start_time": "2023-01-24T05:49:49.839Z"
   },
   {
    "duration": 3,
    "start_time": "2023-01-24T05:51:14.240Z"
   },
   {
    "duration": 12,
    "start_time": "2023-01-24T05:51:15.520Z"
   },
   {
    "duration": 5,
    "start_time": "2023-01-24T06:07:43.784Z"
   },
   {
    "duration": 6,
    "start_time": "2023-01-24T06:07:44.997Z"
   },
   {
    "duration": 6,
    "start_time": "2023-01-24T06:07:46.124Z"
   },
   {
    "duration": 13,
    "start_time": "2023-01-24T06:07:47.047Z"
   },
   {
    "duration": 12,
    "start_time": "2023-01-24T06:07:47.884Z"
   },
   {
    "duration": 10,
    "start_time": "2023-01-24T06:08:04.231Z"
   },
   {
    "duration": 3,
    "start_time": "2023-01-24T06:10:43.204Z"
   },
   {
    "duration": 7,
    "start_time": "2023-01-24T06:10:43.765Z"
   },
   {
    "duration": 6,
    "start_time": "2023-01-24T06:10:44.270Z"
   },
   {
    "duration": 5,
    "start_time": "2023-01-24T06:10:44.783Z"
   },
   {
    "duration": 9,
    "start_time": "2023-01-24T06:10:46.583Z"
   },
   {
    "duration": 18,
    "start_time": "2023-01-24T06:22:03.665Z"
   },
   {
    "duration": 14,
    "start_time": "2023-01-24T06:22:20.610Z"
   },
   {
    "duration": 12,
    "start_time": "2023-01-24T06:48:22.685Z"
   },
   {
    "duration": 4,
    "start_time": "2023-01-24T06:48:28.310Z"
   },
   {
    "duration": 6,
    "start_time": "2023-01-24T06:48:29.044Z"
   },
   {
    "duration": 10,
    "start_time": "2023-01-24T06:48:29.543Z"
   },
   {
    "duration": 6,
    "start_time": "2023-01-24T06:48:30.238Z"
   },
   {
    "duration": 8,
    "start_time": "2023-01-24T06:48:31.125Z"
   },
   {
    "duration": 78,
    "start_time": "2023-01-24T06:50:38.667Z"
   },
   {
    "duration": 15,
    "start_time": "2023-01-24T07:02:19.142Z"
   },
   {
    "duration": 20,
    "start_time": "2023-01-24T07:14:06.476Z"
   },
   {
    "duration": 3,
    "start_time": "2023-01-24T07:17:33.904Z"
   },
   {
    "duration": 7,
    "start_time": "2023-01-24T07:17:34.405Z"
   },
   {
    "duration": 6,
    "start_time": "2023-01-24T07:17:34.905Z"
   },
   {
    "duration": 6,
    "start_time": "2023-01-24T07:17:35.676Z"
   },
   {
    "duration": 10,
    "start_time": "2023-01-24T07:17:37.204Z"
   },
   {
    "duration": 7,
    "start_time": "2023-01-24T07:18:51.256Z"
   },
   {
    "duration": 5,
    "start_time": "2023-01-24T07:18:57.504Z"
   },
   {
    "duration": 6,
    "start_time": "2023-01-24T07:18:57.883Z"
   },
   {
    "duration": 3,
    "start_time": "2023-01-24T07:18:58.723Z"
   },
   {
    "duration": 9,
    "start_time": "2023-01-24T07:18:59.511Z"
   },
   {
    "duration": 3,
    "start_time": "2023-01-24T07:19:06.926Z"
   },
   {
    "duration": 5,
    "start_time": "2023-01-24T07:19:07.723Z"
   },
   {
    "duration": 7,
    "start_time": "2023-01-24T07:19:08.018Z"
   },
   {
    "duration": 5,
    "start_time": "2023-01-24T07:19:08.664Z"
   },
   {
    "duration": 9,
    "start_time": "2023-01-24T07:19:09.483Z"
   },
   {
    "duration": 4,
    "start_time": "2023-01-24T07:21:42.913Z"
   },
   {
    "duration": 6,
    "start_time": "2023-01-24T07:21:43.408Z"
   },
   {
    "duration": 8,
    "start_time": "2023-01-24T07:21:43.861Z"
   },
   {
    "duration": 67,
    "start_time": "2023-01-24T07:21:44.541Z"
   },
   {
    "duration": 4,
    "start_time": "2023-01-24T07:22:45.101Z"
   },
   {
    "duration": 9,
    "start_time": "2023-01-24T07:22:45.801Z"
   },
   {
    "duration": 17,
    "start_time": "2023-01-24T07:32:00.354Z"
   },
   {
    "duration": 45,
    "start_time": "2023-01-24T07:32:20.175Z"
   },
   {
    "duration": 22,
    "start_time": "2023-01-24T07:34:42.939Z"
   },
   {
    "duration": 31,
    "start_time": "2023-01-24T07:35:34.533Z"
   },
   {
    "duration": 21,
    "start_time": "2023-01-24T07:36:15.428Z"
   },
   {
    "duration": 12,
    "start_time": "2023-01-24T07:39:10.342Z"
   },
   {
    "duration": 4,
    "start_time": "2023-01-24T07:43:38.714Z"
   },
   {
    "duration": 6,
    "start_time": "2023-01-24T07:43:39.138Z"
   },
   {
    "duration": 6,
    "start_time": "2023-01-24T07:43:39.503Z"
   },
   {
    "duration": 5,
    "start_time": "2023-01-24T07:43:39.983Z"
   },
   {
    "duration": 10,
    "start_time": "2023-01-24T07:43:40.742Z"
   },
   {
    "duration": 18,
    "start_time": "2023-01-24T07:44:09.903Z"
   },
   {
    "duration": 3,
    "start_time": "2023-01-24T07:46:16.722Z"
   },
   {
    "duration": 5,
    "start_time": "2023-01-24T07:46:17.102Z"
   },
   {
    "duration": 6,
    "start_time": "2023-01-24T07:46:17.582Z"
   },
   {
    "duration": 4,
    "start_time": "2023-01-24T07:46:18.193Z"
   },
   {
    "duration": 8,
    "start_time": "2023-01-24T07:46:19.310Z"
   },
   {
    "duration": 12,
    "start_time": "2023-01-24T07:52:36.482Z"
   },
   {
    "duration": 11,
    "start_time": "2023-01-24T07:52:41.942Z"
   },
   {
    "duration": 12,
    "start_time": "2023-01-24T08:05:38.866Z"
   },
   {
    "duration": 78,
    "start_time": "2023-01-24T08:06:48.127Z"
   },
   {
    "duration": 16,
    "start_time": "2023-01-24T08:06:48.207Z"
   },
   {
    "duration": 36,
    "start_time": "2023-01-24T08:06:48.225Z"
   },
   {
    "duration": 10,
    "start_time": "2023-01-24T08:06:48.262Z"
   },
   {
    "duration": 48,
    "start_time": "2023-01-24T08:06:48.274Z"
   },
   {
    "duration": 4,
    "start_time": "2023-01-24T08:06:48.323Z"
   },
   {
    "duration": 13,
    "start_time": "2023-01-24T08:06:48.328Z"
   },
   {
    "duration": 18,
    "start_time": "2023-01-24T08:06:48.342Z"
   },
   {
    "duration": 9,
    "start_time": "2023-01-24T08:06:48.361Z"
   },
   {
    "duration": 5,
    "start_time": "2023-01-24T08:06:48.371Z"
   },
   {
    "duration": 35,
    "start_time": "2023-01-24T08:06:48.377Z"
   },
   {
    "duration": 10,
    "start_time": "2023-01-24T08:06:48.414Z"
   },
   {
    "duration": 29,
    "start_time": "2023-01-24T08:06:48.425Z"
   },
   {
    "duration": 13,
    "start_time": "2023-01-24T08:06:48.464Z"
   },
   {
    "duration": 20,
    "start_time": "2023-01-24T08:06:48.478Z"
   },
   {
    "duration": 15,
    "start_time": "2023-01-24T08:06:48.500Z"
   },
   {
    "duration": 4,
    "start_time": "2023-01-24T08:06:48.516Z"
   },
   {
    "duration": 15,
    "start_time": "2023-01-24T08:06:48.521Z"
   },
   {
    "duration": 26,
    "start_time": "2023-01-24T08:06:48.537Z"
   },
   {
    "duration": 6,
    "start_time": "2023-01-24T08:06:48.565Z"
   },
   {
    "duration": 13,
    "start_time": "2023-01-24T08:06:48.572Z"
   },
   {
    "duration": 6,
    "start_time": "2023-01-24T08:06:48.587Z"
   },
   {
    "duration": 7,
    "start_time": "2023-01-24T08:06:48.594Z"
   },
   {
    "duration": 9,
    "start_time": "2023-01-24T08:06:48.603Z"
   },
   {
    "duration": 11,
    "start_time": "2023-01-24T08:06:48.613Z"
   },
   {
    "duration": 12,
    "start_time": "2023-01-24T08:06:48.625Z"
   },
   {
    "duration": 5,
    "start_time": "2023-01-24T08:06:48.639Z"
   },
   {
    "duration": 33,
    "start_time": "2023-01-24T08:06:48.646Z"
   },
   {
    "duration": 9,
    "start_time": "2023-01-24T08:06:48.681Z"
   },
   {
    "duration": 5,
    "start_time": "2023-01-24T08:06:48.692Z"
   },
   {
    "duration": 10,
    "start_time": "2023-01-24T08:06:48.699Z"
   },
   {
    "duration": 12,
    "start_time": "2023-01-24T08:06:48.711Z"
   },
   {
    "duration": 35,
    "start_time": "2023-01-24T08:06:48.725Z"
   },
   {
    "duration": 10,
    "start_time": "2023-01-24T08:06:48.762Z"
   },
   {
    "duration": 21,
    "start_time": "2023-01-24T08:06:53.944Z"
   },
   {
    "duration": 4,
    "start_time": "2023-01-24T08:07:39.524Z"
   },
   {
    "duration": 10,
    "start_time": "2023-01-24T08:07:53.284Z"
   },
   {
    "duration": 6,
    "start_time": "2023-01-24T08:08:46.294Z"
   },
   {
    "duration": 11,
    "start_time": "2023-01-24T08:09:22.794Z"
   },
   {
    "duration": 16,
    "start_time": "2023-01-24T08:11:03.644Z"
   },
   {
    "duration": 19,
    "start_time": "2023-01-24T08:11:20.676Z"
   },
   {
    "duration": 3,
    "start_time": "2023-01-24T08:11:31.704Z"
   },
   {
    "duration": 10,
    "start_time": "2023-01-24T08:11:32.284Z"
   },
   {
    "duration": 24,
    "start_time": "2023-01-24T08:12:21.433Z"
   },
   {
    "duration": 7,
    "start_time": "2023-01-24T08:14:04.858Z"
   },
   {
    "duration": 14,
    "start_time": "2023-01-24T08:14:05.522Z"
   },
   {
    "duration": 10,
    "start_time": "2023-01-24T08:14:28.922Z"
   },
   {
    "duration": 4,
    "start_time": "2023-01-24T08:15:02.839Z"
   },
   {
    "duration": 15,
    "start_time": "2023-01-24T08:15:03.614Z"
   },
   {
    "duration": 10,
    "start_time": "2023-01-24T08:15:24.372Z"
   },
   {
    "duration": 15,
    "start_time": "2023-01-24T08:15:25.120Z"
   },
   {
    "duration": 5,
    "start_time": "2023-01-24T08:15:40.924Z"
   },
   {
    "duration": 9,
    "start_time": "2023-01-24T08:15:41.363Z"
   },
   {
    "duration": 4,
    "start_time": "2023-01-24T08:15:59.200Z"
   },
   {
    "duration": 8,
    "start_time": "2023-01-24T08:15:59.732Z"
   },
   {
    "duration": 7,
    "start_time": "2023-01-24T08:16:06.068Z"
   },
   {
    "duration": 70,
    "start_time": "2023-01-24T08:18:54.656Z"
   },
   {
    "duration": 15,
    "start_time": "2023-01-24T08:18:54.727Z"
   },
   {
    "duration": 15,
    "start_time": "2023-01-24T08:18:54.744Z"
   },
   {
    "duration": 11,
    "start_time": "2023-01-24T08:18:54.761Z"
   },
   {
    "duration": 32,
    "start_time": "2023-01-24T08:18:54.774Z"
   },
   {
    "duration": 3,
    "start_time": "2023-01-24T08:18:54.807Z"
   },
   {
    "duration": 39,
    "start_time": "2023-01-24T08:18:54.811Z"
   },
   {
    "duration": 4,
    "start_time": "2023-01-24T08:18:54.851Z"
   },
   {
    "duration": 14,
    "start_time": "2023-01-24T08:18:54.856Z"
   },
   {
    "duration": 9,
    "start_time": "2023-01-24T08:18:54.873Z"
   },
   {
    "duration": 48,
    "start_time": "2023-01-24T08:18:54.883Z"
   },
   {
    "duration": 9,
    "start_time": "2023-01-24T08:18:54.933Z"
   },
   {
    "duration": 5,
    "start_time": "2023-01-24T08:18:54.943Z"
   },
   {
    "duration": 20,
    "start_time": "2023-01-24T08:18:54.949Z"
   },
   {
    "duration": 19,
    "start_time": "2023-01-24T08:18:54.970Z"
   },
   {
    "duration": 16,
    "start_time": "2023-01-24T08:18:54.991Z"
   },
   {
    "duration": 3,
    "start_time": "2023-01-24T08:18:55.009Z"
   },
   {
    "duration": 19,
    "start_time": "2023-01-24T08:18:55.014Z"
   },
   {
    "duration": 18,
    "start_time": "2023-01-24T08:18:55.035Z"
   },
   {
    "duration": 11,
    "start_time": "2023-01-24T08:18:55.055Z"
   },
   {
    "duration": 21,
    "start_time": "2023-01-24T08:18:55.069Z"
   },
   {
    "duration": 6,
    "start_time": "2023-01-24T08:18:55.092Z"
   },
   {
    "duration": 15,
    "start_time": "2023-01-24T08:18:55.100Z"
   },
   {
    "duration": 16,
    "start_time": "2023-01-24T08:18:55.116Z"
   },
   {
    "duration": 5,
    "start_time": "2023-01-24T08:18:55.134Z"
   },
   {
    "duration": 21,
    "start_time": "2023-01-24T08:18:55.141Z"
   },
   {
    "duration": 5,
    "start_time": "2023-01-24T08:18:55.163Z"
   },
   {
    "duration": 8,
    "start_time": "2023-01-24T08:18:55.170Z"
   },
   {
    "duration": 7,
    "start_time": "2023-01-24T08:18:55.180Z"
   },
   {
    "duration": 4,
    "start_time": "2023-01-24T08:18:55.188Z"
   },
   {
    "duration": 11,
    "start_time": "2023-01-24T08:18:55.193Z"
   },
   {
    "duration": 19,
    "start_time": "2023-01-24T08:18:55.206Z"
   },
   {
    "duration": 33,
    "start_time": "2023-01-24T08:18:55.226Z"
   },
   {
    "duration": 3,
    "start_time": "2023-01-24T08:18:55.260Z"
   },
   {
    "duration": 18,
    "start_time": "2023-01-24T08:18:55.265Z"
   },
   {
    "duration": 0,
    "start_time": "2023-01-24T08:18:55.285Z"
   },
   {
    "duration": 0,
    "start_time": "2023-01-24T08:18:55.286Z"
   },
   {
    "duration": 0,
    "start_time": "2023-01-24T08:18:55.287Z"
   },
   {
    "duration": 0,
    "start_time": "2023-01-24T08:18:55.288Z"
   },
   {
    "duration": 0,
    "start_time": "2023-01-24T08:18:55.289Z"
   },
   {
    "duration": 0,
    "start_time": "2023-01-24T08:18:55.290Z"
   },
   {
    "duration": 0,
    "start_time": "2023-01-24T08:18:55.291Z"
   },
   {
    "duration": 0,
    "start_time": "2023-01-24T08:18:55.292Z"
   },
   {
    "duration": 0,
    "start_time": "2023-01-24T08:18:55.293Z"
   },
   {
    "duration": 21,
    "start_time": "2023-01-24T08:19:18.526Z"
   },
   {
    "duration": 3,
    "start_time": "2023-01-24T08:19:33.325Z"
   },
   {
    "duration": 6,
    "start_time": "2023-01-24T08:19:33.985Z"
   },
   {
    "duration": 7,
    "start_time": "2023-01-24T08:19:34.505Z"
   },
   {
    "duration": 4,
    "start_time": "2023-01-24T08:19:35.004Z"
   },
   {
    "duration": 8,
    "start_time": "2023-01-24T08:19:35.755Z"
   },
   {
    "duration": 3,
    "start_time": "2023-01-24T08:20:18.826Z"
   },
   {
    "duration": 7,
    "start_time": "2023-01-24T08:20:19.804Z"
   },
   {
    "duration": 7,
    "start_time": "2023-01-24T08:20:19.814Z"
   },
   {
    "duration": 4,
    "start_time": "2023-01-24T08:20:20.304Z"
   },
   {
    "duration": 8,
    "start_time": "2023-01-24T08:20:20.984Z"
   },
   {
    "duration": 103,
    "start_time": "2023-01-24T08:20:53.923Z"
   },
   {
    "duration": 3,
    "start_time": "2023-01-24T08:24:36.040Z"
   },
   {
    "duration": 6,
    "start_time": "2023-01-24T08:24:36.446Z"
   },
   {
    "duration": 7,
    "start_time": "2023-01-24T08:24:36.917Z"
   },
   {
    "duration": 3,
    "start_time": "2023-01-24T08:24:37.377Z"
   },
   {
    "duration": 7,
    "start_time": "2023-01-24T08:24:38.046Z"
   },
   {
    "duration": 26,
    "start_time": "2023-01-24T08:31:40.176Z"
   },
   {
    "duration": 16,
    "start_time": "2023-01-24T08:32:59.856Z"
   },
   {
    "duration": 3,
    "start_time": "2023-01-24T08:33:31.092Z"
   },
   {
    "duration": 14,
    "start_time": "2023-01-24T08:33:37.741Z"
   },
   {
    "duration": 14,
    "start_time": "2023-01-24T08:33:57.992Z"
   },
   {
    "duration": 13,
    "start_time": "2023-01-24T08:34:16.606Z"
   },
   {
    "duration": 16,
    "start_time": "2023-01-24T08:34:35.788Z"
   },
   {
    "duration": 15,
    "start_time": "2023-01-24T08:34:38.009Z"
   },
   {
    "duration": 12,
    "start_time": "2023-01-24T08:34:42.396Z"
   },
   {
    "duration": 17,
    "start_time": "2023-01-24T08:38:52.528Z"
   },
   {
    "duration": 20,
    "start_time": "2023-01-24T08:42:33.866Z"
   },
   {
    "duration": 16,
    "start_time": "2023-01-24T08:44:53.369Z"
   },
   {
    "duration": 74,
    "start_time": "2023-01-24T09:06:44.690Z"
   },
   {
    "duration": 14,
    "start_time": "2023-01-24T09:06:44.766Z"
   },
   {
    "duration": 23,
    "start_time": "2023-01-24T09:06:44.782Z"
   },
   {
    "duration": 15,
    "start_time": "2023-01-24T09:06:44.808Z"
   },
   {
    "duration": 59,
    "start_time": "2023-01-24T09:06:44.825Z"
   },
   {
    "duration": 3,
    "start_time": "2023-01-24T09:06:44.885Z"
   },
   {
    "duration": 11,
    "start_time": "2023-01-24T09:06:44.890Z"
   },
   {
    "duration": 6,
    "start_time": "2023-01-24T09:06:44.903Z"
   },
   {
    "duration": 6,
    "start_time": "2023-01-24T09:06:44.910Z"
   },
   {
    "duration": 5,
    "start_time": "2023-01-24T09:06:44.919Z"
   },
   {
    "duration": 64,
    "start_time": "2023-01-24T09:06:44.926Z"
   },
   {
    "duration": 11,
    "start_time": "2023-01-24T09:06:44.992Z"
   },
   {
    "duration": 30,
    "start_time": "2023-01-24T09:06:45.005Z"
   },
   {
    "duration": 38,
    "start_time": "2023-01-24T09:06:45.037Z"
   },
   {
    "duration": 29,
    "start_time": "2023-01-24T09:06:45.076Z"
   },
   {
    "duration": 15,
    "start_time": "2023-01-24T09:06:45.107Z"
   },
   {
    "duration": 3,
    "start_time": "2023-01-24T09:06:45.124Z"
   },
   {
    "duration": 49,
    "start_time": "2023-01-24T09:06:45.128Z"
   },
   {
    "duration": 8,
    "start_time": "2023-01-24T09:06:45.179Z"
   },
   {
    "duration": 10,
    "start_time": "2023-01-24T09:06:45.189Z"
   },
   {
    "duration": 12,
    "start_time": "2023-01-24T09:06:45.201Z"
   },
   {
    "duration": 5,
    "start_time": "2023-01-24T09:06:45.563Z"
   },
   {
    "duration": 6,
    "start_time": "2023-01-24T09:06:45.571Z"
   },
   {
    "duration": 19,
    "start_time": "2023-01-24T09:06:45.579Z"
   },
   {
    "duration": 7,
    "start_time": "2023-01-24T09:06:45.600Z"
   },
   {
    "duration": 40,
    "start_time": "2023-01-24T09:06:45.609Z"
   },
   {
    "duration": 4,
    "start_time": "2023-01-24T09:06:45.650Z"
   },
   {
    "duration": 11,
    "start_time": "2023-01-24T09:06:45.656Z"
   },
   {
    "duration": 7,
    "start_time": "2023-01-24T09:06:45.669Z"
   },
   {
    "duration": 11,
    "start_time": "2023-01-24T09:06:45.678Z"
   },
   {
    "duration": 20,
    "start_time": "2023-01-24T09:06:45.691Z"
   },
   {
    "duration": 25,
    "start_time": "2023-01-24T09:06:45.713Z"
   },
   {
    "duration": 40,
    "start_time": "2023-01-24T09:06:45.740Z"
   },
   {
    "duration": 18,
    "start_time": "2023-01-24T09:06:45.782Z"
   },
   {
    "duration": 18,
    "start_time": "2023-01-24T09:06:45.803Z"
   },
   {
    "duration": 3,
    "start_time": "2023-01-24T09:06:45.823Z"
   },
   {
    "duration": 10,
    "start_time": "2023-01-24T09:06:45.828Z"
   },
   {
    "duration": 17,
    "start_time": "2023-01-24T09:06:45.840Z"
   },
   {
    "duration": 8,
    "start_time": "2023-01-24T09:06:45.859Z"
   },
   {
    "duration": 19,
    "start_time": "2023-01-24T09:06:45.869Z"
   },
   {
    "duration": 74,
    "start_time": "2023-01-24T09:11:54.040Z"
   },
   {
    "duration": 18,
    "start_time": "2023-01-24T09:11:54.116Z"
   },
   {
    "duration": 24,
    "start_time": "2023-01-24T09:11:54.135Z"
   },
   {
    "duration": 11,
    "start_time": "2023-01-24T09:11:54.161Z"
   },
   {
    "duration": 38,
    "start_time": "2023-01-24T09:11:54.175Z"
   },
   {
    "duration": 3,
    "start_time": "2023-01-24T09:11:54.215Z"
   },
   {
    "duration": 32,
    "start_time": "2023-01-24T09:11:54.220Z"
   },
   {
    "duration": 8,
    "start_time": "2023-01-24T09:11:54.254Z"
   },
   {
    "duration": 10,
    "start_time": "2023-01-24T09:11:54.264Z"
   },
   {
    "duration": 5,
    "start_time": "2023-01-24T09:11:54.275Z"
   },
   {
    "duration": 38,
    "start_time": "2023-01-24T09:11:54.282Z"
   },
   {
    "duration": 10,
    "start_time": "2023-01-24T09:11:54.321Z"
   },
   {
    "duration": 27,
    "start_time": "2023-01-24T09:11:54.332Z"
   },
   {
    "duration": 11,
    "start_time": "2023-01-24T09:11:54.394Z"
   },
   {
    "duration": 21,
    "start_time": "2023-01-24T09:11:54.407Z"
   },
   {
    "duration": 33,
    "start_time": "2023-01-24T09:11:54.429Z"
   },
   {
    "duration": 4,
    "start_time": "2023-01-24T09:11:54.463Z"
   },
   {
    "duration": 13,
    "start_time": "2023-01-24T09:11:54.469Z"
   },
   {
    "duration": 6,
    "start_time": "2023-01-24T09:11:54.483Z"
   },
   {
    "duration": 6,
    "start_time": "2023-01-24T09:11:54.490Z"
   },
   {
    "duration": 16,
    "start_time": "2023-01-24T09:11:54.497Z"
   },
   {
    "duration": 3,
    "start_time": "2023-01-24T09:11:54.515Z"
   },
   {
    "duration": 7,
    "start_time": "2023-01-24T09:11:54.519Z"
   },
   {
    "duration": 5,
    "start_time": "2023-01-24T09:11:54.528Z"
   },
   {
    "duration": 22,
    "start_time": "2023-01-24T09:11:54.535Z"
   },
   {
    "duration": 13,
    "start_time": "2023-01-24T09:11:54.560Z"
   },
   {
    "duration": 5,
    "start_time": "2023-01-24T09:11:54.574Z"
   },
   {
    "duration": 11,
    "start_time": "2023-01-24T09:11:54.580Z"
   },
   {
    "duration": 7,
    "start_time": "2023-01-24T09:11:54.592Z"
   },
   {
    "duration": 5,
    "start_time": "2023-01-24T09:11:54.601Z"
   },
   {
    "duration": 13,
    "start_time": "2023-01-24T09:11:54.607Z"
   },
   {
    "duration": 13,
    "start_time": "2023-01-24T09:11:54.621Z"
   },
   {
    "duration": 30,
    "start_time": "2023-01-24T09:11:54.635Z"
   },
   {
    "duration": 13,
    "start_time": "2023-01-24T09:11:54.666Z"
   },
   {
    "duration": 11,
    "start_time": "2023-01-24T09:11:54.680Z"
   },
   {
    "duration": 2,
    "start_time": "2023-01-24T09:11:54.693Z"
   },
   {
    "duration": 14,
    "start_time": "2023-01-24T09:11:54.697Z"
   },
   {
    "duration": 10,
    "start_time": "2023-01-24T09:11:54.712Z"
   },
   {
    "duration": 35,
    "start_time": "2023-01-24T09:11:54.724Z"
   },
   {
    "duration": 10,
    "start_time": "2023-01-24T09:11:54.761Z"
   },
   {
    "duration": 3,
    "start_time": "2023-01-24T09:14:59.944Z"
   },
   {
    "duration": 11,
    "start_time": "2023-01-24T09:15:00.550Z"
   },
   {
    "duration": 6,
    "start_time": "2023-01-24T09:15:01.099Z"
   },
   {
    "duration": 4,
    "start_time": "2023-01-24T09:15:01.580Z"
   },
   {
    "duration": 9,
    "start_time": "2023-01-24T09:15:02.469Z"
   },
   {
    "duration": 11,
    "start_time": "2023-01-24T09:15:29.099Z"
   },
   {
    "duration": 12,
    "start_time": "2023-01-24T09:16:15.859Z"
   },
   {
    "duration": 73,
    "start_time": "2023-01-24T09:17:10.490Z"
   },
   {
    "duration": 14,
    "start_time": "2023-01-24T09:17:10.565Z"
   },
   {
    "duration": 14,
    "start_time": "2023-01-24T09:17:10.581Z"
   },
   {
    "duration": 9,
    "start_time": "2023-01-24T09:17:10.597Z"
   },
   {
    "duration": 53,
    "start_time": "2023-01-24T09:17:10.608Z"
   },
   {
    "duration": 4,
    "start_time": "2023-01-24T09:17:10.663Z"
   },
   {
    "duration": 11,
    "start_time": "2023-01-24T09:17:10.668Z"
   },
   {
    "duration": 5,
    "start_time": "2023-01-24T09:17:10.680Z"
   },
   {
    "duration": 8,
    "start_time": "2023-01-24T09:17:10.686Z"
   },
   {
    "duration": 6,
    "start_time": "2023-01-24T09:17:10.695Z"
   },
   {
    "duration": 62,
    "start_time": "2023-01-24T09:17:10.702Z"
   },
   {
    "duration": 11,
    "start_time": "2023-01-24T09:17:10.765Z"
   },
   {
    "duration": 5,
    "start_time": "2023-01-24T09:17:10.777Z"
   },
   {
    "duration": 12,
    "start_time": "2023-01-24T09:17:10.785Z"
   },
   {
    "duration": 21,
    "start_time": "2023-01-24T09:17:10.800Z"
   },
   {
    "duration": 35,
    "start_time": "2023-01-24T09:17:10.823Z"
   },
   {
    "duration": 3,
    "start_time": "2023-01-24T09:17:10.860Z"
   },
   {
    "duration": 13,
    "start_time": "2023-01-24T09:17:10.866Z"
   },
   {
    "duration": 5,
    "start_time": "2023-01-24T09:17:10.880Z"
   },
   {
    "duration": 6,
    "start_time": "2023-01-24T09:17:10.886Z"
   },
   {
    "duration": 12,
    "start_time": "2023-01-24T09:17:10.894Z"
   },
   {
    "duration": 3,
    "start_time": "2023-01-24T09:17:10.908Z"
   },
   {
    "duration": 7,
    "start_time": "2023-01-24T09:17:10.912Z"
   },
   {
    "duration": 6,
    "start_time": "2023-01-24T09:17:10.920Z"
   },
   {
    "duration": 5,
    "start_time": "2023-01-24T09:17:10.927Z"
   },
   {
    "duration": 32,
    "start_time": "2023-01-24T09:17:10.933Z"
   },
   {
    "duration": 5,
    "start_time": "2023-01-24T09:17:10.967Z"
   },
   {
    "duration": 9,
    "start_time": "2023-01-24T09:17:10.974Z"
   },
   {
    "duration": 6,
    "start_time": "2023-01-24T09:17:10.985Z"
   },
   {
    "duration": 7,
    "start_time": "2023-01-24T09:17:10.992Z"
   },
   {
    "duration": 14,
    "start_time": "2023-01-24T09:17:11.000Z"
   },
   {
    "duration": 17,
    "start_time": "2023-01-24T09:17:11.015Z"
   },
   {
    "duration": 26,
    "start_time": "2023-01-24T09:17:11.034Z"
   },
   {
    "duration": 12,
    "start_time": "2023-01-24T09:17:11.062Z"
   },
   {
    "duration": 4,
    "start_time": "2023-01-24T09:17:11.076Z"
   },
   {
    "duration": 15,
    "start_time": "2023-01-24T09:17:11.081Z"
   },
   {
    "duration": 10,
    "start_time": "2023-01-24T09:17:11.097Z"
   },
   {
    "duration": 5,
    "start_time": "2023-01-24T09:17:11.109Z"
   },
   {
    "duration": 41,
    "start_time": "2023-01-24T09:17:11.117Z"
   },
   {
    "duration": 445,
    "start_time": "2023-01-24T19:23:37.725Z"
   },
   {
    "duration": 21,
    "start_time": "2023-01-24T19:23:38.172Z"
   },
   {
    "duration": 14,
    "start_time": "2023-01-24T19:23:38.194Z"
   },
   {
    "duration": 12,
    "start_time": "2023-01-24T19:23:38.210Z"
   },
   {
    "duration": 31,
    "start_time": "2023-01-24T19:23:38.223Z"
   },
   {
    "duration": 3,
    "start_time": "2023-01-24T19:23:38.256Z"
   },
   {
    "duration": 10,
    "start_time": "2023-01-24T19:23:38.260Z"
   },
   {
    "duration": 5,
    "start_time": "2023-01-24T19:23:38.292Z"
   },
   {
    "duration": 14,
    "start_time": "2023-01-24T19:23:38.299Z"
   },
   {
    "duration": 4,
    "start_time": "2023-01-24T19:23:38.316Z"
   },
   {
    "duration": 33,
    "start_time": "2023-01-24T19:23:38.321Z"
   },
   {
    "duration": 9,
    "start_time": "2023-01-24T19:23:38.355Z"
   },
   {
    "duration": 26,
    "start_time": "2023-01-24T19:23:38.366Z"
   },
   {
    "duration": 21,
    "start_time": "2023-01-24T19:23:38.393Z"
   },
   {
    "duration": 20,
    "start_time": "2023-01-24T19:23:38.415Z"
   },
   {
    "duration": 17,
    "start_time": "2023-01-24T19:23:38.436Z"
   },
   {
    "duration": 3,
    "start_time": "2023-01-24T19:23:38.455Z"
   },
   {
    "duration": 13,
    "start_time": "2023-01-24T19:23:38.460Z"
   },
   {
    "duration": 18,
    "start_time": "2023-01-24T19:23:38.474Z"
   },
   {
    "duration": 3,
    "start_time": "2023-01-24T19:23:38.494Z"
   },
   {
    "duration": 14,
    "start_time": "2023-01-24T19:23:38.499Z"
   },
   {
    "duration": 3,
    "start_time": "2023-01-24T19:23:38.514Z"
   },
   {
    "duration": 7,
    "start_time": "2023-01-24T19:23:38.518Z"
   },
   {
    "duration": 5,
    "start_time": "2023-01-24T19:23:38.526Z"
   },
   {
    "duration": 9,
    "start_time": "2023-01-24T19:23:38.533Z"
   },
   {
    "duration": 15,
    "start_time": "2023-01-24T19:23:38.544Z"
   },
   {
    "duration": 14,
    "start_time": "2023-01-24T19:23:38.561Z"
   },
   {
    "duration": 20,
    "start_time": "2023-01-24T19:23:38.578Z"
   },
   {
    "duration": 13,
    "start_time": "2023-01-24T19:23:38.599Z"
   },
   {
    "duration": 7,
    "start_time": "2023-01-24T19:23:38.614Z"
   },
   {
    "duration": 14,
    "start_time": "2023-01-24T19:23:38.623Z"
   },
   {
    "duration": 16,
    "start_time": "2023-01-24T19:23:38.638Z"
   },
   {
    "duration": 71,
    "start_time": "2023-01-24T19:23:38.656Z"
   },
   {
    "duration": 0,
    "start_time": "2023-01-24T19:23:38.728Z"
   },
   {
    "duration": 0,
    "start_time": "2023-01-24T19:23:38.729Z"
   },
   {
    "duration": 0,
    "start_time": "2023-01-24T19:23:38.731Z"
   },
   {
    "duration": 0,
    "start_time": "2023-01-24T19:23:38.732Z"
   },
   {
    "duration": 0,
    "start_time": "2023-01-24T19:23:38.733Z"
   },
   {
    "duration": 0,
    "start_time": "2023-01-24T19:23:38.735Z"
   },
   {
    "duration": 11,
    "start_time": "2023-01-24T19:27:01.449Z"
   },
   {
    "duration": 724,
    "start_time": "2023-01-25T01:10:21.310Z"
   },
   {
    "duration": 23,
    "start_time": "2023-01-25T01:10:22.036Z"
   },
   {
    "duration": 14,
    "start_time": "2023-01-25T01:10:22.061Z"
   },
   {
    "duration": 11,
    "start_time": "2023-01-25T01:10:22.077Z"
   },
   {
    "duration": 40,
    "start_time": "2023-01-25T01:10:22.090Z"
   },
   {
    "duration": 3,
    "start_time": "2023-01-25T01:10:22.132Z"
   },
   {
    "duration": 7,
    "start_time": "2023-01-25T01:10:22.148Z"
   },
   {
    "duration": 5,
    "start_time": "2023-01-25T01:10:22.157Z"
   },
   {
    "duration": 13,
    "start_time": "2023-01-25T01:10:22.163Z"
   },
   {
    "duration": 6,
    "start_time": "2023-01-25T01:10:22.177Z"
   },
   {
    "duration": 35,
    "start_time": "2023-01-25T01:10:22.184Z"
   },
   {
    "duration": 32,
    "start_time": "2023-01-25T01:10:22.220Z"
   },
   {
    "duration": 3,
    "start_time": "2023-01-25T01:10:22.253Z"
   },
   {
    "duration": 11,
    "start_time": "2023-01-25T01:10:22.259Z"
   },
   {
    "duration": 28,
    "start_time": "2023-01-25T01:10:22.272Z"
   },
   {
    "duration": 19,
    "start_time": "2023-01-25T01:10:22.301Z"
   },
   {
    "duration": 28,
    "start_time": "2023-01-25T01:10:22.322Z"
   },
   {
    "duration": 19,
    "start_time": "2023-01-25T01:10:22.364Z"
   },
   {
    "duration": 5,
    "start_time": "2023-01-25T01:10:22.385Z"
   },
   {
    "duration": 3,
    "start_time": "2023-01-25T01:10:22.392Z"
   },
   {
    "duration": 12,
    "start_time": "2023-01-25T01:10:22.396Z"
   },
   {
    "duration": 3,
    "start_time": "2023-01-25T01:10:22.409Z"
   },
   {
    "duration": 8,
    "start_time": "2023-01-25T01:10:22.413Z"
   },
   {
    "duration": 7,
    "start_time": "2023-01-25T01:10:22.422Z"
   },
   {
    "duration": 4,
    "start_time": "2023-01-25T01:10:22.430Z"
   },
   {
    "duration": 7,
    "start_time": "2023-01-25T01:10:22.448Z"
   },
   {
    "duration": 15,
    "start_time": "2023-01-25T01:10:22.456Z"
   },
   {
    "duration": 3,
    "start_time": "2023-01-25T01:10:22.472Z"
   },
   {
    "duration": 8,
    "start_time": "2023-01-25T01:10:22.476Z"
   },
   {
    "duration": 5,
    "start_time": "2023-01-25T01:10:22.486Z"
   },
   {
    "duration": 4,
    "start_time": "2023-01-25T01:10:22.492Z"
   },
   {
    "duration": 13,
    "start_time": "2023-01-25T01:10:22.498Z"
   },
   {
    "duration": 40,
    "start_time": "2023-01-25T01:10:22.512Z"
   },
   {
    "duration": 68,
    "start_time": "2023-01-25T01:10:22.554Z"
   },
   {
    "duration": 0,
    "start_time": "2023-01-25T01:10:22.624Z"
   },
   {
    "duration": 0,
    "start_time": "2023-01-25T01:10:22.625Z"
   },
   {
    "duration": 0,
    "start_time": "2023-01-25T01:10:22.627Z"
   },
   {
    "duration": 0,
    "start_time": "2023-01-25T01:10:22.629Z"
   },
   {
    "duration": 0,
    "start_time": "2023-01-25T01:10:22.649Z"
   },
   {
    "duration": 0,
    "start_time": "2023-01-25T01:10:22.650Z"
   },
   {
    "duration": 13,
    "start_time": "2023-01-25T01:11:11.682Z"
   },
   {
    "duration": 499,
    "start_time": "2023-01-25T01:13:30.119Z"
   },
   {
    "duration": 21,
    "start_time": "2023-01-25T01:13:30.620Z"
   },
   {
    "duration": 48,
    "start_time": "2023-01-25T01:13:30.642Z"
   },
   {
    "duration": 31,
    "start_time": "2023-01-25T01:13:30.692Z"
   },
   {
    "duration": 49,
    "start_time": "2023-01-25T01:13:30.724Z"
   },
   {
    "duration": 4,
    "start_time": "2023-01-25T01:13:30.774Z"
   },
   {
    "duration": 51,
    "start_time": "2023-01-25T01:13:30.779Z"
   },
   {
    "duration": 25,
    "start_time": "2023-01-25T01:13:30.832Z"
   },
   {
    "duration": 54,
    "start_time": "2023-01-25T01:13:30.859Z"
   },
   {
    "duration": 16,
    "start_time": "2023-01-25T01:13:30.917Z"
   },
   {
    "duration": 53,
    "start_time": "2023-01-25T01:13:30.935Z"
   },
   {
    "duration": 11,
    "start_time": "2023-01-25T01:13:30.990Z"
   },
   {
    "duration": 30,
    "start_time": "2023-01-25T01:13:31.003Z"
   },
   {
    "duration": 48,
    "start_time": "2023-01-25T01:13:31.035Z"
   },
   {
    "duration": 34,
    "start_time": "2023-01-25T01:13:31.086Z"
   },
   {
    "duration": 18,
    "start_time": "2023-01-25T01:13:31.123Z"
   },
   {
    "duration": 27,
    "start_time": "2023-01-25T01:13:31.143Z"
   },
   {
    "duration": 42,
    "start_time": "2023-01-25T01:13:31.172Z"
   },
   {
    "duration": 47,
    "start_time": "2023-01-25T01:13:31.216Z"
   },
   {
    "duration": 38,
    "start_time": "2023-01-25T01:13:31.265Z"
   },
   {
    "duration": 71,
    "start_time": "2023-01-25T01:13:31.305Z"
   },
   {
    "duration": 58,
    "start_time": "2023-01-25T01:13:31.378Z"
   },
   {
    "duration": 32,
    "start_time": "2023-01-25T01:13:31.438Z"
   },
   {
    "duration": 27,
    "start_time": "2023-01-25T01:13:31.472Z"
   },
   {
    "duration": 30,
    "start_time": "2023-01-25T01:13:31.501Z"
   },
   {
    "duration": 33,
    "start_time": "2023-01-25T01:13:31.533Z"
   },
   {
    "duration": 33,
    "start_time": "2023-01-25T01:13:31.568Z"
   },
   {
    "duration": 26,
    "start_time": "2023-01-25T01:13:31.604Z"
   },
   {
    "duration": 30,
    "start_time": "2023-01-25T01:13:31.632Z"
   },
   {
    "duration": 30,
    "start_time": "2023-01-25T01:13:31.664Z"
   },
   {
    "duration": 23,
    "start_time": "2023-01-25T01:13:31.695Z"
   },
   {
    "duration": 42,
    "start_time": "2023-01-25T01:13:31.719Z"
   },
   {
    "duration": 55,
    "start_time": "2023-01-25T01:13:31.762Z"
   },
   {
    "duration": 43,
    "start_time": "2023-01-25T01:13:31.819Z"
   },
   {
    "duration": 28,
    "start_time": "2023-01-25T01:13:31.864Z"
   },
   {
    "duration": 19,
    "start_time": "2023-01-25T01:13:31.894Z"
   },
   {
    "duration": 53,
    "start_time": "2023-01-25T01:13:31.914Z"
   },
   {
    "duration": 28,
    "start_time": "2023-01-25T01:13:31.968Z"
   },
   {
    "duration": 84,
    "start_time": "2023-01-25T01:13:31.997Z"
   },
   {
    "duration": 0,
    "start_time": "2023-01-25T01:13:32.082Z"
   },
   {
    "duration": 446,
    "start_time": "2023-01-25T01:14:18.779Z"
   },
   {
    "duration": 20,
    "start_time": "2023-01-25T01:14:19.227Z"
   },
   {
    "duration": 13,
    "start_time": "2023-01-25T01:14:19.249Z"
   },
   {
    "duration": 9,
    "start_time": "2023-01-25T01:14:19.264Z"
   },
   {
    "duration": 31,
    "start_time": "2023-01-25T01:14:19.274Z"
   },
   {
    "duration": 3,
    "start_time": "2023-01-25T01:14:19.306Z"
   },
   {
    "duration": 9,
    "start_time": "2023-01-25T01:14:19.310Z"
   },
   {
    "duration": 29,
    "start_time": "2023-01-25T01:14:19.320Z"
   },
   {
    "duration": 8,
    "start_time": "2023-01-25T01:14:19.351Z"
   },
   {
    "duration": 4,
    "start_time": "2023-01-25T01:14:19.361Z"
   },
   {
    "duration": 38,
    "start_time": "2023-01-25T01:14:19.366Z"
   },
   {
    "duration": 10,
    "start_time": "2023-01-25T01:14:19.406Z"
   },
   {
    "duration": 4,
    "start_time": "2023-01-25T01:14:19.417Z"
   },
   {
    "duration": 32,
    "start_time": "2023-01-25T01:14:19.422Z"
   },
   {
    "duration": 18,
    "start_time": "2023-01-25T01:14:19.456Z"
   },
   {
    "duration": 15,
    "start_time": "2023-01-25T01:14:19.475Z"
   },
   {
    "duration": 3,
    "start_time": "2023-01-25T01:14:19.492Z"
   },
   {
    "duration": 15,
    "start_time": "2023-01-25T01:14:19.497Z"
   },
   {
    "duration": 9,
    "start_time": "2023-01-25T01:14:19.513Z"
   },
   {
    "duration": 30,
    "start_time": "2023-01-25T01:14:19.523Z"
   },
   {
    "duration": 10,
    "start_time": "2023-01-25T01:14:19.554Z"
   },
   {
    "duration": 3,
    "start_time": "2023-01-25T01:14:19.565Z"
   },
   {
    "duration": 14,
    "start_time": "2023-01-25T01:14:19.569Z"
   },
   {
    "duration": 9,
    "start_time": "2023-01-25T01:14:19.584Z"
   },
   {
    "duration": 6,
    "start_time": "2023-01-25T01:14:19.594Z"
   },
   {
    "duration": 12,
    "start_time": "2023-01-25T01:14:19.602Z"
   },
   {
    "duration": 13,
    "start_time": "2023-01-25T01:14:19.615Z"
   },
   {
    "duration": 3,
    "start_time": "2023-01-25T01:14:19.630Z"
   },
   {
    "duration": 14,
    "start_time": "2023-01-25T01:14:19.634Z"
   },
   {
    "duration": 5,
    "start_time": "2023-01-25T01:14:19.650Z"
   },
   {
    "duration": 4,
    "start_time": "2023-01-25T01:14:19.656Z"
   },
   {
    "duration": 13,
    "start_time": "2023-01-25T01:14:19.661Z"
   },
   {
    "duration": 16,
    "start_time": "2023-01-25T01:14:19.676Z"
   },
   {
    "duration": 12,
    "start_time": "2023-01-25T01:14:19.694Z"
   },
   {
    "duration": 14,
    "start_time": "2023-01-25T01:14:19.707Z"
   },
   {
    "duration": 3,
    "start_time": "2023-01-25T01:14:19.722Z"
   },
   {
    "duration": 7,
    "start_time": "2023-01-25T01:14:19.748Z"
   },
   {
    "duration": 8,
    "start_time": "2023-01-25T01:14:19.757Z"
   },
   {
    "duration": 59,
    "start_time": "2023-01-25T01:14:19.766Z"
   },
   {
    "duration": 0,
    "start_time": "2023-01-25T01:14:19.826Z"
   },
   {
    "duration": 4,
    "start_time": "2023-01-25T01:14:34.439Z"
   },
   {
    "duration": 7,
    "start_time": "2023-01-25T01:14:36.549Z"
   },
   {
    "duration": 434,
    "start_time": "2023-01-25T01:14:43.306Z"
   },
   {
    "duration": 25,
    "start_time": "2023-01-25T01:14:43.742Z"
   },
   {
    "duration": 14,
    "start_time": "2023-01-25T01:14:43.769Z"
   },
   {
    "duration": 12,
    "start_time": "2023-01-25T01:14:43.784Z"
   },
   {
    "duration": 52,
    "start_time": "2023-01-25T01:14:43.798Z"
   },
   {
    "duration": 3,
    "start_time": "2023-01-25T01:14:43.852Z"
   },
   {
    "duration": 10,
    "start_time": "2023-01-25T01:14:43.856Z"
   },
   {
    "duration": 4,
    "start_time": "2023-01-25T01:14:43.868Z"
   },
   {
    "duration": 6,
    "start_time": "2023-01-25T01:14:43.873Z"
   },
   {
    "duration": 3,
    "start_time": "2023-01-25T01:14:43.883Z"
   },
   {
    "duration": 61,
    "start_time": "2023-01-25T01:14:43.888Z"
   },
   {
    "duration": 10,
    "start_time": "2023-01-25T01:14:43.950Z"
   },
   {
    "duration": 4,
    "start_time": "2023-01-25T01:14:43.962Z"
   },
   {
    "duration": 12,
    "start_time": "2023-01-25T01:14:43.968Z"
   },
   {
    "duration": 18,
    "start_time": "2023-01-25T01:14:43.981Z"
   },
   {
    "duration": 15,
    "start_time": "2023-01-25T01:14:44.001Z"
   },
   {
    "duration": 4,
    "start_time": "2023-01-25T01:14:44.017Z"
   },
   {
    "duration": 14,
    "start_time": "2023-01-25T01:14:44.048Z"
   },
   {
    "duration": 10,
    "start_time": "2023-01-25T01:14:44.064Z"
   },
   {
    "duration": 4,
    "start_time": "2023-01-25T01:14:44.075Z"
   },
   {
    "duration": 12,
    "start_time": "2023-01-25T01:14:44.081Z"
   },
   {
    "duration": 3,
    "start_time": "2023-01-25T01:14:44.095Z"
   },
   {
    "duration": 7,
    "start_time": "2023-01-25T01:14:44.099Z"
   },
   {
    "duration": 8,
    "start_time": "2023-01-25T01:14:44.107Z"
   },
   {
    "duration": 6,
    "start_time": "2023-01-25T01:14:44.116Z"
   },
   {
    "duration": 25,
    "start_time": "2023-01-25T01:14:44.124Z"
   },
   {
    "duration": 9,
    "start_time": "2023-01-25T01:14:44.151Z"
   },
   {
    "duration": 3,
    "start_time": "2023-01-25T01:14:44.163Z"
   },
   {
    "duration": 13,
    "start_time": "2023-01-25T01:14:44.167Z"
   },
   {
    "duration": 6,
    "start_time": "2023-01-25T01:14:44.182Z"
   },
   {
    "duration": 7,
    "start_time": "2023-01-25T01:14:44.189Z"
   },
   {
    "duration": 14,
    "start_time": "2023-01-25T01:14:44.197Z"
   },
   {
    "duration": 13,
    "start_time": "2023-01-25T01:14:44.212Z"
   },
   {
    "duration": 29,
    "start_time": "2023-01-25T01:14:44.226Z"
   },
   {
    "duration": 10,
    "start_time": "2023-01-25T01:14:44.256Z"
   },
   {
    "duration": 3,
    "start_time": "2023-01-25T01:14:44.267Z"
   },
   {
    "duration": 18,
    "start_time": "2023-01-25T01:14:44.271Z"
   },
   {
    "duration": 7,
    "start_time": "2023-01-25T01:14:44.290Z"
   },
   {
    "duration": 4,
    "start_time": "2023-01-25T01:14:44.298Z"
   },
   {
    "duration": 11,
    "start_time": "2023-01-25T01:14:44.303Z"
   },
   {
    "duration": 495,
    "start_time": "2023-01-25T01:15:13.145Z"
   },
   {
    "duration": 23,
    "start_time": "2023-01-25T01:15:13.642Z"
   },
   {
    "duration": 15,
    "start_time": "2023-01-25T01:15:13.667Z"
   },
   {
    "duration": 10,
    "start_time": "2023-01-25T01:15:13.684Z"
   },
   {
    "duration": 54,
    "start_time": "2023-01-25T01:15:13.696Z"
   },
   {
    "duration": 4,
    "start_time": "2023-01-25T01:15:13.751Z"
   },
   {
    "duration": 22,
    "start_time": "2023-01-25T01:15:13.756Z"
   },
   {
    "duration": 4,
    "start_time": "2023-01-25T01:15:13.779Z"
   },
   {
    "duration": 11,
    "start_time": "2023-01-25T01:15:13.785Z"
   },
   {
    "duration": 6,
    "start_time": "2023-01-25T01:15:13.801Z"
   },
   {
    "duration": 57,
    "start_time": "2023-01-25T01:15:13.808Z"
   },
   {
    "duration": 10,
    "start_time": "2023-01-25T01:15:13.866Z"
   },
   {
    "duration": 6,
    "start_time": "2023-01-25T01:15:13.878Z"
   },
   {
    "duration": 13,
    "start_time": "2023-01-25T01:15:13.885Z"
   },
   {
    "duration": 26,
    "start_time": "2023-01-25T01:15:13.900Z"
   },
   {
    "duration": 34,
    "start_time": "2023-01-25T01:15:13.927Z"
   },
   {
    "duration": 5,
    "start_time": "2023-01-25T01:15:13.962Z"
   },
   {
    "duration": 11,
    "start_time": "2023-01-25T01:15:13.969Z"
   },
   {
    "duration": 6,
    "start_time": "2023-01-25T01:15:13.981Z"
   },
   {
    "duration": 4,
    "start_time": "2023-01-25T01:15:13.988Z"
   },
   {
    "duration": 14,
    "start_time": "2023-01-25T01:15:13.993Z"
   },
   {
    "duration": 3,
    "start_time": "2023-01-25T01:15:14.008Z"
   },
   {
    "duration": 9,
    "start_time": "2023-01-25T01:15:14.012Z"
   },
   {
    "duration": 7,
    "start_time": "2023-01-25T01:15:14.022Z"
   },
   {
    "duration": 21,
    "start_time": "2023-01-25T01:15:14.030Z"
   },
   {
    "duration": 12,
    "start_time": "2023-01-25T01:15:14.053Z"
   },
   {
    "duration": 13,
    "start_time": "2023-01-25T01:15:14.067Z"
   },
   {
    "duration": 2,
    "start_time": "2023-01-25T01:15:14.083Z"
   },
   {
    "duration": 9,
    "start_time": "2023-01-25T01:15:14.087Z"
   },
   {
    "duration": 9,
    "start_time": "2023-01-25T01:15:14.098Z"
   },
   {
    "duration": 3,
    "start_time": "2023-01-25T01:15:14.109Z"
   },
   {
    "duration": 14,
    "start_time": "2023-01-25T01:15:14.113Z"
   },
   {
    "duration": 31,
    "start_time": "2023-01-25T01:15:14.128Z"
   },
   {
    "duration": 14,
    "start_time": "2023-01-25T01:15:14.161Z"
   },
   {
    "duration": 11,
    "start_time": "2023-01-25T01:15:14.177Z"
   },
   {
    "duration": 3,
    "start_time": "2023-01-25T01:15:14.190Z"
   },
   {
    "duration": 9,
    "start_time": "2023-01-25T01:15:14.194Z"
   },
   {
    "duration": 9,
    "start_time": "2023-01-25T01:15:14.205Z"
   },
   {
    "duration": 34,
    "start_time": "2023-01-25T01:15:14.215Z"
   },
   {
    "duration": 13,
    "start_time": "2023-01-25T01:15:14.251Z"
   },
   {
    "duration": 433,
    "start_time": "2023-01-25T01:27:21.899Z"
   },
   {
    "duration": 26,
    "start_time": "2023-01-25T01:27:22.334Z"
   },
   {
    "duration": 16,
    "start_time": "2023-01-25T01:27:22.362Z"
   },
   {
    "duration": 10,
    "start_time": "2023-01-25T01:27:22.381Z"
   },
   {
    "duration": 36,
    "start_time": "2023-01-25T01:27:22.392Z"
   },
   {
    "duration": 26,
    "start_time": "2023-01-25T01:27:22.430Z"
   },
   {
    "duration": 24,
    "start_time": "2023-01-25T01:27:22.458Z"
   },
   {
    "duration": 8,
    "start_time": "2023-01-25T01:27:22.483Z"
   },
   {
    "duration": 8,
    "start_time": "2023-01-25T01:27:22.492Z"
   },
   {
    "duration": 8,
    "start_time": "2023-01-25T01:27:22.502Z"
   },
   {
    "duration": 38,
    "start_time": "2023-01-25T01:27:22.511Z"
   },
   {
    "duration": 14,
    "start_time": "2023-01-25T01:27:22.550Z"
   },
   {
    "duration": 19,
    "start_time": "2023-01-25T01:27:22.566Z"
   },
   {
    "duration": 20,
    "start_time": "2023-01-25T01:27:22.586Z"
   },
   {
    "duration": 25,
    "start_time": "2023-01-25T01:27:22.607Z"
   },
   {
    "duration": 16,
    "start_time": "2023-01-25T01:27:22.634Z"
   },
   {
    "duration": 19,
    "start_time": "2023-01-25T01:27:22.652Z"
   },
   {
    "duration": 20,
    "start_time": "2023-01-25T01:27:22.673Z"
   },
   {
    "duration": 7,
    "start_time": "2023-01-25T01:27:22.694Z"
   },
   {
    "duration": 18,
    "start_time": "2023-01-25T01:27:22.703Z"
   },
   {
    "duration": 22,
    "start_time": "2023-01-25T01:27:22.722Z"
   },
   {
    "duration": 3,
    "start_time": "2023-01-25T01:27:22.745Z"
   },
   {
    "duration": 21,
    "start_time": "2023-01-25T01:27:22.749Z"
   },
   {
    "duration": 9,
    "start_time": "2023-01-25T01:27:22.771Z"
   },
   {
    "duration": 8,
    "start_time": "2023-01-25T01:27:22.782Z"
   },
   {
    "duration": 9,
    "start_time": "2023-01-25T01:27:22.792Z"
   },
   {
    "duration": 15,
    "start_time": "2023-01-25T01:27:22.802Z"
   },
   {
    "duration": 2,
    "start_time": "2023-01-25T01:27:22.820Z"
   },
   {
    "duration": 11,
    "start_time": "2023-01-25T01:27:22.824Z"
   },
   {
    "duration": 6,
    "start_time": "2023-01-25T01:27:22.837Z"
   },
   {
    "duration": 23,
    "start_time": "2023-01-25T01:27:22.844Z"
   },
   {
    "duration": 17,
    "start_time": "2023-01-25T01:27:22.869Z"
   },
   {
    "duration": 16,
    "start_time": "2023-01-25T01:27:22.887Z"
   },
   {
    "duration": 12,
    "start_time": "2023-01-25T01:27:22.904Z"
   },
   {
    "duration": 15,
    "start_time": "2023-01-25T01:27:22.917Z"
   },
   {
    "duration": 3,
    "start_time": "2023-01-25T01:27:22.934Z"
   },
   {
    "duration": 7,
    "start_time": "2023-01-25T01:27:22.938Z"
   },
   {
    "duration": 8,
    "start_time": "2023-01-25T01:27:22.946Z"
   },
   {
    "duration": 26,
    "start_time": "2023-01-25T01:27:22.956Z"
   },
   {
    "duration": 15,
    "start_time": "2023-01-25T01:27:22.983Z"
   },
   {
    "duration": 540,
    "start_time": "2023-01-25T07:42:38.491Z"
   },
   {
    "duration": 26,
    "start_time": "2023-01-25T07:42:39.034Z"
   },
   {
    "duration": 31,
    "start_time": "2023-01-25T07:42:39.062Z"
   },
   {
    "duration": 14,
    "start_time": "2023-01-25T07:42:39.095Z"
   },
   {
    "duration": 43,
    "start_time": "2023-01-25T07:42:39.111Z"
   },
   {
    "duration": 4,
    "start_time": "2023-01-25T07:42:39.155Z"
   },
   {
    "duration": 9,
    "start_time": "2023-01-25T07:42:39.184Z"
   },
   {
    "duration": 4,
    "start_time": "2023-01-25T07:42:39.195Z"
   },
   {
    "duration": 13,
    "start_time": "2023-01-25T07:42:39.201Z"
   },
   {
    "duration": 5,
    "start_time": "2023-01-25T07:42:39.218Z"
   },
   {
    "duration": 68,
    "start_time": "2023-01-25T07:42:39.225Z"
   },
   {
    "duration": 12,
    "start_time": "2023-01-25T07:42:39.295Z"
   },
   {
    "duration": 6,
    "start_time": "2023-01-25T07:42:39.308Z"
   },
   {
    "duration": 17,
    "start_time": "2023-01-25T07:42:39.316Z"
   },
   {
    "duration": 31,
    "start_time": "2023-01-25T07:42:39.335Z"
   },
   {
    "duration": 21,
    "start_time": "2023-01-25T07:42:39.384Z"
   },
   {
    "duration": 4,
    "start_time": "2023-01-25T07:42:39.407Z"
   },
   {
    "duration": 19,
    "start_time": "2023-01-25T07:42:39.413Z"
   },
   {
    "duration": 9,
    "start_time": "2023-01-25T07:42:39.434Z"
   },
   {
    "duration": 4,
    "start_time": "2023-01-25T07:42:39.445Z"
   },
   {
    "duration": 36,
    "start_time": "2023-01-25T07:42:39.451Z"
   },
   {
    "duration": 3,
    "start_time": "2023-01-25T07:42:39.489Z"
   },
   {
    "duration": 8,
    "start_time": "2023-01-25T07:42:39.495Z"
   },
   {
    "duration": 8,
    "start_time": "2023-01-25T07:42:39.505Z"
   },
   {
    "duration": 6,
    "start_time": "2023-01-25T07:42:39.515Z"
   },
   {
    "duration": 15,
    "start_time": "2023-01-25T07:42:39.524Z"
   },
   {
    "duration": 53,
    "start_time": "2023-01-25T07:42:39.541Z"
   },
   {
    "duration": 7,
    "start_time": "2023-01-25T07:42:39.598Z"
   },
   {
    "duration": 59,
    "start_time": "2023-01-25T07:42:39.608Z"
   },
   {
    "duration": 26,
    "start_time": "2023-01-25T07:42:39.670Z"
   },
   {
    "duration": 9,
    "start_time": "2023-01-25T07:42:39.698Z"
   },
   {
    "duration": 18,
    "start_time": "2023-01-25T07:42:39.709Z"
   },
   {
    "duration": 33,
    "start_time": "2023-01-25T07:42:39.730Z"
   },
   {
    "duration": 25,
    "start_time": "2023-01-25T07:42:39.765Z"
   },
   {
    "duration": 18,
    "start_time": "2023-01-25T07:42:39.792Z"
   },
   {
    "duration": 12,
    "start_time": "2023-01-25T07:42:39.813Z"
   },
   {
    "duration": 19,
    "start_time": "2023-01-25T07:42:39.828Z"
   },
   {
    "duration": 13,
    "start_time": "2023-01-25T07:42:39.852Z"
   },
   {
    "duration": 19,
    "start_time": "2023-01-25T07:42:39.868Z"
   },
   {
    "duration": 25,
    "start_time": "2023-01-25T07:42:39.889Z"
   },
   {
    "duration": 73,
    "start_time": "2023-01-25T07:46:11.667Z"
   },
   {
    "duration": 16,
    "start_time": "2023-01-25T07:46:51.631Z"
   },
   {
    "duration": 90,
    "start_time": "2023-01-25T08:11:21.376Z"
   },
   {
    "duration": 71,
    "start_time": "2023-01-25T08:11:21.963Z"
   },
   {
    "duration": 774,
    "start_time": "2023-01-25T08:11:32.430Z"
   },
   {
    "duration": 25,
    "start_time": "2023-01-25T08:11:33.206Z"
   },
   {
    "duration": 22,
    "start_time": "2023-01-25T08:11:33.233Z"
   },
   {
    "duration": 14,
    "start_time": "2023-01-25T08:11:33.257Z"
   },
   {
    "duration": 81,
    "start_time": "2023-01-25T08:11:33.274Z"
   },
   {
    "duration": 4,
    "start_time": "2023-01-25T08:11:33.357Z"
   },
   {
    "duration": 25,
    "start_time": "2023-01-25T08:11:33.363Z"
   },
   {
    "duration": 12,
    "start_time": "2023-01-25T08:11:33.390Z"
   },
   {
    "duration": 16,
    "start_time": "2023-01-25T08:11:33.404Z"
   },
   {
    "duration": 21,
    "start_time": "2023-01-25T08:11:33.422Z"
   },
   {
    "duration": 43,
    "start_time": "2023-01-25T08:11:33.445Z"
   },
   {
    "duration": 11,
    "start_time": "2023-01-25T08:11:33.490Z"
   },
   {
    "duration": 27,
    "start_time": "2023-01-25T08:11:33.502Z"
   },
   {
    "duration": 22,
    "start_time": "2023-01-25T08:11:33.532Z"
   },
   {
    "duration": 40,
    "start_time": "2023-01-25T08:11:33.556Z"
   },
   {
    "duration": 19,
    "start_time": "2023-01-25T08:11:33.598Z"
   },
   {
    "duration": 4,
    "start_time": "2023-01-25T08:11:33.619Z"
   },
   {
    "duration": 28,
    "start_time": "2023-01-25T08:11:33.624Z"
   },
   {
    "duration": 42,
    "start_time": "2023-01-25T08:11:33.654Z"
   },
   {
    "duration": 6,
    "start_time": "2023-01-25T08:11:33.698Z"
   },
   {
    "duration": 32,
    "start_time": "2023-01-25T08:11:33.706Z"
   },
   {
    "duration": 52,
    "start_time": "2023-01-25T08:11:33.740Z"
   },
   {
    "duration": 25,
    "start_time": "2023-01-25T08:11:33.794Z"
   },
   {
    "duration": 37,
    "start_time": "2023-01-25T08:11:33.821Z"
   },
   {
    "duration": 33,
    "start_time": "2023-01-25T08:11:33.860Z"
   },
   {
    "duration": 26,
    "start_time": "2023-01-25T08:11:33.896Z"
   },
   {
    "duration": 32,
    "start_time": "2023-01-25T08:11:33.924Z"
   },
   {
    "duration": 4,
    "start_time": "2023-01-25T08:11:33.957Z"
   },
   {
    "duration": 24,
    "start_time": "2023-01-25T08:11:33.962Z"
   },
   {
    "duration": 32,
    "start_time": "2023-01-25T08:11:33.988Z"
   },
   {
    "duration": 35,
    "start_time": "2023-01-25T08:11:34.022Z"
   },
   {
    "duration": 47,
    "start_time": "2023-01-25T08:11:34.059Z"
   },
   {
    "duration": 44,
    "start_time": "2023-01-25T08:11:34.107Z"
   },
   {
    "duration": 52,
    "start_time": "2023-01-25T08:11:34.153Z"
   },
   {
    "duration": 13,
    "start_time": "2023-01-25T08:11:34.207Z"
   },
   {
    "duration": 69,
    "start_time": "2023-01-25T08:11:34.222Z"
   },
   {
    "duration": 0,
    "start_time": "2023-01-25T08:11:34.293Z"
   },
   {
    "duration": 0,
    "start_time": "2023-01-25T08:11:34.295Z"
   },
   {
    "duration": 0,
    "start_time": "2023-01-25T08:11:34.295Z"
   },
   {
    "duration": 0,
    "start_time": "2023-01-25T08:11:34.297Z"
   },
   {
    "duration": 0,
    "start_time": "2023-01-25T08:11:34.297Z"
   },
   {
    "duration": 0,
    "start_time": "2023-01-25T08:11:34.299Z"
   },
   {
    "duration": 26,
    "start_time": "2023-01-25T08:27:15.604Z"
   },
   {
    "duration": 14,
    "start_time": "2023-01-25T08:36:49.557Z"
   },
   {
    "duration": 498,
    "start_time": "2023-01-25T08:44:30.301Z"
   },
   {
    "duration": 23,
    "start_time": "2023-01-25T08:44:30.801Z"
   },
   {
    "duration": 74,
    "start_time": "2023-01-25T08:44:30.826Z"
   },
   {
    "duration": 41,
    "start_time": "2023-01-25T08:44:30.902Z"
   },
   {
    "duration": 60,
    "start_time": "2023-01-25T08:44:30.945Z"
   },
   {
    "duration": 14,
    "start_time": "2023-01-25T08:44:31.007Z"
   },
   {
    "duration": 48,
    "start_time": "2023-01-25T08:44:31.025Z"
   },
   {
    "duration": 28,
    "start_time": "2023-01-25T08:44:31.076Z"
   },
   {
    "duration": 28,
    "start_time": "2023-01-25T08:44:31.106Z"
   },
   {
    "duration": 41,
    "start_time": "2023-01-25T08:44:31.139Z"
   },
   {
    "duration": 116,
    "start_time": "2023-01-25T08:44:31.183Z"
   },
   {
    "duration": 11,
    "start_time": "2023-01-25T08:44:31.301Z"
   },
   {
    "duration": 24,
    "start_time": "2023-01-25T08:44:31.313Z"
   },
   {
    "duration": 112,
    "start_time": "2023-01-25T08:44:31.339Z"
   },
   {
    "duration": 75,
    "start_time": "2023-01-25T08:44:31.453Z"
   },
   {
    "duration": 34,
    "start_time": "2023-01-25T08:44:31.530Z"
   },
   {
    "duration": 37,
    "start_time": "2023-01-25T08:44:31.566Z"
   },
   {
    "duration": 102,
    "start_time": "2023-01-25T08:44:31.605Z"
   },
   {
    "duration": 76,
    "start_time": "2023-01-25T08:44:31.709Z"
   },
   {
    "duration": 25,
    "start_time": "2023-01-25T08:44:31.787Z"
   },
   {
    "duration": 70,
    "start_time": "2023-01-25T08:44:31.814Z"
   },
   {
    "duration": 30,
    "start_time": "2023-01-25T08:44:31.887Z"
   },
   {
    "duration": 58,
    "start_time": "2023-01-25T08:44:31.919Z"
   },
   {
    "duration": 48,
    "start_time": "2023-01-25T08:44:31.979Z"
   },
   {
    "duration": 21,
    "start_time": "2023-01-25T08:44:32.029Z"
   },
   {
    "duration": 35,
    "start_time": "2023-01-25T08:44:32.051Z"
   },
   {
    "duration": 51,
    "start_time": "2023-01-25T08:44:32.088Z"
   },
   {
    "duration": 24,
    "start_time": "2023-01-25T08:44:32.142Z"
   },
   {
    "duration": 35,
    "start_time": "2023-01-25T08:44:32.168Z"
   },
   {
    "duration": 41,
    "start_time": "2023-01-25T08:44:32.205Z"
   },
   {
    "duration": 15,
    "start_time": "2023-01-25T08:44:32.248Z"
   },
   {
    "duration": 25,
    "start_time": "2023-01-25T08:44:32.265Z"
   },
   {
    "duration": 25,
    "start_time": "2023-01-25T08:44:32.292Z"
   },
   {
    "duration": 85,
    "start_time": "2023-01-25T08:44:32.319Z"
   },
   {
    "duration": 0,
    "start_time": "2023-01-25T08:44:32.407Z"
   },
   {
    "duration": 0,
    "start_time": "2023-01-25T08:44:32.408Z"
   },
   {
    "duration": 0,
    "start_time": "2023-01-25T08:44:32.409Z"
   },
   {
    "duration": 0,
    "start_time": "2023-01-25T08:44:32.411Z"
   },
   {
    "duration": 0,
    "start_time": "2023-01-25T08:44:32.412Z"
   },
   {
    "duration": 0,
    "start_time": "2023-01-25T08:44:32.413Z"
   },
   {
    "duration": 0,
    "start_time": "2023-01-25T08:44:32.414Z"
   },
   {
    "duration": 0,
    "start_time": "2023-01-25T08:44:32.415Z"
   },
   {
    "duration": 16,
    "start_time": "2023-01-25T08:45:17.343Z"
   },
   {
    "duration": 16,
    "start_time": "2023-01-25T08:45:57.710Z"
   },
   {
    "duration": 14,
    "start_time": "2023-01-25T08:46:42.131Z"
   },
   {
    "duration": 23,
    "start_time": "2023-01-25T08:46:54.144Z"
   },
   {
    "duration": 16,
    "start_time": "2023-01-25T08:48:01.551Z"
   },
   {
    "duration": 1175,
    "start_time": "2023-01-25T08:48:23.592Z"
   },
   {
    "duration": 18,
    "start_time": "2023-01-25T08:49:16.711Z"
   },
   {
    "duration": 17,
    "start_time": "2023-01-25T08:49:58.698Z"
   },
   {
    "duration": 17,
    "start_time": "2023-01-25T08:50:24.630Z"
   },
   {
    "duration": 17,
    "start_time": "2023-01-25T08:53:05.388Z"
   },
   {
    "duration": 17,
    "start_time": "2023-01-25T08:53:32.288Z"
   },
   {
    "duration": 454,
    "start_time": "2023-01-25T08:53:39.776Z"
   },
   {
    "duration": 22,
    "start_time": "2023-01-25T08:53:40.232Z"
   },
   {
    "duration": 17,
    "start_time": "2023-01-25T08:53:40.255Z"
   },
   {
    "duration": 10,
    "start_time": "2023-01-25T08:53:40.274Z"
   },
   {
    "duration": 53,
    "start_time": "2023-01-25T08:53:40.285Z"
   },
   {
    "duration": 3,
    "start_time": "2023-01-25T08:53:40.340Z"
   },
   {
    "duration": 12,
    "start_time": "2023-01-25T08:53:40.345Z"
   },
   {
    "duration": 10,
    "start_time": "2023-01-25T08:53:40.359Z"
   },
   {
    "duration": 23,
    "start_time": "2023-01-25T08:53:40.371Z"
   },
   {
    "duration": 4,
    "start_time": "2023-01-25T08:53:40.398Z"
   },
   {
    "duration": 51,
    "start_time": "2023-01-25T08:53:40.403Z"
   },
   {
    "duration": 11,
    "start_time": "2023-01-25T08:53:40.456Z"
   },
   {
    "duration": 8,
    "start_time": "2023-01-25T08:53:40.468Z"
   },
   {
    "duration": 15,
    "start_time": "2023-01-25T08:53:40.478Z"
   },
   {
    "duration": 32,
    "start_time": "2023-01-25T08:53:40.495Z"
   },
   {
    "duration": 21,
    "start_time": "2023-01-25T08:53:40.528Z"
   },
   {
    "duration": 4,
    "start_time": "2023-01-25T08:53:40.550Z"
   },
   {
    "duration": 24,
    "start_time": "2023-01-25T08:53:40.556Z"
   },
   {
    "duration": 20,
    "start_time": "2023-01-25T08:53:40.581Z"
   },
   {
    "duration": 9,
    "start_time": "2023-01-25T08:53:40.603Z"
   },
   {
    "duration": 16,
    "start_time": "2023-01-25T08:53:40.614Z"
   },
   {
    "duration": 15,
    "start_time": "2023-01-25T08:53:40.632Z"
   },
   {
    "duration": 11,
    "start_time": "2023-01-25T08:53:40.649Z"
   },
   {
    "duration": 24,
    "start_time": "2023-01-25T08:53:40.661Z"
   },
   {
    "duration": 15,
    "start_time": "2023-01-25T08:53:40.686Z"
   },
   {
    "duration": 23,
    "start_time": "2023-01-25T08:53:40.702Z"
   },
   {
    "duration": 24,
    "start_time": "2023-01-25T08:53:40.726Z"
   },
   {
    "duration": 10,
    "start_time": "2023-01-25T08:53:40.754Z"
   },
   {
    "duration": 16,
    "start_time": "2023-01-25T08:53:40.765Z"
   },
   {
    "duration": 20,
    "start_time": "2023-01-25T08:53:40.783Z"
   },
   {
    "duration": 9,
    "start_time": "2023-01-25T08:53:40.805Z"
   },
   {
    "duration": 19,
    "start_time": "2023-01-25T08:53:40.815Z"
   },
   {
    "duration": 21,
    "start_time": "2023-01-25T08:53:40.836Z"
   },
   {
    "duration": 28,
    "start_time": "2023-01-25T08:53:40.859Z"
   },
   {
    "duration": 16,
    "start_time": "2023-01-25T08:53:40.888Z"
   },
   {
    "duration": 26,
    "start_time": "2023-01-25T08:53:40.907Z"
   },
   {
    "duration": 4,
    "start_time": "2023-01-25T08:53:40.938Z"
   },
   {
    "duration": 13,
    "start_time": "2023-01-25T08:53:40.944Z"
   },
   {
    "duration": 15,
    "start_time": "2023-01-25T08:53:40.958Z"
   },
   {
    "duration": 9,
    "start_time": "2023-01-25T08:53:40.974Z"
   },
   {
    "duration": 21,
    "start_time": "2023-01-25T08:53:40.985Z"
   },
   {
    "duration": 21,
    "start_time": "2023-01-25T08:53:41.008Z"
   },
   {
    "duration": 16,
    "start_time": "2023-01-25T08:55:51.304Z"
   },
   {
    "duration": 461,
    "start_time": "2023-01-25T08:57:32.893Z"
   },
   {
    "duration": 24,
    "start_time": "2023-01-25T08:57:33.356Z"
   },
   {
    "duration": 21,
    "start_time": "2023-01-25T08:57:33.382Z"
   },
   {
    "duration": 34,
    "start_time": "2023-01-25T08:57:33.406Z"
   },
   {
    "duration": 37,
    "start_time": "2023-01-25T08:57:33.442Z"
   },
   {
    "duration": 4,
    "start_time": "2023-01-25T08:57:33.481Z"
   },
   {
    "duration": 20,
    "start_time": "2023-01-25T08:57:33.486Z"
   },
   {
    "duration": 12,
    "start_time": "2023-01-25T08:57:33.508Z"
   },
   {
    "duration": 21,
    "start_time": "2023-01-25T08:57:33.523Z"
   },
   {
    "duration": 15,
    "start_time": "2023-01-25T08:57:33.546Z"
   },
   {
    "duration": 55,
    "start_time": "2023-01-25T08:57:33.564Z"
   },
   {
    "duration": 10,
    "start_time": "2023-01-25T08:57:33.620Z"
   },
   {
    "duration": 26,
    "start_time": "2023-01-25T08:57:33.632Z"
   },
   {
    "duration": 22,
    "start_time": "2023-01-25T08:57:33.659Z"
   },
   {
    "duration": 46,
    "start_time": "2023-01-25T08:57:33.682Z"
   },
   {
    "duration": 19,
    "start_time": "2023-01-25T08:57:33.730Z"
   },
   {
    "duration": 6,
    "start_time": "2023-01-25T08:57:33.750Z"
   },
   {
    "duration": 21,
    "start_time": "2023-01-25T08:57:33.758Z"
   },
   {
    "duration": 16,
    "start_time": "2023-01-25T08:57:33.781Z"
   },
   {
    "duration": 13,
    "start_time": "2023-01-25T08:57:33.799Z"
   },
   {
    "duration": 21,
    "start_time": "2023-01-25T08:57:33.815Z"
   },
   {
    "duration": 22,
    "start_time": "2023-01-25T08:57:33.838Z"
   },
   {
    "duration": 11,
    "start_time": "2023-01-25T08:57:33.862Z"
   },
   {
    "duration": 13,
    "start_time": "2023-01-25T08:57:33.875Z"
   },
   {
    "duration": 6,
    "start_time": "2023-01-25T08:57:33.890Z"
   },
   {
    "duration": 25,
    "start_time": "2023-01-25T08:57:33.898Z"
   },
   {
    "duration": 20,
    "start_time": "2023-01-25T08:57:33.925Z"
   },
   {
    "duration": 10,
    "start_time": "2023-01-25T08:57:33.950Z"
   },
   {
    "duration": 27,
    "start_time": "2023-01-25T08:57:33.961Z"
   },
   {
    "duration": 17,
    "start_time": "2023-01-25T08:57:33.990Z"
   },
   {
    "duration": 17,
    "start_time": "2023-01-25T08:57:34.008Z"
   },
   {
    "duration": 21,
    "start_time": "2023-01-25T08:57:34.027Z"
   },
   {
    "duration": 42,
    "start_time": "2023-01-25T08:57:34.050Z"
   },
   {
    "duration": 6,
    "start_time": "2023-01-25T08:57:34.093Z"
   },
   {
    "duration": 19,
    "start_time": "2023-01-25T08:57:34.100Z"
   },
   {
    "duration": 13,
    "start_time": "2023-01-25T08:57:34.121Z"
   },
   {
    "duration": 16,
    "start_time": "2023-01-25T08:57:34.135Z"
   },
   {
    "duration": 24,
    "start_time": "2023-01-25T08:57:34.152Z"
   },
   {
    "duration": 25,
    "start_time": "2023-01-25T08:57:34.177Z"
   },
   {
    "duration": 541,
    "start_time": "2023-02-03T09:45:08.063Z"
   },
   {
    "duration": 25,
    "start_time": "2023-02-03T09:45:08.606Z"
   },
   {
    "duration": 21,
    "start_time": "2023-02-03T09:45:08.633Z"
   },
   {
    "duration": 19,
    "start_time": "2023-02-03T09:45:08.657Z"
   },
   {
    "duration": 36,
    "start_time": "2023-02-03T09:45:08.678Z"
   },
   {
    "duration": 4,
    "start_time": "2023-02-03T09:45:08.716Z"
   },
   {
    "duration": 26,
    "start_time": "2023-02-03T09:45:08.722Z"
   },
   {
    "duration": 19,
    "start_time": "2023-02-03T09:45:08.750Z"
   },
   {
    "duration": 17,
    "start_time": "2023-02-03T09:45:08.772Z"
   },
   {
    "duration": 17,
    "start_time": "2023-02-03T09:45:08.792Z"
   },
   {
    "duration": 37,
    "start_time": "2023-02-03T09:45:08.810Z"
   },
   {
    "duration": 10,
    "start_time": "2023-02-03T09:45:08.849Z"
   },
   {
    "duration": 14,
    "start_time": "2023-02-03T09:45:08.861Z"
   },
   {
    "duration": 84,
    "start_time": "2023-02-03T09:45:08.877Z"
   },
   {
    "duration": 68,
    "start_time": "2023-02-03T09:45:08.964Z"
   },
   {
    "duration": 24,
    "start_time": "2023-02-03T09:45:09.034Z"
   },
   {
    "duration": 4,
    "start_time": "2023-02-03T09:45:09.061Z"
   },
   {
    "duration": 34,
    "start_time": "2023-02-03T09:45:09.067Z"
   },
   {
    "duration": 13,
    "start_time": "2023-02-03T09:45:09.103Z"
   },
   {
    "duration": 5,
    "start_time": "2023-02-03T09:45:09.118Z"
   },
   {
    "duration": 25,
    "start_time": "2023-02-03T09:45:09.125Z"
   },
   {
    "duration": 18,
    "start_time": "2023-02-03T09:45:09.152Z"
   },
   {
    "duration": 16,
    "start_time": "2023-02-03T09:45:09.172Z"
   },
   {
    "duration": 7,
    "start_time": "2023-02-03T09:45:09.190Z"
   },
   {
    "duration": 3,
    "start_time": "2023-02-03T09:45:09.199Z"
   },
   {
    "duration": 17,
    "start_time": "2023-02-03T09:45:09.204Z"
   },
   {
    "duration": 19,
    "start_time": "2023-02-03T09:45:09.223Z"
   },
   {
    "duration": 4,
    "start_time": "2023-02-03T09:45:09.246Z"
   },
   {
    "duration": 10,
    "start_time": "2023-02-03T09:45:09.251Z"
   },
   {
    "duration": 9,
    "start_time": "2023-02-03T09:45:09.263Z"
   },
   {
    "duration": 4,
    "start_time": "2023-02-03T09:45:09.274Z"
   },
   {
    "duration": 12,
    "start_time": "2023-02-03T09:45:09.281Z"
   },
   {
    "duration": 45,
    "start_time": "2023-02-03T09:45:09.295Z"
   },
   {
    "duration": 4,
    "start_time": "2023-02-03T09:45:09.342Z"
   },
   {
    "duration": 34,
    "start_time": "2023-02-03T09:45:09.347Z"
   },
   {
    "duration": 16,
    "start_time": "2023-02-03T09:45:09.383Z"
   },
   {
    "duration": 5,
    "start_time": "2023-02-03T09:45:09.401Z"
   },
   {
    "duration": 15,
    "start_time": "2023-02-03T09:45:09.407Z"
   },
   {
    "duration": 27,
    "start_time": "2023-02-03T09:45:09.424Z"
   },
   {
    "duration": 14,
    "start_time": "2023-02-03T09:48:06.907Z"
   },
   {
    "duration": 16,
    "start_time": "2023-02-03T09:49:13.937Z"
   },
   {
    "duration": 19,
    "start_time": "2023-02-03T09:55:08.299Z"
   },
   {
    "duration": 18,
    "start_time": "2023-02-03T09:55:40.588Z"
   },
   {
    "duration": 17,
    "start_time": "2023-02-03T09:57:12.769Z"
   },
   {
    "duration": 19,
    "start_time": "2023-02-03T10:00:13.676Z"
   },
   {
    "duration": 14,
    "start_time": "2023-02-03T10:01:31.236Z"
   },
   {
    "duration": 524,
    "start_time": "2023-02-03T10:09:03.530Z"
   },
   {
    "duration": 22,
    "start_time": "2023-02-03T10:09:04.057Z"
   },
   {
    "duration": 16,
    "start_time": "2023-02-03T10:09:04.081Z"
   },
   {
    "duration": 11,
    "start_time": "2023-02-03T10:09:04.099Z"
   },
   {
    "duration": 61,
    "start_time": "2023-02-03T10:09:04.112Z"
   },
   {
    "duration": 4,
    "start_time": "2023-02-03T10:09:04.175Z"
   },
   {
    "duration": 12,
    "start_time": "2023-02-03T10:09:04.181Z"
   },
   {
    "duration": 5,
    "start_time": "2023-02-03T10:09:04.194Z"
   },
   {
    "duration": 10,
    "start_time": "2023-02-03T10:09:04.201Z"
   },
   {
    "duration": 5,
    "start_time": "2023-02-03T10:09:04.240Z"
   },
   {
    "duration": 37,
    "start_time": "2023-02-03T10:09:04.247Z"
   },
   {
    "duration": 10,
    "start_time": "2023-02-03T10:09:04.285Z"
   },
   {
    "duration": 4,
    "start_time": "2023-02-03T10:09:04.296Z"
   },
   {
    "duration": 14,
    "start_time": "2023-02-03T10:09:04.302Z"
   },
   {
    "duration": 37,
    "start_time": "2023-02-03T10:09:04.317Z"
   },
   {
    "duration": 19,
    "start_time": "2023-02-03T10:09:04.355Z"
   },
   {
    "duration": 4,
    "start_time": "2023-02-03T10:09:04.376Z"
   },
   {
    "duration": 14,
    "start_time": "2023-02-03T10:09:04.382Z"
   },
   {
    "duration": 6,
    "start_time": "2023-02-03T10:09:04.398Z"
   },
   {
    "duration": 36,
    "start_time": "2023-02-03T10:09:04.406Z"
   },
   {
    "duration": 11,
    "start_time": "2023-02-03T10:09:04.444Z"
   },
   {
    "duration": 16,
    "start_time": "2023-02-03T10:09:04.456Z"
   },
   {
    "duration": 16,
    "start_time": "2023-02-03T10:09:04.473Z"
   },
   {
    "duration": 17,
    "start_time": "2023-02-03T10:09:04.491Z"
   },
   {
    "duration": 42,
    "start_time": "2023-02-03T10:09:04.509Z"
   },
   {
    "duration": 516,
    "start_time": "2023-02-03T10:09:16.026Z"
   },
   {
    "duration": 30,
    "start_time": "2023-02-03T10:09:16.544Z"
   },
   {
    "duration": 25,
    "start_time": "2023-02-03T10:09:16.576Z"
   },
   {
    "duration": 16,
    "start_time": "2023-02-03T10:09:16.604Z"
   },
   {
    "duration": 55,
    "start_time": "2023-02-03T10:09:16.622Z"
   },
   {
    "duration": 4,
    "start_time": "2023-02-03T10:09:16.679Z"
   },
   {
    "duration": 14,
    "start_time": "2023-02-03T10:09:16.684Z"
   },
   {
    "duration": 4,
    "start_time": "2023-02-03T10:09:16.699Z"
   },
   {
    "duration": 9,
    "start_time": "2023-02-03T10:09:16.705Z"
   },
   {
    "duration": 25,
    "start_time": "2023-02-03T10:09:16.717Z"
   },
   {
    "duration": 45,
    "start_time": "2023-02-03T10:09:16.744Z"
   },
   {
    "duration": 10,
    "start_time": "2023-02-03T10:09:16.791Z"
   },
   {
    "duration": 4,
    "start_time": "2023-02-03T10:09:16.802Z"
   },
   {
    "duration": 12,
    "start_time": "2023-02-03T10:09:16.808Z"
   },
   {
    "duration": 37,
    "start_time": "2023-02-03T10:09:16.822Z"
   },
   {
    "duration": 19,
    "start_time": "2023-02-03T10:09:16.861Z"
   },
   {
    "duration": 4,
    "start_time": "2023-02-03T10:09:16.881Z"
   },
   {
    "duration": 16,
    "start_time": "2023-02-03T10:09:16.887Z"
   },
   {
    "duration": 37,
    "start_time": "2023-02-03T10:09:16.904Z"
   },
   {
    "duration": 22,
    "start_time": "2023-02-03T10:09:16.944Z"
   },
   {
    "duration": 16,
    "start_time": "2023-02-03T10:09:16.968Z"
   },
   {
    "duration": 18,
    "start_time": "2023-02-03T10:09:16.986Z"
   },
   {
    "duration": 17,
    "start_time": "2023-02-03T10:09:17.005Z"
   },
   {
    "duration": 20,
    "start_time": "2023-02-03T10:09:17.024Z"
   },
   {
    "duration": 14,
    "start_time": "2023-02-03T10:09:17.046Z"
   },
   {
    "duration": 101,
    "start_time": "2023-02-03T10:10:31.782Z"
   },
   {
    "duration": 16,
    "start_time": "2023-02-03T10:11:57.415Z"
   },
   {
    "duration": 553,
    "start_time": "2023-02-03T10:14:01.456Z"
   },
   {
    "duration": 28,
    "start_time": "2023-02-03T10:14:02.012Z"
   },
   {
    "duration": 19,
    "start_time": "2023-02-03T10:14:02.042Z"
   },
   {
    "duration": 19,
    "start_time": "2023-02-03T10:14:02.064Z"
   },
   {
    "duration": 57,
    "start_time": "2023-02-03T10:14:02.084Z"
   },
   {
    "duration": 6,
    "start_time": "2023-02-03T10:14:02.143Z"
   },
   {
    "duration": 30,
    "start_time": "2023-02-03T10:14:02.151Z"
   },
   {
    "duration": 6,
    "start_time": "2023-02-03T10:14:02.183Z"
   },
   {
    "duration": 15,
    "start_time": "2023-02-03T10:14:02.192Z"
   },
   {
    "duration": 9,
    "start_time": "2023-02-03T10:14:02.211Z"
   },
   {
    "duration": 61,
    "start_time": "2023-02-03T10:14:02.222Z"
   },
   {
    "duration": 17,
    "start_time": "2023-02-03T10:14:02.286Z"
   },
   {
    "duration": 15,
    "start_time": "2023-02-03T10:14:02.304Z"
   },
   {
    "duration": 24,
    "start_time": "2023-02-03T10:14:02.321Z"
   },
   {
    "duration": 48,
    "start_time": "2023-02-03T10:14:02.347Z"
   },
   {
    "duration": 29,
    "start_time": "2023-02-03T10:14:02.398Z"
   },
   {
    "duration": 4,
    "start_time": "2023-02-03T10:14:02.430Z"
   },
   {
    "duration": 42,
    "start_time": "2023-02-03T10:14:02.440Z"
   },
   {
    "duration": 17,
    "start_time": "2023-02-03T10:14:02.484Z"
   },
   {
    "duration": 5,
    "start_time": "2023-02-03T10:14:02.504Z"
   },
   {
    "duration": 17,
    "start_time": "2023-02-03T10:14:02.511Z"
   },
   {
    "duration": 18,
    "start_time": "2023-02-03T10:14:02.530Z"
   },
   {
    "duration": 18,
    "start_time": "2023-02-03T10:14:02.551Z"
   },
   {
    "duration": 16,
    "start_time": "2023-02-03T10:14:02.570Z"
   },
   {
    "duration": 14,
    "start_time": "2023-02-03T10:14:02.588Z"
   }
  ],
  "colab": {
   "name": "dpp_template_part2.ipynb",
   "provenance": []
  },
  "kernelspec": {
   "display_name": "Python 3 (ipykernel)",
   "language": "python",
   "name": "python3"
  },
  "language_info": {
   "codemirror_mode": {
    "name": "ipython",
    "version": 3
   },
   "file_extension": ".py",
   "mimetype": "text/x-python",
   "name": "python",
   "nbconvert_exporter": "python",
   "pygments_lexer": "ipython3",
   "version": "3.9.5"
  },
  "toc": {
   "base_numbering": 1,
   "nav_menu": {
    "height": "389px",
    "width": "561px"
   },
   "number_sections": true,
   "sideBar": true,
   "skip_h1_title": true,
   "title_cell": "Table of Contents",
   "title_sidebar": "Contents",
   "toc_cell": false,
   "toc_position": {},
   "toc_section_display": true,
   "toc_window_display": false
  }
 },
 "nbformat": 4,
 "nbformat_minor": 5
}
