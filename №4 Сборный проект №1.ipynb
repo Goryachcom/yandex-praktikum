{
 "cells": [
  {
   "cell_type": "markdown",
   "metadata": {},
   "source": [
    "# Описание проекта"
   ]
  },
  {
   "cell_type": "markdown",
   "metadata": {},
   "source": [
    "Вы работаете в интернет-магазине «Стримчик», который продаёт по всему миру компьютерные игры. Из открытых источников доступны исторические данные о продажах игр, оценки пользователей и экспертов, жанры и платформы (например, Xbox или PlayStation). Вам нужно выявить определяющие успешность игры закономерности. Это позволит сделать ставку на потенциально популярный продукт и спланировать рекламные кампании."
   ]
  },
  {
   "cell_type": "markdown",
   "metadata": {},
   "source": [
    "Перед вами данные до 2016 года. Представим, что сейчас декабрь 2016 г., и вы планируете кампанию на 2017-й. Нужно отработать принцип работы с данными. Неважно, прогнозируете ли вы продажи на 2017 год по данным 2016-го или же 2027-й — по данным 2026 года."
   ]
  },
  {
   "cell_type": "markdown",
   "metadata": {},
   "source": [
    "В наборе данных попадается аббревиатура ESRB (Entertainment Software Rating Board) — это ассоциация, определяющая возрастной рейтинг компьютерных игр. ESRB оценивает игровой контент и присваивает ему подходящую возрастную категорию, например, «Для взрослых», «Для детей младшего возраста» или «Для подростков»."
   ]
  },
  {
   "cell_type": "markdown",
   "metadata": {},
   "source": [
    "# Описание данных"
   ]
  },
  {
   "cell_type": "markdown",
   "metadata": {},
   "source": [
    "- Name — название игры\n",
    "- Platform — платформа\n",
    "- Year_of_Release — год выпуска\n",
    "- Genre — жанр игры\n",
    "- NA_sales — продажи в Северной Америке (миллионы проданных копий)\n",
    "- EU_sales — продажи в Европе (миллионы проданных копий)\n",
    "- JP_sales — продажи в Японии (миллионы проданных копий)\n",
    "- Other_sales — продажи в других странах (миллионы проданных копий)\n",
    "- Critic_Score — оценка критиков (максимум 100)\n",
    "- User_Score — оценка пользователей (максимум 10)\n",
    "- Rating — рейтинг от организации ESRB (англ. Entertainment Software Rating Board). Эта ассоциация определяет рейтинг компьютерных игр и присваивает им подходящую возрастную категорию."
   ]
  },
  {
   "cell_type": "markdown",
   "metadata": {},
   "source": [
    "Данные за 2016 год могут быть неполными."
   ]
  },
  {
   "cell_type": "markdown",
   "metadata": {},
   "source": [
    "# Шаг 1. Изучение общей информации"
   ]
  },
  {
   "cell_type": "code",
   "execution_count": 1,
   "metadata": {},
   "outputs": [],
   "source": [
    "import pandas as pd\n",
    "import numpy as np\n",
    "import seaborn as sns\n",
    "from scipy import stats as st\n",
    "import math\n",
    "import matplotlib.pyplot as plt\n",
    "import warnings\n",
    "warnings.filterwarnings('ignore')"
   ]
  },
  {
   "cell_type": "code",
   "execution_count": 2,
   "metadata": {},
   "outputs": [],
   "source": [
    "try:\n",
    "    games = pd.read_csv('games.csv')\n",
    "    games\n",
    "except:\n",
    "    games = pd.read_csv('/datasets/games.csv')\n",
    "    games"
   ]
  },
  {
   "cell_type": "code",
   "execution_count": 3,
   "metadata": {},
   "outputs": [
    {
     "data": {
      "text/html": [
       "<div>\n",
       "<style scoped>\n",
       "    .dataframe tbody tr th:only-of-type {\n",
       "        vertical-align: middle;\n",
       "    }\n",
       "\n",
       "    .dataframe tbody tr th {\n",
       "        vertical-align: top;\n",
       "    }\n",
       "\n",
       "    .dataframe thead th {\n",
       "        text-align: right;\n",
       "    }\n",
       "</style>\n",
       "<table border=\"1\" class=\"dataframe\">\n",
       "  <thead>\n",
       "    <tr style=\"text-align: right;\">\n",
       "      <th></th>\n",
       "      <th>Name</th>\n",
       "      <th>Platform</th>\n",
       "      <th>Year_of_Release</th>\n",
       "      <th>Genre</th>\n",
       "      <th>NA_sales</th>\n",
       "      <th>EU_sales</th>\n",
       "      <th>JP_sales</th>\n",
       "      <th>Other_sales</th>\n",
       "      <th>Critic_Score</th>\n",
       "      <th>User_Score</th>\n",
       "      <th>Rating</th>\n",
       "    </tr>\n",
       "  </thead>\n",
       "  <tbody>\n",
       "    <tr>\n",
       "      <th>0</th>\n",
       "      <td>Wii Sports</td>\n",
       "      <td>Wii</td>\n",
       "      <td>2006.0</td>\n",
       "      <td>Sports</td>\n",
       "      <td>41.36</td>\n",
       "      <td>28.96</td>\n",
       "      <td>3.77</td>\n",
       "      <td>8.45</td>\n",
       "      <td>76.0</td>\n",
       "      <td>8</td>\n",
       "      <td>E</td>\n",
       "    </tr>\n",
       "    <tr>\n",
       "      <th>1</th>\n",
       "      <td>Super Mario Bros.</td>\n",
       "      <td>NES</td>\n",
       "      <td>1985.0</td>\n",
       "      <td>Platform</td>\n",
       "      <td>29.08</td>\n",
       "      <td>3.58</td>\n",
       "      <td>6.81</td>\n",
       "      <td>0.77</td>\n",
       "      <td>NaN</td>\n",
       "      <td>NaN</td>\n",
       "      <td>NaN</td>\n",
       "    </tr>\n",
       "    <tr>\n",
       "      <th>2</th>\n",
       "      <td>Mario Kart Wii</td>\n",
       "      <td>Wii</td>\n",
       "      <td>2008.0</td>\n",
       "      <td>Racing</td>\n",
       "      <td>15.68</td>\n",
       "      <td>12.76</td>\n",
       "      <td>3.79</td>\n",
       "      <td>3.29</td>\n",
       "      <td>82.0</td>\n",
       "      <td>8.3</td>\n",
       "      <td>E</td>\n",
       "    </tr>\n",
       "    <tr>\n",
       "      <th>3</th>\n",
       "      <td>Wii Sports Resort</td>\n",
       "      <td>Wii</td>\n",
       "      <td>2009.0</td>\n",
       "      <td>Sports</td>\n",
       "      <td>15.61</td>\n",
       "      <td>10.93</td>\n",
       "      <td>3.28</td>\n",
       "      <td>2.95</td>\n",
       "      <td>80.0</td>\n",
       "      <td>8</td>\n",
       "      <td>E</td>\n",
       "    </tr>\n",
       "    <tr>\n",
       "      <th>4</th>\n",
       "      <td>Pokemon Red/Pokemon Blue</td>\n",
       "      <td>GB</td>\n",
       "      <td>1996.0</td>\n",
       "      <td>Role-Playing</td>\n",
       "      <td>11.27</td>\n",
       "      <td>8.89</td>\n",
       "      <td>10.22</td>\n",
       "      <td>1.00</td>\n",
       "      <td>NaN</td>\n",
       "      <td>NaN</td>\n",
       "      <td>NaN</td>\n",
       "    </tr>\n",
       "  </tbody>\n",
       "</table>\n",
       "</div>"
      ],
      "text/plain": [
       "                       Name Platform  Year_of_Release         Genre  NA_sales  \\\n",
       "0                Wii Sports      Wii           2006.0        Sports     41.36   \n",
       "1         Super Mario Bros.      NES           1985.0      Platform     29.08   \n",
       "2            Mario Kart Wii      Wii           2008.0        Racing     15.68   \n",
       "3         Wii Sports Resort      Wii           2009.0        Sports     15.61   \n",
       "4  Pokemon Red/Pokemon Blue       GB           1996.0  Role-Playing     11.27   \n",
       "\n",
       "   EU_sales  JP_sales  Other_sales  Critic_Score User_Score Rating  \n",
       "0     28.96      3.77         8.45          76.0          8      E  \n",
       "1      3.58      6.81         0.77           NaN        NaN    NaN  \n",
       "2     12.76      3.79         3.29          82.0        8.3      E  \n",
       "3     10.93      3.28         2.95          80.0          8      E  \n",
       "4      8.89     10.22         1.00           NaN        NaN    NaN  "
      ]
     },
     "execution_count": 3,
     "metadata": {},
     "output_type": "execute_result"
    }
   ],
   "source": [
    "games.head()"
   ]
  },
  {
   "cell_type": "code",
   "execution_count": 4,
   "metadata": {},
   "outputs": [
    {
     "data": {
      "text/html": [
       "<div>\n",
       "<style scoped>\n",
       "    .dataframe tbody tr th:only-of-type {\n",
       "        vertical-align: middle;\n",
       "    }\n",
       "\n",
       "    .dataframe tbody tr th {\n",
       "        vertical-align: top;\n",
       "    }\n",
       "\n",
       "    .dataframe thead th {\n",
       "        text-align: right;\n",
       "    }\n",
       "</style>\n",
       "<table border=\"1\" class=\"dataframe\">\n",
       "  <thead>\n",
       "    <tr style=\"text-align: right;\">\n",
       "      <th></th>\n",
       "      <th>Name</th>\n",
       "      <th>Platform</th>\n",
       "      <th>Year_of_Release</th>\n",
       "      <th>Genre</th>\n",
       "      <th>NA_sales</th>\n",
       "      <th>EU_sales</th>\n",
       "      <th>JP_sales</th>\n",
       "      <th>Other_sales</th>\n",
       "      <th>Critic_Score</th>\n",
       "      <th>User_Score</th>\n",
       "      <th>Rating</th>\n",
       "    </tr>\n",
       "  </thead>\n",
       "  <tbody>\n",
       "    <tr>\n",
       "      <th>16710</th>\n",
       "      <td>Samurai Warriors: Sanada Maru</td>\n",
       "      <td>PS3</td>\n",
       "      <td>2016.0</td>\n",
       "      <td>Action</td>\n",
       "      <td>0.00</td>\n",
       "      <td>0.00</td>\n",
       "      <td>0.01</td>\n",
       "      <td>0.0</td>\n",
       "      <td>NaN</td>\n",
       "      <td>NaN</td>\n",
       "      <td>NaN</td>\n",
       "    </tr>\n",
       "    <tr>\n",
       "      <th>16711</th>\n",
       "      <td>LMA Manager 2007</td>\n",
       "      <td>X360</td>\n",
       "      <td>2006.0</td>\n",
       "      <td>Sports</td>\n",
       "      <td>0.00</td>\n",
       "      <td>0.01</td>\n",
       "      <td>0.00</td>\n",
       "      <td>0.0</td>\n",
       "      <td>NaN</td>\n",
       "      <td>NaN</td>\n",
       "      <td>NaN</td>\n",
       "    </tr>\n",
       "    <tr>\n",
       "      <th>16712</th>\n",
       "      <td>Haitaka no Psychedelica</td>\n",
       "      <td>PSV</td>\n",
       "      <td>2016.0</td>\n",
       "      <td>Adventure</td>\n",
       "      <td>0.00</td>\n",
       "      <td>0.00</td>\n",
       "      <td>0.01</td>\n",
       "      <td>0.0</td>\n",
       "      <td>NaN</td>\n",
       "      <td>NaN</td>\n",
       "      <td>NaN</td>\n",
       "    </tr>\n",
       "    <tr>\n",
       "      <th>16713</th>\n",
       "      <td>Spirits &amp; Spells</td>\n",
       "      <td>GBA</td>\n",
       "      <td>2003.0</td>\n",
       "      <td>Platform</td>\n",
       "      <td>0.01</td>\n",
       "      <td>0.00</td>\n",
       "      <td>0.00</td>\n",
       "      <td>0.0</td>\n",
       "      <td>NaN</td>\n",
       "      <td>NaN</td>\n",
       "      <td>NaN</td>\n",
       "    </tr>\n",
       "    <tr>\n",
       "      <th>16714</th>\n",
       "      <td>Winning Post 8 2016</td>\n",
       "      <td>PSV</td>\n",
       "      <td>2016.0</td>\n",
       "      <td>Simulation</td>\n",
       "      <td>0.00</td>\n",
       "      <td>0.00</td>\n",
       "      <td>0.01</td>\n",
       "      <td>0.0</td>\n",
       "      <td>NaN</td>\n",
       "      <td>NaN</td>\n",
       "      <td>NaN</td>\n",
       "    </tr>\n",
       "  </tbody>\n",
       "</table>\n",
       "</div>"
      ],
      "text/plain": [
       "                                Name Platform  Year_of_Release       Genre  \\\n",
       "16710  Samurai Warriors: Sanada Maru      PS3           2016.0      Action   \n",
       "16711               LMA Manager 2007     X360           2006.0      Sports   \n",
       "16712        Haitaka no Psychedelica      PSV           2016.0   Adventure   \n",
       "16713               Spirits & Spells      GBA           2003.0    Platform   \n",
       "16714            Winning Post 8 2016      PSV           2016.0  Simulation   \n",
       "\n",
       "       NA_sales  EU_sales  JP_sales  Other_sales  Critic_Score User_Score  \\\n",
       "16710      0.00      0.00      0.01          0.0           NaN        NaN   \n",
       "16711      0.00      0.01      0.00          0.0           NaN        NaN   \n",
       "16712      0.00      0.00      0.01          0.0           NaN        NaN   \n",
       "16713      0.01      0.00      0.00          0.0           NaN        NaN   \n",
       "16714      0.00      0.00      0.01          0.0           NaN        NaN   \n",
       "\n",
       "      Rating  \n",
       "16710    NaN  \n",
       "16711    NaN  \n",
       "16712    NaN  \n",
       "16713    NaN  \n",
       "16714    NaN  "
      ]
     },
     "execution_count": 4,
     "metadata": {},
     "output_type": "execute_result"
    }
   ],
   "source": [
    "games.tail()"
   ]
  },
  {
   "cell_type": "code",
   "execution_count": 5,
   "metadata": {},
   "outputs": [
    {
     "name": "stdout",
     "output_type": "stream",
     "text": [
      "<class 'pandas.core.frame.DataFrame'>\n",
      "RangeIndex: 16715 entries, 0 to 16714\n",
      "Data columns (total 11 columns):\n",
      " #   Column           Non-Null Count  Dtype  \n",
      "---  ------           --------------  -----  \n",
      " 0   Name             16713 non-null  object \n",
      " 1   Platform         16715 non-null  object \n",
      " 2   Year_of_Release  16446 non-null  float64\n",
      " 3   Genre            16713 non-null  object \n",
      " 4   NA_sales         16715 non-null  float64\n",
      " 5   EU_sales         16715 non-null  float64\n",
      " 6   JP_sales         16715 non-null  float64\n",
      " 7   Other_sales      16715 non-null  float64\n",
      " 8   Critic_Score     8137 non-null   float64\n",
      " 9   User_Score       10014 non-null  object \n",
      " 10  Rating           9949 non-null   object \n",
      "dtypes: float64(6), object(5)\n",
      "memory usage: 1.4+ MB\n"
     ]
    }
   ],
   "source": [
    "games.info()"
   ]
  },
  {
   "cell_type": "code",
   "execution_count": 6,
   "metadata": {},
   "outputs": [
    {
     "data": {
      "text/plain": [
       "0"
      ]
     },
     "execution_count": 6,
     "metadata": {},
     "output_type": "execute_result"
    }
   ],
   "source": [
    "# подсчёт явных дубликатов\n",
    "games.duplicated().sum()"
   ]
  },
  {
   "cell_type": "markdown",
   "metadata": {},
   "source": [
    "# Шаг 2. Подготовка данных"
   ]
  },
  {
   "cell_type": "code",
   "execution_count": 7,
   "metadata": {},
   "outputs": [],
   "source": [
    "#меняем столбцы\n",
    "games.rename(columns={'Year_of_Release':'year', 'NA_sales':'na', 'JP_sales':'jp', 'EU_sales':'eu', 'Other_sales':'other'}, inplace=True)\n",
    "\n",
    "#приводим к нижнему регистру\n",
    "games.columns = games.columns.str.lower()"
   ]
  },
  {
   "cell_type": "code",
   "execution_count": 8,
   "metadata": {},
   "outputs": [],
   "source": [
    "#меняем тип данных: year, critic_score, user_score\n",
    "games[['year']] = games[['year']].astype('Int64')\n",
    "#games[['critic_score']] = games[['critic_score']].astype('Int64')"
   ]
  },
  {
   "cell_type": "code",
   "execution_count": 9,
   "metadata": {
    "scrolled": true
   },
   "outputs": [
    {
     "data": {
      "text/plain": [
       "array(['8', nan, '8.3', '8.5', '6.6', '8.4', '8.6', '7.7', '6.3', '7.4',\n",
       "       '8.2', '9', '7.9', '8.1', '8.7', '7.1', '3.4', '5.3', '4.8', '3.2',\n",
       "       '8.9', '6.4', '7.8', '7.5', '2.6', '7.2', '9.2', '7', '7.3', '4.3',\n",
       "       '7.6', '5.7', '5', '9.1', '6.5', 'tbd', '8.8', '6.9', '9.4', '6.8',\n",
       "       '6.1', '6.7', '5.4', '4', '4.9', '4.5', '9.3', '6.2', '4.2', '6',\n",
       "       '3.7', '4.1', '5.8', '5.6', '5.5', '4.4', '4.6', '5.9', '3.9',\n",
       "       '3.1', '2.9', '5.2', '3.3', '4.7', '5.1', '3.5', '2.5', '1.9', '3',\n",
       "       '2.7', '2.2', '2', '9.5', '2.1', '3.6', '2.8', '1.8', '3.8', '0',\n",
       "       '1.6', '9.6', '2.4', '1.7', '1.1', '0.3', '1.5', '0.7', '1.2',\n",
       "       '2.3', '0.5', '1.3', '0.2', '0.6', '1.4', '0.9', '1', '9.7'],\n",
       "      dtype=object)"
      ]
     },
     "execution_count": 9,
     "metadata": {},
     "output_type": "execute_result"
    }
   ],
   "source": [
    "games['user_score'].unique()"
   ]
  },
  {
   "cell_type": "code",
   "execution_count": 10,
   "metadata": {},
   "outputs": [
    {
     "data": {
      "text/plain": [
       "array(['8', nan, '8.3', '8.5', '6.6', '8.4', '8.6', '7.7', '6.3', '7.4',\n",
       "       '8.2', '9', '7.9', '8.1', '8.7', '7.1', '3.4', '5.3', '4.8', '3.2',\n",
       "       '8.9', '6.4', '7.8', '7.5', '2.6', '7.2', '9.2', '7', '7.3', '4.3',\n",
       "       '7.6', '5.7', '5', '9.1', '6.5', '8.8', '6.9', '9.4', '6.8', '6.1',\n",
       "       '6.7', '5.4', '4', '4.9', '4.5', '9.3', '6.2', '4.2', '6', '3.7',\n",
       "       '4.1', '5.8', '5.6', '5.5', '4.4', '4.6', '5.9', '3.9', '3.1',\n",
       "       '2.9', '5.2', '3.3', '4.7', '5.1', '3.5', '2.5', '1.9', '3', '2.7',\n",
       "       '2.2', '2', '9.5', '2.1', '3.6', '2.8', '1.8', '3.8', '0', '1.6',\n",
       "       '9.6', '2.4', '1.7', '1.1', '0.3', '1.5', '0.7', '1.2', '2.3',\n",
       "       '0.5', '1.3', '0.2', '0.6', '1.4', '0.9', '1', '9.7'], dtype=object)"
      ]
     },
     "execution_count": 10,
     "metadata": {},
     "output_type": "execute_result"
    }
   ],
   "source": [
    "#'tbd' - подлежит определению. Можно просто заменить на nan\n",
    "games.loc[games['user_score'] == 'tbd', 'user_score'] = np.nan\n",
    "games['user_score'].unique()"
   ]
  },
  {
   "cell_type": "code",
   "execution_count": 11,
   "metadata": {},
   "outputs": [],
   "source": [
    "games['user_score'] = games['user_score'].astype('float')"
   ]
  },
  {
   "cell_type": "code",
   "execution_count": 12,
   "metadata": {},
   "outputs": [
    {
     "data": {
      "text/html": [
       "<div>\n",
       "<style scoped>\n",
       "    .dataframe tbody tr th:only-of-type {\n",
       "        vertical-align: middle;\n",
       "    }\n",
       "\n",
       "    .dataframe tbody tr th {\n",
       "        vertical-align: top;\n",
       "    }\n",
       "\n",
       "    .dataframe thead th {\n",
       "        text-align: right;\n",
       "    }\n",
       "</style>\n",
       "<table border=\"1\" class=\"dataframe\">\n",
       "  <thead>\n",
       "    <tr style=\"text-align: right;\">\n",
       "      <th></th>\n",
       "      <th>name</th>\n",
       "      <th>platform</th>\n",
       "      <th>year</th>\n",
       "      <th>genre</th>\n",
       "      <th>na</th>\n",
       "      <th>eu</th>\n",
       "      <th>jp</th>\n",
       "      <th>other</th>\n",
       "      <th>critic_score</th>\n",
       "      <th>user_score</th>\n",
       "      <th>rating</th>\n",
       "    </tr>\n",
       "  </thead>\n",
       "  <tbody>\n",
       "    <tr>\n",
       "      <th>659</th>\n",
       "      <td>NaN</td>\n",
       "      <td>GEN</td>\n",
       "      <td>1993</td>\n",
       "      <td>NaN</td>\n",
       "      <td>1.78</td>\n",
       "      <td>0.53</td>\n",
       "      <td>0.00</td>\n",
       "      <td>0.08</td>\n",
       "      <td>NaN</td>\n",
       "      <td>NaN</td>\n",
       "      <td>NaN</td>\n",
       "    </tr>\n",
       "    <tr>\n",
       "      <th>14244</th>\n",
       "      <td>NaN</td>\n",
       "      <td>GEN</td>\n",
       "      <td>1993</td>\n",
       "      <td>NaN</td>\n",
       "      <td>0.00</td>\n",
       "      <td>0.00</td>\n",
       "      <td>0.03</td>\n",
       "      <td>0.00</td>\n",
       "      <td>NaN</td>\n",
       "      <td>NaN</td>\n",
       "      <td>NaN</td>\n",
       "    </tr>\n",
       "  </tbody>\n",
       "</table>\n",
       "</div>"
      ],
      "text/plain": [
       "      name platform  year genre    na    eu    jp  other  critic_score  \\\n",
       "659    NaN      GEN  1993   NaN  1.78  0.53  0.00   0.08           NaN   \n",
       "14244  NaN      GEN  1993   NaN  0.00  0.00  0.03   0.00           NaN   \n",
       "\n",
       "       user_score rating  \n",
       "659           NaN    NaN  \n",
       "14244         NaN    NaN  "
      ]
     },
     "execution_count": 12,
     "metadata": {},
     "output_type": "execute_result"
    }
   ],
   "source": [
    "games[games['name'].isnull()]"
   ]
  },
  {
   "cell_type": "code",
   "execution_count": 13,
   "metadata": {},
   "outputs": [],
   "source": [
    "games = games.dropna(subset = ['name'])"
   ]
  },
  {
   "cell_type": "code",
   "execution_count": 14,
   "metadata": {},
   "outputs": [
    {
     "data": {
      "text/plain": [
       "name               0\n",
       "platform           0\n",
       "genre              0\n",
       "na                 0\n",
       "eu                 0\n",
       "jp                 0\n",
       "other              0\n",
       "year             269\n",
       "rating          6764\n",
       "critic_score    8576\n",
       "user_score      9123\n",
       "dtype: int64"
      ]
     },
     "execution_count": 14,
     "metadata": {},
     "output_type": "execute_result"
    }
   ],
   "source": [
    "games.isnull().sum(axis=0).sort_values()"
   ]
  },
  {
   "cell_type": "code",
   "execution_count": 15,
   "metadata": {},
   "outputs": [
    {
     "data": {
      "text/plain": [
       "array([76., nan, 82., 80., 89., 58., 87., 91., 61., 97., 95., 77., 88.,\n",
       "       83., 94., 93., 85., 86., 98., 96., 90., 84., 73., 74., 78., 92.,\n",
       "       71., 72., 68., 62., 49., 67., 81., 66., 56., 79., 70., 59., 64.,\n",
       "       75., 60., 63., 69., 50., 25., 42., 44., 55., 48., 57., 29., 47.,\n",
       "       65., 54., 20., 53., 37., 38., 33., 52., 30., 32., 43., 45., 51.,\n",
       "       40., 46., 39., 34., 35., 41., 36., 28., 31., 27., 26., 19., 23.,\n",
       "       24., 21., 17., 22., 13.])"
      ]
     },
     "execution_count": 15,
     "metadata": {},
     "output_type": "execute_result"
    }
   ],
   "source": [
    "games['critic_score'].unique()"
   ]
  },
  {
   "cell_type": "code",
   "execution_count": 16,
   "metadata": {},
   "outputs": [
    {
     "data": {
      "text/plain": [
       "array(['E', nan, 'M', 'T', 'E10+', 'K-A', 'AO', 'EC', 'RP'], dtype=object)"
      ]
     },
     "execution_count": 16,
     "metadata": {},
     "output_type": "execute_result"
    }
   ],
   "source": [
    "games['rating'].unique()"
   ]
  },
  {
   "cell_type": "code",
   "execution_count": 17,
   "metadata": {},
   "outputs": [
    {
     "data": {
      "text/plain": [
       "0        82.54\n",
       "1        40.24\n",
       "2        35.52\n",
       "3        32.77\n",
       "4        31.38\n",
       "         ...  \n",
       "16710     0.01\n",
       "16711     0.01\n",
       "16712     0.01\n",
       "16713     0.01\n",
       "16714     0.01\n",
       "Name: total_sales, Length: 16713, dtype: float64"
      ]
     },
     "execution_count": 17,
     "metadata": {},
     "output_type": "execute_result"
    }
   ],
   "source": [
    "#считаем суммы всех продаж\n",
    "games['total_sales'] = games['na'] + games['eu'] + games['jp'] + games['other']\n",
    "games['total_sales']"
   ]
  },
  {
   "cell_type": "code",
   "execution_count": 18,
   "metadata": {},
   "outputs": [
    {
     "name": "stdout",
     "output_type": "stream",
     "text": [
      "<class 'pandas.core.frame.DataFrame'>\n",
      "Int64Index: 16713 entries, 0 to 16714\n",
      "Data columns (total 12 columns):\n",
      " #   Column        Non-Null Count  Dtype  \n",
      "---  ------        --------------  -----  \n",
      " 0   name          16713 non-null  object \n",
      " 1   platform      16713 non-null  object \n",
      " 2   year          16444 non-null  Int64  \n",
      " 3   genre         16713 non-null  object \n",
      " 4   na            16713 non-null  float64\n",
      " 5   eu            16713 non-null  float64\n",
      " 6   jp            16713 non-null  float64\n",
      " 7   other         16713 non-null  float64\n",
      " 8   critic_score  8137 non-null   float64\n",
      " 9   user_score    7590 non-null   float64\n",
      " 10  rating        9949 non-null   object \n",
      " 11  total_sales   16713 non-null  float64\n",
      "dtypes: Int64(1), float64(7), object(4)\n",
      "memory usage: 1.7+ MB\n"
     ]
    }
   ],
   "source": [
    "games.info()"
   ]
  },
  {
   "cell_type": "markdown",
   "metadata": {},
   "source": [
    "**Объясняю пропуски**\n",
    "\n",
    "- name - удаляем строки в которых нет названий игр\n",
    "- platform - пропусков нет\n",
    "- year - пропусков небольшой %, поэтому можно просто оставить\n",
    "- genre - пропусков нет\n",
    "- critic_score - пропусков в районе 50%, скорее всего критики не оценили игру, оставляем как есть\n",
    "- user_score - пропусков в районе 50%, скорее всего пользователи не оценили игру, оствляем как есть\n",
    "- rating - пропусков также большой процент, из-за того что организации ESRB присваевает рейтинг играм для США и Канады, поэтому заменим пропуски на 'undefined'"
   ]
  },
  {
   "cell_type": "code",
   "execution_count": 19,
   "metadata": {},
   "outputs": [],
   "source": [
    "#заменим пропущенные значения на \"undefiend\"\n",
    "games['rating'] = games['rating'].fillna('undefined')"
   ]
  },
  {
   "cell_type": "markdown",
   "metadata": {},
   "source": [
    "# Вывод. Подготовка данных"
   ]
  },
  {
   "cell_type": "markdown",
   "metadata": {},
   "source": [
    "Получилось много пропусков в столбцах critic_score, user_score, rating. Скорее всего игры новые, поэтому их не успели оценить критики и пользователи. Эти данные нельзя просто так отбросить, они могут пригодиться для дальнейшего анализа."
   ]
  },
  {
   "cell_type": "markdown",
   "metadata": {},
   "source": [
    "# Шаг 3. Исследовательский анализ данных"
   ]
  },
  {
   "cell_type": "code",
   "execution_count": 20,
   "metadata": {},
   "outputs": [
    {
     "data": {
      "text/plain": [
       "2016"
      ]
     },
     "execution_count": 20,
     "metadata": {},
     "output_type": "execute_result"
    }
   ],
   "source": [
    "#определяем max год\n",
    "games['year'].max()"
   ]
  },
  {
   "cell_type": "code",
   "execution_count": 21,
   "metadata": {},
   "outputs": [
    {
     "data": {
      "text/plain": [
       "1980"
      ]
     },
     "execution_count": 21,
     "metadata": {},
     "output_type": "execute_result"
    }
   ],
   "source": [
    "#определяем min год\n",
    "games[games['year'] > 1900]['year'].min()"
   ]
  },
  {
   "cell_type": "code",
   "execution_count": 22,
   "metadata": {},
   "outputs": [
    {
     "data": {
      "text/plain": [
       "<AxesSubplot:>"
      ]
     },
     "execution_count": 22,
     "metadata": {},
     "output_type": "execute_result"
    },
    {
     "data": {
      "image/png": "[encoded data removed]",
      "text/plain": [
       "<Figure size 432x288 with 1 Axes>"
      ]
     },
     "metadata": {
      "needs_background": "light"
     },
     "output_type": "display_data"
    }
   ],
   "source": [
    "#сколько игр выпускалось в разные годы\n",
    "games['year'].hist(bins = 5, range=(1979, 2017))"
   ]
  },
  {
   "cell_type": "markdown",
   "metadata": {},
   "source": [
    "Игры начали выпускаться с 1980. Данные до 1994 года не так сильно важны."
   ]
  },
  {
   "cell_type": "code",
   "execution_count": 23,
   "metadata": {},
   "outputs": [
    {
     "data": {
      "text/plain": [
       "<AxesSubplot:>"
      ]
     },
     "execution_count": 23,
     "metadata": {},
     "output_type": "execute_result"
    },
    {
     "data": {
      "image/png": "[encoded data removed]",
      "text/plain": [
       "<Figure size 432x288 with 1 Axes>"
      ]
     },
     "metadata": {
      "needs_background": "light"
     },
     "output_type": "display_data"
    }
   ],
   "source": [
    "games['year'].hist(bins = 15, range=(2000, 2015))"
   ]
  },
  {
   "cell_type": "markdown",
   "metadata": {},
   "source": [
    "Самый важный период с 2005 по 2009 год. По графику видно резкий рост, в этот промежуток времени выпускалось наибольшее количество игр."
   ]
  },
  {
   "cell_type": "code",
   "execution_count": 24,
   "metadata": {},
   "outputs": [
    {
     "data": {
      "text/html": [
       "<div>\n",
       "<style scoped>\n",
       "    .dataframe tbody tr th:only-of-type {\n",
       "        vertical-align: middle;\n",
       "    }\n",
       "\n",
       "    .dataframe tbody tr th {\n",
       "        vertical-align: top;\n",
       "    }\n",
       "\n",
       "    .dataframe thead th {\n",
       "        text-align: right;\n",
       "    }\n",
       "</style>\n",
       "<table border=\"1\" class=\"dataframe\">\n",
       "  <thead>\n",
       "    <tr style=\"text-align: right;\">\n",
       "      <th></th>\n",
       "      <th>total_sales</th>\n",
       "    </tr>\n",
       "    <tr>\n",
       "      <th>platform</th>\n",
       "      <th></th>\n",
       "    </tr>\n",
       "  </thead>\n",
       "  <tbody>\n",
       "    <tr>\n",
       "      <th>PS2</th>\n",
       "      <td>1255.77</td>\n",
       "    </tr>\n",
       "    <tr>\n",
       "      <th>X360</th>\n",
       "      <td>971.42</td>\n",
       "    </tr>\n",
       "    <tr>\n",
       "      <th>PS3</th>\n",
       "      <td>939.65</td>\n",
       "    </tr>\n",
       "    <tr>\n",
       "      <th>Wii</th>\n",
       "      <td>907.51</td>\n",
       "    </tr>\n",
       "    <tr>\n",
       "      <th>DS</th>\n",
       "      <td>806.12</td>\n",
       "    </tr>\n",
       "    <tr>\n",
       "      <th>PS</th>\n",
       "      <td>730.86</td>\n",
       "    </tr>\n",
       "    <tr>\n",
       "      <th>GBA</th>\n",
       "      <td>317.85</td>\n",
       "    </tr>\n",
       "    <tr>\n",
       "      <th>PS4</th>\n",
       "      <td>314.14</td>\n",
       "    </tr>\n",
       "    <tr>\n",
       "      <th>PSP</th>\n",
       "      <td>294.05</td>\n",
       "    </tr>\n",
       "    <tr>\n",
       "      <th>PC</th>\n",
       "      <td>259.52</td>\n",
       "    </tr>\n",
       "    <tr>\n",
       "      <th>3DS</th>\n",
       "      <td>259.00</td>\n",
       "    </tr>\n",
       "    <tr>\n",
       "      <th>XB</th>\n",
       "      <td>257.74</td>\n",
       "    </tr>\n",
       "    <tr>\n",
       "      <th>GB</th>\n",
       "      <td>255.46</td>\n",
       "    </tr>\n",
       "    <tr>\n",
       "      <th>NES</th>\n",
       "      <td>251.05</td>\n",
       "    </tr>\n",
       "    <tr>\n",
       "      <th>N64</th>\n",
       "      <td>218.68</td>\n",
       "    </tr>\n",
       "    <tr>\n",
       "      <th>SNES</th>\n",
       "      <td>200.04</td>\n",
       "    </tr>\n",
       "    <tr>\n",
       "      <th>GC</th>\n",
       "      <td>198.93</td>\n",
       "    </tr>\n",
       "    <tr>\n",
       "      <th>XOne</th>\n",
       "      <td>159.32</td>\n",
       "    </tr>\n",
       "    <tr>\n",
       "      <th>2600</th>\n",
       "      <td>96.98</td>\n",
       "    </tr>\n",
       "    <tr>\n",
       "      <th>WiiU</th>\n",
       "      <td>82.19</td>\n",
       "    </tr>\n",
       "    <tr>\n",
       "      <th>PSV</th>\n",
       "      <td>54.07</td>\n",
       "    </tr>\n",
       "    <tr>\n",
       "      <th>SAT</th>\n",
       "      <td>33.59</td>\n",
       "    </tr>\n",
       "    <tr>\n",
       "      <th>GEN</th>\n",
       "      <td>28.35</td>\n",
       "    </tr>\n",
       "    <tr>\n",
       "      <th>DC</th>\n",
       "      <td>15.95</td>\n",
       "    </tr>\n",
       "    <tr>\n",
       "      <th>SCD</th>\n",
       "      <td>1.86</td>\n",
       "    </tr>\n",
       "    <tr>\n",
       "      <th>NG</th>\n",
       "      <td>1.44</td>\n",
       "    </tr>\n",
       "    <tr>\n",
       "      <th>WS</th>\n",
       "      <td>1.42</td>\n",
       "    </tr>\n",
       "    <tr>\n",
       "      <th>TG16</th>\n",
       "      <td>0.16</td>\n",
       "    </tr>\n",
       "    <tr>\n",
       "      <th>3DO</th>\n",
       "      <td>0.10</td>\n",
       "    </tr>\n",
       "    <tr>\n",
       "      <th>GG</th>\n",
       "      <td>0.04</td>\n",
       "    </tr>\n",
       "    <tr>\n",
       "      <th>PCFX</th>\n",
       "      <td>0.03</td>\n",
       "    </tr>\n",
       "  </tbody>\n",
       "</table>\n",
       "</div>"
      ],
      "text/plain": [
       "          total_sales\n",
       "platform             \n",
       "PS2           1255.77\n",
       "X360           971.42\n",
       "PS3            939.65\n",
       "Wii            907.51\n",
       "DS             806.12\n",
       "PS             730.86\n",
       "GBA            317.85\n",
       "PS4            314.14\n",
       "PSP            294.05\n",
       "PC             259.52\n",
       "3DS            259.00\n",
       "XB             257.74\n",
       "GB             255.46\n",
       "NES            251.05\n",
       "N64            218.68\n",
       "SNES           200.04\n",
       "GC             198.93\n",
       "XOne           159.32\n",
       "2600            96.98\n",
       "WiiU            82.19\n",
       "PSV             54.07\n",
       "SAT             33.59\n",
       "GEN             28.35\n",
       "DC              15.95\n",
       "SCD              1.86\n",
       "NG               1.44\n",
       "WS               1.42\n",
       "TG16             0.16\n",
       "3DO              0.10\n",
       "GG               0.04\n",
       "PCFX             0.03"
      ]
     },
     "execution_count": 24,
     "metadata": {},
     "output_type": "execute_result"
    }
   ],
   "source": [
    "#определяем платформы с наибольшими суммарными продажами\n",
    "platforms_ascending = games.pivot_table(index = 'platform', values = 'total_sales', aggfunc = 'sum').sort_values(by = 'total_sales', ascending = False)\n",
    "top10_platforms = platforms_ascending.reset_index()\n",
    "iloc_top10_platforms = top10_platforms.iloc[0:10]\n",
    "top10_platforms = iloc_top10_platforms['platform'].unique()\n",
    "platforms_ascending"
   ]
  },
  {
   "cell_type": "code",
   "execution_count": 25,
   "metadata": {
    "scrolled": false
   },
   "outputs": [
    {
     "data": {
      "image/png": "[encoded data removed]",
      "text/plain": [
       "<Figure size 1080x360 with 1 Axes>"
      ]
     },
     "metadata": {
      "needs_background": "light"
     },
     "output_type": "display_data"
    },
    {
     "data": {
      "image/png": "[encoded data removed]",
      "text/plain": [
       "<Figure size 1080x360 with 1 Axes>"
      ]
     },
     "metadata": {
      "needs_background": "light"
     },
     "output_type": "display_data"
    },
    {
     "data": {
      "image/png": "[encoded data removed]",
      "text/plain": [
       "<Figure size 1080x360 with 1 Axes>"
      ]
     },
     "metadata": {
      "needs_background": "light"
     },
     "output_type": "display_data"
    },
    {
     "data": {
      "image/png": "[encoded data removed]",
      "text/plain": [
       "<Figure size 1080x360 with 1 Axes>"
      ]
     },
     "metadata": {
      "needs_background": "light"
     },
     "output_type": "display_data"
    },
    {
     "data": {
      "image/png": "[encoded data removed]",
      "text/plain": [
       "<Figure size 1080x360 with 1 Axes>"
      ]
     },
     "metadata": {
      "needs_background": "light"
     },
     "output_type": "display_data"
    },
    {
     "data": {
      "image/png": "[encoded data removed]",
      "text/plain": [
       "<Figure size 1080x360 with 1 Axes>"
      ]
     },
     "metadata": {
      "needs_background": "light"
     },
     "output_type": "display_data"
    },
    {
     "data": {
      "image/png": "[encoded data removed]",
      "text/plain": [
       "<Figure size 1080x360 with 1 Axes>"
      ]
     },
     "metadata": {
      "needs_background": "light"
     },
     "output_type": "display_data"
    },
    {
     "data": {
      "image/png": "[encoded data removed]",
      "text/plain": [
       "<Figure size 1080x360 with 1 Axes>"
      ]
     },
     "metadata": {
      "needs_background": "light"
     },
     "output_type": "display_data"
    },
    {
     "data": {
      "image/png": "[encoded data removed]",
      "text/plain": [
       "<Figure size 1080x360 with 1 Axes>"
      ]
     },
     "metadata": {
      "needs_background": "light"
     },
     "output_type": "display_data"
    },
    {
     "data": {
      "image/png": "[encoded data removed]",
      "text/plain": [
       "<Figure size 1080x360 with 1 Axes>"
      ]
     },
     "metadata": {
      "needs_background": "light"
     },
     "output_type": "display_data"
    }
   ],
   "source": [
    "#распределение по годам\n",
    "for platform in top10_platforms:\n",
    "    games[games['platform'] == platform].pivot_table(index = 'year', values = 'total_sales', aggfunc = 'sum').plot(kind = 'bar', figsize=(15,5))\n",
    "    plt.title(platform)"
   ]
  },
  {
   "cell_type": "markdown",
   "metadata": {},
   "source": [
    "Большинство платформ появляется в начале 2000-x, особенно в 2006 году. Актуальный период 2006 - 2016."
   ]
  },
  {
   "cell_type": "code",
   "execution_count": 26,
   "metadata": {},
   "outputs": [],
   "source": [
    "#возьмем все данные после 2013 года\n",
    "actual_data = games.query('year >= 2013')"
   ]
  },
  {
   "cell_type": "code",
   "execution_count": 27,
   "metadata": {},
   "outputs": [],
   "source": [
    "#Сохраним в переменной games_top_6_platforms только последние поколения платформ и избавимся от выбросов\n",
    "list_of_top_6 = ['PS4','XOne','PC','WiiU','3DS', 'PSV']\n",
    "games_top_6_platforms = actual_data[actual_data['platform'].isin(['PS4','XOne','PC','WiiU','3DS', 'PSV'])]\n",
    "games_top_6_platforms = games_top_6_platforms[games_top_6_platforms['total_sales']<1.4]"
   ]
  },
  {
   "cell_type": "code",
   "execution_count": 28,
   "metadata": {},
   "outputs": [
    {
     "data": {
      "text/plain": [
       "count    1468.000000\n",
       "mean        0.202663\n",
       "std         0.273785\n",
       "min         0.010000\n",
       "25%         0.030000\n",
       "50%         0.080000\n",
       "75%         0.250000\n",
       "max         1.390000\n",
       "Name: total_sales, dtype: float64"
      ]
     },
     "execution_count": 28,
     "metadata": {},
     "output_type": "execute_result"
    }
   ],
   "source": [
    "games_top_6_platforms['total_sales'].describe()"
   ]
  },
  {
   "cell_type": "code",
   "execution_count": 29,
   "metadata": {},
   "outputs": [
    {
     "data": {
      "text/plain": [
       "<AxesSubplot:xlabel='year'>"
      ]
     },
     "execution_count": 29,
     "metadata": {},
     "output_type": "execute_result"
    },
    {
     "data": {
      "image/png": "[encoded data removed]",
      "text/plain": [
       "<Figure size 1080x720 with 1 Axes>"
      ]
     },
     "metadata": {
      "needs_background": "light"
     },
     "output_type": "display_data"
    }
   ],
   "source": [
    "#построим графики по количеству выпущенных игр за актуальный период на разных платформах\n",
    "actual_data.query('platform in @top10_platforms').pivot_table(index='year', columns = 'platform', values='total_sales', aggfunc='sum').plot(figsize=(15, 10))"
   ]
  },
  {
   "cell_type": "markdown",
   "metadata": {},
   "source": [
    "Игры на PS4 продаются гораздо чаще потому, что консоль появилась не так давно. Следовательно из-за появления новой версии продажи PS3 падают сильнее всего. По аналогии можно предположить, что тоже самое происходит и с X360. В 2013 году вышла XOne поэтому продажи X360 стали падать, пользователи хотят использовать новые версии консолей.\n",
    "- Потенциально прибыльные: PS4, XOne\n",
    "- Потенциально не будут продаваться: PS3, X360"
   ]
  },
  {
   "cell_type": "code",
   "execution_count": 30,
   "metadata": {},
   "outputs": [
    {
     "data": {
      "text/plain": [
       "<AxesSubplot:>"
      ]
     },
     "execution_count": 30,
     "metadata": {},
     "output_type": "execute_result"
    },
    {
     "data": {
      "image/png": "[encoded data removed]",
      "text/plain": [
       "<Figure size 432x288 with 1 Axes>"
      ]
     },
     "metadata": {
      "needs_background": "light"
     },
     "output_type": "display_data"
    }
   ],
   "source": [
    "#строим график «ящик с усами» по глобальным продажам игр\n",
    "actual_data.pivot_table(index = 'name', columns = 'platform', values = 'total_sales', aggfunc = 'sum').plot(kind='box', ylim=(0,1.9))"
   ]
  },
  {
   "cell_type": "markdown",
   "metadata": {},
   "source": [
    "Мы не учли консоль только набирающую популярность - XOne. На нее было выпущено не так много игр, поэтому мы ее не включили в предыдущий график, но игры этой консоли очень хорошо продаются, потому что медианные значения PS4 и XOne почти совпадают. Добавим XOne в список потенциально прибыльных."
   ]
  },
  {
   "cell_type": "markdown",
   "metadata": {},
   "source": [
    "**Посмотрим, как влияют на продажи внутри одной популярной платформы отзывы пользователей и критиков.**"
   ]
  },
  {
   "cell_type": "code",
   "execution_count": 31,
   "metadata": {},
   "outputs": [
    {
     "data": {
      "image/png": "[encoded data removed]",
      "text/plain": [
       "<Figure size 432x288 with 1 Axes>"
      ]
     },
     "metadata": {
      "needs_background": "light"
     },
     "output_type": "display_data"
    },
    {
     "data": {
      "image/png": "[encoded data removed]",
      "text/plain": [
       "<Figure size 432x288 with 1 Axes>"
      ]
     },
     "metadata": {
      "needs_background": "light"
     },
     "output_type": "display_data"
    }
   ],
   "source": [
    "#для платформы PS3 построим графики зависимости продаж от оценок пользователей и критиков\n",
    "PS3 = actual_data[actual_data['platform']=='PS3']\n",
    "PS3.plot(x='user_score', y='total_sales', kind='scatter', alpha=0.4, title='PS3')\n",
    "plt.show()\n",
    "PS3.plot(x='critic_score', y='total_sales', kind='scatter', alpha=0.4, title='PS3')\n",
    "plt.show()"
   ]
  },
  {
   "cell_type": "code",
   "execution_count": 32,
   "metadata": {},
   "outputs": [
    {
     "name": "stdout",
     "output_type": "stream",
     "text": [
      "Коэффицент Пирсона по оценкам пользователей:  0.0023944027357566925\n",
      "Коэффицент Пирсона по оценкам критиков:  0.3342853393371919\n"
     ]
    }
   ],
   "source": [
    "#посчитаем коэффициент корреляции Пирсона\n",
    "print('Коэффицент Пирсона по оценкам пользователей: ', PS3['user_score'].corr(PS3['total_sales']))\n",
    "print('Коэффицент Пирсона по оценкам критиков: ', PS3['critic_score'].corr(PS3['total_sales']))"
   ]
  },
  {
   "cell_type": "markdown",
   "metadata": {},
   "source": [
    "По диаграммам рассеяния видна прямая зависимость: чем больше рейтинг игры, тем выше ее продажи. При этом по коэффициентам Пирсона видно, что зависимость от оценок критиков сильней, чем от оценок пользователей."
   ]
  },
  {
   "cell_type": "code",
   "execution_count": 33,
   "metadata": {},
   "outputs": [
    {
     "data": {
      "image/png": "[encoded data removed]",
      "text/plain": [
       "<Figure size 432x288 with 1 Axes>"
      ]
     },
     "metadata": {
      "needs_background": "light"
     },
     "output_type": "display_data"
    },
    {
     "data": {
      "image/png": "[encoded data removed]",
      "text/plain": [
       "<Figure size 432x288 with 1 Axes>"
      ]
     },
     "metadata": {
      "needs_background": "light"
     },
     "output_type": "display_data"
    },
    {
     "name": "stdout",
     "output_type": "stream",
     "text": [
      "Коэффицент Пирсона по оценкам пользователей для PS4 : -0.031957110204556376\n",
      "Коэффицент Пирсона по оценкам критиков для PS4 : 0.40656790206178095\n"
     ]
    },
    {
     "data": {
      "image/png": "[encoded data removed]",
      "text/plain": [
       "<Figure size 432x288 with 1 Axes>"
      ]
     },
     "metadata": {
      "needs_background": "light"
     },
     "output_type": "display_data"
    },
    {
     "data": {
      "image/png": "[encoded data removed]",
      "text/plain": [
       "<Figure size 432x288 with 1 Axes>"
      ]
     },
     "metadata": {
      "needs_background": "light"
     },
     "output_type": "display_data"
    },
    {
     "name": "stdout",
     "output_type": "stream",
     "text": [
      "Коэффицент Пирсона по оценкам пользователей для WiiU : 0.4193304819266187\n",
      "Коэффицент Пирсона по оценкам критиков для WiiU : 0.3764149065423912\n"
     ]
    },
    {
     "data": {
      "image/png": "[encoded data removed]",
      "text/plain": [
       "<Figure size 432x288 with 1 Axes>"
      ]
     },
     "metadata": {
      "needs_background": "light"
     },
     "output_type": "display_data"
    },
    {
     "data": {
      "image/png": "[encoded data removed]",
      "text/plain": [
       "<Figure size 432x288 with 1 Axes>"
      ]
     },
     "metadata": {
      "needs_background": "light"
     },
     "output_type": "display_data"
    },
    {
     "name": "stdout",
     "output_type": "stream",
     "text": [
      "Коэффицент Пирсона по оценкам пользователей для XOne : -0.06892505328279414\n",
      "Коэффицент Пирсона по оценкам критиков для XOne : 0.4169983280084017\n"
     ]
    },
    {
     "data": {
      "image/png": "[encoded data removed]",
      "text/plain": [
       "<Figure size 432x288 with 1 Axes>"
      ]
     },
     "metadata": {
      "needs_background": "light"
     },
     "output_type": "display_data"
    },
    {
     "data": {
      "image/png": "[encoded data removed]",
      "text/plain": [
       "<Figure size 432x288 with 1 Axes>"
      ]
     },
     "metadata": {
      "needs_background": "light"
     },
     "output_type": "display_data"
    },
    {
     "name": "stdout",
     "output_type": "stream",
     "text": [
      "Коэффицент Пирсона по оценкам пользователей для 3DS : 0.24150411773563016\n",
      "Коэффицент Пирсона по оценкам критиков для 3DS : 0.3570566142288103\n"
     ]
    },
    {
     "data": {
      "image/png": "[encoded data removed]",
      "text/plain": [
       "<Figure size 432x288 with 1 Axes>"
      ]
     },
     "metadata": {
      "needs_background": "light"
     },
     "output_type": "display_data"
    },
    {
     "data": {
      "image/png": "[encoded data removed]",
      "text/plain": [
       "<Figure size 432x288 with 1 Axes>"
      ]
     },
     "metadata": {
      "needs_background": "light"
     },
     "output_type": "display_data"
    },
    {
     "name": "stdout",
     "output_type": "stream",
     "text": [
      "Коэффицент Пирсона по оценкам пользователей для X360 : -0.011742185147181342\n",
      "Коэффицент Пирсона по оценкам критиков для X360 : 0.3503445460228664\n"
     ]
    }
   ],
   "source": [
    "#посмотрим на эти зависимости для топ-5 платформ\n",
    "top5 = ['PS4', 'WiiU', 'XOne', '3DS', 'X360']\n",
    "\n",
    "for name in top5:\n",
    "    df = actual_data.query('platform == @name')\n",
    "    df.plot(x='user_score', y='total_sales', kind='scatter', alpha=0.4)\n",
    "    plt.title(name)\n",
    "    plt.show()\n",
    "    df.plot(x='critic_score', y='total_sales', kind='scatter', alpha=0.4)\n",
    "    plt.title(name)\n",
    "    plt.show()\n",
    "    print('Коэффицент Пирсона по оценкам пользователей для',name,':',df['user_score'].corr(df['total_sales']))\n",
    "    print('Коэффицент Пирсона по оценкам критиков для',name,':',df['critic_score'].corr(df['total_sales']))"
   ]
  },
  {
   "cell_type": "markdown",
   "metadata": {},
   "source": [
    "**Вывод:**"
   ]
  },
  {
   "cell_type": "markdown",
   "metadata": {},
   "source": [
    "У PS4, WiiU, XOne, 3DS, X360 наблюдается пусть и не сильная, но всё же, связь между оценками критиков и продажами. А связь между оценками пользователей и продажами слабая у всех платформ, либо её совсем нет. Покупатели прислушиваются больше к критикам, нежели к оценкам других пользователей."
   ]
  },
  {
   "cell_type": "markdown",
   "metadata": {},
   "source": [
    "**Определяем самые прибыльные жанры**"
   ]
  },
  {
   "cell_type": "code",
   "execution_count": 34,
   "metadata": {},
   "outputs": [
    {
     "data": {
      "text/plain": [
       "<AxesSubplot:ylabel='total_sales'>"
      ]
     },
     "execution_count": 34,
     "metadata": {},
     "output_type": "execute_result"
    },
    {
     "data": {
      "image/png": "[encoded data removed]",
      "text/plain": [
       "<Figure size 720x720 with 1 Axes>"
      ]
     },
     "metadata": {},
     "output_type": "display_data"
    }
   ],
   "source": [
    "#определяем самые популярные жанры\n",
    "actual_data.pivot_table(index = 'genre', values = 'total_sales', aggfunc = 'sum').sort_values(ascending=False, by = 'total_sales').plot(kind='pie', figsize=(10,10), y= 'total_sales')"
   ]
  },
  {
   "cell_type": "code",
   "execution_count": 35,
   "metadata": {},
   "outputs": [
    {
     "data": {
      "text/html": [
       "<div>\n",
       "<style scoped>\n",
       "    .dataframe tbody tr th:only-of-type {\n",
       "        vertical-align: middle;\n",
       "    }\n",
       "\n",
       "    .dataframe tbody tr th {\n",
       "        vertical-align: top;\n",
       "    }\n",
       "\n",
       "    .dataframe thead th {\n",
       "        text-align: right;\n",
       "    }\n",
       "</style>\n",
       "<table border=\"1\" class=\"dataframe\">\n",
       "  <thead>\n",
       "    <tr style=\"text-align: right;\">\n",
       "      <th></th>\n",
       "      <th>total_sales</th>\n",
       "    </tr>\n",
       "    <tr>\n",
       "      <th>genre</th>\n",
       "      <th></th>\n",
       "    </tr>\n",
       "  </thead>\n",
       "  <tbody>\n",
       "    <tr>\n",
       "      <th>Action</th>\n",
       "      <td>321.87</td>\n",
       "    </tr>\n",
       "    <tr>\n",
       "      <th>Shooter</th>\n",
       "      <td>232.98</td>\n",
       "    </tr>\n",
       "    <tr>\n",
       "      <th>Sports</th>\n",
       "      <td>150.65</td>\n",
       "    </tr>\n",
       "    <tr>\n",
       "      <th>Role-Playing</th>\n",
       "      <td>145.89</td>\n",
       "    </tr>\n",
       "    <tr>\n",
       "      <th>Misc</th>\n",
       "      <td>62.82</td>\n",
       "    </tr>\n",
       "    <tr>\n",
       "      <th>Platform</th>\n",
       "      <td>42.63</td>\n",
       "    </tr>\n",
       "    <tr>\n",
       "      <th>Racing</th>\n",
       "      <td>39.89</td>\n",
       "    </tr>\n",
       "    <tr>\n",
       "      <th>Fighting</th>\n",
       "      <td>35.31</td>\n",
       "    </tr>\n",
       "    <tr>\n",
       "      <th>Adventure</th>\n",
       "      <td>23.64</td>\n",
       "    </tr>\n",
       "    <tr>\n",
       "      <th>Simulation</th>\n",
       "      <td>21.76</td>\n",
       "    </tr>\n",
       "    <tr>\n",
       "      <th>Strategy</th>\n",
       "      <td>10.08</td>\n",
       "    </tr>\n",
       "    <tr>\n",
       "      <th>Puzzle</th>\n",
       "      <td>3.17</td>\n",
       "    </tr>\n",
       "  </tbody>\n",
       "</table>\n",
       "</div>"
      ],
      "text/plain": [
       "              total_sales\n",
       "genre                    \n",
       "Action             321.87\n",
       "Shooter            232.98\n",
       "Sports             150.65\n",
       "Role-Playing       145.89\n",
       "Misc                62.82\n",
       "Platform            42.63\n",
       "Racing              39.89\n",
       "Fighting            35.31\n",
       "Adventure           23.64\n",
       "Simulation          21.76\n",
       "Strategy            10.08\n",
       "Puzzle               3.17"
      ]
     },
     "execution_count": 35,
     "metadata": {},
     "output_type": "execute_result"
    }
   ],
   "source": [
    "#определяем самые прибыльные жанры\n",
    "actual_data.pivot_table(index = 'genre', values = 'total_sales', aggfunc = 'sum').sort_values(ascending=False, by = 'total_sales')"
   ]
  },
  {
   "cell_type": "markdown",
   "metadata": {},
   "source": [
    "- Самые прибыльные жанры - Action, Sports, Shooter\n",
    "- Наименее прибыльные жанры - Adventure, Puzzle, Strategy"
   ]
  },
  {
   "cell_type": "code",
   "execution_count": 36,
   "metadata": {},
   "outputs": [
    {
     "data": {
      "text/plain": [
       "<matplotlib.legend.Legend at 0x7f5e66de0f70>"
      ]
     },
     "execution_count": 36,
     "metadata": {},
     "output_type": "execute_result"
    },
    {
     "data": {
      "image/png": "[encoded data removed]",
      "text/plain": [
       "<Figure size 1080x360 with 1 Axes>"
      ]
     },
     "metadata": {
      "needs_background": "light"
     },
     "output_type": "display_data"
    }
   ],
   "source": [
    "ax = plt.gca()\n",
    "\n",
    "pivot = actual_data.groupby('genre').agg({'name': 'count', 'total_sales': 'sum'}).sort_values(by='name', ascending=False)\n",
    "\n",
    "plot1 = pivot['name']\n",
    "plot1.plot(kind='bar', figsize=(15,5), ec='black', ax=ax, width=0.2, position=1)\n",
    "\n",
    "plot2 = pivot['total_sales']\n",
    "plot2.plot(kind='bar', figsize=(15,5), ec='black', ax=ax, width=0.2, color='#97F0AA', position=0)\n",
    "\n",
    "ax.legend(['Количество продаж', 'Общая сумма продаж'])"
   ]
  },
  {
   "cell_type": "code",
   "execution_count": 37,
   "metadata": {},
   "outputs": [],
   "source": [
    "ratio_genres = actual_data.groupby('genre').agg({'name': 'count', 'total_sales': 'sum'}).sort_values(by='name', ascending=False)"
   ]
  },
  {
   "cell_type": "code",
   "execution_count": 38,
   "metadata": {},
   "outputs": [
    {
     "data": {
      "text/html": [
       "<div>\n",
       "<style scoped>\n",
       "    .dataframe tbody tr th:only-of-type {\n",
       "        vertical-align: middle;\n",
       "    }\n",
       "\n",
       "    .dataframe tbody tr th {\n",
       "        vertical-align: top;\n",
       "    }\n",
       "\n",
       "    .dataframe thead th {\n",
       "        text-align: right;\n",
       "    }\n",
       "</style>\n",
       "<table border=\"1\" class=\"dataframe\">\n",
       "  <thead>\n",
       "    <tr style=\"text-align: right;\">\n",
       "      <th></th>\n",
       "      <th>name</th>\n",
       "      <th>total_sales</th>\n",
       "      <th>ratio</th>\n",
       "    </tr>\n",
       "    <tr>\n",
       "      <th>genre</th>\n",
       "      <th></th>\n",
       "      <th></th>\n",
       "      <th></th>\n",
       "    </tr>\n",
       "  </thead>\n",
       "  <tbody>\n",
       "    <tr>\n",
       "      <th>Shooter</th>\n",
       "      <td>187</td>\n",
       "      <td>232.98</td>\n",
       "      <td>1.245882</td>\n",
       "    </tr>\n",
       "    <tr>\n",
       "      <th>Sports</th>\n",
       "      <td>214</td>\n",
       "      <td>150.65</td>\n",
       "      <td>0.703972</td>\n",
       "    </tr>\n",
       "    <tr>\n",
       "      <th>Platform</th>\n",
       "      <td>74</td>\n",
       "      <td>42.63</td>\n",
       "      <td>0.576081</td>\n",
       "    </tr>\n",
       "    <tr>\n",
       "      <th>Role-Playing</th>\n",
       "      <td>292</td>\n",
       "      <td>145.89</td>\n",
       "      <td>0.499623</td>\n",
       "    </tr>\n",
       "    <tr>\n",
       "      <th>Racing</th>\n",
       "      <td>85</td>\n",
       "      <td>39.89</td>\n",
       "      <td>0.469294</td>\n",
       "    </tr>\n",
       "    <tr>\n",
       "      <th>Fighting</th>\n",
       "      <td>80</td>\n",
       "      <td>35.31</td>\n",
       "      <td>0.441375</td>\n",
       "    </tr>\n",
       "    <tr>\n",
       "      <th>Action</th>\n",
       "      <td>766</td>\n",
       "      <td>321.87</td>\n",
       "      <td>0.420196</td>\n",
       "    </tr>\n",
       "    <tr>\n",
       "      <th>Misc</th>\n",
       "      <td>155</td>\n",
       "      <td>62.82</td>\n",
       "      <td>0.405290</td>\n",
       "    </tr>\n",
       "    <tr>\n",
       "      <th>Simulation</th>\n",
       "      <td>62</td>\n",
       "      <td>21.76</td>\n",
       "      <td>0.350968</td>\n",
       "    </tr>\n",
       "    <tr>\n",
       "      <th>Puzzle</th>\n",
       "      <td>17</td>\n",
       "      <td>3.17</td>\n",
       "      <td>0.186471</td>\n",
       "    </tr>\n",
       "    <tr>\n",
       "      <th>Strategy</th>\n",
       "      <td>56</td>\n",
       "      <td>10.08</td>\n",
       "      <td>0.180000</td>\n",
       "    </tr>\n",
       "    <tr>\n",
       "      <th>Adventure</th>\n",
       "      <td>245</td>\n",
       "      <td>23.64</td>\n",
       "      <td>0.096490</td>\n",
       "    </tr>\n",
       "  </tbody>\n",
       "</table>\n",
       "</div>"
      ],
      "text/plain": [
       "              name  total_sales     ratio\n",
       "genre                                    \n",
       "Shooter        187       232.98  1.245882\n",
       "Sports         214       150.65  0.703972\n",
       "Platform        74        42.63  0.576081\n",
       "Role-Playing   292       145.89  0.499623\n",
       "Racing          85        39.89  0.469294\n",
       "Fighting        80        35.31  0.441375\n",
       "Action         766       321.87  0.420196\n",
       "Misc           155        62.82  0.405290\n",
       "Simulation      62        21.76  0.350968\n",
       "Puzzle          17         3.17  0.186471\n",
       "Strategy        56        10.08  0.180000\n",
       "Adventure      245        23.64  0.096490"
      ]
     },
     "execution_count": 38,
     "metadata": {},
     "output_type": "execute_result"
    }
   ],
   "source": [
    "ratio_genres['ratio'] = ratio_genres['total_sales'] / ratio_genres['name']\n",
    "ratio_genres.sort_values(by='ratio', ascending=False)"
   ]
  },
  {
   "cell_type": "markdown",
   "metadata": {},
   "source": [
    "**Вывод:**\n",
    "- Самый прибылный жанр - Шутеры\n",
    "- Самый не прибыльный - Адвенчюры"
   ]
  },
  {
   "cell_type": "markdown",
   "metadata": {},
   "source": [
    "# Шаг 4. Портрет пользователя каждого региона"
   ]
  },
  {
   "cell_type": "code",
   "execution_count": 39,
   "metadata": {},
   "outputs": [
    {
     "data": {
      "text/plain": [
       "<AxesSubplot:xlabel='platform'>"
      ]
     },
     "execution_count": 39,
     "metadata": {},
     "output_type": "execute_result"
    },
    {
     "data": {
      "image/png": "[encoded data removed]",
      "text/plain": [
       "<Figure size 1080x360 with 1 Axes>"
      ]
     },
     "metadata": {
      "needs_background": "light"
     },
     "output_type": "display_data"
    }
   ],
   "source": [
    "#продажи в Северной Америке\n",
    "actual_data.pivot_table(index = 'platform', values = 'na', aggfunc = 'sum').sort_values(ascending=False, by = 'na').plot(kind = 'bar', figsize=(15,5))"
   ]
  },
  {
   "cell_type": "markdown",
   "metadata": {},
   "source": [
    "Пользователи Северной Америки больше всего предпочитают Xbox360, скорее всего из-за того, что консоль американская."
   ]
  },
  {
   "cell_type": "code",
   "execution_count": 40,
   "metadata": {},
   "outputs": [
    {
     "data": {
      "text/plain": [
       "<AxesSubplot:xlabel='platform'>"
      ]
     },
     "execution_count": 40,
     "metadata": {},
     "output_type": "execute_result"
    },
    {
     "data": {
      "image/png": "[encoded data removed]",
      "text/plain": [
       "<Figure size 1080x360 with 1 Axes>"
      ]
     },
     "metadata": {
      "needs_background": "light"
     },
     "output_type": "display_data"
    }
   ],
   "source": [
    "#продажи в Европе\n",
    "actual_data.pivot_table(index = 'platform', values = 'eu', aggfunc = 'sum').sort_values(ascending=False, by = 'eu').plot(kind = 'bar', figsize=(15,5))"
   ]
  },
  {
   "cell_type": "markdown",
   "metadata": {},
   "source": [
    "Пользователи из Европы выбирают японские платформы и американскую консоль Xbox360."
   ]
  },
  {
   "cell_type": "code",
   "execution_count": 41,
   "metadata": {},
   "outputs": [
    {
     "data": {
      "text/plain": [
       "<AxesSubplot:xlabel='platform'>"
      ]
     },
     "execution_count": 41,
     "metadata": {},
     "output_type": "execute_result"
    },
    {
     "data": {
      "image/png": "[encoded data removed]",
      "text/plain": [
       "<Figure size 1080x360 with 1 Axes>"
      ]
     },
     "metadata": {
      "needs_background": "light"
     },
     "output_type": "display_data"
    }
   ],
   "source": [
    "#продажи в Японии\n",
    "actual_data.pivot_table(index = 'platform', values = 'jp', aggfunc = 'sum').sort_values(ascending=False, by = 'jp').plot(kind = 'bar', figsize=(15,5))"
   ]
  },
  {
   "cell_type": "markdown",
   "metadata": {},
   "source": [
    "Подавляющее большинство японских пользователей играют в японские платформы."
   ]
  },
  {
   "cell_type": "code",
   "execution_count": 42,
   "metadata": {},
   "outputs": [
    {
     "data": {
      "text/html": [
       "<div>\n",
       "<style scoped>\n",
       "    .dataframe tbody tr th:only-of-type {\n",
       "        vertical-align: middle;\n",
       "    }\n",
       "\n",
       "    .dataframe tbody tr th {\n",
       "        vertical-align: top;\n",
       "    }\n",
       "\n",
       "    .dataframe thead th {\n",
       "        text-align: right;\n",
       "    }\n",
       "</style>\n",
       "<table border=\"1\" class=\"dataframe\">\n",
       "  <thead>\n",
       "    <tr style=\"text-align: right;\">\n",
       "      <th></th>\n",
       "      <th>na</th>\n",
       "    </tr>\n",
       "    <tr>\n",
       "      <th>genre</th>\n",
       "      <th></th>\n",
       "    </tr>\n",
       "  </thead>\n",
       "  <tbody>\n",
       "    <tr>\n",
       "      <th>Action</th>\n",
       "      <td>126.05</td>\n",
       "    </tr>\n",
       "    <tr>\n",
       "      <th>Shooter</th>\n",
       "      <td>109.74</td>\n",
       "    </tr>\n",
       "    <tr>\n",
       "      <th>Sports</th>\n",
       "      <td>65.27</td>\n",
       "    </tr>\n",
       "    <tr>\n",
       "      <th>Role-Playing</th>\n",
       "      <td>46.40</td>\n",
       "    </tr>\n",
       "    <tr>\n",
       "      <th>Misc</th>\n",
       "      <td>27.49</td>\n",
       "    </tr>\n",
       "    <tr>\n",
       "      <th>Platform</th>\n",
       "      <td>18.14</td>\n",
       "    </tr>\n",
       "    <tr>\n",
       "      <th>Fighting</th>\n",
       "      <td>15.55</td>\n",
       "    </tr>\n",
       "    <tr>\n",
       "      <th>Racing</th>\n",
       "      <td>12.96</td>\n",
       "    </tr>\n",
       "    <tr>\n",
       "      <th>Adventure</th>\n",
       "      <td>7.14</td>\n",
       "    </tr>\n",
       "    <tr>\n",
       "      <th>Simulation</th>\n",
       "      <td>4.86</td>\n",
       "    </tr>\n",
       "    <tr>\n",
       "      <th>Strategy</th>\n",
       "      <td>3.28</td>\n",
       "    </tr>\n",
       "    <tr>\n",
       "      <th>Puzzle</th>\n",
       "      <td>0.83</td>\n",
       "    </tr>\n",
       "  </tbody>\n",
       "</table>\n",
       "</div>"
      ],
      "text/plain": [
       "                  na\n",
       "genre               \n",
       "Action        126.05\n",
       "Shooter       109.74\n",
       "Sports         65.27\n",
       "Role-Playing   46.40\n",
       "Misc           27.49\n",
       "Platform       18.14\n",
       "Fighting       15.55\n",
       "Racing         12.96\n",
       "Adventure       7.14\n",
       "Simulation      4.86\n",
       "Strategy        3.28\n",
       "Puzzle          0.83"
      ]
     },
     "execution_count": 42,
     "metadata": {},
     "output_type": "execute_result"
    }
   ],
   "source": [
    "#популярные жанры в Северной Америке\n",
    "actual_data.pivot_table(index = 'genre', values = 'na', aggfunc = 'sum').sort_values(ascending=False, by = 'na')"
   ]
  },
  {
   "cell_type": "markdown",
   "metadata": {},
   "source": [
    "Популярные жанры в Северной Америке:\n",
    "- Action\n",
    "- Shooter\n",
    "- Sports"
   ]
  },
  {
   "cell_type": "code",
   "execution_count": 43,
   "metadata": {},
   "outputs": [
    {
     "data": {
      "text/html": [
       "<div>\n",
       "<style scoped>\n",
       "    .dataframe tbody tr th:only-of-type {\n",
       "        vertical-align: middle;\n",
       "    }\n",
       "\n",
       "    .dataframe tbody tr th {\n",
       "        vertical-align: top;\n",
       "    }\n",
       "\n",
       "    .dataframe thead th {\n",
       "        text-align: right;\n",
       "    }\n",
       "</style>\n",
       "<table border=\"1\" class=\"dataframe\">\n",
       "  <thead>\n",
       "    <tr style=\"text-align: right;\">\n",
       "      <th></th>\n",
       "      <th>eu</th>\n",
       "    </tr>\n",
       "    <tr>\n",
       "      <th>genre</th>\n",
       "      <th></th>\n",
       "    </tr>\n",
       "  </thead>\n",
       "  <tbody>\n",
       "    <tr>\n",
       "      <th>Action</th>\n",
       "      <td>118.13</td>\n",
       "    </tr>\n",
       "    <tr>\n",
       "      <th>Shooter</th>\n",
       "      <td>87.86</td>\n",
       "    </tr>\n",
       "    <tr>\n",
       "      <th>Sports</th>\n",
       "      <td>60.52</td>\n",
       "    </tr>\n",
       "    <tr>\n",
       "      <th>Role-Playing</th>\n",
       "      <td>36.97</td>\n",
       "    </tr>\n",
       "    <tr>\n",
       "      <th>Racing</th>\n",
       "      <td>20.19</td>\n",
       "    </tr>\n",
       "    <tr>\n",
       "      <th>Misc</th>\n",
       "      <td>20.04</td>\n",
       "    </tr>\n",
       "    <tr>\n",
       "      <th>Platform</th>\n",
       "      <td>15.58</td>\n",
       "    </tr>\n",
       "    <tr>\n",
       "      <th>Simulation</th>\n",
       "      <td>10.92</td>\n",
       "    </tr>\n",
       "    <tr>\n",
       "      <th>Fighting</th>\n",
       "      <td>8.55</td>\n",
       "    </tr>\n",
       "    <tr>\n",
       "      <th>Adventure</th>\n",
       "      <td>8.25</td>\n",
       "    </tr>\n",
       "    <tr>\n",
       "      <th>Strategy</th>\n",
       "      <td>4.22</td>\n",
       "    </tr>\n",
       "    <tr>\n",
       "      <th>Puzzle</th>\n",
       "      <td>1.00</td>\n",
       "    </tr>\n",
       "  </tbody>\n",
       "</table>\n",
       "</div>"
      ],
      "text/plain": [
       "                  eu\n",
       "genre               \n",
       "Action        118.13\n",
       "Shooter        87.86\n",
       "Sports         60.52\n",
       "Role-Playing   36.97\n",
       "Racing         20.19\n",
       "Misc           20.04\n",
       "Platform       15.58\n",
       "Simulation     10.92\n",
       "Fighting        8.55\n",
       "Adventure       8.25\n",
       "Strategy        4.22\n",
       "Puzzle          1.00"
      ]
     },
     "execution_count": 43,
     "metadata": {},
     "output_type": "execute_result"
    }
   ],
   "source": [
    "#популярные жанры в Европе\n",
    "actual_data.pivot_table(index = 'genre', values = 'eu', aggfunc = 'sum').sort_values(ascending=False, by = 'eu')"
   ]
  },
  {
   "cell_type": "markdown",
   "metadata": {},
   "source": [
    "Популярные жанры в Европе:\n",
    "- Action\n",
    "- Shooter\n",
    "- Sports"
   ]
  },
  {
   "cell_type": "code",
   "execution_count": 44,
   "metadata": {},
   "outputs": [
    {
     "data": {
      "text/html": [
       "<div>\n",
       "<style scoped>\n",
       "    .dataframe tbody tr th:only-of-type {\n",
       "        vertical-align: middle;\n",
       "    }\n",
       "\n",
       "    .dataframe tbody tr th {\n",
       "        vertical-align: top;\n",
       "    }\n",
       "\n",
       "    .dataframe thead th {\n",
       "        text-align: right;\n",
       "    }\n",
       "</style>\n",
       "<table border=\"1\" class=\"dataframe\">\n",
       "  <thead>\n",
       "    <tr style=\"text-align: right;\">\n",
       "      <th></th>\n",
       "      <th>jp</th>\n",
       "    </tr>\n",
       "    <tr>\n",
       "      <th>genre</th>\n",
       "      <th></th>\n",
       "    </tr>\n",
       "  </thead>\n",
       "  <tbody>\n",
       "    <tr>\n",
       "      <th>Role-Playing</th>\n",
       "      <td>51.04</td>\n",
       "    </tr>\n",
       "    <tr>\n",
       "      <th>Action</th>\n",
       "      <td>40.49</td>\n",
       "    </tr>\n",
       "    <tr>\n",
       "      <th>Misc</th>\n",
       "      <td>9.20</td>\n",
       "    </tr>\n",
       "    <tr>\n",
       "      <th>Fighting</th>\n",
       "      <td>7.65</td>\n",
       "    </tr>\n",
       "    <tr>\n",
       "      <th>Shooter</th>\n",
       "      <td>6.61</td>\n",
       "    </tr>\n",
       "    <tr>\n",
       "      <th>Adventure</th>\n",
       "      <td>5.82</td>\n",
       "    </tr>\n",
       "    <tr>\n",
       "      <th>Sports</th>\n",
       "      <td>5.41</td>\n",
       "    </tr>\n",
       "    <tr>\n",
       "      <th>Platform</th>\n",
       "      <td>4.79</td>\n",
       "    </tr>\n",
       "    <tr>\n",
       "      <th>Simulation</th>\n",
       "      <td>4.52</td>\n",
       "    </tr>\n",
       "    <tr>\n",
       "      <th>Racing</th>\n",
       "      <td>2.30</td>\n",
       "    </tr>\n",
       "    <tr>\n",
       "      <th>Strategy</th>\n",
       "      <td>1.77</td>\n",
       "    </tr>\n",
       "    <tr>\n",
       "      <th>Puzzle</th>\n",
       "      <td>1.18</td>\n",
       "    </tr>\n",
       "  </tbody>\n",
       "</table>\n",
       "</div>"
      ],
      "text/plain": [
       "                 jp\n",
       "genre              \n",
       "Role-Playing  51.04\n",
       "Action        40.49\n",
       "Misc           9.20\n",
       "Fighting       7.65\n",
       "Shooter        6.61\n",
       "Adventure      5.82\n",
       "Sports         5.41\n",
       "Platform       4.79\n",
       "Simulation     4.52\n",
       "Racing         2.30\n",
       "Strategy       1.77\n",
       "Puzzle         1.18"
      ]
     },
     "execution_count": 44,
     "metadata": {},
     "output_type": "execute_result"
    }
   ],
   "source": [
    "#популярные жанры в Японии\n",
    "actual_data.pivot_table(index = 'genre', values = 'jp', aggfunc = 'sum').sort_values(ascending=False, by = 'jp')"
   ]
  },
  {
   "cell_type": "markdown",
   "metadata": {},
   "source": [
    "Популярные жанры в Японии:\n",
    "- Role-Playing\n",
    "- Action\n",
    "- Misc"
   ]
  },
  {
   "cell_type": "markdown",
   "metadata": {},
   "source": [
    "Пользователи Северной Америки и Европы предпочитают одни и те же консоли и игры, поэтому популярны жанры - Action, Sports, Shooter. В Японии преобладает жанр - Role-Playing скорее всего из-за того, что у пользователей портативные консоли."
   ]
  },
  {
   "cell_type": "code",
   "execution_count": 45,
   "metadata": {},
   "outputs": [
    {
     "data": {
      "text/plain": [
       "16       17.09\n",
       "23       14.86\n",
       "31       12.25\n",
       "33       13.82\n",
       "42       10.65\n",
       "         ...  \n",
       "16703     0.01\n",
       "16707     0.01\n",
       "16710     0.01\n",
       "16712     0.01\n",
       "16714     0.01\n",
       "Name: region, Length: 2233, dtype: float64"
      ]
     },
     "execution_count": 45,
     "metadata": {},
     "output_type": "execute_result"
    }
   ],
   "source": [
    "#определяем влияние рейтинга ESRB в отдельных регионах\n",
    "actual_data['region'] = actual_data['eu'] + actual_data['jp'] + actual_data['na']\n",
    "actual_data['region']"
   ]
  },
  {
   "cell_type": "code",
   "execution_count": 46,
   "metadata": {},
   "outputs": [
    {
     "data": {
      "text/html": [
       "<div>\n",
       "<style scoped>\n",
       "    .dataframe tbody tr th:only-of-type {\n",
       "        vertical-align: middle;\n",
       "    }\n",
       "\n",
       "    .dataframe tbody tr th {\n",
       "        vertical-align: top;\n",
       "    }\n",
       "\n",
       "    .dataframe thead th {\n",
       "        text-align: right;\n",
       "    }\n",
       "</style>\n",
       "<table border=\"1\" class=\"dataframe\">\n",
       "  <thead>\n",
       "    <tr style=\"text-align: right;\">\n",
       "      <th></th>\n",
       "      <th>eu</th>\n",
       "      <th>jp</th>\n",
       "      <th>na</th>\n",
       "    </tr>\n",
       "    <tr>\n",
       "      <th>rating</th>\n",
       "      <th></th>\n",
       "      <th></th>\n",
       "      <th></th>\n",
       "    </tr>\n",
       "  </thead>\n",
       "  <tbody>\n",
       "    <tr>\n",
       "      <th>E</th>\n",
       "      <td>83.36</td>\n",
       "      <td>15.14</td>\n",
       "      <td>79.05</td>\n",
       "    </tr>\n",
       "    <tr>\n",
       "      <th>E10+</th>\n",
       "      <td>42.69</td>\n",
       "      <td>5.89</td>\n",
       "      <td>54.24</td>\n",
       "    </tr>\n",
       "    <tr>\n",
       "      <th>M</th>\n",
       "      <td>145.32</td>\n",
       "      <td>14.11</td>\n",
       "      <td>165.21</td>\n",
       "    </tr>\n",
       "    <tr>\n",
       "      <th>T</th>\n",
       "      <td>41.95</td>\n",
       "      <td>20.59</td>\n",
       "      <td>49.79</td>\n",
       "    </tr>\n",
       "    <tr>\n",
       "      <th>undefined</th>\n",
       "      <td>78.91</td>\n",
       "      <td>85.05</td>\n",
       "      <td>89.42</td>\n",
       "    </tr>\n",
       "  </tbody>\n",
       "</table>\n",
       "</div>"
      ],
      "text/plain": [
       "               eu     jp      na\n",
       "rating                          \n",
       "E           83.36  15.14   79.05\n",
       "E10+        42.69   5.89   54.24\n",
       "M          145.32  14.11  165.21\n",
       "T           41.95  20.59   49.79\n",
       "undefined   78.91  85.05   89.42"
      ]
     },
     "execution_count": 46,
     "metadata": {},
     "output_type": "execute_result"
    }
   ],
   "source": [
    "ESRB = actual_data.pivot_table(index = 'rating', values = ['eu','jp','na'], aggfunc = 'sum')\n",
    "ESRB"
   ]
  },
  {
   "cell_type": "markdown",
   "metadata": {},
   "source": [
    "**Вывод:**\n",
    "\n",
    "- В Европе самые высокие рейтинги у жанра M («Для взрослых»: Материалы игры не подходят для подростков младше 17 лет.). Игры, в которых жанры неопределенны на третьем месте. Остальные жанры менее популярные.\n",
    "\n",
    "- В Японии самые высокие рейтинги у игр, в которых жанры неопределенны, остальные жанры менее популярные. Скорее всего это связано с тем, что сам по себе рейтнг ESRB принадлежит американской компании, следовательно не все японские игры проходят его.\n",
    "\n",
    "- В Северной Америке самые высокие рейтинги у жанра M («Для взрослых»: Материалы игры не подходят для подростков младше 17 лет.), далее по популярности игры, в которых жанры неопределенны. Остальные жанры менее популярные."
   ]
  },
  {
   "cell_type": "markdown",
   "metadata": {},
   "source": [
    "# Шаг 5. Проверка гипотез"
   ]
  },
  {
   "cell_type": "markdown",
   "metadata": {},
   "source": [
    "**Гипотеза №1: Средние пользовательские рейтинги платформ Xbox One и PC одинаковые**"
   ]
  },
  {
   "cell_type": "markdown",
   "metadata": {},
   "source": [
    "Имеется утверждение, что рейтинги платформ Xbox One и PC одинаковые.\n",
    "\n",
    "Поскольку не важно в какую сторону проверяется значение рейтингов большую или меньшую, то тест двухсторонний. Буду применять специальный метод для проверки гипотезы о равенстве среднего двух генеральных совокупностей по взятым из них выборкам: scipy.stats.ttest_ind(array1, array2, equal_var)\n",
    "\n",
    "Параметры:\n",
    "- equal_var = False\n",
    "- alpha = .05\n",
    "\n",
    "Необходимо учесть, что нулевая гипотеза не может предполагать неравенство. Условие ее применения - это отсутствие различий, отсутствие влияния какого-либо фактора, но при этом она допускае наличие незначительных, очень малых случайных значений. Исходя из этого, гипотезы постоены так:\n",
    "- Нулевая гипотеза H0: Средние пользовательские рейтинги платформ Xbox One и PC - одинаковые\n",
    "- Альтернативная гипотеза H1: Средние пользовательские рейтинги платформ Xbox One и PC - разные"
   ]
  },
  {
   "cell_type": "code",
   "execution_count": 47,
   "metadata": {
    "scrolled": true
   },
   "outputs": [
    {
     "name": "stdout",
     "output_type": "stream",
     "text": [
      "Средний пользовательский рейтинг платформы Xbox One: 6.521428571428572\n",
      "Средний пользовательский рейтинг платформы PC 6.2696774193548395\n"
     ]
    }
   ],
   "source": [
    "XOne = actual_data[(actual_data['platform'] == 'XOne') &  (actual_data['user_score'] > 0)]['user_score']\n",
    "PC = actual_data[(actual_data['platform'] == 'PC') &  (actual_data['user_score'] > 0)]['user_score']\n",
    "print('Средний пользовательский рейтинг платформы Xbox One:', XOne.mean())\n",
    "print('Средний пользовательский рейтинг платформы PC', PC.mean())"
   ]
  },
  {
   "cell_type": "code",
   "execution_count": 48,
   "metadata": {},
   "outputs": [
    {
     "name": "stdout",
     "output_type": "stream",
     "text": [
      "p-значение: 0.14759594013430463\n",
      "Не получилось отвергнуть нулевую гипотезу\n"
     ]
    }
   ],
   "source": [
    "#выполним проверку гипотезы. Будем использовать метод ttest_ind\n",
    "#если p-value окажется меньше него - отвергнем гипотезу\n",
    "alpha = .05\n",
    "results = st.ttest_ind(XOne, PC, equal_var=False)\n",
    "print('p-значение:', results.pvalue)\n",
    "\n",
    "if (results.pvalue < alpha):\n",
    "    print(\"Отвергаем нулевую гипотезу\")\n",
    "else:\n",
    "    print(\"Не получилось отвергнуть нулевую гипотезу\")"
   ]
  },
  {
   "cell_type": "markdown",
   "metadata": {},
   "source": [
    "**Вывод**"
   ]
  },
  {
   "cell_type": "markdown",
   "metadata": {},
   "source": [
    "p-value показал, что вероятность случайно получить такое или большее различие равно почти 15%. Это явно слишком большая вероятность, чтобы делать вывод о значимом различии между средними пользовательскими рейтингами платформ Xbox One и PC. Не получилось отвергнуть нулевую гипотезу. "
   ]
  },
  {
   "cell_type": "markdown",
   "metadata": {},
   "source": [
    "**Гипотеза №2: Средние пользовательские рейтинги жанров Action и Sports разные**"
   ]
  },
  {
   "cell_type": "markdown",
   "metadata": {},
   "source": [
    "Имеется утверждение, что рейтинги жанров Action и Sports разные.\n",
    "\n",
    "Поскольку не важно в какую сторону проверяется значение рейтингов большую или меньшую, то тест двухсторонний. Буду применять специальный метод для проверки гипотезы о равенстве среднего двух генеральных совокупностей по взятым из них выборкам: scipy.stats.ttest_ind(array1, array2, equal_var)\n",
    "\n",
    "Параметры equal_var и alpha аналогичные, как и в предыдущем исследовании.\n",
    "\n",
    "Необходимо учесть, что нулевая гипотеза не может предполагать неравенство. Условие ее применения - это отсутствие различий, отсутствие влияния какого-либо фактора, но при этом она допускае наличие незначительных, очень малых случайных значений. Исходя из этого, гипотезы постоены так:\n",
    "- Нулевая гипотеза H0: Средние пользовательские рейтинги жанров Action и Sports равны\n",
    "- Альтернативная гипотеза H1: Средние пользовательские рейтинги жанров Action и Sports не равны"
   ]
  },
  {
   "cell_type": "code",
   "execution_count": 49,
   "metadata": {},
   "outputs": [
    {
     "name": "stdout",
     "output_type": "stream",
     "text": [
      "Средний пользовательский рейтинг жанра Action: 6.837532133676092\n",
      "Средний пользовательский рейтинг жанра Sports 5.238124999999999\n"
     ]
    }
   ],
   "source": [
    "Action = actual_data[(actual_data['genre'] == 'Action') &  (actual_data['user_score'] > 0)]['user_score']\n",
    "Sports = actual_data[(actual_data['genre'] == 'Sports') &  (actual_data['user_score'] > 0)]['user_score']\n",
    "print('Средний пользовательский рейтинг жанра Action:', Action.mean())\n",
    "print('Средний пользовательский рейтинг жанра Sports', Sports.mean())"
   ]
  },
  {
   "cell_type": "code",
   "execution_count": 50,
   "metadata": {},
   "outputs": [
    {
     "name": "stdout",
     "output_type": "stream",
     "text": [
      "p-значение: 1.4460039700704315e-20\n",
      "Отвергаем нулевую гипотезу\n"
     ]
    }
   ],
   "source": [
    "#выполним проверку гипотезы. Будем использовать метод ttest_ind\n",
    "#если p-value окажется меньше него - отвергнем гипотезу\n",
    "alpha = .05\n",
    "results = st.ttest_ind(Action, Sports, equal_var=False)\n",
    "print('p-значение:', results.pvalue)\n",
    "\n",
    "if (results.pvalue < alpha):\n",
    "    print(\"Отвергаем нулевую гипотезу\")\n",
    "else:\n",
    "    print(\"Не получилось отвергнуть нулевую гипотезу\")"
   ]
  },
  {
   "cell_type": "markdown",
   "metadata": {},
   "source": [
    "**Вывод**"
   ]
  },
  {
   "cell_type": "markdown",
   "metadata": {},
   "source": [
    "Отвергаем нулевую гипотезу. Таким образом, остается верным утверждение, что **средние пользовательские рейтинги жанров Action и Sports не равны**"
   ]
  },
  {
   "cell_type": "markdown",
   "metadata": {},
   "source": [
    "# Шаг 6. Общий вывод"
   ]
  },
  {
   "cell_type": "markdown",
   "metadata": {},
   "source": [
    "**Северная Америка**\n",
    "* Игры ESRB: M, undefined, E\n",
    "* Платформы: PS4, XOne, X360\n",
    "* Жанры: Action, Shooter, Sports, Role-Playing"
   ]
  },
  {
   "cell_type": "markdown",
   "metadata": {},
   "source": [
    "**Европа**\n",
    "* Игры ESRB: M, E, undefined\n",
    "* Платформы: PS3, Xbox360, Wii, DS\n",
    "* Жанры: Action, Shooter, Sports, Role-Playing"
   ]
  },
  {
   "cell_type": "markdown",
   "metadata": {},
   "source": [
    "**Япония**\n",
    "* Игры ESRB: undefined, T, E\n",
    "* Платформы: 3DS, PS3, PSV, PS4\n",
    "* Жанры: Role-Playing, Action, Misc"
   ]
  }
 ],
 "metadata": {
  "ExecuteTimeLog": [
   {
    "duration": 53,
    "start_time": "2023-02-04T01:41:44.308Z"
   },
   {
    "duration": 1269,
    "start_time": "2023-02-04T01:42:34.303Z"
   },
   {
    "duration": 228,
    "start_time": "2023-02-04T01:42:35.577Z"
   },
   {
    "duration": 91,
    "start_time": "2023-02-04T01:42:45.769Z"
   },
   {
    "duration": 19,
    "start_time": "2023-02-04T01:43:31.891Z"
   },
   {
    "duration": 17,
    "start_time": "2023-02-04T01:44:46.287Z"
   },
   {
    "duration": 16,
    "start_time": "2023-02-04T01:45:02.656Z"
   },
   {
    "duration": 17,
    "start_time": "2023-02-04T01:46:50.164Z"
   },
   {
    "duration": 15,
    "start_time": "2023-02-04T01:49:51.750Z"
   },
   {
    "duration": 3,
    "start_time": "2023-02-04T01:56:34.582Z"
   },
   {
    "duration": 104,
    "start_time": "2023-02-04T01:56:35.243Z"
   },
   {
    "duration": 15,
    "start_time": "2023-02-04T01:56:35.822Z"
   },
   {
    "duration": 14,
    "start_time": "2023-02-04T01:56:38.915Z"
   },
   {
    "duration": 15,
    "start_time": "2023-02-04T01:58:43.432Z"
   },
   {
    "duration": 15,
    "start_time": "2023-02-04T01:58:46.351Z"
   },
   {
    "duration": 4,
    "start_time": "2023-02-04T02:08:41.987Z"
   },
   {
    "duration": 13,
    "start_time": "2023-02-04T02:16:43.889Z"
   },
   {
    "duration": 8,
    "start_time": "2023-02-04T02:17:28.318Z"
   },
   {
    "duration": 5,
    "start_time": "2023-02-04T02:18:12.978Z"
   },
   {
    "duration": 6,
    "start_time": "2023-02-04T02:18:21.831Z"
   },
   {
    "duration": 6,
    "start_time": "2023-02-04T02:18:30.297Z"
   },
   {
    "duration": 3,
    "start_time": "2023-02-04T02:18:33.007Z"
   },
   {
    "duration": 6,
    "start_time": "2023-02-04T02:18:57.049Z"
   },
   {
    "duration": 8,
    "start_time": "2023-02-04T02:20:00.207Z"
   },
   {
    "duration": 7,
    "start_time": "2023-02-04T02:21:15.570Z"
   },
   {
    "duration": 4,
    "start_time": "2023-02-04T02:21:40.038Z"
   },
   {
    "duration": 16,
    "start_time": "2023-02-04T02:22:51.628Z"
   },
   {
    "duration": 9,
    "start_time": "2023-02-04T02:24:07.255Z"
   },
   {
    "duration": 9,
    "start_time": "2023-02-04T02:24:15.376Z"
   },
   {
    "duration": 8,
    "start_time": "2023-02-04T02:30:17.711Z"
   },
   {
    "duration": 7,
    "start_time": "2023-02-04T02:30:30.575Z"
   },
   {
    "duration": 8,
    "start_time": "2023-02-04T02:32:16.367Z"
   },
   {
    "duration": 14,
    "start_time": "2023-02-04T02:32:52.906Z"
   },
   {
    "duration": 4,
    "start_time": "2023-02-04T02:36:04.127Z"
   },
   {
    "duration": 5,
    "start_time": "2023-02-04T02:37:36.283Z"
   },
   {
    "duration": 1242,
    "start_time": "2023-02-04T02:37:49.807Z"
   },
   {
    "duration": 87,
    "start_time": "2023-02-04T02:37:51.051Z"
   },
   {
    "duration": 18,
    "start_time": "2023-02-04T02:37:51.140Z"
   },
   {
    "duration": 18,
    "start_time": "2023-02-04T02:37:51.160Z"
   },
   {
    "duration": 24,
    "start_time": "2023-02-04T02:37:51.181Z"
   },
   {
    "duration": 5,
    "start_time": "2023-02-04T02:37:51.207Z"
   },
   {
    "duration": 148,
    "start_time": "2023-02-04T02:37:51.214Z"
   },
   {
    "duration": 0,
    "start_time": "2023-02-04T02:37:51.364Z"
   },
   {
    "duration": 0,
    "start_time": "2023-02-04T02:37:51.365Z"
   },
   {
    "duration": 7,
    "start_time": "2023-02-04T02:38:42.326Z"
   },
   {
    "duration": 13,
    "start_time": "2023-02-04T02:38:57.086Z"
   },
   {
    "duration": 5,
    "start_time": "2023-02-04T02:39:16.479Z"
   },
   {
    "duration": 5,
    "start_time": "2023-02-04T02:41:11.171Z"
   },
   {
    "duration": 7,
    "start_time": "2023-02-04T02:41:24.097Z"
   },
   {
    "duration": 5,
    "start_time": "2023-02-04T02:41:35.268Z"
   },
   {
    "duration": 16,
    "start_time": "2023-02-04T02:44:26.879Z"
   },
   {
    "duration": 7,
    "start_time": "2023-02-04T02:45:24.840Z"
   },
   {
    "duration": 10,
    "start_time": "2023-02-04T02:45:37.159Z"
   },
   {
    "duration": 14,
    "start_time": "2023-02-04T02:46:24.903Z"
   },
   {
    "duration": 8,
    "start_time": "2023-02-04T02:47:38.000Z"
   },
   {
    "duration": 5,
    "start_time": "2023-02-04T02:48:20.680Z"
   },
   {
    "duration": 8,
    "start_time": "2023-02-04T02:49:17.340Z"
   },
   {
    "duration": 14,
    "start_time": "2023-02-04T02:51:09.304Z"
   },
   {
    "duration": 6,
    "start_time": "2023-02-04T03:04:08.052Z"
   },
   {
    "duration": 9,
    "start_time": "2023-02-04T03:05:08.492Z"
   },
   {
    "duration": 5,
    "start_time": "2023-02-04T03:05:15.032Z"
   },
   {
    "duration": 7,
    "start_time": "2023-02-04T03:05:17.389Z"
   },
   {
    "duration": 156,
    "start_time": "2023-02-04T03:07:16.970Z"
   },
   {
    "duration": 146,
    "start_time": "2023-02-04T03:10:08.778Z"
   },
   {
    "duration": 135,
    "start_time": "2023-02-04T03:10:26.997Z"
   },
   {
    "duration": 156,
    "start_time": "2023-02-04T03:12:31.338Z"
   },
   {
    "duration": 133,
    "start_time": "2023-02-04T03:12:58.878Z"
   },
   {
    "duration": 139,
    "start_time": "2023-02-04T03:13:10.764Z"
   },
   {
    "duration": 152,
    "start_time": "2023-02-04T03:13:18.864Z"
   },
   {
    "duration": 133,
    "start_time": "2023-02-04T03:13:28.423Z"
   },
   {
    "duration": 176,
    "start_time": "2023-02-04T03:13:49.417Z"
   },
   {
    "duration": 18,
    "start_time": "2023-02-04T03:20:31.414Z"
   },
   {
    "duration": 241,
    "start_time": "2023-02-04T03:22:21.616Z"
   },
   {
    "duration": 2007,
    "start_time": "2023-02-04T03:23:53.852Z"
   },
   {
    "duration": 10,
    "start_time": "2023-02-04T03:29:56.911Z"
   },
   {
    "duration": 301,
    "start_time": "2023-02-04T03:30:48.911Z"
   },
   {
    "duration": 291,
    "start_time": "2023-02-04T03:31:18.847Z"
   },
   {
    "duration": 219,
    "start_time": "2023-02-04T03:31:30.423Z"
   },
   {
    "duration": 388,
    "start_time": "2023-02-04T03:31:41.162Z"
   },
   {
    "duration": 261,
    "start_time": "2023-02-04T03:31:50.017Z"
   },
   {
    "duration": 96,
    "start_time": "2023-02-04T03:33:37.114Z"
   },
   {
    "duration": 282,
    "start_time": "2023-02-04T03:37:52.623Z"
   },
   {
    "duration": 319,
    "start_time": "2023-02-04T04:05:24.783Z"
   },
   {
    "duration": 291,
    "start_time": "2023-02-04T04:05:47.551Z"
   },
   {
    "duration": 426,
    "start_time": "2023-02-04T04:05:52.340Z"
   },
   {
    "duration": 319,
    "start_time": "2023-02-04T04:05:59.012Z"
   },
   {
    "duration": 399,
    "start_time": "2023-02-04T04:06:07.131Z"
   },
   {
    "duration": 146,
    "start_time": "2023-02-04T04:09:58.323Z"
   },
   {
    "duration": 135,
    "start_time": "2023-02-04T04:15:16.620Z"
   },
   {
    "duration": 11,
    "start_time": "2023-02-04T04:25:03.549Z"
   },
   {
    "duration": 1198,
    "start_time": "2023-02-04T04:25:13.752Z"
   },
   {
    "duration": 88,
    "start_time": "2023-02-04T04:25:14.953Z"
   },
   {
    "duration": 19,
    "start_time": "2023-02-04T04:25:15.042Z"
   },
   {
    "duration": 17,
    "start_time": "2023-02-04T04:25:15.064Z"
   },
   {
    "duration": 25,
    "start_time": "2023-02-04T04:25:15.082Z"
   },
   {
    "duration": 5,
    "start_time": "2023-02-04T04:25:15.109Z"
   },
   {
    "duration": 27,
    "start_time": "2023-02-04T04:25:15.115Z"
   },
   {
    "duration": 6,
    "start_time": "2023-02-04T04:25:15.144Z"
   },
   {
    "duration": 13,
    "start_time": "2023-02-04T04:25:15.151Z"
   },
   {
    "duration": 10,
    "start_time": "2023-02-04T04:25:15.167Z"
   },
   {
    "duration": 8,
    "start_time": "2023-02-04T04:25:15.179Z"
   },
   {
    "duration": 19,
    "start_time": "2023-02-04T04:25:15.189Z"
   },
   {
    "duration": 28,
    "start_time": "2023-02-04T04:25:15.210Z"
   },
   {
    "duration": 12,
    "start_time": "2023-02-04T04:25:15.239Z"
   },
   {
    "duration": 18,
    "start_time": "2023-02-04T04:25:15.252Z"
   },
   {
    "duration": 8,
    "start_time": "2023-02-04T04:25:15.272Z"
   },
   {
    "duration": 21,
    "start_time": "2023-02-04T04:25:15.282Z"
   },
   {
    "duration": 20,
    "start_time": "2023-02-04T04:25:15.305Z"
   },
   {
    "duration": 12,
    "start_time": "2023-02-04T04:25:15.327Z"
   },
   {
    "duration": 13,
    "start_time": "2023-02-04T04:25:15.341Z"
   },
   {
    "duration": 174,
    "start_time": "2023-02-04T04:25:15.355Z"
   },
   {
    "duration": 174,
    "start_time": "2023-02-04T04:25:15.531Z"
   },
   {
    "duration": 31,
    "start_time": "2023-02-04T04:25:15.708Z"
   },
   {
    "duration": 2065,
    "start_time": "2023-02-04T04:25:15.742Z"
   },
   {
    "duration": 7,
    "start_time": "2023-02-04T04:25:17.809Z"
   },
   {
    "duration": 443,
    "start_time": "2023-02-04T04:25:17.817Z"
   },
   {
    "duration": 289,
    "start_time": "2023-02-04T04:25:18.261Z"
   },
   {
    "duration": 137,
    "start_time": "2023-02-04T04:25:18.552Z"
   },
   {
    "duration": 9,
    "start_time": "2023-02-04T04:25:18.691Z"
   },
   {
    "duration": 9,
    "start_time": "2023-02-04T04:27:44.869Z"
   },
   {
    "duration": 14,
    "start_time": "2023-02-04T04:29:39.134Z"
   },
   {
    "duration": 12,
    "start_time": "2023-02-04T04:29:39.933Z"
   },
   {
    "duration": 12,
    "start_time": "2023-02-04T04:29:40.421Z"
   },
   {
    "duration": 367,
    "start_time": "2023-02-04T04:32:32.227Z"
   },
   {
    "duration": 351,
    "start_time": "2023-02-04T04:33:48.707Z"
   },
   {
    "duration": 352,
    "start_time": "2023-02-04T04:34:15.777Z"
   },
   {
    "duration": 16,
    "start_time": "2023-02-04T04:34:40.829Z"
   },
   {
    "duration": 293,
    "start_time": "2023-02-04T04:37:13.782Z"
   },
   {
    "duration": 304,
    "start_time": "2023-02-04T04:37:52.249Z"
   },
   {
    "duration": 1116,
    "start_time": "2023-02-04T04:38:39.636Z"
   },
   {
    "duration": 90,
    "start_time": "2023-02-04T04:38:40.754Z"
   },
   {
    "duration": 18,
    "start_time": "2023-02-04T04:38:40.845Z"
   },
   {
    "duration": 19,
    "start_time": "2023-02-04T04:38:40.865Z"
   },
   {
    "duration": 23,
    "start_time": "2023-02-04T04:38:40.887Z"
   },
   {
    "duration": 5,
    "start_time": "2023-02-04T04:38:40.912Z"
   },
   {
    "duration": 31,
    "start_time": "2023-02-04T04:38:40.919Z"
   },
   {
    "duration": 6,
    "start_time": "2023-02-04T04:38:40.952Z"
   },
   {
    "duration": 9,
    "start_time": "2023-02-04T04:38:40.960Z"
   },
   {
    "duration": 6,
    "start_time": "2023-02-04T04:38:40.971Z"
   },
   {
    "duration": 5,
    "start_time": "2023-02-04T04:38:40.979Z"
   },
   {
    "duration": 15,
    "start_time": "2023-02-04T04:38:40.986Z"
   },
   {
    "duration": 9,
    "start_time": "2023-02-04T04:38:41.003Z"
   },
   {
    "duration": 10,
    "start_time": "2023-02-04T04:38:41.037Z"
   },
   {
    "duration": 8,
    "start_time": "2023-02-04T04:38:41.049Z"
   },
   {
    "duration": 6,
    "start_time": "2023-02-04T04:38:41.058Z"
   },
   {
    "duration": 8,
    "start_time": "2023-02-04T04:38:41.066Z"
   },
   {
    "duration": 13,
    "start_time": "2023-02-04T04:38:41.075Z"
   },
   {
    "duration": 5,
    "start_time": "2023-02-04T04:38:41.090Z"
   },
   {
    "duration": 48,
    "start_time": "2023-02-04T04:38:41.096Z"
   },
   {
    "duration": 159,
    "start_time": "2023-02-04T04:38:41.145Z"
   },
   {
    "duration": 162,
    "start_time": "2023-02-04T04:38:41.305Z"
   },
   {
    "duration": 19,
    "start_time": "2023-02-04T04:38:41.468Z"
   },
   {
    "duration": 2024,
    "start_time": "2023-02-04T04:38:41.489Z"
   },
   {
    "duration": 8,
    "start_time": "2023-02-04T04:38:43.515Z"
   },
   {
    "duration": 418,
    "start_time": "2023-02-04T04:38:43.525Z"
   },
   {
    "duration": 303,
    "start_time": "2023-02-04T04:38:43.945Z"
   },
   {
    "duration": 136,
    "start_time": "2023-02-04T04:38:44.249Z"
   },
   {
    "duration": 10,
    "start_time": "2023-02-04T04:38:44.386Z"
   },
   {
    "duration": 13,
    "start_time": "2023-02-04T04:38:44.398Z"
   },
   {
    "duration": 25,
    "start_time": "2023-02-04T04:38:44.413Z"
   },
   {
    "duration": 12,
    "start_time": "2023-02-04T04:38:44.440Z"
   },
   {
    "duration": 333,
    "start_time": "2023-02-04T04:38:44.454Z"
   },
   {
    "duration": 14,
    "start_time": "2023-02-04T04:38:44.789Z"
   },
   {
    "duration": 1364,
    "start_time": "2023-02-05T01:18:38.197Z"
   },
   {
    "duration": 246,
    "start_time": "2023-02-05T01:18:39.563Z"
   },
   {
    "duration": 20,
    "start_time": "2023-02-05T01:18:39.811Z"
   },
   {
    "duration": 20,
    "start_time": "2023-02-05T01:18:39.833Z"
   },
   {
    "duration": 28,
    "start_time": "2023-02-05T01:18:39.856Z"
   },
   {
    "duration": 5,
    "start_time": "2023-02-05T01:18:39.886Z"
   },
   {
    "duration": 13,
    "start_time": "2023-02-05T01:18:39.893Z"
   },
   {
    "duration": 9,
    "start_time": "2023-02-05T01:18:39.908Z"
   },
   {
    "duration": 15,
    "start_time": "2023-02-05T01:18:39.919Z"
   },
   {
    "duration": 6,
    "start_time": "2023-02-05T01:18:39.936Z"
   },
   {
    "duration": 16,
    "start_time": "2023-02-05T01:18:39.943Z"
   },
   {
    "duration": 23,
    "start_time": "2023-02-05T01:18:39.960Z"
   },
   {
    "duration": 8,
    "start_time": "2023-02-05T01:18:39.984Z"
   },
   {
    "duration": 9,
    "start_time": "2023-02-05T01:18:39.995Z"
   },
   {
    "duration": 26,
    "start_time": "2023-02-05T01:18:40.005Z"
   },
   {
    "duration": 28,
    "start_time": "2023-02-05T01:18:40.033Z"
   },
   {
    "duration": 22,
    "start_time": "2023-02-05T01:18:40.063Z"
   },
   {
    "duration": 13,
    "start_time": "2023-02-05T01:18:40.086Z"
   },
   {
    "duration": 6,
    "start_time": "2023-02-05T01:18:40.101Z"
   },
   {
    "duration": 22,
    "start_time": "2023-02-05T01:18:40.109Z"
   },
   {
    "duration": 173,
    "start_time": "2023-02-05T01:18:40.132Z"
   },
   {
    "duration": 160,
    "start_time": "2023-02-05T01:18:40.306Z"
   },
   {
    "duration": 16,
    "start_time": "2023-02-05T01:18:40.468Z"
   },
   {
    "duration": 2047,
    "start_time": "2023-02-05T01:18:40.486Z"
   },
   {
    "duration": 10,
    "start_time": "2023-02-05T01:18:42.535Z"
   },
   {
    "duration": 397,
    "start_time": "2023-02-05T01:18:42.547Z"
   },
   {
    "duration": 293,
    "start_time": "2023-02-05T01:18:42.945Z"
   },
   {
    "duration": 131,
    "start_time": "2023-02-05T01:18:43.239Z"
   },
   {
    "duration": 16,
    "start_time": "2023-02-05T01:18:43.372Z"
   },
   {
    "duration": 32,
    "start_time": "2023-02-05T01:18:43.390Z"
   },
   {
    "duration": 19,
    "start_time": "2023-02-05T01:18:43.424Z"
   },
   {
    "duration": 14,
    "start_time": "2023-02-05T01:18:43.445Z"
   },
   {
    "duration": 348,
    "start_time": "2023-02-05T01:18:43.461Z"
   },
   {
    "duration": 13,
    "start_time": "2023-02-05T01:18:43.811Z"
   },
   {
    "duration": 219,
    "start_time": "2023-02-05T01:20:48.530Z"
   },
   {
    "duration": 211,
    "start_time": "2023-02-05T01:23:36.401Z"
   },
   {
    "duration": 210,
    "start_time": "2023-02-05T01:24:05.164Z"
   },
   {
    "duration": 216,
    "start_time": "2023-02-05T01:24:58.204Z"
   },
   {
    "duration": 223,
    "start_time": "2023-02-05T01:27:18.945Z"
   },
   {
    "duration": 217,
    "start_time": "2023-02-05T01:29:10.964Z"
   },
   {
    "duration": 14,
    "start_time": "2023-02-05T01:31:09.930Z"
   },
   {
    "duration": 14,
    "start_time": "2023-02-05T01:33:46.182Z"
   },
   {
    "duration": 17,
    "start_time": "2023-02-05T01:34:10.311Z"
   },
   {
    "duration": 7,
    "start_time": "2023-02-05T01:40:24.891Z"
   },
   {
    "duration": 15,
    "start_time": "2023-02-05T01:40:36.259Z"
   },
   {
    "duration": 11,
    "start_time": "2023-02-05T01:48:25.987Z"
   },
   {
    "duration": 7,
    "start_time": "2023-02-05T01:50:31.153Z"
   },
   {
    "duration": 6,
    "start_time": "2023-02-05T01:50:57.852Z"
   },
   {
    "duration": 12,
    "start_time": "2023-02-05T01:54:08.201Z"
   },
   {
    "duration": 5,
    "start_time": "2023-02-05T01:54:53.103Z"
   },
   {
    "duration": 1107,
    "start_time": "2023-02-05T01:57:17.972Z"
   },
   {
    "duration": 87,
    "start_time": "2023-02-05T01:57:19.081Z"
   },
   {
    "duration": 17,
    "start_time": "2023-02-05T01:57:19.170Z"
   },
   {
    "duration": 12,
    "start_time": "2023-02-05T01:57:19.189Z"
   },
   {
    "duration": 16,
    "start_time": "2023-02-05T01:57:19.203Z"
   },
   {
    "duration": 18,
    "start_time": "2023-02-05T01:57:19.220Z"
   },
   {
    "duration": 10,
    "start_time": "2023-02-05T01:57:19.240Z"
   },
   {
    "duration": 5,
    "start_time": "2023-02-05T01:57:19.251Z"
   },
   {
    "duration": 7,
    "start_time": "2023-02-05T01:57:19.258Z"
   },
   {
    "duration": 7,
    "start_time": "2023-02-05T01:57:19.268Z"
   },
   {
    "duration": 17,
    "start_time": "2023-02-05T01:57:19.276Z"
   },
   {
    "duration": 20,
    "start_time": "2023-02-05T01:57:19.295Z"
   },
   {
    "duration": 28,
    "start_time": "2023-02-05T01:57:19.317Z"
   },
   {
    "duration": 14,
    "start_time": "2023-02-05T01:57:19.347Z"
   },
   {
    "duration": 8,
    "start_time": "2023-02-05T01:57:19.363Z"
   },
   {
    "duration": 8,
    "start_time": "2023-02-05T01:57:19.372Z"
   },
   {
    "duration": 13,
    "start_time": "2023-02-05T01:57:19.381Z"
   },
   {
    "duration": 52,
    "start_time": "2023-02-05T01:57:19.396Z"
   },
   {
    "duration": 6,
    "start_time": "2023-02-05T01:57:19.450Z"
   },
   {
    "duration": 12,
    "start_time": "2023-02-05T01:57:19.459Z"
   },
   {
    "duration": 181,
    "start_time": "2023-02-05T01:57:19.474Z"
   },
   {
    "duration": 174,
    "start_time": "2023-02-05T01:57:19.657Z"
   },
   {
    "duration": 21,
    "start_time": "2023-02-05T01:57:19.832Z"
   },
   {
    "duration": 2046,
    "start_time": "2023-02-05T01:57:19.855Z"
   },
   {
    "duration": 7,
    "start_time": "2023-02-05T01:57:21.902Z"
   },
   {
    "duration": 426,
    "start_time": "2023-02-05T01:57:21.910Z"
   },
   {
    "duration": 462,
    "start_time": "2023-02-05T01:57:22.338Z"
   },
   {
    "duration": 137,
    "start_time": "2023-02-05T01:57:22.803Z"
   },
   {
    "duration": 10,
    "start_time": "2023-02-05T01:57:22.941Z"
   },
   {
    "duration": 15,
    "start_time": "2023-02-05T01:57:22.953Z"
   },
   {
    "duration": 17,
    "start_time": "2023-02-05T01:57:22.969Z"
   },
   {
    "duration": 11,
    "start_time": "2023-02-05T01:57:22.988Z"
   },
   {
    "duration": 366,
    "start_time": "2023-02-05T01:57:23.000Z"
   },
   {
    "duration": 17,
    "start_time": "2023-02-05T01:57:23.368Z"
   },
   {
    "duration": 245,
    "start_time": "2023-02-05T01:57:23.387Z"
   },
   {
    "duration": 207,
    "start_time": "2023-02-05T01:57:23.637Z"
   },
   {
    "duration": 222,
    "start_time": "2023-02-05T01:57:23.845Z"
   },
   {
    "duration": 14,
    "start_time": "2023-02-05T01:57:24.069Z"
   },
   {
    "duration": 20,
    "start_time": "2023-02-05T01:57:24.085Z"
   },
   {
    "duration": 18,
    "start_time": "2023-02-05T01:57:24.106Z"
   },
   {
    "duration": 15,
    "start_time": "2023-02-05T01:57:24.125Z"
   },
   {
    "duration": 17,
    "start_time": "2023-02-05T01:57:24.141Z"
   },
   {
    "duration": 9,
    "start_time": "2023-02-05T01:57:24.160Z"
   },
   {
    "duration": 9,
    "start_time": "2023-02-05T01:57:24.171Z"
   },
   {
    "duration": 19,
    "start_time": "2023-02-05T01:57:24.182Z"
   },
   {
    "duration": 6,
    "start_time": "2023-02-05T01:57:24.202Z"
   },
   {
    "duration": 1233,
    "start_time": "2023-02-05T02:44:22.256Z"
   },
   {
    "duration": 91,
    "start_time": "2023-02-05T02:44:23.492Z"
   },
   {
    "duration": 19,
    "start_time": "2023-02-05T02:44:23.585Z"
   },
   {
    "duration": 14,
    "start_time": "2023-02-05T02:44:23.606Z"
   },
   {
    "duration": 17,
    "start_time": "2023-02-05T02:44:23.622Z"
   },
   {
    "duration": 7,
    "start_time": "2023-02-05T02:44:23.640Z"
   },
   {
    "duration": 14,
    "start_time": "2023-02-05T02:44:23.648Z"
   },
   {
    "duration": 7,
    "start_time": "2023-02-05T02:44:23.664Z"
   },
   {
    "duration": 19,
    "start_time": "2023-02-05T02:44:23.672Z"
   },
   {
    "duration": 5,
    "start_time": "2023-02-05T02:44:23.694Z"
   },
   {
    "duration": 10,
    "start_time": "2023-02-05T02:44:23.701Z"
   },
   {
    "duration": 28,
    "start_time": "2023-02-05T02:44:23.713Z"
   },
   {
    "duration": 9,
    "start_time": "2023-02-05T02:44:23.743Z"
   },
   {
    "duration": 10,
    "start_time": "2023-02-05T02:44:23.753Z"
   },
   {
    "duration": 9,
    "start_time": "2023-02-05T02:44:23.765Z"
   },
   {
    "duration": 6,
    "start_time": "2023-02-05T02:44:23.776Z"
   },
   {
    "duration": 21,
    "start_time": "2023-02-05T02:44:23.784Z"
   },
   {
    "duration": 39,
    "start_time": "2023-02-05T02:44:23.807Z"
   },
   {
    "duration": 4,
    "start_time": "2023-02-05T02:44:23.848Z"
   },
   {
    "duration": 23,
    "start_time": "2023-02-05T02:44:23.854Z"
   },
   {
    "duration": 176,
    "start_time": "2023-02-05T02:44:23.879Z"
   },
   {
    "duration": 186,
    "start_time": "2023-02-05T02:44:24.057Z"
   },
   {
    "duration": 20,
    "start_time": "2023-02-05T02:44:24.245Z"
   },
   {
    "duration": 2057,
    "start_time": "2023-02-05T02:44:24.266Z"
   },
   {
    "duration": 18,
    "start_time": "2023-02-05T02:44:26.325Z"
   },
   {
    "duration": 407,
    "start_time": "2023-02-05T02:44:26.345Z"
   },
   {
    "duration": 302,
    "start_time": "2023-02-05T02:44:26.754Z"
   },
   {
    "duration": 143,
    "start_time": "2023-02-05T02:44:27.060Z"
   },
   {
    "duration": 11,
    "start_time": "2023-02-05T02:44:27.204Z"
   },
   {
    "duration": 28,
    "start_time": "2023-02-05T02:44:27.216Z"
   },
   {
    "duration": 12,
    "start_time": "2023-02-05T02:44:27.246Z"
   },
   {
    "duration": 20,
    "start_time": "2023-02-05T02:44:27.259Z"
   },
   {
    "duration": 376,
    "start_time": "2023-02-05T02:44:27.280Z"
   },
   {
    "duration": 15,
    "start_time": "2023-02-05T02:44:27.657Z"
   },
   {
    "duration": 244,
    "start_time": "2023-02-05T02:44:27.674Z"
   },
   {
    "duration": 262,
    "start_time": "2023-02-05T02:44:27.920Z"
   },
   {
    "duration": 255,
    "start_time": "2023-02-05T02:44:28.185Z"
   },
   {
    "duration": 17,
    "start_time": "2023-02-05T02:44:28.442Z"
   },
   {
    "duration": 33,
    "start_time": "2023-02-05T02:44:28.461Z"
   },
   {
    "duration": 28,
    "start_time": "2023-02-05T02:44:28.496Z"
   },
   {
    "duration": 21,
    "start_time": "2023-02-05T02:44:28.527Z"
   },
   {
    "duration": 26,
    "start_time": "2023-02-05T02:44:28.549Z"
   },
   {
    "duration": 14,
    "start_time": "2023-02-05T02:44:28.578Z"
   },
   {
    "duration": 15,
    "start_time": "2023-02-05T02:44:28.594Z"
   },
   {
    "duration": 22,
    "start_time": "2023-02-05T02:44:28.611Z"
   },
   {
    "duration": 13,
    "start_time": "2023-02-05T02:44:28.635Z"
   },
   {
    "duration": 1159,
    "start_time": "2023-02-05T03:01:05.615Z"
   },
   {
    "duration": 83,
    "start_time": "2023-02-05T03:01:06.776Z"
   },
   {
    "duration": 19,
    "start_time": "2023-02-05T03:01:06.860Z"
   },
   {
    "duration": 14,
    "start_time": "2023-02-05T03:01:06.881Z"
   },
   {
    "duration": 17,
    "start_time": "2023-02-05T03:01:06.898Z"
   },
   {
    "duration": 4,
    "start_time": "2023-02-05T03:01:06.916Z"
   },
   {
    "duration": 9,
    "start_time": "2023-02-05T03:01:06.938Z"
   },
   {
    "duration": 6,
    "start_time": "2023-02-05T03:01:06.949Z"
   },
   {
    "duration": 10,
    "start_time": "2023-02-05T03:01:06.956Z"
   },
   {
    "duration": 7,
    "start_time": "2023-02-05T03:01:06.968Z"
   },
   {
    "duration": 18,
    "start_time": "2023-02-05T03:01:06.977Z"
   },
   {
    "duration": 22,
    "start_time": "2023-02-05T03:01:06.996Z"
   },
   {
    "duration": 23,
    "start_time": "2023-02-05T03:01:07.020Z"
   },
   {
    "duration": 13,
    "start_time": "2023-02-05T03:01:07.046Z"
   },
   {
    "duration": 10,
    "start_time": "2023-02-05T03:01:07.061Z"
   },
   {
    "duration": 10,
    "start_time": "2023-02-05T03:01:07.072Z"
   },
   {
    "duration": 12,
    "start_time": "2023-02-05T03:01:07.084Z"
   },
   {
    "duration": 16,
    "start_time": "2023-02-05T03:01:07.098Z"
   },
   {
    "duration": 4,
    "start_time": "2023-02-05T03:01:07.138Z"
   },
   {
    "duration": 16,
    "start_time": "2023-02-05T03:01:07.143Z"
   },
   {
    "duration": 181,
    "start_time": "2023-02-05T03:01:07.160Z"
   },
   {
    "duration": 179,
    "start_time": "2023-02-05T03:01:07.343Z"
   },
   {
    "duration": 21,
    "start_time": "2023-02-05T03:01:07.524Z"
   },
   {
    "duration": 1964,
    "start_time": "2023-02-05T03:01:07.547Z"
   },
   {
    "duration": 6,
    "start_time": "2023-02-05T03:01:09.513Z"
   },
   {
    "duration": 375,
    "start_time": "2023-02-05T03:01:09.521Z"
   },
   {
    "duration": 284,
    "start_time": "2023-02-05T03:01:09.897Z"
   },
   {
    "duration": 138,
    "start_time": "2023-02-05T03:01:10.182Z"
   },
   {
    "duration": 24,
    "start_time": "2023-02-05T03:01:10.322Z"
   },
   {
    "duration": 13,
    "start_time": "2023-02-05T03:01:10.348Z"
   },
   {
    "duration": 11,
    "start_time": "2023-02-05T03:01:10.362Z"
   },
   {
    "duration": 11,
    "start_time": "2023-02-05T03:01:10.374Z"
   },
   {
    "duration": 354,
    "start_time": "2023-02-05T03:01:10.386Z"
   },
   {
    "duration": 15,
    "start_time": "2023-02-05T03:01:10.741Z"
   },
   {
    "duration": 218,
    "start_time": "2023-02-05T03:01:10.757Z"
   },
   {
    "duration": 220,
    "start_time": "2023-02-05T03:01:10.977Z"
   },
   {
    "duration": 222,
    "start_time": "2023-02-05T03:01:11.198Z"
   },
   {
    "duration": 23,
    "start_time": "2023-02-05T03:01:11.422Z"
   },
   {
    "duration": 22,
    "start_time": "2023-02-05T03:01:11.447Z"
   },
   {
    "duration": 13,
    "start_time": "2023-02-05T03:01:11.471Z"
   },
   {
    "duration": 7,
    "start_time": "2023-02-05T03:01:11.488Z"
   },
   {
    "duration": 20,
    "start_time": "2023-02-05T03:01:11.496Z"
   },
   {
    "duration": 10,
    "start_time": "2023-02-05T03:01:11.538Z"
   },
   {
    "duration": 20,
    "start_time": "2023-02-05T03:01:11.550Z"
   },
   {
    "duration": 11,
    "start_time": "2023-02-05T03:01:11.571Z"
   },
   {
    "duration": 6,
    "start_time": "2023-02-05T03:01:11.584Z"
   },
   {
    "duration": 1308,
    "start_time": "2023-02-13T13:23:32.074Z"
   },
   {
    "duration": 115,
    "start_time": "2023-02-13T13:23:33.384Z"
   },
   {
    "duration": 23,
    "start_time": "2023-02-13T13:23:33.500Z"
   },
   {
    "duration": 23,
    "start_time": "2023-02-13T13:23:33.525Z"
   },
   {
    "duration": 31,
    "start_time": "2023-02-13T13:23:33.550Z"
   },
   {
    "duration": 4,
    "start_time": "2023-02-13T13:23:33.582Z"
   },
   {
    "duration": 14,
    "start_time": "2023-02-13T13:23:33.588Z"
   },
   {
    "duration": 5,
    "start_time": "2023-02-13T13:23:33.603Z"
   },
   {
    "duration": 9,
    "start_time": "2023-02-13T13:23:33.609Z"
   },
   {
    "duration": 20,
    "start_time": "2023-02-13T13:23:33.621Z"
   },
   {
    "duration": 10,
    "start_time": "2023-02-13T13:23:33.643Z"
   },
   {
    "duration": 18,
    "start_time": "2023-02-13T13:23:33.655Z"
   },
   {
    "duration": 9,
    "start_time": "2023-02-13T13:23:33.674Z"
   },
   {
    "duration": 8,
    "start_time": "2023-02-13T13:23:33.684Z"
   },
   {
    "duration": 6,
    "start_time": "2023-02-13T13:23:33.694Z"
   },
   {
    "duration": 6,
    "start_time": "2023-02-13T13:23:33.702Z"
   },
   {
    "duration": 8,
    "start_time": "2023-02-13T13:23:33.709Z"
   },
   {
    "duration": 42,
    "start_time": "2023-02-13T13:23:33.718Z"
   },
   {
    "duration": 3,
    "start_time": "2023-02-13T13:23:33.762Z"
   },
   {
    "duration": 8,
    "start_time": "2023-02-13T13:23:33.766Z"
   },
   {
    "duration": 167,
    "start_time": "2023-02-13T13:23:33.776Z"
   },
   {
    "duration": 160,
    "start_time": "2023-02-13T13:23:33.944Z"
   },
   {
    "duration": 16,
    "start_time": "2023-02-13T13:23:34.106Z"
   },
   {
    "duration": 1950,
    "start_time": "2023-02-13T13:23:34.124Z"
   },
   {
    "duration": 8,
    "start_time": "2023-02-13T13:23:36.075Z"
   },
   {
    "duration": 402,
    "start_time": "2023-02-13T13:23:36.084Z"
   },
   {
    "duration": 295,
    "start_time": "2023-02-13T13:23:36.488Z"
   },
   {
    "duration": 141,
    "start_time": "2023-02-13T13:23:36.786Z"
   },
   {
    "duration": 10,
    "start_time": "2023-02-13T13:23:36.929Z"
   },
   {
    "duration": 13,
    "start_time": "2023-02-13T13:23:36.952Z"
   },
   {
    "duration": 12,
    "start_time": "2023-02-13T13:23:36.966Z"
   },
   {
    "duration": 23,
    "start_time": "2023-02-13T13:23:36.979Z"
   },
   {
    "duration": 377,
    "start_time": "2023-02-13T13:23:37.004Z"
   },
   {
    "duration": 19,
    "start_time": "2023-02-13T13:23:37.384Z"
   },
   {
    "duration": 296,
    "start_time": "2023-02-13T13:23:37.405Z"
   },
   {
    "duration": 223,
    "start_time": "2023-02-13T13:23:37.702Z"
   },
   {
    "duration": 209,
    "start_time": "2023-02-13T13:23:37.927Z"
   },
   {
    "duration": 18,
    "start_time": "2023-02-13T13:23:38.138Z"
   },
   {
    "duration": 140,
    "start_time": "2023-02-13T13:23:38.157Z"
   },
   {
    "duration": 15,
    "start_time": "2023-02-13T13:23:38.298Z"
   },
   {
    "duration": 29,
    "start_time": "2023-02-13T13:23:38.315Z"
   },
   {
    "duration": 22,
    "start_time": "2023-02-13T13:23:38.346Z"
   },
   {
    "duration": 10,
    "start_time": "2023-02-13T13:23:38.374Z"
   },
   {
    "duration": 8,
    "start_time": "2023-02-13T13:23:38.385Z"
   },
   {
    "duration": 12,
    "start_time": "2023-02-13T13:23:38.395Z"
   },
   {
    "duration": 5,
    "start_time": "2023-02-13T13:23:38.408Z"
   },
   {
    "duration": 1162,
    "start_time": "2023-02-13T13:36:15.590Z"
   },
   {
    "duration": 100,
    "start_time": "2023-02-13T13:36:16.755Z"
   },
   {
    "duration": 22,
    "start_time": "2023-02-13T13:36:16.857Z"
   },
   {
    "duration": 17,
    "start_time": "2023-02-13T13:36:16.881Z"
   },
   {
    "duration": 28,
    "start_time": "2023-02-13T13:36:16.901Z"
   },
   {
    "duration": 5,
    "start_time": "2023-02-13T13:36:16.931Z"
   },
   {
    "duration": 20,
    "start_time": "2023-02-13T13:36:16.937Z"
   },
   {
    "duration": 11,
    "start_time": "2023-02-13T13:36:16.958Z"
   },
   {
    "duration": 12,
    "start_time": "2023-02-13T13:36:16.971Z"
   },
   {
    "duration": 6,
    "start_time": "2023-02-13T13:36:16.985Z"
   },
   {
    "duration": 7,
    "start_time": "2023-02-13T13:36:16.993Z"
   },
   {
    "duration": 16,
    "start_time": "2023-02-13T13:36:17.002Z"
   },
   {
    "duration": 8,
    "start_time": "2023-02-13T13:36:17.020Z"
   },
   {
    "duration": 8,
    "start_time": "2023-02-13T13:36:17.031Z"
   },
   {
    "duration": 7,
    "start_time": "2023-02-13T13:36:17.041Z"
   },
   {
    "duration": 12,
    "start_time": "2023-02-13T13:36:17.049Z"
   },
   {
    "duration": 33,
    "start_time": "2023-02-13T13:36:17.063Z"
   },
   {
    "duration": 12,
    "start_time": "2023-02-13T13:36:17.097Z"
   },
   {
    "duration": 3,
    "start_time": "2023-02-13T13:36:17.111Z"
   },
   {
    "duration": 11,
    "start_time": "2023-02-13T13:36:17.116Z"
   },
   {
    "duration": 173,
    "start_time": "2023-02-13T13:36:17.128Z"
   },
   {
    "duration": 157,
    "start_time": "2023-02-13T13:36:17.302Z"
   },
   {
    "duration": 17,
    "start_time": "2023-02-13T13:36:17.461Z"
   },
   {
    "duration": 1971,
    "start_time": "2023-02-13T13:36:17.480Z"
   },
   {
    "duration": 6,
    "start_time": "2023-02-13T13:36:19.453Z"
   },
   {
    "duration": 363,
    "start_time": "2023-02-13T13:36:19.461Z"
   },
   {
    "duration": 307,
    "start_time": "2023-02-13T13:36:19.826Z"
   },
   {
    "duration": 135,
    "start_time": "2023-02-13T13:36:20.135Z"
   },
   {
    "duration": 10,
    "start_time": "2023-02-13T13:36:20.271Z"
   },
   {
    "duration": 29,
    "start_time": "2023-02-13T13:36:20.291Z"
   },
   {
    "duration": 23,
    "start_time": "2023-02-13T13:36:20.322Z"
   },
   {
    "duration": 20,
    "start_time": "2023-02-13T13:36:20.347Z"
   },
   {
    "duration": 350,
    "start_time": "2023-02-13T13:36:20.369Z"
   },
   {
    "duration": 13,
    "start_time": "2023-02-13T13:36:20.721Z"
   },
   {
    "duration": 229,
    "start_time": "2023-02-13T13:36:20.736Z"
   },
   {
    "duration": 216,
    "start_time": "2023-02-13T13:36:20.967Z"
   },
   {
    "duration": 213,
    "start_time": "2023-02-13T13:36:21.184Z"
   },
   {
    "duration": 13,
    "start_time": "2023-02-13T13:36:21.399Z"
   },
   {
    "duration": 37,
    "start_time": "2023-02-13T13:36:21.414Z"
   },
   {
    "duration": 12,
    "start_time": "2023-02-13T13:36:21.453Z"
   },
   {
    "duration": 26,
    "start_time": "2023-02-13T13:36:21.469Z"
   },
   {
    "duration": 35,
    "start_time": "2023-02-13T13:36:21.497Z"
   },
   {
    "duration": 13,
    "start_time": "2023-02-13T13:36:21.534Z"
   },
   {
    "duration": 43,
    "start_time": "2023-02-13T13:36:21.548Z"
   },
   {
    "duration": 40,
    "start_time": "2023-02-13T13:36:21.593Z"
   },
   {
    "duration": 33,
    "start_time": "2023-02-13T13:36:21.634Z"
   },
   {
    "duration": 1356,
    "start_time": "2023-02-13T14:47:23.379Z"
   },
   {
    "duration": 106,
    "start_time": "2023-02-13T14:47:43.530Z"
   },
   {
    "duration": 9,
    "start_time": "2023-02-13T14:59:58.074Z"
   },
   {
    "duration": 1402,
    "start_time": "2023-02-14T03:46:53.625Z"
   },
   {
    "duration": 235,
    "start_time": "2023-02-14T03:46:55.029Z"
   },
   {
    "duration": 18,
    "start_time": "2023-02-14T03:46:55.266Z"
   },
   {
    "duration": 15,
    "start_time": "2023-02-14T03:46:55.286Z"
   },
   {
    "duration": 20,
    "start_time": "2023-02-14T03:46:55.303Z"
   },
   {
    "duration": 4,
    "start_time": "2023-02-14T03:46:55.325Z"
   },
   {
    "duration": 13,
    "start_time": "2023-02-14T03:46:55.338Z"
   },
   {
    "duration": 9,
    "start_time": "2023-02-14T03:46:55.353Z"
   },
   {
    "duration": 15,
    "start_time": "2023-02-14T03:46:55.364Z"
   },
   {
    "duration": 12,
    "start_time": "2023-02-14T03:46:55.381Z"
   },
   {
    "duration": 14,
    "start_time": "2023-02-14T03:46:55.395Z"
   },
   {
    "duration": 26,
    "start_time": "2023-02-14T03:46:55.411Z"
   },
   {
    "duration": 9,
    "start_time": "2023-02-14T03:46:55.439Z"
   },
   {
    "duration": 15,
    "start_time": "2023-02-14T03:46:55.451Z"
   },
   {
    "duration": 12,
    "start_time": "2023-02-14T03:46:55.468Z"
   },
   {
    "duration": 13,
    "start_time": "2023-02-14T03:46:55.482Z"
   },
   {
    "duration": 17,
    "start_time": "2023-02-14T03:46:55.497Z"
   },
   {
    "duration": 29,
    "start_time": "2023-02-14T03:46:55.516Z"
   },
   {
    "duration": 116,
    "start_time": "2023-02-14T03:46:55.547Z"
   },
   {
    "duration": 4,
    "start_time": "2023-02-14T03:46:55.665Z"
   },
   {
    "duration": 26,
    "start_time": "2023-02-14T03:46:55.671Z"
   },
   {
    "duration": 178,
    "start_time": "2023-02-14T03:46:55.699Z"
   },
   {
    "duration": 174,
    "start_time": "2023-02-14T03:46:55.879Z"
   },
   {
    "duration": 18,
    "start_time": "2023-02-14T03:46:56.055Z"
   },
   {
    "duration": 2054,
    "start_time": "2023-02-14T03:46:56.075Z"
   },
   {
    "duration": 16,
    "start_time": "2023-02-14T03:46:58.131Z"
   },
   {
    "duration": 391,
    "start_time": "2023-02-14T03:46:58.149Z"
   },
   {
    "duration": 306,
    "start_time": "2023-02-14T03:46:58.541Z"
   },
   {
    "duration": 140,
    "start_time": "2023-02-14T03:46:58.849Z"
   },
   {
    "duration": 12,
    "start_time": "2023-02-14T03:46:58.990Z"
   },
   {
    "duration": 12,
    "start_time": "2023-02-14T03:46:59.004Z"
   },
   {
    "duration": 38,
    "start_time": "2023-02-14T03:46:59.018Z"
   },
   {
    "duration": 22,
    "start_time": "2023-02-14T03:46:59.058Z"
   },
   {
    "duration": 403,
    "start_time": "2023-02-14T03:46:59.083Z"
   },
   {
    "duration": 16,
    "start_time": "2023-02-14T03:46:59.489Z"
   },
   {
    "duration": 254,
    "start_time": "2023-02-14T03:46:59.507Z"
   },
   {
    "duration": 261,
    "start_time": "2023-02-14T03:46:59.763Z"
   },
   {
    "duration": 251,
    "start_time": "2023-02-14T03:47:00.025Z"
   },
   {
    "duration": 15,
    "start_time": "2023-02-14T03:47:00.279Z"
   },
   {
    "duration": 42,
    "start_time": "2023-02-14T03:47:00.296Z"
   },
   {
    "duration": 52,
    "start_time": "2023-02-14T03:47:00.343Z"
   },
   {
    "duration": 47,
    "start_time": "2023-02-14T03:47:00.397Z"
   },
   {
    "duration": 64,
    "start_time": "2023-02-14T03:47:00.447Z"
   },
   {
    "duration": 69,
    "start_time": "2023-02-14T03:47:00.512Z"
   },
   {
    "duration": 37,
    "start_time": "2023-02-14T03:47:00.583Z"
   },
   {
    "duration": 26,
    "start_time": "2023-02-14T03:47:00.622Z"
   },
   {
    "duration": 125,
    "start_time": "2023-02-14T03:47:00.650Z"
   },
   {
    "duration": 61,
    "start_time": "2023-02-14T03:47:00.776Z"
   },
   {
    "duration": 107,
    "start_time": "2023-02-14T03:55:29.620Z"
   },
   {
    "duration": 7,
    "start_time": "2023-02-14T03:55:44.593Z"
   },
   {
    "duration": 1172,
    "start_time": "2023-02-14T03:57:19.264Z"
   },
   {
    "duration": 15,
    "start_time": "2023-02-14T03:57:52.852Z"
   },
   {
    "duration": 11,
    "start_time": "2023-02-14T04:33:38.803Z"
   },
   {
    "duration": 105,
    "start_time": "2023-02-14T04:40:08.787Z"
   },
   {
    "duration": 3,
    "start_time": "2023-02-14T04:52:19.296Z"
   },
   {
    "duration": 107,
    "start_time": "2023-02-14T04:54:09.710Z"
   },
   {
    "duration": 1173,
    "start_time": "2023-02-14T05:04:10.516Z"
   },
   {
    "duration": 98,
    "start_time": "2023-02-14T05:04:11.691Z"
   },
   {
    "duration": 19,
    "start_time": "2023-02-14T05:04:11.791Z"
   },
   {
    "duration": 15,
    "start_time": "2023-02-14T05:04:11.812Z"
   },
   {
    "duration": 20,
    "start_time": "2023-02-14T05:04:11.829Z"
   },
   {
    "duration": 1315,
    "start_time": "2023-02-14T05:04:11.851Z"
   },
   {
    "duration": 0,
    "start_time": "2023-02-14T05:04:13.169Z"
   },
   {
    "duration": 0,
    "start_time": "2023-02-14T05:04:13.170Z"
   },
   {
    "duration": 0,
    "start_time": "2023-02-14T05:04:13.172Z"
   },
   {
    "duration": 0,
    "start_time": "2023-02-14T05:04:13.173Z"
   },
   {
    "duration": 0,
    "start_time": "2023-02-14T05:04:13.175Z"
   },
   {
    "duration": 0,
    "start_time": "2023-02-14T05:04:13.176Z"
   },
   {
    "duration": 0,
    "start_time": "2023-02-14T05:04:13.177Z"
   },
   {
    "duration": 0,
    "start_time": "2023-02-14T05:04:13.178Z"
   },
   {
    "duration": 0,
    "start_time": "2023-02-14T05:04:13.179Z"
   },
   {
    "duration": 0,
    "start_time": "2023-02-14T05:04:13.180Z"
   },
   {
    "duration": 0,
    "start_time": "2023-02-14T05:04:13.181Z"
   },
   {
    "duration": 0,
    "start_time": "2023-02-14T05:04:13.182Z"
   },
   {
    "duration": 0,
    "start_time": "2023-02-14T05:04:13.183Z"
   },
   {
    "duration": 0,
    "start_time": "2023-02-14T05:04:13.184Z"
   },
   {
    "duration": 0,
    "start_time": "2023-02-14T05:04:13.185Z"
   },
   {
    "duration": 1,
    "start_time": "2023-02-14T05:04:13.186Z"
   },
   {
    "duration": 1,
    "start_time": "2023-02-14T05:04:13.187Z"
   },
   {
    "duration": 0,
    "start_time": "2023-02-14T05:04:13.188Z"
   },
   {
    "duration": 0,
    "start_time": "2023-02-14T05:04:13.189Z"
   },
   {
    "duration": 0,
    "start_time": "2023-02-14T05:04:13.190Z"
   },
   {
    "duration": 0,
    "start_time": "2023-02-14T05:04:13.191Z"
   },
   {
    "duration": 0,
    "start_time": "2023-02-14T05:04:13.192Z"
   },
   {
    "duration": 0,
    "start_time": "2023-02-14T05:04:13.193Z"
   },
   {
    "duration": 0,
    "start_time": "2023-02-14T05:04:13.194Z"
   },
   {
    "duration": 0,
    "start_time": "2023-02-14T05:04:13.195Z"
   },
   {
    "duration": 0,
    "start_time": "2023-02-14T05:04:13.196Z"
   },
   {
    "duration": 0,
    "start_time": "2023-02-14T05:04:13.197Z"
   },
   {
    "duration": 0,
    "start_time": "2023-02-14T05:04:13.198Z"
   },
   {
    "duration": 0,
    "start_time": "2023-02-14T05:04:13.199Z"
   },
   {
    "duration": 0,
    "start_time": "2023-02-14T05:04:13.200Z"
   },
   {
    "duration": 0,
    "start_time": "2023-02-14T05:04:13.201Z"
   },
   {
    "duration": 0,
    "start_time": "2023-02-14T05:04:13.202Z"
   },
   {
    "duration": 0,
    "start_time": "2023-02-14T05:04:13.203Z"
   },
   {
    "duration": 0,
    "start_time": "2023-02-14T05:04:13.204Z"
   },
   {
    "duration": 0,
    "start_time": "2023-02-14T05:04:13.206Z"
   },
   {
    "duration": 0,
    "start_time": "2023-02-14T05:04:13.238Z"
   },
   {
    "duration": 0,
    "start_time": "2023-02-14T05:04:13.239Z"
   },
   {
    "duration": 0,
    "start_time": "2023-02-14T05:04:13.240Z"
   },
   {
    "duration": 0,
    "start_time": "2023-02-14T05:04:13.241Z"
   },
   {
    "duration": 0,
    "start_time": "2023-02-14T05:04:13.243Z"
   },
   {
    "duration": 0,
    "start_time": "2023-02-14T05:04:13.244Z"
   },
   {
    "duration": 0,
    "start_time": "2023-02-14T05:04:13.246Z"
   },
   {
    "duration": 0,
    "start_time": "2023-02-14T05:04:13.248Z"
   },
   {
    "duration": 12,
    "start_time": "2023-02-14T05:05:04.800Z"
   },
   {
    "duration": 1159,
    "start_time": "2023-02-14T05:05:14.966Z"
   },
   {
    "duration": 88,
    "start_time": "2023-02-14T05:05:16.128Z"
   },
   {
    "duration": 20,
    "start_time": "2023-02-14T05:05:16.218Z"
   },
   {
    "duration": 16,
    "start_time": "2023-02-14T05:05:16.239Z"
   },
   {
    "duration": 31,
    "start_time": "2023-02-14T05:05:16.257Z"
   },
   {
    "duration": 25,
    "start_time": "2023-02-14T05:05:16.290Z"
   },
   {
    "duration": 10,
    "start_time": "2023-02-14T05:05:16.317Z"
   },
   {
    "duration": 28,
    "start_time": "2023-02-14T05:05:16.329Z"
   },
   {
    "duration": 29,
    "start_time": "2023-02-14T05:05:16.359Z"
   },
   {
    "duration": 43,
    "start_time": "2023-02-14T05:05:16.390Z"
   },
   {
    "duration": 32,
    "start_time": "2023-02-14T05:05:16.435Z"
   },
   {
    "duration": 23,
    "start_time": "2023-02-14T05:05:16.469Z"
   },
   {
    "duration": 32,
    "start_time": "2023-02-14T05:05:16.495Z"
   },
   {
    "duration": 16,
    "start_time": "2023-02-14T05:05:16.530Z"
   },
   {
    "duration": 11,
    "start_time": "2023-02-14T05:05:16.548Z"
   },
   {
    "duration": 15,
    "start_time": "2023-02-14T05:05:16.560Z"
   },
   {
    "duration": 16,
    "start_time": "2023-02-14T05:05:16.577Z"
   },
   {
    "duration": 27,
    "start_time": "2023-02-14T05:05:16.595Z"
   },
   {
    "duration": 25,
    "start_time": "2023-02-14T05:05:16.624Z"
   },
   {
    "duration": 124,
    "start_time": "2023-02-14T05:05:16.651Z"
   },
   {
    "duration": 4,
    "start_time": "2023-02-14T05:05:16.777Z"
   },
   {
    "duration": 22,
    "start_time": "2023-02-14T05:05:16.783Z"
   },
   {
    "duration": 180,
    "start_time": "2023-02-14T05:05:16.807Z"
   },
   {
    "duration": 167,
    "start_time": "2023-02-14T05:05:16.989Z"
   },
   {
    "duration": 18,
    "start_time": "2023-02-14T05:05:17.158Z"
   },
   {
    "duration": 2118,
    "start_time": "2023-02-14T05:05:17.178Z"
   },
   {
    "duration": 7,
    "start_time": "2023-02-14T05:05:19.298Z"
   },
   {
    "duration": 429,
    "start_time": "2023-02-14T05:05:19.307Z"
   },
   {
    "duration": 332,
    "start_time": "2023-02-14T05:05:19.738Z"
   },
   {
    "duration": 149,
    "start_time": "2023-02-14T05:05:20.072Z"
   },
   {
    "duration": 18,
    "start_time": "2023-02-14T05:05:20.223Z"
   },
   {
    "duration": 14,
    "start_time": "2023-02-14T05:05:20.243Z"
   },
   {
    "duration": 28,
    "start_time": "2023-02-14T05:05:20.261Z"
   },
   {
    "duration": 21,
    "start_time": "2023-02-14T05:05:20.291Z"
   },
   {
    "duration": 382,
    "start_time": "2023-02-14T05:05:20.314Z"
   },
   {
    "duration": 16,
    "start_time": "2023-02-14T05:05:20.697Z"
   },
   {
    "duration": 246,
    "start_time": "2023-02-14T05:05:20.716Z"
   },
   {
    "duration": 238,
    "start_time": "2023-02-14T05:05:20.964Z"
   },
   {
    "duration": 241,
    "start_time": "2023-02-14T05:05:21.204Z"
   },
   {
    "duration": 15,
    "start_time": "2023-02-14T05:05:21.447Z"
   },
   {
    "duration": 15,
    "start_time": "2023-02-14T05:05:21.466Z"
   },
   {
    "duration": 15,
    "start_time": "2023-02-14T05:05:21.483Z"
   },
   {
    "duration": 40,
    "start_time": "2023-02-14T05:05:21.499Z"
   },
   {
    "duration": 17,
    "start_time": "2023-02-14T05:05:21.541Z"
   },
   {
    "duration": 10,
    "start_time": "2023-02-14T05:05:21.560Z"
   },
   {
    "duration": 17,
    "start_time": "2023-02-14T05:05:21.572Z"
   },
   {
    "duration": 6,
    "start_time": "2023-02-14T05:05:21.591Z"
   },
   {
    "duration": 39,
    "start_time": "2023-02-14T05:05:21.599Z"
   },
   {
    "duration": 5,
    "start_time": "2023-02-14T05:05:21.640Z"
   },
   {
    "duration": 6,
    "start_time": "2023-02-14T05:13:37.781Z"
   },
   {
    "duration": 5,
    "start_time": "2023-02-14T05:14:29.801Z"
   },
   {
    "duration": 110,
    "start_time": "2023-02-14T05:14:49.053Z"
   },
   {
    "duration": 5,
    "start_time": "2023-02-14T05:16:05.970Z"
   },
   {
    "duration": 1216,
    "start_time": "2023-02-14T05:17:32.323Z"
   },
   {
    "duration": 95,
    "start_time": "2023-02-14T05:17:33.541Z"
   },
   {
    "duration": 19,
    "start_time": "2023-02-14T05:17:33.637Z"
   },
   {
    "duration": 43,
    "start_time": "2023-02-14T05:17:33.658Z"
   },
   {
    "duration": 25,
    "start_time": "2023-02-14T05:17:33.703Z"
   },
   {
    "duration": 25,
    "start_time": "2023-02-14T05:17:33.730Z"
   },
   {
    "duration": 9,
    "start_time": "2023-02-14T05:17:33.757Z"
   },
   {
    "duration": 25,
    "start_time": "2023-02-14T05:17:33.768Z"
   },
   {
    "duration": 21,
    "start_time": "2023-02-14T05:17:33.795Z"
   },
   {
    "duration": 26,
    "start_time": "2023-02-14T05:17:33.818Z"
   },
   {
    "duration": 25,
    "start_time": "2023-02-14T05:17:33.845Z"
   },
   {
    "duration": 15,
    "start_time": "2023-02-14T05:17:33.871Z"
   },
   {
    "duration": 26,
    "start_time": "2023-02-14T05:17:33.887Z"
   },
   {
    "duration": 9,
    "start_time": "2023-02-14T05:17:33.916Z"
   },
   {
    "duration": 18,
    "start_time": "2023-02-14T05:17:33.926Z"
   },
   {
    "duration": 11,
    "start_time": "2023-02-14T05:17:33.945Z"
   },
   {
    "duration": 9,
    "start_time": "2023-02-14T05:17:33.957Z"
   },
   {
    "duration": 15,
    "start_time": "2023-02-14T05:17:33.968Z"
   },
   {
    "duration": 18,
    "start_time": "2023-02-14T05:17:33.984Z"
   },
   {
    "duration": 111,
    "start_time": "2023-02-14T05:17:34.003Z"
   },
   {
    "duration": 5,
    "start_time": "2023-02-14T05:17:34.116Z"
   },
   {
    "duration": 5,
    "start_time": "2023-02-14T05:17:34.137Z"
   },
   {
    "duration": 13,
    "start_time": "2023-02-14T05:17:34.143Z"
   },
   {
    "duration": 165,
    "start_time": "2023-02-14T05:17:34.158Z"
   },
   {
    "duration": 164,
    "start_time": "2023-02-14T05:17:34.324Z"
   },
   {
    "duration": 19,
    "start_time": "2023-02-14T05:17:34.489Z"
   },
   {
    "duration": 1979,
    "start_time": "2023-02-14T05:17:34.510Z"
   },
   {
    "duration": 7,
    "start_time": "2023-02-14T05:17:36.491Z"
   },
   {
    "duration": 392,
    "start_time": "2023-02-14T05:17:36.500Z"
   },
   {
    "duration": 291,
    "start_time": "2023-02-14T05:17:36.893Z"
   },
   {
    "duration": 143,
    "start_time": "2023-02-14T05:17:37.186Z"
   },
   {
    "duration": 14,
    "start_time": "2023-02-14T05:17:37.331Z"
   },
   {
    "duration": 13,
    "start_time": "2023-02-14T05:17:37.347Z"
   },
   {
    "duration": 17,
    "start_time": "2023-02-14T05:17:37.362Z"
   },
   {
    "duration": 23,
    "start_time": "2023-02-14T05:17:37.380Z"
   },
   {
    "duration": 351,
    "start_time": "2023-02-14T05:17:37.405Z"
   },
   {
    "duration": 15,
    "start_time": "2023-02-14T05:17:37.757Z"
   },
   {
    "duration": 228,
    "start_time": "2023-02-14T05:17:37.773Z"
   },
   {
    "duration": 241,
    "start_time": "2023-02-14T05:17:38.003Z"
   },
   {
    "duration": 217,
    "start_time": "2023-02-14T05:17:38.246Z"
   },
   {
    "duration": 14,
    "start_time": "2023-02-14T05:17:38.467Z"
   },
   {
    "duration": 14,
    "start_time": "2023-02-14T05:17:38.482Z"
   },
   {
    "duration": 14,
    "start_time": "2023-02-14T05:17:38.498Z"
   },
   {
    "duration": 31,
    "start_time": "2023-02-14T05:17:38.513Z"
   },
   {
    "duration": 20,
    "start_time": "2023-02-14T05:17:38.545Z"
   },
   {
    "duration": 9,
    "start_time": "2023-02-14T05:17:38.566Z"
   },
   {
    "duration": 18,
    "start_time": "2023-02-14T05:17:38.576Z"
   },
   {
    "duration": 7,
    "start_time": "2023-02-14T05:17:38.596Z"
   },
   {
    "duration": 33,
    "start_time": "2023-02-14T05:17:38.604Z"
   },
   {
    "duration": 5,
    "start_time": "2023-02-14T05:17:38.640Z"
   },
   {
    "duration": 6,
    "start_time": "2023-02-14T05:18:41.099Z"
   },
   {
    "duration": 7,
    "start_time": "2023-02-14T05:21:57.178Z"
   },
   {
    "duration": 275,
    "start_time": "2023-02-14T05:21:58.490Z"
   },
   {
    "duration": 230,
    "start_time": "2023-02-14T05:22:15.739Z"
   },
   {
    "duration": 278,
    "start_time": "2023-02-14T05:22:35.398Z"
   },
   {
    "duration": 2009,
    "start_time": "2023-02-14T05:34:29.733Z"
   },
   {
    "duration": 142,
    "start_time": "2023-02-14T05:34:46.381Z"
   },
   {
    "duration": 155,
    "start_time": "2023-02-14T05:34:54.934Z"
   },
   {
    "duration": 1843,
    "start_time": "2023-02-14T05:35:22.083Z"
   },
   {
    "duration": 1616,
    "start_time": "2023-02-14T05:36:28.801Z"
   },
   {
    "duration": 1866,
    "start_time": "2023-02-14T05:37:17.440Z"
   },
   {
    "duration": 1706,
    "start_time": "2023-02-14T05:40:44.717Z"
   },
   {
    "duration": 13,
    "start_time": "2023-02-14T05:43:05.326Z"
   },
   {
    "duration": 1955,
    "start_time": "2023-02-14T05:44:47.414Z"
   },
   {
    "duration": 106,
    "start_time": "2023-02-14T05:53:09.605Z"
   },
   {
    "duration": 375,
    "start_time": "2023-02-14T05:53:24.773Z"
   },
   {
    "duration": 281,
    "start_time": "2023-02-14T06:21:32.059Z"
   },
   {
    "duration": 8,
    "start_time": "2023-02-14T06:21:53.631Z"
   },
   {
    "duration": 11,
    "start_time": "2023-02-14T06:22:05.123Z"
   },
   {
    "duration": 1159,
    "start_time": "2023-02-14T06:27:02.514Z"
   },
   {
    "duration": 88,
    "start_time": "2023-02-14T06:27:03.675Z"
   },
   {
    "duration": 17,
    "start_time": "2023-02-14T06:27:03.765Z"
   },
   {
    "duration": 15,
    "start_time": "2023-02-14T06:27:03.784Z"
   },
   {
    "duration": 18,
    "start_time": "2023-02-14T06:27:03.801Z"
   },
   {
    "duration": 26,
    "start_time": "2023-02-14T06:27:03.821Z"
   },
   {
    "duration": 4,
    "start_time": "2023-02-14T06:27:03.849Z"
   },
   {
    "duration": 13,
    "start_time": "2023-02-14T06:27:03.854Z"
   },
   {
    "duration": 9,
    "start_time": "2023-02-14T06:27:03.868Z"
   },
   {
    "duration": 10,
    "start_time": "2023-02-14T06:27:03.879Z"
   },
   {
    "duration": 10,
    "start_time": "2023-02-14T06:27:03.891Z"
   },
   {
    "duration": 6,
    "start_time": "2023-02-14T06:27:03.902Z"
   },
   {
    "duration": 32,
    "start_time": "2023-02-14T06:27:03.909Z"
   },
   {
    "duration": 9,
    "start_time": "2023-02-14T06:27:03.942Z"
   },
   {
    "duration": 9,
    "start_time": "2023-02-14T06:27:03.953Z"
   },
   {
    "duration": 7,
    "start_time": "2023-02-14T06:27:03.964Z"
   },
   {
    "duration": 8,
    "start_time": "2023-02-14T06:27:03.972Z"
   },
   {
    "duration": 14,
    "start_time": "2023-02-14T06:27:03.981Z"
   },
   {
    "duration": 11,
    "start_time": "2023-02-14T06:27:03.997Z"
   },
   {
    "duration": 132,
    "start_time": "2023-02-14T06:27:04.010Z"
   },
   {
    "duration": 4,
    "start_time": "2023-02-14T06:27:04.144Z"
   },
   {
    "duration": 10,
    "start_time": "2023-02-14T06:27:04.149Z"
   },
   {
    "duration": 9,
    "start_time": "2023-02-14T06:27:04.161Z"
   },
   {
    "duration": 168,
    "start_time": "2023-02-14T06:27:04.171Z"
   },
   {
    "duration": 160,
    "start_time": "2023-02-14T06:27:04.341Z"
   },
   {
    "duration": 17,
    "start_time": "2023-02-14T06:27:04.503Z"
   },
   {
    "duration": 2205,
    "start_time": "2023-02-14T06:27:04.521Z"
   },
   {
    "duration": 12,
    "start_time": "2023-02-14T06:27:06.730Z"
   },
   {
    "duration": 403,
    "start_time": "2023-02-14T06:27:06.744Z"
   },
   {
    "duration": 233,
    "start_time": "2023-02-14T06:27:07.149Z"
   },
   {
    "duration": 1561,
    "start_time": "2023-02-14T06:27:07.384Z"
   },
   {
    "duration": 13,
    "start_time": "2023-02-14T06:27:08.947Z"
   },
   {
    "duration": 1896,
    "start_time": "2023-02-14T06:27:08.962Z"
   },
   {
    "duration": 371,
    "start_time": "2023-02-14T06:27:10.860Z"
   },
   {
    "duration": 15,
    "start_time": "2023-02-14T06:27:11.233Z"
   },
   {
    "duration": 315,
    "start_time": "2023-02-14T06:27:11.249Z"
   },
   {
    "duration": 10,
    "start_time": "2023-02-14T06:27:11.566Z"
   },
   {
    "duration": 12,
    "start_time": "2023-02-14T06:27:11.577Z"
   },
   {
    "duration": 237,
    "start_time": "2023-02-14T06:27:11.591Z"
   },
   {
    "duration": 245,
    "start_time": "2023-02-14T06:27:11.829Z"
   },
   {
    "duration": 235,
    "start_time": "2023-02-14T06:27:12.075Z"
   },
   {
    "duration": 26,
    "start_time": "2023-02-14T06:27:12.312Z"
   },
   {
    "duration": 19,
    "start_time": "2023-02-14T06:27:12.340Z"
   },
   {
    "duration": 15,
    "start_time": "2023-02-14T06:27:12.360Z"
   },
   {
    "duration": 15,
    "start_time": "2023-02-14T06:27:12.376Z"
   },
   {
    "duration": 69,
    "start_time": "2023-02-14T06:27:12.393Z"
   },
   {
    "duration": 37,
    "start_time": "2023-02-14T06:27:12.464Z"
   },
   {
    "duration": 22,
    "start_time": "2023-02-14T06:27:12.505Z"
   },
   {
    "duration": 30,
    "start_time": "2023-02-14T06:27:12.529Z"
   },
   {
    "duration": 38,
    "start_time": "2023-02-14T06:27:12.561Z"
   },
   {
    "duration": 21,
    "start_time": "2023-02-14T06:27:12.602Z"
   },
   {
    "duration": 1241,
    "start_time": "2023-02-14T17:04:46.122Z"
   },
   {
    "duration": 88,
    "start_time": "2023-02-14T17:04:47.365Z"
   },
   {
    "duration": 19,
    "start_time": "2023-02-14T17:04:47.455Z"
   },
   {
    "duration": 15,
    "start_time": "2023-02-14T17:04:47.477Z"
   },
   {
    "duration": 31,
    "start_time": "2023-02-14T17:04:47.494Z"
   },
   {
    "duration": 14,
    "start_time": "2023-02-14T17:04:47.526Z"
   },
   {
    "duration": 4,
    "start_time": "2023-02-14T17:04:47.541Z"
   },
   {
    "duration": 13,
    "start_time": "2023-02-14T17:04:47.547Z"
   },
   {
    "duration": 6,
    "start_time": "2023-02-14T17:04:47.562Z"
   },
   {
    "duration": 16,
    "start_time": "2023-02-14T17:04:47.570Z"
   },
   {
    "duration": 5,
    "start_time": "2023-02-14T17:04:47.588Z"
   },
   {
    "duration": 3,
    "start_time": "2023-02-14T17:04:47.620Z"
   },
   {
    "duration": 18,
    "start_time": "2023-02-14T17:04:47.625Z"
   },
   {
    "duration": 9,
    "start_time": "2023-02-14T17:04:47.646Z"
   },
   {
    "duration": 10,
    "start_time": "2023-02-14T17:04:47.657Z"
   },
   {
    "duration": 8,
    "start_time": "2023-02-14T17:04:47.669Z"
   },
   {
    "duration": 42,
    "start_time": "2023-02-14T17:04:47.679Z"
   },
   {
    "duration": 9,
    "start_time": "2023-02-14T17:04:47.723Z"
   },
   {
    "duration": 15,
    "start_time": "2023-02-14T17:04:47.733Z"
   },
   {
    "duration": 129,
    "start_time": "2023-02-14T17:04:47.750Z"
   },
   {
    "duration": 5,
    "start_time": "2023-02-14T17:04:47.881Z"
   },
   {
    "duration": 9,
    "start_time": "2023-02-14T17:04:47.887Z"
   },
   {
    "duration": 26,
    "start_time": "2023-02-14T17:04:47.898Z"
   },
   {
    "duration": 173,
    "start_time": "2023-02-14T17:04:47.926Z"
   },
   {
    "duration": 163,
    "start_time": "2023-02-14T17:04:48.100Z"
   },
   {
    "duration": 18,
    "start_time": "2023-02-14T17:04:48.264Z"
   },
   {
    "duration": 2067,
    "start_time": "2023-02-14T17:04:48.283Z"
   },
   {
    "duration": 7,
    "start_time": "2023-02-14T17:04:50.351Z"
   },
   {
    "duration": 398,
    "start_time": "2023-02-14T17:04:50.360Z"
   },
   {
    "duration": 253,
    "start_time": "2023-02-14T17:04:50.760Z"
   },
   {
    "duration": 1611,
    "start_time": "2023-02-14T17:04:51.015Z"
   },
   {
    "duration": 15,
    "start_time": "2023-02-14T17:04:52.627Z"
   },
   {
    "duration": 1928,
    "start_time": "2023-02-14T17:04:52.644Z"
   },
   {
    "duration": 458,
    "start_time": "2023-02-14T17:04:54.574Z"
   },
   {
    "duration": 17,
    "start_time": "2023-02-14T17:04:55.034Z"
   },
   {
    "duration": 339,
    "start_time": "2023-02-14T17:04:55.053Z"
   },
   {
    "duration": 8,
    "start_time": "2023-02-14T17:04:55.394Z"
   },
   {
    "duration": 24,
    "start_time": "2023-02-14T17:04:55.404Z"
   },
   {
    "duration": 237,
    "start_time": "2023-02-14T17:04:55.430Z"
   },
   {
    "duration": 255,
    "start_time": "2023-02-14T17:04:55.670Z"
   },
   {
    "duration": 240,
    "start_time": "2023-02-14T17:04:55.929Z"
   },
   {
    "duration": 15,
    "start_time": "2023-02-14T17:04:56.170Z"
   },
   {
    "duration": 35,
    "start_time": "2023-02-14T17:04:56.187Z"
   },
   {
    "duration": 15,
    "start_time": "2023-02-14T17:04:56.224Z"
   },
   {
    "duration": 11,
    "start_time": "2023-02-14T17:04:56.241Z"
   },
   {
    "duration": 19,
    "start_time": "2023-02-14T17:04:56.255Z"
   },
   {
    "duration": 14,
    "start_time": "2023-02-14T17:04:56.275Z"
   },
   {
    "duration": 35,
    "start_time": "2023-02-14T17:04:56.291Z"
   },
   {
    "duration": 16,
    "start_time": "2023-02-14T17:04:56.328Z"
   },
   {
    "duration": 34,
    "start_time": "2023-02-14T17:04:56.352Z"
   },
   {
    "duration": 15,
    "start_time": "2023-02-14T17:04:56.388Z"
   },
   {
    "duration": 1427,
    "start_time": "2023-02-15T00:37:50.452Z"
   },
   {
    "duration": 263,
    "start_time": "2023-02-15T00:37:51.881Z"
   },
   {
    "duration": 18,
    "start_time": "2023-02-15T00:37:52.151Z"
   },
   {
    "duration": 15,
    "start_time": "2023-02-15T00:37:52.171Z"
   },
   {
    "duration": 18,
    "start_time": "2023-02-15T00:37:52.187Z"
   },
   {
    "duration": 12,
    "start_time": "2023-02-15T00:37:52.206Z"
   },
   {
    "duration": 21,
    "start_time": "2023-02-15T00:37:52.220Z"
   },
   {
    "duration": 14,
    "start_time": "2023-02-15T00:37:52.245Z"
   },
   {
    "duration": 5,
    "start_time": "2023-02-15T00:37:52.261Z"
   },
   {
    "duration": 8,
    "start_time": "2023-02-15T00:37:52.271Z"
   },
   {
    "duration": 7,
    "start_time": "2023-02-15T00:37:52.280Z"
   },
   {
    "duration": 3,
    "start_time": "2023-02-15T00:37:52.288Z"
   },
   {
    "duration": 17,
    "start_time": "2023-02-15T00:37:52.293Z"
   },
   {
    "duration": 40,
    "start_time": "2023-02-15T00:37:52.311Z"
   },
   {
    "duration": 14,
    "start_time": "2023-02-15T00:37:52.353Z"
   },
   {
    "duration": 8,
    "start_time": "2023-02-15T00:37:52.369Z"
   },
   {
    "duration": 7,
    "start_time": "2023-02-15T00:37:52.380Z"
   },
   {
    "duration": 12,
    "start_time": "2023-02-15T00:37:52.389Z"
   },
   {
    "duration": 44,
    "start_time": "2023-02-15T00:37:52.403Z"
   },
   {
    "duration": 123,
    "start_time": "2023-02-15T00:37:52.449Z"
   },
   {
    "duration": 5,
    "start_time": "2023-02-15T00:37:52.574Z"
   },
   {
    "duration": 21,
    "start_time": "2023-02-15T00:37:52.581Z"
   },
   {
    "duration": 25,
    "start_time": "2023-02-15T00:37:52.604Z"
   },
   {
    "duration": 218,
    "start_time": "2023-02-15T00:37:52.631Z"
   },
   {
    "duration": 159,
    "start_time": "2023-02-15T00:37:52.851Z"
   },
   {
    "duration": 35,
    "start_time": "2023-02-15T00:37:53.011Z"
   },
   {
    "duration": 2133,
    "start_time": "2023-02-15T00:37:53.052Z"
   },
   {
    "duration": 7,
    "start_time": "2023-02-15T00:37:55.188Z"
   },
   {
    "duration": 434,
    "start_time": "2023-02-15T00:37:55.197Z"
   },
   {
    "duration": 244,
    "start_time": "2023-02-15T00:37:55.633Z"
   },
   {
    "duration": 1631,
    "start_time": "2023-02-15T00:37:55.879Z"
   },
   {
    "duration": 12,
    "start_time": "2023-02-15T00:37:57.512Z"
   },
   {
    "duration": 2082,
    "start_time": "2023-02-15T00:37:57.526Z"
   },
   {
    "duration": 369,
    "start_time": "2023-02-15T00:37:59.610Z"
   },
   {
    "duration": 17,
    "start_time": "2023-02-15T00:37:59.981Z"
   },
   {
    "duration": 315,
    "start_time": "2023-02-15T00:38:00.000Z"
   },
   {
    "duration": 9,
    "start_time": "2023-02-15T00:38:00.317Z"
   },
   {
    "duration": 37,
    "start_time": "2023-02-15T00:38:00.327Z"
   },
   {
    "duration": 224,
    "start_time": "2023-02-15T00:38:00.365Z"
   },
   {
    "duration": 253,
    "start_time": "2023-02-15T00:38:00.591Z"
   },
   {
    "duration": 234,
    "start_time": "2023-02-15T00:38:00.850Z"
   },
   {
    "duration": 16,
    "start_time": "2023-02-15T00:38:01.086Z"
   },
   {
    "duration": 48,
    "start_time": "2023-02-15T00:38:01.104Z"
   },
   {
    "duration": 36,
    "start_time": "2023-02-15T00:38:01.154Z"
   },
   {
    "duration": 33,
    "start_time": "2023-02-15T00:38:01.192Z"
   },
   {
    "duration": 58,
    "start_time": "2023-02-15T00:38:01.227Z"
   },
   {
    "duration": 42,
    "start_time": "2023-02-15T00:38:01.287Z"
   },
   {
    "duration": 41,
    "start_time": "2023-02-15T00:38:01.330Z"
   },
   {
    "duration": 32,
    "start_time": "2023-02-15T00:38:01.373Z"
   },
   {
    "duration": 47,
    "start_time": "2023-02-15T00:38:01.407Z"
   },
   {
    "duration": 40,
    "start_time": "2023-02-15T00:38:01.456Z"
   },
   {
    "duration": 15,
    "start_time": "2023-02-15T00:38:45.006Z"
   },
   {
    "duration": 15,
    "start_time": "2023-02-15T00:38:57.258Z"
   },
   {
    "duration": 201,
    "start_time": "2023-02-15T01:41:36.548Z"
   },
   {
    "duration": 170,
    "start_time": "2023-02-15T01:43:08.831Z"
   },
   {
    "duration": 106,
    "start_time": "2023-02-15T01:44:15.118Z"
   },
   {
    "duration": 251,
    "start_time": "2023-02-15T01:45:08.312Z"
   },
   {
    "duration": 199,
    "start_time": "2023-02-15T01:45:51.454Z"
   },
   {
    "duration": 283,
    "start_time": "2023-02-15T01:47:17.513Z"
   },
   {
    "duration": 204,
    "start_time": "2023-02-15T01:48:36.256Z"
   },
   {
    "duration": 185,
    "start_time": "2023-02-15T01:51:38.975Z"
   },
   {
    "duration": 103,
    "start_time": "2023-02-15T01:56:47.269Z"
   },
   {
    "duration": 13,
    "start_time": "2023-02-15T01:57:11.385Z"
   },
   {
    "duration": 207,
    "start_time": "2023-02-15T01:58:35.805Z"
   },
   {
    "duration": 16,
    "start_time": "2023-02-15T02:29:46.886Z"
   },
   {
    "duration": 259,
    "start_time": "2023-02-15T02:30:20.434Z"
   },
   {
    "duration": 2050,
    "start_time": "2023-02-15T02:33:01.596Z"
   },
   {
    "duration": 384,
    "start_time": "2023-02-15T02:33:46.433Z"
   },
   {
    "duration": 268,
    "start_time": "2023-02-15T02:36:20.807Z"
   },
   {
    "duration": 275,
    "start_time": "2023-02-15T02:38:15.817Z"
   },
   {
    "duration": 314,
    "start_time": "2023-02-15T02:38:36.917Z"
   },
   {
    "duration": 19,
    "start_time": "2023-02-15T02:42:42.741Z"
   },
   {
    "duration": 16,
    "start_time": "2023-02-15T02:43:28.110Z"
   },
   {
    "duration": 53,
    "start_time": "2023-02-15T02:43:34.659Z"
   },
   {
    "duration": 10,
    "start_time": "2023-02-15T02:45:27.795Z"
   },
   {
    "duration": 239,
    "start_time": "2023-02-15T02:46:35.294Z"
   },
   {
    "duration": 282,
    "start_time": "2023-02-15T02:47:01.817Z"
   },
   {
    "duration": 295,
    "start_time": "2023-02-15T02:47:47.334Z"
   },
   {
    "duration": 226,
    "start_time": "2023-02-15T02:47:55.886Z"
   },
   {
    "duration": 6,
    "start_time": "2023-02-15T02:50:01.581Z"
   },
   {
    "duration": 8,
    "start_time": "2023-02-15T02:50:23.384Z"
   },
   {
    "duration": 7,
    "start_time": "2023-02-15T02:52:24.067Z"
   },
   {
    "duration": 329,
    "start_time": "2023-02-15T02:53:25.777Z"
   },
   {
    "duration": 7,
    "start_time": "2023-02-15T02:54:16.528Z"
   },
   {
    "duration": 349,
    "start_time": "2023-02-15T02:55:04.502Z"
   },
   {
    "duration": 1276,
    "start_time": "2023-02-15T02:55:41.166Z"
   },
   {
    "duration": 116,
    "start_time": "2023-02-15T02:55:42.444Z"
   },
   {
    "duration": 22,
    "start_time": "2023-02-15T02:55:42.562Z"
   },
   {
    "duration": 33,
    "start_time": "2023-02-15T02:55:42.586Z"
   },
   {
    "duration": 27,
    "start_time": "2023-02-15T02:55:42.622Z"
   },
   {
    "duration": 54,
    "start_time": "2023-02-15T02:55:42.650Z"
   },
   {
    "duration": 15,
    "start_time": "2023-02-15T02:55:42.706Z"
   },
   {
    "duration": 54,
    "start_time": "2023-02-15T02:55:42.724Z"
   },
   {
    "duration": 20,
    "start_time": "2023-02-15T02:55:42.780Z"
   },
   {
    "duration": 32,
    "start_time": "2023-02-15T02:55:42.802Z"
   },
   {
    "duration": 48,
    "start_time": "2023-02-15T02:55:42.839Z"
   },
   {
    "duration": 20,
    "start_time": "2023-02-15T02:55:42.889Z"
   },
   {
    "duration": 52,
    "start_time": "2023-02-15T02:55:42.911Z"
   },
   {
    "duration": 31,
    "start_time": "2023-02-15T02:55:42.973Z"
   },
   {
    "duration": 51,
    "start_time": "2023-02-15T02:55:43.005Z"
   },
   {
    "duration": 38,
    "start_time": "2023-02-15T02:55:43.062Z"
   },
   {
    "duration": 42,
    "start_time": "2023-02-15T02:55:43.102Z"
   },
   {
    "duration": 55,
    "start_time": "2023-02-15T02:55:43.146Z"
   },
   {
    "duration": 43,
    "start_time": "2023-02-15T02:55:43.202Z"
   },
   {
    "duration": 172,
    "start_time": "2023-02-15T02:55:43.252Z"
   },
   {
    "duration": 4,
    "start_time": "2023-02-15T02:55:43.425Z"
   },
   {
    "duration": 75,
    "start_time": "2023-02-15T02:55:43.431Z"
   },
   {
    "duration": 44,
    "start_time": "2023-02-15T02:55:43.508Z"
   },
   {
    "duration": 249,
    "start_time": "2023-02-15T02:55:43.555Z"
   },
   {
    "duration": 178,
    "start_time": "2023-02-15T02:55:43.806Z"
   },
   {
    "duration": 17,
    "start_time": "2023-02-15T02:55:43.985Z"
   },
   {
    "duration": 2260,
    "start_time": "2023-02-15T02:55:44.004Z"
   },
   {
    "duration": 14,
    "start_time": "2023-02-15T02:55:46.271Z"
   },
   {
    "duration": 491,
    "start_time": "2023-02-15T02:55:46.286Z"
   },
   {
    "duration": 271,
    "start_time": "2023-02-15T02:55:46.781Z"
   },
   {
    "duration": 197,
    "start_time": "2023-02-15T02:55:47.053Z"
   },
   {
    "duration": 213,
    "start_time": "2023-02-15T02:55:47.252Z"
   },
   {
    "duration": 9,
    "start_time": "2023-02-15T02:55:47.466Z"
   },
   {
    "duration": 433,
    "start_time": "2023-02-15T02:55:47.477Z"
   },
   {
    "duration": 0,
    "start_time": "2023-02-15T02:55:47.912Z"
   },
   {
    "duration": 0,
    "start_time": "2023-02-15T02:55:47.913Z"
   },
   {
    "duration": 0,
    "start_time": "2023-02-15T02:55:47.915Z"
   },
   {
    "duration": 0,
    "start_time": "2023-02-15T02:55:47.916Z"
   },
   {
    "duration": 0,
    "start_time": "2023-02-15T02:55:47.917Z"
   },
   {
    "duration": 0,
    "start_time": "2023-02-15T02:55:47.918Z"
   },
   {
    "duration": 0,
    "start_time": "2023-02-15T02:55:47.919Z"
   },
   {
    "duration": 0,
    "start_time": "2023-02-15T02:55:47.920Z"
   },
   {
    "duration": 0,
    "start_time": "2023-02-15T02:55:47.921Z"
   },
   {
    "duration": 0,
    "start_time": "2023-02-15T02:55:47.923Z"
   },
   {
    "duration": 0,
    "start_time": "2023-02-15T02:55:47.923Z"
   },
   {
    "duration": 0,
    "start_time": "2023-02-15T02:55:47.925Z"
   },
   {
    "duration": 0,
    "start_time": "2023-02-15T02:55:47.926Z"
   },
   {
    "duration": 0,
    "start_time": "2023-02-15T02:55:47.928Z"
   },
   {
    "duration": 0,
    "start_time": "2023-02-15T02:55:47.928Z"
   },
   {
    "duration": 0,
    "start_time": "2023-02-15T02:55:47.930Z"
   },
   {
    "duration": 0,
    "start_time": "2023-02-15T02:55:47.931Z"
   },
   {
    "duration": 0,
    "start_time": "2023-02-15T02:55:47.931Z"
   },
   {
    "duration": 385,
    "start_time": "2023-02-15T02:57:00.878Z"
   },
   {
    "duration": 20,
    "start_time": "2023-02-15T02:57:05.363Z"
   },
   {
    "duration": 23,
    "start_time": "2023-02-15T02:59:01.558Z"
   },
   {
    "duration": 15,
    "start_time": "2023-02-15T03:10:09.259Z"
   },
   {
    "duration": 1200,
    "start_time": "2023-02-15T03:10:36.415Z"
   },
   {
    "duration": 117,
    "start_time": "2023-02-15T03:10:37.617Z"
   },
   {
    "duration": 31,
    "start_time": "2023-02-15T03:10:37.736Z"
   },
   {
    "duration": 31,
    "start_time": "2023-02-15T03:10:37.769Z"
   },
   {
    "duration": 40,
    "start_time": "2023-02-15T03:10:37.803Z"
   },
   {
    "duration": 41,
    "start_time": "2023-02-15T03:10:37.846Z"
   },
   {
    "duration": 37,
    "start_time": "2023-02-15T03:10:37.889Z"
   },
   {
    "duration": 58,
    "start_time": "2023-02-15T03:10:37.928Z"
   },
   {
    "duration": 32,
    "start_time": "2023-02-15T03:10:37.988Z"
   },
   {
    "duration": 37,
    "start_time": "2023-02-15T03:10:38.022Z"
   },
   {
    "duration": 30,
    "start_time": "2023-02-15T03:10:38.061Z"
   },
   {
    "duration": 24,
    "start_time": "2023-02-15T03:10:38.093Z"
   },
   {
    "duration": 48,
    "start_time": "2023-02-15T03:10:38.119Z"
   },
   {
    "duration": 34,
    "start_time": "2023-02-15T03:10:38.170Z"
   },
   {
    "duration": 38,
    "start_time": "2023-02-15T03:10:38.206Z"
   },
   {
    "duration": 44,
    "start_time": "2023-02-15T03:10:38.246Z"
   },
   {
    "duration": 43,
    "start_time": "2023-02-15T03:10:38.291Z"
   },
   {
    "duration": 55,
    "start_time": "2023-02-15T03:10:38.335Z"
   },
   {
    "duration": 25,
    "start_time": "2023-02-15T03:10:38.393Z"
   },
   {
    "duration": 66,
    "start_time": "2023-02-15T03:10:38.420Z"
   },
   {
    "duration": 124,
    "start_time": "2023-02-15T03:10:38.488Z"
   },
   {
    "duration": 4,
    "start_time": "2023-02-15T03:10:38.613Z"
   },
   {
    "duration": 78,
    "start_time": "2023-02-15T03:10:38.619Z"
   },
   {
    "duration": 68,
    "start_time": "2023-02-15T03:10:38.699Z"
   },
   {
    "duration": 226,
    "start_time": "2023-02-15T03:10:38.769Z"
   },
   {
    "duration": 177,
    "start_time": "2023-02-15T03:10:38.996Z"
   },
   {
    "duration": 18,
    "start_time": "2023-02-15T03:10:39.175Z"
   },
   {
    "duration": 2370,
    "start_time": "2023-02-15T03:10:39.195Z"
   },
   {
    "duration": 7,
    "start_time": "2023-02-15T03:10:41.567Z"
   },
   {
    "duration": 455,
    "start_time": "2023-02-15T03:10:41.576Z"
   },
   {
    "duration": 249,
    "start_time": "2023-02-15T03:10:42.034Z"
   },
   {
    "duration": 213,
    "start_time": "2023-02-15T03:10:42.284Z"
   },
   {
    "duration": 217,
    "start_time": "2023-02-15T03:10:42.499Z"
   },
   {
    "duration": 6,
    "start_time": "2023-02-15T03:10:42.719Z"
   },
   {
    "duration": 31,
    "start_time": "2023-02-15T03:10:42.736Z"
   },
   {
    "duration": 21,
    "start_time": "2023-02-15T03:10:42.769Z"
   },
   {
    "duration": 409,
    "start_time": "2023-02-15T03:10:42.792Z"
   },
   {
    "duration": 16,
    "start_time": "2023-02-15T03:10:43.203Z"
   },
   {
    "duration": 303,
    "start_time": "2023-02-15T03:10:43.221Z"
   },
   {
    "duration": 19,
    "start_time": "2023-02-15T03:10:43.526Z"
   },
   {
    "duration": 34,
    "start_time": "2023-02-15T03:10:43.553Z"
   },
   {
    "duration": 203,
    "start_time": "2023-02-15T03:10:43.588Z"
   },
   {
    "duration": 227,
    "start_time": "2023-02-15T03:10:43.793Z"
   },
   {
    "duration": 199,
    "start_time": "2023-02-15T03:10:44.022Z"
   },
   {
    "duration": 29,
    "start_time": "2023-02-15T03:10:44.224Z"
   },
   {
    "duration": 25,
    "start_time": "2023-02-15T03:10:44.255Z"
   },
   {
    "duration": 15,
    "start_time": "2023-02-15T03:10:44.281Z"
   },
   {
    "duration": 17,
    "start_time": "2023-02-15T03:10:44.298Z"
   },
   {
    "duration": 42,
    "start_time": "2023-02-15T03:10:44.316Z"
   },
   {
    "duration": 9,
    "start_time": "2023-02-15T03:10:44.360Z"
   },
   {
    "duration": 10,
    "start_time": "2023-02-15T03:10:44.370Z"
   },
   {
    "duration": 10,
    "start_time": "2023-02-15T03:10:44.382Z"
   },
   {
    "duration": 11,
    "start_time": "2023-02-15T03:10:44.394Z"
   },
   {
    "duration": 16,
    "start_time": "2023-02-15T03:10:44.407Z"
   },
   {
    "duration": 12,
    "start_time": "2023-02-15T03:18:21.178Z"
   },
   {
    "duration": 110,
    "start_time": "2023-02-15T03:18:35.881Z"
   },
   {
    "duration": 17,
    "start_time": "2023-02-15T03:20:45.229Z"
   },
   {
    "duration": 9,
    "start_time": "2023-02-15T03:20:46.197Z"
   },
   {
    "duration": 18,
    "start_time": "2023-02-15T03:25:26.705Z"
   },
   {
    "duration": 1484,
    "start_time": "2023-02-15T03:25:42.061Z"
   },
   {
    "duration": 2183,
    "start_time": "2023-02-15T03:25:53.576Z"
   },
   {
    "duration": 1404,
    "start_time": "2023-02-15T03:26:03.692Z"
   },
   {
    "duration": 1624,
    "start_time": "2023-02-15T03:27:04.031Z"
   },
   {
    "duration": 10,
    "start_time": "2023-02-15T03:40:12.394Z"
   },
   {
    "duration": 5,
    "start_time": "2023-02-15T03:41:23.823Z"
   },
   {
    "duration": 273,
    "start_time": "2023-02-15T03:41:26.413Z"
   },
   {
    "duration": 1474,
    "start_time": "2023-02-15T03:41:54.381Z"
   },
   {
    "duration": 1209,
    "start_time": "2023-02-15T03:42:22.086Z"
   },
   {
    "duration": 90,
    "start_time": "2023-02-15T03:42:23.297Z"
   },
   {
    "duration": 18,
    "start_time": "2023-02-15T03:42:23.389Z"
   },
   {
    "duration": 20,
    "start_time": "2023-02-15T03:42:23.409Z"
   },
   {
    "duration": 58,
    "start_time": "2023-02-15T03:42:23.430Z"
   },
   {
    "duration": 34,
    "start_time": "2023-02-15T03:42:23.489Z"
   },
   {
    "duration": 6,
    "start_time": "2023-02-15T03:42:23.525Z"
   },
   {
    "duration": 41,
    "start_time": "2023-02-15T03:42:23.532Z"
   },
   {
    "duration": 19,
    "start_time": "2023-02-15T03:42:23.575Z"
   },
   {
    "duration": 25,
    "start_time": "2023-02-15T03:42:23.597Z"
   },
   {
    "duration": 52,
    "start_time": "2023-02-15T03:42:23.623Z"
   },
   {
    "duration": 17,
    "start_time": "2023-02-15T03:42:23.677Z"
   },
   {
    "duration": 36,
    "start_time": "2023-02-15T03:42:23.695Z"
   },
   {
    "duration": 36,
    "start_time": "2023-02-15T03:42:23.733Z"
   },
   {
    "duration": 30,
    "start_time": "2023-02-15T03:42:23.770Z"
   },
   {
    "duration": 20,
    "start_time": "2023-02-15T03:42:23.802Z"
   },
   {
    "duration": 59,
    "start_time": "2023-02-15T03:42:23.823Z"
   },
   {
    "duration": 23,
    "start_time": "2023-02-15T03:42:23.884Z"
   },
   {
    "duration": 29,
    "start_time": "2023-02-15T03:42:23.909Z"
   },
   {
    "duration": 130,
    "start_time": "2023-02-15T03:42:23.941Z"
   },
   {
    "duration": 4,
    "start_time": "2023-02-15T03:42:24.073Z"
   },
   {
    "duration": 31,
    "start_time": "2023-02-15T03:42:24.079Z"
   },
   {
    "duration": 14,
    "start_time": "2023-02-15T03:42:24.111Z"
   },
   {
    "duration": 196,
    "start_time": "2023-02-15T03:42:24.127Z"
   },
   {
    "duration": 197,
    "start_time": "2023-02-15T03:42:24.325Z"
   },
   {
    "duration": 34,
    "start_time": "2023-02-15T03:42:24.525Z"
   },
   {
    "duration": 1237,
    "start_time": "2023-02-15T03:42:24.560Z"
   },
   {
    "duration": 6,
    "start_time": "2023-02-15T03:42:25.801Z"
   },
   {
    "duration": 6,
    "start_time": "2023-02-15T03:42:25.809Z"
   },
   {
    "duration": 152,
    "start_time": "2023-02-15T03:42:25.816Z"
   },
   {
    "duration": 0,
    "start_time": "2023-02-15T03:42:25.970Z"
   },
   {
    "duration": 0,
    "start_time": "2023-02-15T03:42:25.971Z"
   },
   {
    "duration": 0,
    "start_time": "2023-02-15T03:42:25.973Z"
   },
   {
    "duration": 0,
    "start_time": "2023-02-15T03:42:25.973Z"
   },
   {
    "duration": 0,
    "start_time": "2023-02-15T03:42:25.974Z"
   },
   {
    "duration": 0,
    "start_time": "2023-02-15T03:42:25.975Z"
   },
   {
    "duration": 0,
    "start_time": "2023-02-15T03:42:25.976Z"
   },
   {
    "duration": 0,
    "start_time": "2023-02-15T03:42:25.978Z"
   },
   {
    "duration": 0,
    "start_time": "2023-02-15T03:42:25.979Z"
   },
   {
    "duration": 0,
    "start_time": "2023-02-15T03:42:25.980Z"
   },
   {
    "duration": 0,
    "start_time": "2023-02-15T03:42:25.981Z"
   },
   {
    "duration": 0,
    "start_time": "2023-02-15T03:42:25.983Z"
   },
   {
    "duration": 0,
    "start_time": "2023-02-15T03:42:25.983Z"
   },
   {
    "duration": 0,
    "start_time": "2023-02-15T03:42:25.984Z"
   },
   {
    "duration": 0,
    "start_time": "2023-02-15T03:42:25.985Z"
   },
   {
    "duration": 0,
    "start_time": "2023-02-15T03:42:25.986Z"
   },
   {
    "duration": 0,
    "start_time": "2023-02-15T03:42:25.987Z"
   },
   {
    "duration": 0,
    "start_time": "2023-02-15T03:42:25.988Z"
   },
   {
    "duration": 0,
    "start_time": "2023-02-15T03:42:25.989Z"
   },
   {
    "duration": 0,
    "start_time": "2023-02-15T03:42:25.990Z"
   },
   {
    "duration": 0,
    "start_time": "2023-02-15T03:42:25.991Z"
   },
   {
    "duration": 0,
    "start_time": "2023-02-15T03:42:25.992Z"
   },
   {
    "duration": 0,
    "start_time": "2023-02-15T03:42:25.993Z"
   },
   {
    "duration": 0,
    "start_time": "2023-02-15T03:42:25.993Z"
   },
   {
    "duration": 0,
    "start_time": "2023-02-15T03:42:25.994Z"
   },
   {
    "duration": 11,
    "start_time": "2023-02-15T03:42:50.558Z"
   },
   {
    "duration": 9,
    "start_time": "2023-02-15T03:43:54.112Z"
   },
   {
    "duration": 18,
    "start_time": "2023-02-15T03:44:29.119Z"
   },
   {
    "duration": 1271,
    "start_time": "2023-02-15T03:44:36.756Z"
   },
   {
    "duration": 106,
    "start_time": "2023-02-15T03:44:38.028Z"
   },
   {
    "duration": 31,
    "start_time": "2023-02-15T03:44:38.136Z"
   },
   {
    "duration": 14,
    "start_time": "2023-02-15T03:44:38.170Z"
   },
   {
    "duration": 18,
    "start_time": "2023-02-15T03:44:38.185Z"
   },
   {
    "duration": 18,
    "start_time": "2023-02-15T03:44:38.204Z"
   },
   {
    "duration": 17,
    "start_time": "2023-02-15T03:44:38.224Z"
   },
   {
    "duration": 53,
    "start_time": "2023-02-15T03:44:38.242Z"
   },
   {
    "duration": 12,
    "start_time": "2023-02-15T03:44:38.297Z"
   },
   {
    "duration": 14,
    "start_time": "2023-02-15T03:44:38.313Z"
   },
   {
    "duration": 28,
    "start_time": "2023-02-15T03:44:38.329Z"
   },
   {
    "duration": 14,
    "start_time": "2023-02-15T03:44:38.367Z"
   },
   {
    "duration": 27,
    "start_time": "2023-02-15T03:44:38.385Z"
   },
   {
    "duration": 16,
    "start_time": "2023-02-15T03:44:38.414Z"
   },
   {
    "duration": 31,
    "start_time": "2023-02-15T03:44:38.432Z"
   },
   {
    "duration": 29,
    "start_time": "2023-02-15T03:44:38.464Z"
   },
   {
    "duration": 22,
    "start_time": "2023-02-15T03:44:38.495Z"
   },
   {
    "duration": 35,
    "start_time": "2023-02-15T03:44:38.519Z"
   },
   {
    "duration": 45,
    "start_time": "2023-02-15T03:44:38.555Z"
   },
   {
    "duration": 120,
    "start_time": "2023-02-15T03:44:38.602Z"
   },
   {
    "duration": 5,
    "start_time": "2023-02-15T03:44:38.724Z"
   },
   {
    "duration": 44,
    "start_time": "2023-02-15T03:44:38.731Z"
   },
   {
    "duration": 29,
    "start_time": "2023-02-15T03:44:38.777Z"
   },
   {
    "duration": 192,
    "start_time": "2023-02-15T03:44:38.808Z"
   },
   {
    "duration": 174,
    "start_time": "2023-02-15T03:44:39.002Z"
   },
   {
    "duration": 17,
    "start_time": "2023-02-15T03:44:39.178Z"
   },
   {
    "duration": 2167,
    "start_time": "2023-02-15T03:44:39.196Z"
   },
   {
    "duration": 110,
    "start_time": "2023-02-15T03:44:41.369Z"
   },
   {
    "duration": 32,
    "start_time": "2023-02-15T03:44:41.481Z"
   },
   {
    "duration": 353,
    "start_time": "2023-02-15T03:44:41.514Z"
   },
   {
    "duration": 294,
    "start_time": "2023-02-15T03:44:41.869Z"
   },
   {
    "duration": 274,
    "start_time": "2023-02-15T03:44:42.165Z"
   },
   {
    "duration": 185,
    "start_time": "2023-02-15T03:44:42.441Z"
   },
   {
    "duration": 30,
    "start_time": "2023-02-15T03:44:42.628Z"
   },
   {
    "duration": 25,
    "start_time": "2023-02-15T03:44:42.662Z"
   },
   {
    "duration": 25,
    "start_time": "2023-02-15T03:44:42.689Z"
   },
   {
    "duration": 1508,
    "start_time": "2023-02-15T03:44:42.716Z"
   },
   {
    "duration": 502,
    "start_time": "2023-02-15T03:44:44.226Z"
   },
   {
    "duration": 30,
    "start_time": "2023-02-15T03:44:44.730Z"
   },
   {
    "duration": 249,
    "start_time": "2023-02-15T03:44:44.764Z"
   },
   {
    "duration": 8,
    "start_time": "2023-02-15T03:44:45.015Z"
   },
   {
    "duration": 39,
    "start_time": "2023-02-15T03:44:45.025Z"
   },
   {
    "duration": 201,
    "start_time": "2023-02-15T03:44:45.065Z"
   },
   {
    "duration": 224,
    "start_time": "2023-02-15T03:44:45.267Z"
   },
   {
    "duration": 207,
    "start_time": "2023-02-15T03:44:45.493Z"
   },
   {
    "duration": 14,
    "start_time": "2023-02-15T03:44:45.702Z"
   },
   {
    "duration": 46,
    "start_time": "2023-02-15T03:44:45.718Z"
   },
   {
    "duration": 17,
    "start_time": "2023-02-15T03:44:45.766Z"
   },
   {
    "duration": 10,
    "start_time": "2023-02-15T03:44:45.785Z"
   },
   {
    "duration": 18,
    "start_time": "2023-02-15T03:44:45.797Z"
   },
   {
    "duration": 8,
    "start_time": "2023-02-15T03:44:45.816Z"
   },
   {
    "duration": 30,
    "start_time": "2023-02-15T03:44:45.825Z"
   },
   {
    "duration": 19,
    "start_time": "2023-02-15T03:44:45.857Z"
   },
   {
    "duration": 12,
    "start_time": "2023-02-15T03:44:45.878Z"
   },
   {
    "duration": 8,
    "start_time": "2023-02-15T03:44:45.892Z"
   },
   {
    "duration": 7,
    "start_time": "2023-02-15T03:45:53.064Z"
   },
   {
    "duration": 6,
    "start_time": "2023-02-15T03:46:26.972Z"
   },
   {
    "duration": 299,
    "start_time": "2023-02-15T03:46:28.400Z"
   },
   {
    "duration": 1191,
    "start_time": "2023-02-15T03:46:36.528Z"
   },
   {
    "duration": 107,
    "start_time": "2023-02-15T03:46:37.721Z"
   },
   {
    "duration": 36,
    "start_time": "2023-02-15T03:46:37.830Z"
   },
   {
    "duration": 17,
    "start_time": "2023-02-15T03:46:37.868Z"
   },
   {
    "duration": 22,
    "start_time": "2023-02-15T03:46:37.887Z"
   },
   {
    "duration": 15,
    "start_time": "2023-02-15T03:46:37.911Z"
   },
   {
    "duration": 19,
    "start_time": "2023-02-15T03:46:37.927Z"
   },
   {
    "duration": 25,
    "start_time": "2023-02-15T03:46:37.947Z"
   },
   {
    "duration": 7,
    "start_time": "2023-02-15T03:46:37.974Z"
   },
   {
    "duration": 11,
    "start_time": "2023-02-15T03:46:37.982Z"
   },
   {
    "duration": 6,
    "start_time": "2023-02-15T03:46:37.995Z"
   },
   {
    "duration": 10,
    "start_time": "2023-02-15T03:46:38.002Z"
   },
   {
    "duration": 18,
    "start_time": "2023-02-15T03:46:38.014Z"
   },
   {
    "duration": 12,
    "start_time": "2023-02-15T03:46:38.036Z"
   },
   {
    "duration": 21,
    "start_time": "2023-02-15T03:46:38.054Z"
   },
   {
    "duration": 6,
    "start_time": "2023-02-15T03:46:38.076Z"
   },
   {
    "duration": 7,
    "start_time": "2023-02-15T03:46:38.084Z"
   },
   {
    "duration": 9,
    "start_time": "2023-02-15T03:46:38.092Z"
   },
   {
    "duration": 13,
    "start_time": "2023-02-15T03:46:38.102Z"
   },
   {
    "duration": 155,
    "start_time": "2023-02-15T03:46:38.117Z"
   },
   {
    "duration": 6,
    "start_time": "2023-02-15T03:46:38.273Z"
   },
   {
    "duration": 7,
    "start_time": "2023-02-15T03:46:38.281Z"
   },
   {
    "duration": 11,
    "start_time": "2023-02-15T03:46:38.290Z"
   },
   {
    "duration": 214,
    "start_time": "2023-02-15T03:46:38.303Z"
   },
   {
    "duration": 182,
    "start_time": "2023-02-15T03:46:38.519Z"
   },
   {
    "duration": 19,
    "start_time": "2023-02-15T03:46:38.703Z"
   },
   {
    "duration": 2333,
    "start_time": "2023-02-15T03:46:38.723Z"
   },
   {
    "duration": 10,
    "start_time": "2023-02-15T03:46:41.057Z"
   },
   {
    "duration": 9,
    "start_time": "2023-02-15T03:46:41.069Z"
   },
   {
    "duration": 411,
    "start_time": "2023-02-15T03:46:41.080Z"
   },
   {
    "duration": 262,
    "start_time": "2023-02-15T03:46:41.493Z"
   },
   {
    "duration": 174,
    "start_time": "2023-02-15T03:46:41.761Z"
   },
   {
    "duration": 178,
    "start_time": "2023-02-15T03:46:41.938Z"
   },
   {
    "duration": 7,
    "start_time": "2023-02-15T03:46:42.118Z"
   },
   {
    "duration": 51,
    "start_time": "2023-02-15T03:46:42.138Z"
   },
   {
    "duration": 28,
    "start_time": "2023-02-15T03:46:42.191Z"
   },
   {
    "duration": 1537,
    "start_time": "2023-02-15T03:46:42.221Z"
   },
   {
    "duration": 485,
    "start_time": "2023-02-15T03:46:43.760Z"
   },
   {
    "duration": 18,
    "start_time": "2023-02-15T03:46:44.247Z"
   },
   {
    "duration": 311,
    "start_time": "2023-02-15T03:46:44.266Z"
   },
   {
    "duration": 9,
    "start_time": "2023-02-15T03:46:44.580Z"
   },
   {
    "duration": 22,
    "start_time": "2023-02-15T03:46:44.590Z"
   },
   {
    "duration": 245,
    "start_time": "2023-02-15T03:46:44.613Z"
   },
   {
    "duration": 199,
    "start_time": "2023-02-15T03:46:44.863Z"
   },
   {
    "duration": 206,
    "start_time": "2023-02-15T03:46:45.065Z"
   },
   {
    "duration": 15,
    "start_time": "2023-02-15T03:46:45.273Z"
   },
   {
    "duration": 18,
    "start_time": "2023-02-15T03:46:45.290Z"
   },
   {
    "duration": 51,
    "start_time": "2023-02-15T03:46:45.310Z"
   },
   {
    "duration": 10,
    "start_time": "2023-02-15T03:46:45.367Z"
   },
   {
    "duration": 22,
    "start_time": "2023-02-15T03:46:45.379Z"
   },
   {
    "duration": 8,
    "start_time": "2023-02-15T03:46:45.404Z"
   },
   {
    "duration": 17,
    "start_time": "2023-02-15T03:46:45.414Z"
   },
   {
    "duration": 32,
    "start_time": "2023-02-15T03:46:45.432Z"
   },
   {
    "duration": 24,
    "start_time": "2023-02-15T03:46:45.466Z"
   },
   {
    "duration": 9,
    "start_time": "2023-02-15T03:46:45.492Z"
   },
   {
    "duration": 1433,
    "start_time": "2023-02-15T03:47:04.431Z"
   },
   {
    "duration": 121,
    "start_time": "2023-02-15T03:48:56.545Z"
   },
   {
    "duration": 1422,
    "start_time": "2023-02-15T03:48:57.459Z"
   },
   {
    "duration": 126,
    "start_time": "2023-02-15T03:54:37.061Z"
   },
   {
    "duration": 18,
    "start_time": "2023-02-15T03:54:58.959Z"
   },
   {
    "duration": 10,
    "start_time": "2023-02-15T03:54:59.625Z"
   },
   {
    "duration": 1554,
    "start_time": "2023-02-15T03:55:04.994Z"
   },
   {
    "duration": 12,
    "start_time": "2023-02-15T03:56:35.475Z"
   },
   {
    "duration": 1435,
    "start_time": "2023-02-15T03:56:35.489Z"
   },
   {
    "duration": 1562,
    "start_time": "2023-02-15T03:57:08.406Z"
   },
   {
    "duration": 18,
    "start_time": "2023-02-15T03:58:57.950Z"
   },
   {
    "duration": 14,
    "start_time": "2023-02-15T03:58:58.535Z"
   },
   {
    "duration": 11,
    "start_time": "2023-02-15T03:59:12.967Z"
   },
   {
    "duration": 9,
    "start_time": "2023-02-15T03:59:58.657Z"
   },
   {
    "duration": 8,
    "start_time": "2023-02-15T03:59:59.005Z"
   },
   {
    "duration": 31,
    "start_time": "2023-02-15T04:01:01.927Z"
   },
   {
    "duration": 9,
    "start_time": "2023-02-15T04:02:01.329Z"
   },
   {
    "duration": 5,
    "start_time": "2023-02-15T04:02:11.005Z"
   },
   {
    "duration": 5,
    "start_time": "2023-02-15T04:03:22.322Z"
   },
   {
    "duration": 7,
    "start_time": "2023-02-15T04:03:23.816Z"
   },
   {
    "duration": 1210,
    "start_time": "2023-02-15T04:03:30.021Z"
   },
   {
    "duration": 120,
    "start_time": "2023-02-15T04:03:31.234Z"
   },
   {
    "duration": 20,
    "start_time": "2023-02-15T04:03:31.359Z"
   },
   {
    "duration": 15,
    "start_time": "2023-02-15T04:03:31.381Z"
   },
   {
    "duration": 24,
    "start_time": "2023-02-15T04:03:31.399Z"
   },
   {
    "duration": 27,
    "start_time": "2023-02-15T04:03:31.425Z"
   },
   {
    "duration": 16,
    "start_time": "2023-02-15T04:03:31.458Z"
   },
   {
    "duration": 17,
    "start_time": "2023-02-15T04:03:31.476Z"
   },
   {
    "duration": 14,
    "start_time": "2023-02-15T04:03:31.494Z"
   },
   {
    "duration": 10,
    "start_time": "2023-02-15T04:03:31.510Z"
   },
   {
    "duration": 8,
    "start_time": "2023-02-15T04:03:31.522Z"
   },
   {
    "duration": 24,
    "start_time": "2023-02-15T04:03:31.532Z"
   },
   {
    "duration": 46,
    "start_time": "2023-02-15T04:03:31.558Z"
   },
   {
    "duration": 18,
    "start_time": "2023-02-15T04:03:31.607Z"
   },
   {
    "duration": 20,
    "start_time": "2023-02-15T04:03:31.626Z"
   },
   {
    "duration": 25,
    "start_time": "2023-02-15T04:03:31.647Z"
   },
   {
    "duration": 8,
    "start_time": "2023-02-15T04:03:31.673Z"
   },
   {
    "duration": 10,
    "start_time": "2023-02-15T04:03:31.683Z"
   },
   {
    "duration": 15,
    "start_time": "2023-02-15T04:03:31.694Z"
   },
   {
    "duration": 110,
    "start_time": "2023-02-15T04:03:31.711Z"
   },
   {
    "duration": 28,
    "start_time": "2023-02-15T04:03:31.822Z"
   },
   {
    "duration": 19,
    "start_time": "2023-02-15T04:03:31.860Z"
   },
   {
    "duration": 11,
    "start_time": "2023-02-15T04:03:31.880Z"
   },
   {
    "duration": 187,
    "start_time": "2023-02-15T04:03:31.892Z"
   },
   {
    "duration": 188,
    "start_time": "2023-02-15T04:03:32.081Z"
   },
   {
    "duration": 18,
    "start_time": "2023-02-15T04:03:32.271Z"
   },
   {
    "duration": 2111,
    "start_time": "2023-02-15T04:03:32.290Z"
   },
   {
    "duration": 9,
    "start_time": "2023-02-15T04:03:34.402Z"
   },
   {
    "duration": 12,
    "start_time": "2023-02-15T04:03:34.412Z"
   },
   {
    "duration": 132,
    "start_time": "2023-02-15T04:03:34.426Z"
   },
   {
    "duration": 23,
    "start_time": "2023-02-15T04:03:34.562Z"
   },
   {
    "duration": 305,
    "start_time": "2023-02-15T04:03:34.586Z"
   },
   {
    "duration": 236,
    "start_time": "2023-02-15T04:03:34.893Z"
   },
   {
    "duration": 176,
    "start_time": "2023-02-15T04:03:35.131Z"
   },
   {
    "duration": 180,
    "start_time": "2023-02-15T04:03:35.309Z"
   },
   {
    "duration": 7,
    "start_time": "2023-02-15T04:03:35.491Z"
   },
   {
    "duration": 8,
    "start_time": "2023-02-15T04:03:35.500Z"
   },
   {
    "duration": 39,
    "start_time": "2023-02-15T04:03:35.510Z"
   },
   {
    "duration": 1956,
    "start_time": "2023-02-15T04:03:35.551Z"
   },
   {
    "duration": 384,
    "start_time": "2023-02-15T04:03:37.509Z"
   },
   {
    "duration": 15,
    "start_time": "2023-02-15T04:03:37.897Z"
   },
   {
    "duration": 279,
    "start_time": "2023-02-15T04:03:37.914Z"
   },
   {
    "duration": 9,
    "start_time": "2023-02-15T04:03:38.195Z"
   },
   {
    "duration": 18,
    "start_time": "2023-02-15T04:03:38.206Z"
   },
   {
    "duration": 276,
    "start_time": "2023-02-15T04:03:38.237Z"
   },
   {
    "duration": 214,
    "start_time": "2023-02-15T04:03:38.515Z"
   },
   {
    "duration": 212,
    "start_time": "2023-02-15T04:03:38.731Z"
   },
   {
    "duration": 18,
    "start_time": "2023-02-15T04:03:38.951Z"
   },
   {
    "duration": 14,
    "start_time": "2023-02-15T04:03:38.971Z"
   },
   {
    "duration": 15,
    "start_time": "2023-02-15T04:03:38.986Z"
   },
   {
    "duration": 7,
    "start_time": "2023-02-15T04:03:39.003Z"
   },
   {
    "duration": 38,
    "start_time": "2023-02-15T04:03:39.012Z"
   },
   {
    "duration": 16,
    "start_time": "2023-02-15T04:03:39.055Z"
   },
   {
    "duration": 9,
    "start_time": "2023-02-15T04:03:39.073Z"
   },
   {
    "duration": 7,
    "start_time": "2023-02-15T04:03:39.083Z"
   },
   {
    "duration": 15,
    "start_time": "2023-02-15T04:03:39.091Z"
   },
   {
    "duration": 5,
    "start_time": "2023-02-15T04:03:39.108Z"
   },
   {
    "duration": 6,
    "start_time": "2023-02-15T04:04:30.517Z"
   },
   {
    "duration": 6,
    "start_time": "2023-02-15T04:04:33.195Z"
   },
   {
    "duration": 7,
    "start_time": "2023-02-15T04:04:59.699Z"
   },
   {
    "duration": 2269,
    "start_time": "2023-02-15T04:05:18.528Z"
   },
   {
    "duration": 108,
    "start_time": "2023-02-15T04:05:20.799Z"
   },
   {
    "duration": 18,
    "start_time": "2023-02-15T04:05:20.908Z"
   },
   {
    "duration": 18,
    "start_time": "2023-02-15T04:05:20.927Z"
   },
   {
    "duration": 35,
    "start_time": "2023-02-15T04:05:20.947Z"
   },
   {
    "duration": 15,
    "start_time": "2023-02-15T04:05:20.984Z"
   },
   {
    "duration": 5,
    "start_time": "2023-02-15T04:05:21.001Z"
   },
   {
    "duration": 17,
    "start_time": "2023-02-15T04:05:21.008Z"
   },
   {
    "duration": 13,
    "start_time": "2023-02-15T04:05:21.027Z"
   },
   {
    "duration": 33,
    "start_time": "2023-02-15T04:05:21.041Z"
   },
   {
    "duration": 11,
    "start_time": "2023-02-15T04:05:21.076Z"
   },
   {
    "duration": 13,
    "start_time": "2023-02-15T04:05:21.088Z"
   },
   {
    "duration": 19,
    "start_time": "2023-02-15T04:05:21.104Z"
   },
   {
    "duration": 8,
    "start_time": "2023-02-15T04:05:21.126Z"
   },
   {
    "duration": 48,
    "start_time": "2023-02-15T04:05:21.135Z"
   },
   {
    "duration": 6,
    "start_time": "2023-02-15T04:05:21.185Z"
   },
   {
    "duration": 6,
    "start_time": "2023-02-15T04:05:21.193Z"
   },
   {
    "duration": 10,
    "start_time": "2023-02-15T04:05:21.201Z"
   },
   {
    "duration": 12,
    "start_time": "2023-02-15T04:05:21.213Z"
   },
   {
    "duration": 106,
    "start_time": "2023-02-15T04:05:21.226Z"
   },
   {
    "duration": 12,
    "start_time": "2023-02-15T04:05:21.349Z"
   },
   {
    "duration": 14,
    "start_time": "2023-02-15T04:05:21.366Z"
   },
   {
    "duration": 9,
    "start_time": "2023-02-15T04:05:21.382Z"
   },
   {
    "duration": 172,
    "start_time": "2023-02-15T04:05:21.393Z"
   },
   {
    "duration": 166,
    "start_time": "2023-02-15T04:05:21.566Z"
   },
   {
    "duration": 27,
    "start_time": "2023-02-15T04:05:21.742Z"
   },
   {
    "duration": 2099,
    "start_time": "2023-02-15T04:05:21.771Z"
   },
   {
    "duration": 6,
    "start_time": "2023-02-15T04:05:23.872Z"
   },
   {
    "duration": 9,
    "start_time": "2023-02-15T04:05:23.880Z"
   },
   {
    "duration": 114,
    "start_time": "2023-02-15T04:05:23.891Z"
   },
   {
    "duration": 297,
    "start_time": "2023-02-15T04:05:24.006Z"
   },
   {
    "duration": 266,
    "start_time": "2023-02-15T04:05:24.305Z"
   },
   {
    "duration": 179,
    "start_time": "2023-02-15T04:05:24.573Z"
   },
   {
    "duration": 166,
    "start_time": "2023-02-15T04:05:24.753Z"
   },
   {
    "duration": 6,
    "start_time": "2023-02-15T04:05:24.921Z"
   },
   {
    "duration": 6,
    "start_time": "2023-02-15T04:05:24.940Z"
   },
   {
    "duration": 27,
    "start_time": "2023-02-15T04:05:24.947Z"
   },
   {
    "duration": 1886,
    "start_time": "2023-02-15T04:05:24.975Z"
   },
   {
    "duration": 349,
    "start_time": "2023-02-15T04:05:26.863Z"
   },
   {
    "duration": 14,
    "start_time": "2023-02-15T04:05:27.214Z"
   },
   {
    "duration": 271,
    "start_time": "2023-02-15T04:05:27.246Z"
   },
   {
    "duration": 8,
    "start_time": "2023-02-15T04:05:27.518Z"
   },
   {
    "duration": 45,
    "start_time": "2023-02-15T04:05:27.528Z"
   },
   {
    "duration": 196,
    "start_time": "2023-02-15T04:05:27.575Z"
   },
   {
    "duration": 206,
    "start_time": "2023-02-15T04:05:27.773Z"
   },
   {
    "duration": 203,
    "start_time": "2023-02-15T04:05:27.981Z"
   },
   {
    "duration": 15,
    "start_time": "2023-02-15T04:05:28.186Z"
   },
   {
    "duration": 34,
    "start_time": "2023-02-15T04:05:28.203Z"
   },
   {
    "duration": 50,
    "start_time": "2023-02-15T04:05:28.248Z"
   },
   {
    "duration": 24,
    "start_time": "2023-02-15T04:05:28.300Z"
   },
   {
    "duration": 80,
    "start_time": "2023-02-15T04:05:28.325Z"
   },
   {
    "duration": 13,
    "start_time": "2023-02-15T04:05:28.408Z"
   },
   {
    "duration": 52,
    "start_time": "2023-02-15T04:05:28.422Z"
   },
   {
    "duration": 28,
    "start_time": "2023-02-15T04:05:28.476Z"
   },
   {
    "duration": 35,
    "start_time": "2023-02-15T04:05:28.506Z"
   },
   {
    "duration": 30,
    "start_time": "2023-02-15T04:05:28.549Z"
   },
   {
    "duration": 7,
    "start_time": "2023-02-15T04:09:14.522Z"
   },
   {
    "duration": 8,
    "start_time": "2023-02-15T04:09:22.983Z"
   },
   {
    "duration": 163,
    "start_time": "2023-02-15T04:11:07.593Z"
   },
   {
    "duration": 171,
    "start_time": "2023-02-15T04:11:10.249Z"
   },
   {
    "duration": 6,
    "start_time": "2023-02-15T04:11:14.051Z"
   },
   {
    "duration": 12,
    "start_time": "2023-02-15T04:11:14.733Z"
   },
   {
    "duration": 15,
    "start_time": "2023-02-15T04:11:49.620Z"
   },
   {
    "duration": 1953,
    "start_time": "2023-02-15T04:11:50.720Z"
   },
   {
    "duration": 12,
    "start_time": "2023-02-15T04:12:53.270Z"
   },
   {
    "duration": 1816,
    "start_time": "2023-02-15T04:12:54.312Z"
   },
   {
    "duration": 406,
    "start_time": "2023-02-15T04:22:30.079Z"
   },
   {
    "duration": 7,
    "start_time": "2023-02-15T04:22:46.956Z"
   },
   {
    "duration": 11,
    "start_time": "2023-02-15T04:23:07.213Z"
   },
   {
    "duration": 377,
    "start_time": "2023-02-15T04:24:31.571Z"
   },
   {
    "duration": 18,
    "start_time": "2023-02-15T04:24:41.442Z"
   },
   {
    "duration": 1194,
    "start_time": "2023-02-15T04:31:34.314Z"
   },
   {
    "duration": 94,
    "start_time": "2023-02-15T04:31:35.510Z"
   },
   {
    "duration": 18,
    "start_time": "2023-02-15T04:31:35.605Z"
   },
   {
    "duration": 23,
    "start_time": "2023-02-15T04:31:35.625Z"
   },
   {
    "duration": 15,
    "start_time": "2023-02-15T04:31:35.651Z"
   },
   {
    "duration": 22,
    "start_time": "2023-02-15T04:31:35.668Z"
   },
   {
    "duration": 4,
    "start_time": "2023-02-15T04:31:35.692Z"
   },
   {
    "duration": 9,
    "start_time": "2023-02-15T04:31:35.698Z"
   },
   {
    "duration": 11,
    "start_time": "2023-02-15T04:31:35.708Z"
   },
   {
    "duration": 12,
    "start_time": "2023-02-15T04:31:35.721Z"
   },
   {
    "duration": 10,
    "start_time": "2023-02-15T04:31:35.747Z"
   },
   {
    "duration": 13,
    "start_time": "2023-02-15T04:31:35.758Z"
   },
   {
    "duration": 22,
    "start_time": "2023-02-15T04:31:35.773Z"
   },
   {
    "duration": 10,
    "start_time": "2023-02-15T04:31:35.799Z"
   },
   {
    "duration": 10,
    "start_time": "2023-02-15T04:31:35.810Z"
   },
   {
    "duration": 9,
    "start_time": "2023-02-15T04:31:35.822Z"
   },
   {
    "duration": 22,
    "start_time": "2023-02-15T04:31:35.833Z"
   },
   {
    "duration": 11,
    "start_time": "2023-02-15T04:31:35.857Z"
   },
   {
    "duration": 13,
    "start_time": "2023-02-15T04:31:35.870Z"
   },
   {
    "duration": 108,
    "start_time": "2023-02-15T04:31:35.884Z"
   },
   {
    "duration": 4,
    "start_time": "2023-02-15T04:31:35.994Z"
   },
   {
    "duration": 13,
    "start_time": "2023-02-15T04:31:35.999Z"
   },
   {
    "duration": 11,
    "start_time": "2023-02-15T04:31:36.013Z"
   },
   {
    "duration": 189,
    "start_time": "2023-02-15T04:31:36.038Z"
   },
   {
    "duration": 163,
    "start_time": "2023-02-15T04:31:36.229Z"
   },
   {
    "duration": 18,
    "start_time": "2023-02-15T04:31:36.394Z"
   },
   {
    "duration": 2147,
    "start_time": "2023-02-15T04:31:36.413Z"
   },
   {
    "duration": 9,
    "start_time": "2023-02-15T04:31:38.563Z"
   },
   {
    "duration": 11,
    "start_time": "2023-02-15T04:31:38.574Z"
   },
   {
    "duration": 116,
    "start_time": "2023-02-15T04:31:38.587Z"
   },
   {
    "duration": 323,
    "start_time": "2023-02-15T04:31:38.704Z"
   },
   {
    "duration": 265,
    "start_time": "2023-02-15T04:31:39.029Z"
   },
   {
    "duration": 196,
    "start_time": "2023-02-15T04:31:39.296Z"
   },
   {
    "duration": 217,
    "start_time": "2023-02-15T04:31:39.494Z"
   },
   {
    "duration": 8,
    "start_time": "2023-02-15T04:31:39.713Z"
   },
   {
    "duration": 37,
    "start_time": "2023-02-15T04:31:39.723Z"
   },
   {
    "duration": 25,
    "start_time": "2023-02-15T04:31:39.762Z"
   },
   {
    "duration": 1923,
    "start_time": "2023-02-15T04:31:39.788Z"
   },
   {
    "duration": 385,
    "start_time": "2023-02-15T04:31:41.713Z"
   },
   {
    "duration": 15,
    "start_time": "2023-02-15T04:31:42.100Z"
   },
   {
    "duration": 293,
    "start_time": "2023-02-15T04:31:42.118Z"
   },
   {
    "duration": 10,
    "start_time": "2023-02-15T04:31:42.413Z"
   },
   {
    "duration": 65,
    "start_time": "2023-02-15T04:31:42.425Z"
   },
   {
    "duration": 229,
    "start_time": "2023-02-15T04:31:42.492Z"
   },
   {
    "duration": 242,
    "start_time": "2023-02-15T04:31:42.723Z"
   },
   {
    "duration": 239,
    "start_time": "2023-02-15T04:31:42.967Z"
   },
   {
    "duration": 15,
    "start_time": "2023-02-15T04:31:43.208Z"
   },
   {
    "duration": 56,
    "start_time": "2023-02-15T04:31:43.225Z"
   },
   {
    "duration": 44,
    "start_time": "2023-02-15T04:31:43.283Z"
   },
   {
    "duration": 55,
    "start_time": "2023-02-15T04:31:43.330Z"
   },
   {
    "duration": 59,
    "start_time": "2023-02-15T04:31:43.387Z"
   },
   {
    "duration": 33,
    "start_time": "2023-02-15T04:31:43.447Z"
   },
   {
    "duration": 33,
    "start_time": "2023-02-15T04:31:43.482Z"
   },
   {
    "duration": 55,
    "start_time": "2023-02-15T04:31:43.516Z"
   },
   {
    "duration": 48,
    "start_time": "2023-02-15T04:31:43.574Z"
   },
   {
    "duration": 43,
    "start_time": "2023-02-15T04:31:43.624Z"
   },
   {
    "duration": 82,
    "start_time": "2023-02-15T04:45:34.805Z"
   },
   {
    "duration": 1567,
    "start_time": "2023-02-16T04:04:54.979Z"
   },
   {
    "duration": 277,
    "start_time": "2023-02-16T04:04:56.548Z"
   },
   {
    "duration": 41,
    "start_time": "2023-02-16T04:04:56.827Z"
   },
   {
    "duration": 24,
    "start_time": "2023-02-16T04:04:56.870Z"
   },
   {
    "duration": 75,
    "start_time": "2023-02-16T04:04:56.896Z"
   },
   {
    "duration": 47,
    "start_time": "2023-02-16T04:04:56.977Z"
   },
   {
    "duration": 63,
    "start_time": "2023-02-16T04:04:57.026Z"
   },
   {
    "duration": 34,
    "start_time": "2023-02-16T04:04:57.094Z"
   },
   {
    "duration": 82,
    "start_time": "2023-02-16T04:04:57.130Z"
   },
   {
    "duration": 26,
    "start_time": "2023-02-16T04:04:57.214Z"
   },
   {
    "duration": 66,
    "start_time": "2023-02-16T04:04:57.242Z"
   },
   {
    "duration": 43,
    "start_time": "2023-02-16T04:04:57.311Z"
   },
   {
    "duration": 73,
    "start_time": "2023-02-16T04:04:57.356Z"
   },
   {
    "duration": 26,
    "start_time": "2023-02-16T04:04:57.435Z"
   },
   {
    "duration": 57,
    "start_time": "2023-02-16T04:04:57.471Z"
   },
   {
    "duration": 58,
    "start_time": "2023-02-16T04:04:57.530Z"
   },
   {
    "duration": 20,
    "start_time": "2023-02-16T04:04:57.589Z"
   },
   {
    "duration": 93,
    "start_time": "2023-02-16T04:04:57.611Z"
   },
   {
    "duration": 83,
    "start_time": "2023-02-16T04:04:57.707Z"
   },
   {
    "duration": 161,
    "start_time": "2023-02-16T04:04:57.792Z"
   },
   {
    "duration": 13,
    "start_time": "2023-02-16T04:04:57.955Z"
   },
   {
    "duration": 10,
    "start_time": "2023-02-16T04:04:57.971Z"
   },
   {
    "duration": 41,
    "start_time": "2023-02-16T04:04:57.983Z"
   },
   {
    "duration": 227,
    "start_time": "2023-02-16T04:04:58.026Z"
   },
   {
    "duration": 216,
    "start_time": "2023-02-16T04:04:58.262Z"
   },
   {
    "duration": 26,
    "start_time": "2023-02-16T04:04:58.480Z"
   },
   {
    "duration": 2496,
    "start_time": "2023-02-16T04:04:58.509Z"
   },
   {
    "duration": 9,
    "start_time": "2023-02-16T04:05:01.006Z"
   },
   {
    "duration": 53,
    "start_time": "2023-02-16T04:05:01.017Z"
   },
   {
    "duration": 205,
    "start_time": "2023-02-16T04:05:01.072Z"
   },
   {
    "duration": 391,
    "start_time": "2023-02-16T04:05:01.280Z"
   },
   {
    "duration": 278,
    "start_time": "2023-02-16T04:05:01.674Z"
   },
   {
    "duration": 173,
    "start_time": "2023-02-16T04:05:01.953Z"
   },
   {
    "duration": 190,
    "start_time": "2023-02-16T04:05:02.128Z"
   },
   {
    "duration": 7,
    "start_time": "2023-02-16T04:05:02.319Z"
   },
   {
    "duration": 47,
    "start_time": "2023-02-16T04:05:02.343Z"
   },
   {
    "duration": 83,
    "start_time": "2023-02-16T04:05:02.392Z"
   },
   {
    "duration": 2094,
    "start_time": "2023-02-16T04:05:02.477Z"
   },
   {
    "duration": 408,
    "start_time": "2023-02-16T04:05:04.573Z"
   },
   {
    "duration": 14,
    "start_time": "2023-02-16T04:05:04.983Z"
   },
   {
    "duration": 319,
    "start_time": "2023-02-16T04:05:05.002Z"
   },
   {
    "duration": 18,
    "start_time": "2023-02-16T04:05:05.323Z"
   },
   {
    "duration": 65,
    "start_time": "2023-02-16T04:05:05.347Z"
   },
   {
    "duration": 243,
    "start_time": "2023-02-16T04:05:05.413Z"
   },
   {
    "duration": 224,
    "start_time": "2023-02-16T04:05:05.660Z"
   },
   {
    "duration": 232,
    "start_time": "2023-02-16T04:05:05.887Z"
   },
   {
    "duration": 41,
    "start_time": "2023-02-16T04:05:06.121Z"
   },
   {
    "duration": 40,
    "start_time": "2023-02-16T04:05:06.163Z"
   },
   {
    "duration": 30,
    "start_time": "2023-02-16T04:05:06.204Z"
   },
   {
    "duration": 41,
    "start_time": "2023-02-16T04:05:06.238Z"
   },
   {
    "duration": 39,
    "start_time": "2023-02-16T04:05:06.281Z"
   },
   {
    "duration": 10,
    "start_time": "2023-02-16T04:05:06.322Z"
   },
   {
    "duration": 57,
    "start_time": "2023-02-16T04:05:06.334Z"
   },
   {
    "duration": 24,
    "start_time": "2023-02-16T04:05:06.393Z"
   },
   {
    "duration": 69,
    "start_time": "2023-02-16T04:05:06.419Z"
   },
   {
    "duration": 29,
    "start_time": "2023-02-16T04:05:06.489Z"
   },
   {
    "duration": 8,
    "start_time": "2023-02-16T04:29:54.067Z"
   },
   {
    "duration": 7,
    "start_time": "2023-02-16T04:47:55.262Z"
   },
   {
    "duration": 1361,
    "start_time": "2023-02-16T04:54:58.235Z"
   },
   {
    "duration": 118,
    "start_time": "2023-02-16T04:54:59.599Z"
   },
   {
    "duration": 37,
    "start_time": "2023-02-16T04:54:59.722Z"
   },
   {
    "duration": 50,
    "start_time": "2023-02-16T04:54:59.762Z"
   },
   {
    "duration": 44,
    "start_time": "2023-02-16T04:54:59.813Z"
   },
   {
    "duration": 42,
    "start_time": "2023-02-16T04:54:59.870Z"
   },
   {
    "duration": 10,
    "start_time": "2023-02-16T04:54:59.914Z"
   },
   {
    "duration": 68,
    "start_time": "2023-02-16T04:54:59.927Z"
   },
   {
    "duration": 34,
    "start_time": "2023-02-16T04:54:59.997Z"
   },
   {
    "duration": 66,
    "start_time": "2023-02-16T04:55:00.033Z"
   },
   {
    "duration": 25,
    "start_time": "2023-02-16T04:55:00.101Z"
   },
   {
    "duration": 69,
    "start_time": "2023-02-16T04:55:00.128Z"
   },
   {
    "duration": 49,
    "start_time": "2023-02-16T04:55:00.200Z"
   },
   {
    "duration": 58,
    "start_time": "2023-02-16T04:55:00.260Z"
   },
   {
    "duration": 77,
    "start_time": "2023-02-16T04:55:00.320Z"
   },
   {
    "duration": 26,
    "start_time": "2023-02-16T04:55:00.400Z"
   },
   {
    "duration": 66,
    "start_time": "2023-02-16T04:55:00.428Z"
   },
   {
    "duration": 37,
    "start_time": "2023-02-16T04:55:00.496Z"
   },
   {
    "duration": 87,
    "start_time": "2023-02-16T04:55:00.535Z"
   },
   {
    "duration": 173,
    "start_time": "2023-02-16T04:55:00.624Z"
   },
   {
    "duration": 6,
    "start_time": "2023-02-16T04:55:00.799Z"
   },
   {
    "duration": 54,
    "start_time": "2023-02-16T04:55:00.807Z"
   },
   {
    "duration": 119,
    "start_time": "2023-02-16T04:55:00.867Z"
   },
   {
    "duration": 214,
    "start_time": "2023-02-16T04:55:00.987Z"
   },
   {
    "duration": 204,
    "start_time": "2023-02-16T04:55:01.203Z"
   },
   {
    "duration": 49,
    "start_time": "2023-02-16T04:55:01.413Z"
   },
   {
    "duration": 2389,
    "start_time": "2023-02-16T04:55:01.469Z"
   },
   {
    "duration": 12,
    "start_time": "2023-02-16T04:55:03.859Z"
   },
   {
    "duration": 33,
    "start_time": "2023-02-16T04:55:03.873Z"
   },
   {
    "duration": 194,
    "start_time": "2023-02-16T04:55:03.908Z"
   },
   {
    "duration": 391,
    "start_time": "2023-02-16T04:55:04.103Z"
   },
   {
    "duration": 302,
    "start_time": "2023-02-16T04:55:04.496Z"
   },
   {
    "duration": 203,
    "start_time": "2023-02-16T04:55:04.801Z"
   },
   {
    "duration": 223,
    "start_time": "2023-02-16T04:55:05.006Z"
   },
   {
    "duration": 18,
    "start_time": "2023-02-16T04:55:05.231Z"
   },
   {
    "duration": 56,
    "start_time": "2023-02-16T04:55:05.251Z"
   },
   {
    "duration": 80,
    "start_time": "2023-02-16T04:55:05.310Z"
   },
   {
    "duration": 2198,
    "start_time": "2023-02-16T04:55:05.392Z"
   },
   {
    "duration": 426,
    "start_time": "2023-02-16T04:55:07.592Z"
   },
   {
    "duration": 45,
    "start_time": "2023-02-16T04:55:08.019Z"
   },
   {
    "duration": 323,
    "start_time": "2023-02-16T04:55:08.066Z"
   },
   {
    "duration": 12,
    "start_time": "2023-02-16T04:55:08.391Z"
   },
   {
    "duration": 42,
    "start_time": "2023-02-16T04:55:08.405Z"
   },
   {
    "duration": 259,
    "start_time": "2023-02-16T04:55:08.450Z"
   },
   {
    "duration": 242,
    "start_time": "2023-02-16T04:55:08.711Z"
   },
   {
    "duration": 219,
    "start_time": "2023-02-16T04:55:08.959Z"
   },
   {
    "duration": 16,
    "start_time": "2023-02-16T04:55:09.180Z"
   },
   {
    "duration": 19,
    "start_time": "2023-02-16T04:55:09.197Z"
   },
   {
    "duration": 85,
    "start_time": "2023-02-16T04:55:09.218Z"
   },
   {
    "duration": 8,
    "start_time": "2023-02-16T04:55:09.305Z"
   },
   {
    "duration": 112,
    "start_time": "2023-02-16T04:55:09.316Z"
   },
   {
    "duration": 14,
    "start_time": "2023-02-16T04:55:09.430Z"
   },
   {
    "duration": 51,
    "start_time": "2023-02-16T04:55:09.445Z"
   },
   {
    "duration": 7,
    "start_time": "2023-02-16T04:55:09.498Z"
   },
   {
    "duration": 18,
    "start_time": "2023-02-16T04:55:09.507Z"
   },
   {
    "duration": 8,
    "start_time": "2023-02-16T04:55:09.526Z"
   },
   {
    "duration": 1399,
    "start_time": "2023-02-16T05:05:30.433Z"
   },
   {
    "duration": 136,
    "start_time": "2023-02-16T05:05:31.835Z"
   },
   {
    "duration": 31,
    "start_time": "2023-02-16T05:05:31.973Z"
   },
   {
    "duration": 24,
    "start_time": "2023-02-16T05:05:32.008Z"
   },
   {
    "duration": 74,
    "start_time": "2023-02-16T05:05:32.035Z"
   },
   {
    "duration": 81,
    "start_time": "2023-02-16T05:05:32.112Z"
   },
   {
    "duration": 23,
    "start_time": "2023-02-16T05:05:32.194Z"
   },
   {
    "duration": 69,
    "start_time": "2023-02-16T05:05:32.219Z"
   },
   {
    "duration": 59,
    "start_time": "2023-02-16T05:05:32.291Z"
   },
   {
    "duration": 32,
    "start_time": "2023-02-16T05:05:32.352Z"
   },
   {
    "duration": 19,
    "start_time": "2023-02-16T05:05:32.386Z"
   },
   {
    "duration": 32,
    "start_time": "2023-02-16T05:05:32.407Z"
   },
   {
    "duration": 60,
    "start_time": "2023-02-16T05:05:32.441Z"
   },
   {
    "duration": 10,
    "start_time": "2023-02-16T05:05:32.506Z"
   },
   {
    "duration": 60,
    "start_time": "2023-02-16T05:05:32.518Z"
   },
   {
    "duration": 20,
    "start_time": "2023-02-16T05:05:32.581Z"
   },
   {
    "duration": 74,
    "start_time": "2023-02-16T05:05:32.603Z"
   },
   {
    "duration": 28,
    "start_time": "2023-02-16T05:05:32.679Z"
   },
   {
    "duration": 81,
    "start_time": "2023-02-16T05:05:32.709Z"
   },
   {
    "duration": 157,
    "start_time": "2023-02-16T05:05:32.792Z"
   },
   {
    "duration": 8,
    "start_time": "2023-02-16T05:05:32.953Z"
   },
   {
    "duration": 5,
    "start_time": "2023-02-16T05:05:32.963Z"
   },
   {
    "duration": 67,
    "start_time": "2023-02-16T05:05:32.971Z"
   },
   {
    "duration": 277,
    "start_time": "2023-02-16T05:05:33.040Z"
   },
   {
    "duration": 189,
    "start_time": "2023-02-16T05:05:33.319Z"
   },
   {
    "duration": 46,
    "start_time": "2023-02-16T05:05:33.511Z"
   },
   {
    "duration": 2510,
    "start_time": "2023-02-16T05:05:33.561Z"
   },
   {
    "duration": 8,
    "start_time": "2023-02-16T05:05:36.073Z"
   },
   {
    "duration": 29,
    "start_time": "2023-02-16T05:05:36.083Z"
   },
   {
    "duration": 150,
    "start_time": "2023-02-16T05:05:36.114Z"
   },
   {
    "duration": 390,
    "start_time": "2023-02-16T05:05:36.266Z"
   },
   {
    "duration": 279,
    "start_time": "2023-02-16T05:05:36.664Z"
   },
   {
    "duration": 181,
    "start_time": "2023-02-16T05:05:36.953Z"
   },
   {
    "duration": 218,
    "start_time": "2023-02-16T05:05:37.138Z"
   },
   {
    "duration": 11,
    "start_time": "2023-02-16T05:05:37.360Z"
   },
   {
    "duration": 29,
    "start_time": "2023-02-16T05:05:37.375Z"
   },
   {
    "duration": 71,
    "start_time": "2023-02-16T05:05:37.406Z"
   },
   {
    "duration": 2252,
    "start_time": "2023-02-16T05:05:37.479Z"
   },
   {
    "duration": 451,
    "start_time": "2023-02-16T05:05:39.733Z"
   },
   {
    "duration": 18,
    "start_time": "2023-02-16T05:05:40.186Z"
   },
   {
    "duration": 347,
    "start_time": "2023-02-16T05:05:40.209Z"
   },
   {
    "duration": 18,
    "start_time": "2023-02-16T05:05:40.558Z"
   },
   {
    "duration": 55,
    "start_time": "2023-02-16T05:05:40.581Z"
   },
   {
    "duration": 260,
    "start_time": "2023-02-16T05:05:40.643Z"
   },
   {
    "duration": 270,
    "start_time": "2023-02-16T05:05:40.905Z"
   },
   {
    "duration": 240,
    "start_time": "2023-02-16T05:05:41.178Z"
   },
   {
    "duration": 40,
    "start_time": "2023-02-16T05:05:41.420Z"
   },
   {
    "duration": 80,
    "start_time": "2023-02-16T05:05:41.466Z"
   },
   {
    "duration": 152,
    "start_time": "2023-02-16T05:05:41.551Z"
   },
   {
    "duration": 85,
    "start_time": "2023-02-16T05:05:41.705Z"
   },
   {
    "duration": 95,
    "start_time": "2023-02-16T05:05:41.792Z"
   },
   {
    "duration": 31,
    "start_time": "2023-02-16T05:05:41.889Z"
   },
   {
    "duration": 95,
    "start_time": "2023-02-16T05:05:41.923Z"
   },
   {
    "duration": 22,
    "start_time": "2023-02-16T05:05:42.020Z"
   },
   {
    "duration": 87,
    "start_time": "2023-02-16T05:05:42.043Z"
   },
   {
    "duration": 76,
    "start_time": "2023-02-16T05:05:42.132Z"
   },
   {
    "duration": 1287,
    "start_time": "2023-02-16T05:06:09.407Z"
   },
   {
    "duration": 128,
    "start_time": "2023-02-16T05:06:10.697Z"
   },
   {
    "duration": 44,
    "start_time": "2023-02-16T05:06:10.827Z"
   },
   {
    "duration": 16,
    "start_time": "2023-02-16T05:06:10.879Z"
   },
   {
    "duration": 18,
    "start_time": "2023-02-16T05:06:10.898Z"
   },
   {
    "duration": 27,
    "start_time": "2023-02-16T05:06:10.920Z"
   },
   {
    "duration": 25,
    "start_time": "2023-02-16T05:06:10.949Z"
   },
   {
    "duration": 20,
    "start_time": "2023-02-16T05:06:10.975Z"
   },
   {
    "duration": 8,
    "start_time": "2023-02-16T05:06:10.996Z"
   },
   {
    "duration": 12,
    "start_time": "2023-02-16T05:06:11.006Z"
   },
   {
    "duration": 10,
    "start_time": "2023-02-16T05:06:11.020Z"
   },
   {
    "duration": 40,
    "start_time": "2023-02-16T05:06:11.032Z"
   },
   {
    "duration": 18,
    "start_time": "2023-02-16T05:06:11.074Z"
   },
   {
    "duration": 11,
    "start_time": "2023-02-16T05:06:11.095Z"
   },
   {
    "duration": 12,
    "start_time": "2023-02-16T05:06:11.108Z"
   },
   {
    "duration": 8,
    "start_time": "2023-02-16T05:06:11.121Z"
   },
   {
    "duration": 20,
    "start_time": "2023-02-16T05:06:11.131Z"
   },
   {
    "duration": 31,
    "start_time": "2023-02-16T05:06:11.157Z"
   },
   {
    "duration": 13,
    "start_time": "2023-02-16T05:06:11.190Z"
   },
   {
    "duration": 125,
    "start_time": "2023-02-16T05:06:11.206Z"
   },
   {
    "duration": 8,
    "start_time": "2023-02-16T05:06:11.333Z"
   },
   {
    "duration": 40,
    "start_time": "2023-02-16T05:06:11.351Z"
   },
   {
    "duration": 13,
    "start_time": "2023-02-16T05:06:11.393Z"
   },
   {
    "duration": 204,
    "start_time": "2023-02-16T05:06:11.408Z"
   },
   {
    "duration": 217,
    "start_time": "2023-02-16T05:06:11.614Z"
   },
   {
    "duration": 26,
    "start_time": "2023-02-16T05:06:11.834Z"
   },
   {
    "duration": 2425,
    "start_time": "2023-02-16T05:06:11.863Z"
   },
   {
    "duration": 8,
    "start_time": "2023-02-16T05:06:14.291Z"
   },
   {
    "duration": 153,
    "start_time": "2023-02-16T05:06:14.302Z"
   },
   {
    "duration": 12,
    "start_time": "2023-02-16T05:06:14.457Z"
   },
   {
    "duration": 363,
    "start_time": "2023-02-16T05:06:14.472Z"
   },
   {
    "duration": 288,
    "start_time": "2023-02-16T05:06:14.841Z"
   },
   {
    "duration": 244,
    "start_time": "2023-02-16T05:06:15.131Z"
   },
   {
    "duration": 246,
    "start_time": "2023-02-16T05:06:15.378Z"
   },
   {
    "duration": 12,
    "start_time": "2023-02-16T05:06:15.626Z"
   },
   {
    "duration": 37,
    "start_time": "2023-02-16T05:06:15.647Z"
   },
   {
    "duration": 14,
    "start_time": "2023-02-16T05:06:15.687Z"
   },
   {
    "duration": 2186,
    "start_time": "2023-02-16T05:06:15.703Z"
   },
   {
    "duration": 459,
    "start_time": "2023-02-16T05:06:17.891Z"
   },
   {
    "duration": 25,
    "start_time": "2023-02-16T05:06:18.352Z"
   },
   {
    "duration": 367,
    "start_time": "2023-02-16T05:06:18.381Z"
   },
   {
    "duration": 16,
    "start_time": "2023-02-16T05:06:18.750Z"
   },
   {
    "duration": 43,
    "start_time": "2023-02-16T05:06:18.772Z"
   },
   {
    "duration": 229,
    "start_time": "2023-02-16T05:06:18.816Z"
   },
   {
    "duration": 233,
    "start_time": "2023-02-16T05:06:19.047Z"
   },
   {
    "duration": 276,
    "start_time": "2023-02-16T05:06:19.282Z"
   },
   {
    "duration": 20,
    "start_time": "2023-02-16T05:06:19.560Z"
   },
   {
    "duration": 30,
    "start_time": "2023-02-16T05:06:19.582Z"
   },
   {
    "duration": 19,
    "start_time": "2023-02-16T05:06:19.614Z"
   },
   {
    "duration": 55,
    "start_time": "2023-02-16T05:06:19.634Z"
   },
   {
    "duration": 23,
    "start_time": "2023-02-16T05:06:19.691Z"
   },
   {
    "duration": 48,
    "start_time": "2023-02-16T05:06:19.716Z"
   },
   {
    "duration": 22,
    "start_time": "2023-02-16T05:06:19.771Z"
   },
   {
    "duration": 31,
    "start_time": "2023-02-16T05:06:19.795Z"
   },
   {
    "duration": 55,
    "start_time": "2023-02-16T05:06:19.828Z"
   },
   {
    "duration": 28,
    "start_time": "2023-02-16T05:06:19.885Z"
   },
   {
    "duration": 1436,
    "start_time": "2023-02-16T05:06:30.514Z"
   },
   {
    "duration": 107,
    "start_time": "2023-02-16T05:06:31.961Z"
   },
   {
    "duration": 22,
    "start_time": "2023-02-16T05:06:32.070Z"
   },
   {
    "duration": 93,
    "start_time": "2023-02-16T05:06:32.094Z"
   },
   {
    "duration": 31,
    "start_time": "2023-02-16T05:06:32.190Z"
   },
   {
    "duration": 33,
    "start_time": "2023-02-16T05:06:32.223Z"
   },
   {
    "duration": 40,
    "start_time": "2023-02-16T05:06:32.264Z"
   },
   {
    "duration": 73,
    "start_time": "2023-02-16T05:06:32.306Z"
   },
   {
    "duration": 16,
    "start_time": "2023-02-16T05:06:32.382Z"
   },
   {
    "duration": 26,
    "start_time": "2023-02-16T05:06:32.400Z"
   },
   {
    "duration": 52,
    "start_time": "2023-02-16T05:06:32.428Z"
   },
   {
    "duration": 30,
    "start_time": "2023-02-16T05:06:32.483Z"
   },
   {
    "duration": 72,
    "start_time": "2023-02-16T05:06:32.514Z"
   },
   {
    "duration": 36,
    "start_time": "2023-02-16T05:06:32.590Z"
   },
   {
    "duration": 78,
    "start_time": "2023-02-16T05:06:32.629Z"
   },
   {
    "duration": 73,
    "start_time": "2023-02-16T05:06:32.710Z"
   },
   {
    "duration": 30,
    "start_time": "2023-02-16T05:06:32.784Z"
   },
   {
    "duration": 66,
    "start_time": "2023-02-16T05:06:32.816Z"
   },
   {
    "duration": 37,
    "start_time": "2023-02-16T05:06:32.884Z"
   },
   {
    "duration": 170,
    "start_time": "2023-02-16T05:06:32.923Z"
   },
   {
    "duration": 5,
    "start_time": "2023-02-16T05:06:33.095Z"
   },
   {
    "duration": 32,
    "start_time": "2023-02-16T05:06:33.102Z"
   },
   {
    "duration": 74,
    "start_time": "2023-02-16T05:06:33.136Z"
   },
   {
    "duration": 220,
    "start_time": "2023-02-16T05:06:33.211Z"
   },
   {
    "duration": 241,
    "start_time": "2023-02-16T05:06:33.436Z"
   },
   {
    "duration": 21,
    "start_time": "2023-02-16T05:06:33.680Z"
   },
   {
    "duration": 2414,
    "start_time": "2023-02-16T05:06:33.704Z"
   },
   {
    "duration": 20,
    "start_time": "2023-02-16T05:06:36.120Z"
   },
   {
    "duration": 36,
    "start_time": "2023-02-16T05:06:36.141Z"
   },
   {
    "duration": 122,
    "start_time": "2023-02-16T05:06:36.179Z"
   },
   {
    "duration": 344,
    "start_time": "2023-02-16T05:06:36.303Z"
   },
   {
    "duration": 293,
    "start_time": "2023-02-16T05:06:36.652Z"
   },
   {
    "duration": 210,
    "start_time": "2023-02-16T05:06:36.948Z"
   },
   {
    "duration": 228,
    "start_time": "2023-02-16T05:06:37.163Z"
   },
   {
    "duration": 22,
    "start_time": "2023-02-16T05:06:37.393Z"
   },
   {
    "duration": 24,
    "start_time": "2023-02-16T05:06:37.418Z"
   },
   {
    "duration": 47,
    "start_time": "2023-02-16T05:06:37.444Z"
   },
   {
    "duration": 2263,
    "start_time": "2023-02-16T05:06:37.493Z"
   },
   {
    "duration": 436,
    "start_time": "2023-02-16T05:06:39.763Z"
   },
   {
    "duration": 16,
    "start_time": "2023-02-16T05:06:40.201Z"
   },
   {
    "duration": 319,
    "start_time": "2023-02-16T05:06:40.237Z"
   },
   {
    "duration": 8,
    "start_time": "2023-02-16T05:06:40.558Z"
   },
   {
    "duration": 34,
    "start_time": "2023-02-16T05:06:40.568Z"
   },
   {
    "duration": 281,
    "start_time": "2023-02-16T05:06:40.604Z"
   },
   {
    "duration": 240,
    "start_time": "2023-02-16T05:06:40.887Z"
   },
   {
    "duration": 250,
    "start_time": "2023-02-16T05:06:41.129Z"
   },
   {
    "duration": 16,
    "start_time": "2023-02-16T05:06:41.382Z"
   },
   {
    "duration": 55,
    "start_time": "2023-02-16T05:06:41.401Z"
   },
   {
    "duration": 34,
    "start_time": "2023-02-16T05:06:41.469Z"
   },
   {
    "duration": 71,
    "start_time": "2023-02-16T05:06:41.505Z"
   },
   {
    "duration": 38,
    "start_time": "2023-02-16T05:06:41.578Z"
   },
   {
    "duration": 34,
    "start_time": "2023-02-16T05:06:41.618Z"
   },
   {
    "duration": 47,
    "start_time": "2023-02-16T05:06:41.654Z"
   },
   {
    "duration": 35,
    "start_time": "2023-02-16T05:06:41.703Z"
   },
   {
    "duration": 45,
    "start_time": "2023-02-16T05:06:41.740Z"
   },
   {
    "duration": 11,
    "start_time": "2023-02-16T05:06:41.787Z"
   },
   {
    "duration": 1208,
    "start_time": "2023-02-16T23:46:59.495Z"
   },
   {
    "duration": 97,
    "start_time": "2023-02-16T23:47:00.706Z"
   },
   {
    "duration": 19,
    "start_time": "2023-02-16T23:47:00.804Z"
   },
   {
    "duration": 35,
    "start_time": "2023-02-16T23:47:00.825Z"
   },
   {
    "duration": 40,
    "start_time": "2023-02-16T23:47:00.862Z"
   },
   {
    "duration": 23,
    "start_time": "2023-02-16T23:47:00.904Z"
   },
   {
    "duration": 32,
    "start_time": "2023-02-16T23:47:00.929Z"
   },
   {
    "duration": 21,
    "start_time": "2023-02-16T23:47:00.963Z"
   },
   {
    "duration": 33,
    "start_time": "2023-02-16T23:47:00.986Z"
   },
   {
    "duration": 54,
    "start_time": "2023-02-16T23:47:01.022Z"
   },
   {
    "duration": 33,
    "start_time": "2023-02-16T23:47:01.077Z"
   },
   {
    "duration": 32,
    "start_time": "2023-02-16T23:47:01.112Z"
   },
   {
    "duration": 47,
    "start_time": "2023-02-16T23:47:01.145Z"
   },
   {
    "duration": 8,
    "start_time": "2023-02-16T23:47:01.194Z"
   },
   {
    "duration": 10,
    "start_time": "2023-02-16T23:47:01.203Z"
   },
   {
    "duration": 5,
    "start_time": "2023-02-16T23:47:01.214Z"
   },
   {
    "duration": 18,
    "start_time": "2023-02-16T23:47:01.221Z"
   },
   {
    "duration": 25,
    "start_time": "2023-02-16T23:47:01.241Z"
   },
   {
    "duration": 35,
    "start_time": "2023-02-16T23:47:01.268Z"
   },
   {
    "duration": 109,
    "start_time": "2023-02-16T23:47:01.305Z"
   },
   {
    "duration": 4,
    "start_time": "2023-02-16T23:47:01.417Z"
   },
   {
    "duration": 24,
    "start_time": "2023-02-16T23:47:01.423Z"
   },
   {
    "duration": 27,
    "start_time": "2023-02-16T23:47:01.449Z"
   },
   {
    "duration": 157,
    "start_time": "2023-02-16T23:47:01.478Z"
   },
   {
    "duration": 152,
    "start_time": "2023-02-16T23:47:01.636Z"
   },
   {
    "duration": 21,
    "start_time": "2023-02-16T23:47:01.789Z"
   },
   {
    "duration": 1924,
    "start_time": "2023-02-16T23:47:01.811Z"
   },
   {
    "duration": 101,
    "start_time": "2023-02-16T23:47:03.739Z"
   },
   {
    "duration": 13,
    "start_time": "2023-02-16T23:47:03.842Z"
   },
   {
    "duration": 26,
    "start_time": "2023-02-16T23:47:03.856Z"
   },
   {
    "duration": 253,
    "start_time": "2023-02-16T23:47:03.884Z"
   },
   {
    "duration": 234,
    "start_time": "2023-02-16T23:47:04.138Z"
   },
   {
    "duration": 204,
    "start_time": "2023-02-16T23:47:04.374Z"
   },
   {
    "duration": 170,
    "start_time": "2023-02-16T23:47:04.579Z"
   },
   {
    "duration": 6,
    "start_time": "2023-02-16T23:47:04.751Z"
   },
   {
    "duration": 8,
    "start_time": "2023-02-16T23:47:04.758Z"
   },
   {
    "duration": 28,
    "start_time": "2023-02-16T23:47:04.767Z"
   },
   {
    "duration": 1673,
    "start_time": "2023-02-16T23:47:04.797Z"
   },
   {
    "duration": 357,
    "start_time": "2023-02-16T23:47:06.471Z"
   },
   {
    "duration": 14,
    "start_time": "2023-02-16T23:47:06.830Z"
   },
   {
    "duration": 252,
    "start_time": "2023-02-16T23:47:06.845Z"
   },
   {
    "duration": 8,
    "start_time": "2023-02-16T23:47:07.099Z"
   },
   {
    "duration": 15,
    "start_time": "2023-02-16T23:47:07.109Z"
   },
   {
    "duration": 195,
    "start_time": "2023-02-16T23:47:07.126Z"
   },
   {
    "duration": 201,
    "start_time": "2023-02-16T23:47:07.323Z"
   },
   {
    "duration": 211,
    "start_time": "2023-02-16T23:47:07.526Z"
   },
   {
    "duration": 15,
    "start_time": "2023-02-16T23:47:07.739Z"
   },
   {
    "duration": 13,
    "start_time": "2023-02-16T23:47:07.756Z"
   },
   {
    "duration": 35,
    "start_time": "2023-02-16T23:47:07.771Z"
   },
   {
    "duration": 10,
    "start_time": "2023-02-16T23:47:07.807Z"
   },
   {
    "duration": 18,
    "start_time": "2023-02-16T23:47:07.818Z"
   },
   {
    "duration": 8,
    "start_time": "2023-02-16T23:47:07.837Z"
   },
   {
    "duration": 11,
    "start_time": "2023-02-16T23:47:07.846Z"
   },
   {
    "duration": 6,
    "start_time": "2023-02-16T23:47:07.858Z"
   },
   {
    "duration": 36,
    "start_time": "2023-02-16T23:47:07.865Z"
   },
   {
    "duration": 7,
    "start_time": "2023-02-16T23:47:07.903Z"
   },
   {
    "duration": 1150,
    "start_time": "2023-02-16T23:47:24.076Z"
   },
   {
    "duration": 101,
    "start_time": "2023-02-16T23:47:25.230Z"
   },
   {
    "duration": 17,
    "start_time": "2023-02-16T23:47:25.333Z"
   },
   {
    "duration": 15,
    "start_time": "2023-02-16T23:47:25.352Z"
   },
   {
    "duration": 17,
    "start_time": "2023-02-16T23:47:25.368Z"
   },
   {
    "duration": 22,
    "start_time": "2023-02-16T23:47:25.386Z"
   },
   {
    "duration": 3,
    "start_time": "2023-02-16T23:47:25.410Z"
   },
   {
    "duration": 17,
    "start_time": "2023-02-16T23:47:25.415Z"
   },
   {
    "duration": 7,
    "start_time": "2023-02-16T23:47:25.435Z"
   },
   {
    "duration": 16,
    "start_time": "2023-02-16T23:47:25.443Z"
   },
   {
    "duration": 4,
    "start_time": "2023-02-16T23:47:25.461Z"
   },
   {
    "duration": 10,
    "start_time": "2023-02-16T23:47:25.467Z"
   },
   {
    "duration": 21,
    "start_time": "2023-02-16T23:47:25.479Z"
   },
   {
    "duration": 12,
    "start_time": "2023-02-16T23:47:25.501Z"
   },
   {
    "duration": 9,
    "start_time": "2023-02-16T23:47:25.514Z"
   },
   {
    "duration": 7,
    "start_time": "2023-02-16T23:47:25.524Z"
   },
   {
    "duration": 7,
    "start_time": "2023-02-16T23:47:25.533Z"
   },
   {
    "duration": 12,
    "start_time": "2023-02-16T23:47:25.541Z"
   },
   {
    "duration": 14,
    "start_time": "2023-02-16T23:47:25.554Z"
   },
   {
    "duration": 129,
    "start_time": "2023-02-16T23:47:25.569Z"
   },
   {
    "duration": 4,
    "start_time": "2023-02-16T23:47:25.700Z"
   },
   {
    "duration": 11,
    "start_time": "2023-02-16T23:47:25.706Z"
   },
   {
    "duration": 8,
    "start_time": "2023-02-16T23:47:25.719Z"
   },
   {
    "duration": 181,
    "start_time": "2023-02-16T23:47:25.729Z"
   },
   {
    "duration": 160,
    "start_time": "2023-02-16T23:47:25.912Z"
   },
   {
    "duration": 31,
    "start_time": "2023-02-16T23:47:26.074Z"
   },
   {
    "duration": 1849,
    "start_time": "2023-02-16T23:47:26.108Z"
   },
   {
    "duration": 7,
    "start_time": "2023-02-16T23:47:27.959Z"
   },
   {
    "duration": 8,
    "start_time": "2023-02-16T23:47:27.968Z"
   },
   {
    "duration": 104,
    "start_time": "2023-02-16T23:47:27.977Z"
   },
   {
    "duration": 258,
    "start_time": "2023-02-16T23:47:28.082Z"
   },
   {
    "duration": 225,
    "start_time": "2023-02-16T23:47:28.342Z"
   },
   {
    "duration": 160,
    "start_time": "2023-02-16T23:47:28.569Z"
   },
   {
    "duration": 166,
    "start_time": "2023-02-16T23:47:28.731Z"
   },
   {
    "duration": 6,
    "start_time": "2023-02-16T23:47:28.899Z"
   },
   {
    "duration": 13,
    "start_time": "2023-02-16T23:47:28.907Z"
   },
   {
    "duration": 11,
    "start_time": "2023-02-16T23:47:28.922Z"
   },
   {
    "duration": 1710,
    "start_time": "2023-02-16T23:47:28.935Z"
   },
   {
    "duration": 362,
    "start_time": "2023-02-16T23:47:30.647Z"
   },
   {
    "duration": 14,
    "start_time": "2023-02-16T23:47:31.010Z"
   },
   {
    "duration": 257,
    "start_time": "2023-02-16T23:47:31.026Z"
   },
   {
    "duration": 11,
    "start_time": "2023-02-16T23:47:31.285Z"
   },
   {
    "duration": 20,
    "start_time": "2023-02-16T23:47:31.297Z"
   },
   {
    "duration": 180,
    "start_time": "2023-02-16T23:47:31.318Z"
   },
   {
    "duration": 191,
    "start_time": "2023-02-16T23:47:31.499Z"
   },
   {
    "duration": 186,
    "start_time": "2023-02-16T23:47:31.694Z"
   },
   {
    "duration": 22,
    "start_time": "2023-02-16T23:47:31.882Z"
   },
   {
    "duration": 17,
    "start_time": "2023-02-16T23:47:31.905Z"
   },
   {
    "duration": 13,
    "start_time": "2023-02-16T23:47:31.923Z"
   },
   {
    "duration": 17,
    "start_time": "2023-02-16T23:47:31.937Z"
   },
   {
    "duration": 25,
    "start_time": "2023-02-16T23:47:31.956Z"
   },
   {
    "duration": 13,
    "start_time": "2023-02-16T23:47:31.983Z"
   },
   {
    "duration": 14,
    "start_time": "2023-02-16T23:47:31.998Z"
   },
   {
    "duration": 15,
    "start_time": "2023-02-16T23:47:32.013Z"
   },
   {
    "duration": 23,
    "start_time": "2023-02-16T23:47:32.030Z"
   },
   {
    "duration": 25,
    "start_time": "2023-02-16T23:47:32.055Z"
   },
   {
    "duration": 1333,
    "start_time": "2023-02-18T00:46:30.041Z"
   },
   {
    "duration": 255,
    "start_time": "2023-02-18T00:46:31.377Z"
   },
   {
    "duration": 18,
    "start_time": "2023-02-18T00:46:31.634Z"
   },
   {
    "duration": 37,
    "start_time": "2023-02-18T00:46:31.654Z"
   },
   {
    "duration": 39,
    "start_time": "2023-02-18T00:46:31.693Z"
   },
   {
    "duration": 38,
    "start_time": "2023-02-18T00:46:31.734Z"
   },
   {
    "duration": 33,
    "start_time": "2023-02-18T00:46:31.774Z"
   },
   {
    "duration": 22,
    "start_time": "2023-02-18T00:46:31.809Z"
   },
   {
    "duration": 33,
    "start_time": "2023-02-18T00:46:31.833Z"
   },
   {
    "duration": 35,
    "start_time": "2023-02-18T00:46:31.868Z"
   },
   {
    "duration": 19,
    "start_time": "2023-02-18T00:46:31.904Z"
   },
   {
    "duration": 31,
    "start_time": "2023-02-18T00:46:31.924Z"
   },
   {
    "duration": 40,
    "start_time": "2023-02-18T00:46:31.956Z"
   },
   {
    "duration": 16,
    "start_time": "2023-02-18T00:46:31.997Z"
   },
   {
    "duration": 26,
    "start_time": "2023-02-18T00:46:32.015Z"
   },
   {
    "duration": 16,
    "start_time": "2023-02-18T00:46:32.043Z"
   },
   {
    "duration": 27,
    "start_time": "2023-02-18T00:46:32.061Z"
   },
   {
    "duration": 20,
    "start_time": "2023-02-18T00:46:32.090Z"
   },
   {
    "duration": 36,
    "start_time": "2023-02-18T00:46:32.111Z"
   },
   {
    "duration": 110,
    "start_time": "2023-02-18T00:46:32.148Z"
   },
   {
    "duration": 5,
    "start_time": "2023-02-18T00:46:32.260Z"
   },
   {
    "duration": 8,
    "start_time": "2023-02-18T00:46:32.266Z"
   },
   {
    "duration": 9,
    "start_time": "2023-02-18T00:46:32.276Z"
   },
   {
    "duration": 182,
    "start_time": "2023-02-18T00:46:32.286Z"
   },
   {
    "duration": 170,
    "start_time": "2023-02-18T00:46:32.470Z"
   },
   {
    "duration": 17,
    "start_time": "2023-02-18T00:46:32.642Z"
   },
   {
    "duration": 2020,
    "start_time": "2023-02-18T00:46:32.661Z"
   },
   {
    "duration": 122,
    "start_time": "2023-02-18T00:46:34.685Z"
   },
   {
    "duration": 10,
    "start_time": "2023-02-18T00:46:34.810Z"
   },
   {
    "duration": 17,
    "start_time": "2023-02-18T00:46:34.823Z"
   },
   {
    "duration": 353,
    "start_time": "2023-02-18T00:46:34.842Z"
   },
   {
    "duration": 234,
    "start_time": "2023-02-18T00:46:35.197Z"
   },
   {
    "duration": 168,
    "start_time": "2023-02-18T00:46:35.432Z"
   },
   {
    "duration": 176,
    "start_time": "2023-02-18T00:46:35.601Z"
   },
   {
    "duration": 7,
    "start_time": "2023-02-18T00:46:35.779Z"
   },
   {
    "duration": 27,
    "start_time": "2023-02-18T00:46:35.787Z"
   },
   {
    "duration": 34,
    "start_time": "2023-02-18T00:46:35.816Z"
   },
   {
    "duration": 1756,
    "start_time": "2023-02-18T00:46:35.852Z"
   },
   {
    "duration": 398,
    "start_time": "2023-02-18T00:46:37.611Z"
   },
   {
    "duration": 26,
    "start_time": "2023-02-18T00:46:38.011Z"
   },
   {
    "duration": 284,
    "start_time": "2023-02-18T00:46:38.039Z"
   },
   {
    "duration": 16,
    "start_time": "2023-02-18T00:46:38.326Z"
   },
   {
    "duration": 34,
    "start_time": "2023-02-18T00:46:38.344Z"
   },
   {
    "duration": 216,
    "start_time": "2023-02-18T00:46:38.380Z"
   },
   {
    "duration": 198,
    "start_time": "2023-02-18T00:46:38.598Z"
   },
   {
    "duration": 229,
    "start_time": "2023-02-18T00:46:38.798Z"
   },
   {
    "duration": 17,
    "start_time": "2023-02-18T00:46:39.030Z"
   },
   {
    "duration": 19,
    "start_time": "2023-02-18T00:46:39.049Z"
   },
   {
    "duration": 14,
    "start_time": "2023-02-18T00:46:39.070Z"
   },
   {
    "duration": 13,
    "start_time": "2023-02-18T00:46:39.085Z"
   },
   {
    "duration": 44,
    "start_time": "2023-02-18T00:46:39.099Z"
   },
   {
    "duration": 8,
    "start_time": "2023-02-18T00:46:39.145Z"
   },
   {
    "duration": 10,
    "start_time": "2023-02-18T00:46:39.155Z"
   },
   {
    "duration": 7,
    "start_time": "2023-02-18T00:46:39.167Z"
   },
   {
    "duration": 29,
    "start_time": "2023-02-18T00:46:39.175Z"
   },
   {
    "duration": 10,
    "start_time": "2023-02-18T00:46:39.206Z"
   },
   {
    "duration": 109,
    "start_time": "2023-02-18T02:02:01.510Z"
   },
   {
    "duration": 14,
    "start_time": "2023-02-18T02:02:41.796Z"
   },
   {
    "duration": 14,
    "start_time": "2023-02-18T02:02:50.149Z"
   },
   {
    "duration": 15,
    "start_time": "2023-02-18T02:14:29.164Z"
   },
   {
    "duration": 1796,
    "start_time": "2023-02-18T02:15:17.324Z"
   },
   {
    "duration": 15,
    "start_time": "2023-02-18T02:19:31.861Z"
   },
   {
    "duration": 22,
    "start_time": "2023-02-18T02:23:38.883Z"
   },
   {
    "duration": 21,
    "start_time": "2023-02-18T02:24:05.179Z"
   },
   {
    "duration": 1254,
    "start_time": "2023-02-18T02:29:25.929Z"
   },
   {
    "duration": 91,
    "start_time": "2023-02-18T02:29:27.184Z"
   },
   {
    "duration": 19,
    "start_time": "2023-02-18T02:29:27.276Z"
   },
   {
    "duration": 13,
    "start_time": "2023-02-18T02:29:27.297Z"
   },
   {
    "duration": 24,
    "start_time": "2023-02-18T02:29:27.312Z"
   },
   {
    "duration": 17,
    "start_time": "2023-02-18T02:29:27.339Z"
   },
   {
    "duration": 5,
    "start_time": "2023-02-18T02:29:27.358Z"
   },
   {
    "duration": 8,
    "start_time": "2023-02-18T02:29:27.365Z"
   },
   {
    "duration": 9,
    "start_time": "2023-02-18T02:29:27.374Z"
   },
   {
    "duration": 12,
    "start_time": "2023-02-18T02:29:27.386Z"
   },
   {
    "duration": 37,
    "start_time": "2023-02-18T02:29:27.400Z"
   },
   {
    "duration": 2,
    "start_time": "2023-02-18T02:29:27.439Z"
   },
   {
    "duration": 17,
    "start_time": "2023-02-18T02:29:27.443Z"
   },
   {
    "duration": 9,
    "start_time": "2023-02-18T02:29:27.462Z"
   },
   {
    "duration": 10,
    "start_time": "2023-02-18T02:29:27.472Z"
   },
   {
    "duration": 6,
    "start_time": "2023-02-18T02:29:27.484Z"
   },
   {
    "duration": 47,
    "start_time": "2023-02-18T02:29:27.492Z"
   },
   {
    "duration": 12,
    "start_time": "2023-02-18T02:29:27.541Z"
   },
   {
    "duration": 15,
    "start_time": "2023-02-18T02:29:27.555Z"
   },
   {
    "duration": 115,
    "start_time": "2023-02-18T02:29:27.572Z"
   },
   {
    "duration": 4,
    "start_time": "2023-02-18T02:29:27.689Z"
   },
   {
    "duration": 22,
    "start_time": "2023-02-18T02:29:27.694Z"
   },
   {
    "duration": 13,
    "start_time": "2023-02-18T02:29:27.717Z"
   },
   {
    "duration": 177,
    "start_time": "2023-02-18T02:29:27.731Z"
   },
   {
    "duration": 165,
    "start_time": "2023-02-18T02:29:27.910Z"
   },
   {
    "duration": 17,
    "start_time": "2023-02-18T02:29:28.077Z"
   },
   {
    "duration": 2086,
    "start_time": "2023-02-18T02:29:28.096Z"
   },
   {
    "duration": 115,
    "start_time": "2023-02-18T02:29:30.186Z"
   },
   {
    "duration": 32,
    "start_time": "2023-02-18T02:29:30.303Z"
   },
   {
    "duration": 55,
    "start_time": "2023-02-18T02:29:30.337Z"
   },
   {
    "duration": 337,
    "start_time": "2023-02-18T02:29:30.394Z"
   },
   {
    "duration": 251,
    "start_time": "2023-02-18T02:29:30.733Z"
   },
   {
    "duration": 176,
    "start_time": "2023-02-18T02:29:30.986Z"
   },
   {
    "duration": 178,
    "start_time": "2023-02-18T02:29:31.164Z"
   },
   {
    "duration": 7,
    "start_time": "2023-02-18T02:29:31.344Z"
   },
   {
    "duration": 31,
    "start_time": "2023-02-18T02:29:31.353Z"
   },
   {
    "duration": 122,
    "start_time": "2023-02-18T02:29:31.386Z"
   },
   {
    "duration": 0,
    "start_time": "2023-02-18T02:29:31.510Z"
   },
   {
    "duration": 0,
    "start_time": "2023-02-18T02:29:31.511Z"
   },
   {
    "duration": 0,
    "start_time": "2023-02-18T02:29:31.512Z"
   },
   {
    "duration": 0,
    "start_time": "2023-02-18T02:29:31.513Z"
   },
   {
    "duration": 0,
    "start_time": "2023-02-18T02:29:31.515Z"
   },
   {
    "duration": 0,
    "start_time": "2023-02-18T02:29:31.516Z"
   },
   {
    "duration": 0,
    "start_time": "2023-02-18T02:29:31.517Z"
   },
   {
    "duration": 0,
    "start_time": "2023-02-18T02:29:31.518Z"
   },
   {
    "duration": 0,
    "start_time": "2023-02-18T02:29:31.519Z"
   },
   {
    "duration": 0,
    "start_time": "2023-02-18T02:29:31.520Z"
   },
   {
    "duration": 0,
    "start_time": "2023-02-18T02:29:31.521Z"
   },
   {
    "duration": 0,
    "start_time": "2023-02-18T02:29:31.537Z"
   },
   {
    "duration": 0,
    "start_time": "2023-02-18T02:29:31.540Z"
   },
   {
    "duration": 0,
    "start_time": "2023-02-18T02:29:31.541Z"
   },
   {
    "duration": 0,
    "start_time": "2023-02-18T02:29:31.543Z"
   },
   {
    "duration": 0,
    "start_time": "2023-02-18T02:29:31.544Z"
   },
   {
    "duration": 0,
    "start_time": "2023-02-18T02:29:31.545Z"
   },
   {
    "duration": 0,
    "start_time": "2023-02-18T02:29:31.546Z"
   },
   {
    "duration": 0,
    "start_time": "2023-02-18T02:29:31.547Z"
   },
   {
    "duration": 0,
    "start_time": "2023-02-18T02:29:31.548Z"
   },
   {
    "duration": 1190,
    "start_time": "2023-02-18T02:30:18.851Z"
   },
   {
    "duration": 88,
    "start_time": "2023-02-18T02:30:20.043Z"
   },
   {
    "duration": 22,
    "start_time": "2023-02-18T02:30:20.133Z"
   },
   {
    "duration": 14,
    "start_time": "2023-02-18T02:30:20.157Z"
   },
   {
    "duration": 16,
    "start_time": "2023-02-18T02:30:20.173Z"
   },
   {
    "duration": 15,
    "start_time": "2023-02-18T02:30:20.191Z"
   },
   {
    "duration": 29,
    "start_time": "2023-02-18T02:30:20.208Z"
   },
   {
    "duration": 9,
    "start_time": "2023-02-18T02:30:20.239Z"
   },
   {
    "duration": 6,
    "start_time": "2023-02-18T02:30:20.250Z"
   },
   {
    "duration": 9,
    "start_time": "2023-02-18T02:30:20.258Z"
   },
   {
    "duration": 5,
    "start_time": "2023-02-18T02:30:20.269Z"
   },
   {
    "duration": 4,
    "start_time": "2023-02-18T02:30:20.275Z"
   },
   {
    "duration": 16,
    "start_time": "2023-02-18T02:30:20.281Z"
   },
   {
    "duration": 36,
    "start_time": "2023-02-18T02:30:20.300Z"
   },
   {
    "duration": 12,
    "start_time": "2023-02-18T02:30:20.338Z"
   },
   {
    "duration": 6,
    "start_time": "2023-02-18T02:30:20.352Z"
   },
   {
    "duration": 6,
    "start_time": "2023-02-18T02:30:20.360Z"
   },
   {
    "duration": 9,
    "start_time": "2023-02-18T02:30:20.367Z"
   },
   {
    "duration": 12,
    "start_time": "2023-02-18T02:30:20.378Z"
   },
   {
    "duration": 132,
    "start_time": "2023-02-18T02:30:20.392Z"
   },
   {
    "duration": 6,
    "start_time": "2023-02-18T02:30:20.536Z"
   },
   {
    "duration": 11,
    "start_time": "2023-02-18T02:30:20.544Z"
   },
   {
    "duration": 14,
    "start_time": "2023-02-18T02:30:20.556Z"
   },
   {
    "duration": 169,
    "start_time": "2023-02-18T02:30:20.572Z"
   },
   {
    "duration": 156,
    "start_time": "2023-02-18T02:30:20.742Z"
   },
   {
    "duration": 18,
    "start_time": "2023-02-18T02:30:20.900Z"
   },
   {
    "duration": 1967,
    "start_time": "2023-02-18T02:30:20.920Z"
   },
   {
    "duration": 6,
    "start_time": "2023-02-18T02:30:22.889Z"
   },
   {
    "duration": 10,
    "start_time": "2023-02-18T02:30:22.897Z"
   },
   {
    "duration": 114,
    "start_time": "2023-02-18T02:30:22.909Z"
   },
   {
    "duration": 294,
    "start_time": "2023-02-18T02:30:23.025Z"
   },
   {
    "duration": 224,
    "start_time": "2023-02-18T02:30:23.321Z"
   },
   {
    "duration": 163,
    "start_time": "2023-02-18T02:30:23.546Z"
   },
   {
    "duration": 163,
    "start_time": "2023-02-18T02:30:23.711Z"
   },
   {
    "duration": 7,
    "start_time": "2023-02-18T02:30:23.875Z"
   },
   {
    "duration": 18,
    "start_time": "2023-02-18T02:30:23.883Z"
   },
   {
    "duration": 107,
    "start_time": "2023-02-18T02:30:23.903Z"
   },
   {
    "duration": 0,
    "start_time": "2023-02-18T02:30:24.012Z"
   },
   {
    "duration": 0,
    "start_time": "2023-02-18T02:30:24.013Z"
   },
   {
    "duration": 0,
    "start_time": "2023-02-18T02:30:24.014Z"
   },
   {
    "duration": 0,
    "start_time": "2023-02-18T02:30:24.016Z"
   },
   {
    "duration": 0,
    "start_time": "2023-02-18T02:30:24.017Z"
   },
   {
    "duration": 0,
    "start_time": "2023-02-18T02:30:24.018Z"
   },
   {
    "duration": 0,
    "start_time": "2023-02-18T02:30:24.019Z"
   },
   {
    "duration": 0,
    "start_time": "2023-02-18T02:30:24.020Z"
   },
   {
    "duration": 0,
    "start_time": "2023-02-18T02:30:24.036Z"
   },
   {
    "duration": 0,
    "start_time": "2023-02-18T02:30:24.037Z"
   },
   {
    "duration": 0,
    "start_time": "2023-02-18T02:30:24.038Z"
   },
   {
    "duration": 0,
    "start_time": "2023-02-18T02:30:24.039Z"
   },
   {
    "duration": 0,
    "start_time": "2023-02-18T02:30:24.040Z"
   },
   {
    "duration": 0,
    "start_time": "2023-02-18T02:30:24.041Z"
   },
   {
    "duration": 0,
    "start_time": "2023-02-18T02:30:24.043Z"
   },
   {
    "duration": 0,
    "start_time": "2023-02-18T02:30:24.044Z"
   },
   {
    "duration": 0,
    "start_time": "2023-02-18T02:30:24.045Z"
   },
   {
    "duration": 0,
    "start_time": "2023-02-18T02:30:24.045Z"
   },
   {
    "duration": 0,
    "start_time": "2023-02-18T02:30:24.046Z"
   },
   {
    "duration": 0,
    "start_time": "2023-02-18T02:30:24.047Z"
   },
   {
    "duration": 1416,
    "start_time": "2023-02-20T02:08:04.975Z"
   },
   {
    "duration": 251,
    "start_time": "2023-02-20T02:08:06.393Z"
   },
   {
    "duration": 20,
    "start_time": "2023-02-20T02:08:06.646Z"
   },
   {
    "duration": 14,
    "start_time": "2023-02-20T02:08:06.668Z"
   },
   {
    "duration": 18,
    "start_time": "2023-02-20T02:08:06.685Z"
   },
   {
    "duration": 33,
    "start_time": "2023-02-20T02:08:06.704Z"
   },
   {
    "duration": 4,
    "start_time": "2023-02-20T02:08:06.739Z"
   },
   {
    "duration": 12,
    "start_time": "2023-02-20T02:08:06.745Z"
   },
   {
    "duration": 8,
    "start_time": "2023-02-20T02:08:06.759Z"
   },
   {
    "duration": 9,
    "start_time": "2023-02-20T02:08:06.768Z"
   },
   {
    "duration": 5,
    "start_time": "2023-02-20T02:08:06.779Z"
   },
   {
    "duration": 4,
    "start_time": "2023-02-20T02:08:06.786Z"
   },
   {
    "duration": 17,
    "start_time": "2023-02-20T02:08:06.791Z"
   },
   {
    "duration": 32,
    "start_time": "2023-02-20T02:08:06.811Z"
   },
   {
    "duration": 11,
    "start_time": "2023-02-20T02:08:06.846Z"
   },
   {
    "duration": 5,
    "start_time": "2023-02-20T02:08:06.859Z"
   },
   {
    "duration": 8,
    "start_time": "2023-02-20T02:08:06.865Z"
   },
   {
    "duration": 12,
    "start_time": "2023-02-20T02:08:06.874Z"
   },
   {
    "duration": 12,
    "start_time": "2023-02-20T02:08:06.888Z"
   },
   {
    "duration": 137,
    "start_time": "2023-02-20T02:08:06.902Z"
   },
   {
    "duration": 5,
    "start_time": "2023-02-20T02:08:07.041Z"
   },
   {
    "duration": 7,
    "start_time": "2023-02-20T02:08:07.047Z"
   },
   {
    "duration": 12,
    "start_time": "2023-02-20T02:08:07.056Z"
   },
   {
    "duration": 205,
    "start_time": "2023-02-20T02:08:07.070Z"
   },
   {
    "duration": 173,
    "start_time": "2023-02-20T02:08:07.276Z"
   },
   {
    "duration": 18,
    "start_time": "2023-02-20T02:08:07.451Z"
   },
   {
    "duration": 2131,
    "start_time": "2023-02-20T02:08:07.471Z"
   },
   {
    "duration": 7,
    "start_time": "2023-02-20T02:08:09.604Z"
   },
   {
    "duration": 9,
    "start_time": "2023-02-20T02:08:09.612Z"
   },
   {
    "duration": 145,
    "start_time": "2023-02-20T02:08:09.622Z"
   },
   {
    "duration": 382,
    "start_time": "2023-02-20T02:08:09.769Z"
   },
   {
    "duration": 275,
    "start_time": "2023-02-20T02:08:10.153Z"
   },
   {
    "duration": 168,
    "start_time": "2023-02-20T02:08:10.430Z"
   },
   {
    "duration": 178,
    "start_time": "2023-02-20T02:08:10.600Z"
   },
   {
    "duration": 7,
    "start_time": "2023-02-20T02:08:10.780Z"
   },
   {
    "duration": 8,
    "start_time": "2023-02-20T02:08:10.789Z"
   },
   {
    "duration": 135,
    "start_time": "2023-02-20T02:08:10.798Z"
   },
   {
    "duration": 0,
    "start_time": "2023-02-20T02:08:10.937Z"
   },
   {
    "duration": 0,
    "start_time": "2023-02-20T02:08:10.939Z"
   },
   {
    "duration": 0,
    "start_time": "2023-02-20T02:08:10.940Z"
   },
   {
    "duration": 0,
    "start_time": "2023-02-20T02:08:10.941Z"
   },
   {
    "duration": 0,
    "start_time": "2023-02-20T02:08:10.942Z"
   },
   {
    "duration": 0,
    "start_time": "2023-02-20T02:08:10.943Z"
   },
   {
    "duration": 0,
    "start_time": "2023-02-20T02:08:10.944Z"
   },
   {
    "duration": 0,
    "start_time": "2023-02-20T02:08:10.945Z"
   },
   {
    "duration": 0,
    "start_time": "2023-02-20T02:08:10.946Z"
   },
   {
    "duration": 0,
    "start_time": "2023-02-20T02:08:10.947Z"
   },
   {
    "duration": 0,
    "start_time": "2023-02-20T02:08:10.948Z"
   },
   {
    "duration": 0,
    "start_time": "2023-02-20T02:08:10.949Z"
   },
   {
    "duration": 0,
    "start_time": "2023-02-20T02:08:10.952Z"
   },
   {
    "duration": 0,
    "start_time": "2023-02-20T02:08:10.952Z"
   },
   {
    "duration": 0,
    "start_time": "2023-02-20T02:08:10.954Z"
   },
   {
    "duration": 0,
    "start_time": "2023-02-20T02:08:10.955Z"
   },
   {
    "duration": 0,
    "start_time": "2023-02-20T02:08:10.956Z"
   },
   {
    "duration": 0,
    "start_time": "2023-02-20T02:08:10.957Z"
   },
   {
    "duration": 0,
    "start_time": "2023-02-20T02:08:10.958Z"
   },
   {
    "duration": 0,
    "start_time": "2023-02-20T02:08:10.959Z"
   },
   {
    "duration": 1198,
    "start_time": "2023-02-20T02:08:28.715Z"
   },
   {
    "duration": 92,
    "start_time": "2023-02-20T02:08:29.915Z"
   },
   {
    "duration": 19,
    "start_time": "2023-02-20T02:08:30.008Z"
   },
   {
    "duration": 29,
    "start_time": "2023-02-20T02:08:30.028Z"
   },
   {
    "duration": 31,
    "start_time": "2023-02-20T02:08:30.059Z"
   },
   {
    "duration": 17,
    "start_time": "2023-02-20T02:08:30.091Z"
   },
   {
    "duration": 9,
    "start_time": "2023-02-20T02:08:30.110Z"
   },
   {
    "duration": 14,
    "start_time": "2023-02-20T02:08:30.121Z"
   },
   {
    "duration": 21,
    "start_time": "2023-02-20T02:08:30.137Z"
   },
   {
    "duration": 14,
    "start_time": "2023-02-20T02:08:30.160Z"
   },
   {
    "duration": 8,
    "start_time": "2023-02-20T02:08:30.176Z"
   },
   {
    "duration": 22,
    "start_time": "2023-02-20T02:08:30.186Z"
   },
   {
    "duration": 31,
    "start_time": "2023-02-20T02:08:30.210Z"
   },
   {
    "duration": 8,
    "start_time": "2023-02-20T02:08:30.244Z"
   },
   {
    "duration": 13,
    "start_time": "2023-02-20T02:08:30.254Z"
   },
   {
    "duration": 25,
    "start_time": "2023-02-20T02:08:30.269Z"
   },
   {
    "duration": 20,
    "start_time": "2023-02-20T02:08:30.296Z"
   },
   {
    "duration": 14,
    "start_time": "2023-02-20T02:08:30.318Z"
   },
   {
    "duration": 32,
    "start_time": "2023-02-20T02:08:30.334Z"
   },
   {
    "duration": 106,
    "start_time": "2023-02-20T02:08:30.367Z"
   },
   {
    "duration": 5,
    "start_time": "2023-02-20T02:08:30.475Z"
   },
   {
    "duration": 180,
    "start_time": "2023-02-20T02:08:30.482Z"
   },
   {
    "duration": 134,
    "start_time": "2023-02-20T02:08:30.664Z"
   },
   {
    "duration": 265,
    "start_time": "2023-02-20T02:08:30.800Z"
   },
   {
    "duration": 170,
    "start_time": "2023-02-20T02:08:31.066Z"
   },
   {
    "duration": 19,
    "start_time": "2023-02-20T02:08:31.238Z"
   },
   {
    "duration": 2045,
    "start_time": "2023-02-20T02:08:31.259Z"
   },
   {
    "duration": 8,
    "start_time": "2023-02-20T02:08:33.306Z"
   },
   {
    "duration": 21,
    "start_time": "2023-02-20T02:08:33.315Z"
   },
   {
    "duration": 139,
    "start_time": "2023-02-20T02:08:33.338Z"
   },
   {
    "duration": 321,
    "start_time": "2023-02-20T02:08:33.478Z"
   },
   {
    "duration": 226,
    "start_time": "2023-02-20T02:08:33.801Z"
   },
   {
    "duration": 167,
    "start_time": "2023-02-20T02:08:34.036Z"
   },
   {
    "duration": 179,
    "start_time": "2023-02-20T02:08:34.204Z"
   },
   {
    "duration": 8,
    "start_time": "2023-02-20T02:08:34.385Z"
   },
   {
    "duration": 38,
    "start_time": "2023-02-20T02:08:34.395Z"
   },
   {
    "duration": 170,
    "start_time": "2023-02-20T02:08:34.435Z"
   },
   {
    "duration": 0,
    "start_time": "2023-02-20T02:08:34.608Z"
   },
   {
    "duration": 0,
    "start_time": "2023-02-20T02:08:34.608Z"
   },
   {
    "duration": 0,
    "start_time": "2023-02-20T02:08:34.609Z"
   },
   {
    "duration": 0,
    "start_time": "2023-02-20T02:08:34.611Z"
   },
   {
    "duration": 0,
    "start_time": "2023-02-20T02:08:34.612Z"
   },
   {
    "duration": 0,
    "start_time": "2023-02-20T02:08:34.613Z"
   },
   {
    "duration": 0,
    "start_time": "2023-02-20T02:08:34.614Z"
   },
   {
    "duration": 0,
    "start_time": "2023-02-20T02:08:34.615Z"
   },
   {
    "duration": 0,
    "start_time": "2023-02-20T02:08:34.616Z"
   },
   {
    "duration": 0,
    "start_time": "2023-02-20T02:08:34.616Z"
   },
   {
    "duration": 0,
    "start_time": "2023-02-20T02:08:34.636Z"
   },
   {
    "duration": 0,
    "start_time": "2023-02-20T02:08:34.636Z"
   },
   {
    "duration": 0,
    "start_time": "2023-02-20T02:08:34.638Z"
   },
   {
    "duration": 0,
    "start_time": "2023-02-20T02:08:34.639Z"
   },
   {
    "duration": 0,
    "start_time": "2023-02-20T02:08:34.640Z"
   },
   {
    "duration": 0,
    "start_time": "2023-02-20T02:08:34.641Z"
   },
   {
    "duration": 0,
    "start_time": "2023-02-20T02:08:34.642Z"
   },
   {
    "duration": 0,
    "start_time": "2023-02-20T02:08:34.643Z"
   },
   {
    "duration": 0,
    "start_time": "2023-02-20T02:08:34.644Z"
   },
   {
    "duration": 0,
    "start_time": "2023-02-20T02:08:34.645Z"
   },
   {
    "duration": 23,
    "start_time": "2023-02-20T02:10:52.116Z"
   },
   {
    "duration": 1793,
    "start_time": "2023-02-20T02:12:33.843Z"
   },
   {
    "duration": 12,
    "start_time": "2023-02-20T02:16:45.921Z"
   },
   {
    "duration": 1689,
    "start_time": "2023-02-20T02:16:46.313Z"
   },
   {
    "duration": 1872,
    "start_time": "2023-02-20T02:17:19.655Z"
   },
   {
    "duration": 249,
    "start_time": "2023-02-20T02:31:43.573Z"
   },
   {
    "duration": 253,
    "start_time": "2023-02-20T02:32:52.093Z"
   },
   {
    "duration": 7,
    "start_time": "2023-02-20T02:38:10.678Z"
   },
   {
    "duration": 8,
    "start_time": "2023-02-20T02:38:12.271Z"
   },
   {
    "duration": 5,
    "start_time": "2023-02-20T02:42:44.589Z"
   },
   {
    "duration": 6,
    "start_time": "2023-02-20T02:43:28.602Z"
   },
   {
    "duration": 1534,
    "start_time": "2023-02-20T02:58:09.251Z"
   },
   {
    "duration": 1217,
    "start_time": "2023-02-20T03:02:47.553Z"
   },
   {
    "duration": 90,
    "start_time": "2023-02-20T03:02:48.772Z"
   },
   {
    "duration": 19,
    "start_time": "2023-02-20T03:02:48.864Z"
   },
   {
    "duration": 34,
    "start_time": "2023-02-20T03:02:48.885Z"
   },
   {
    "duration": 24,
    "start_time": "2023-02-20T03:02:48.922Z"
   },
   {
    "duration": 41,
    "start_time": "2023-02-20T03:02:48.949Z"
   },
   {
    "duration": 22,
    "start_time": "2023-02-20T03:02:48.991Z"
   },
   {
    "duration": 19,
    "start_time": "2023-02-20T03:02:49.014Z"
   },
   {
    "duration": 33,
    "start_time": "2023-02-20T03:02:49.035Z"
   },
   {
    "duration": 33,
    "start_time": "2023-02-20T03:02:49.070Z"
   },
   {
    "duration": 26,
    "start_time": "2023-02-20T03:02:49.105Z"
   },
   {
    "duration": 21,
    "start_time": "2023-02-20T03:02:49.133Z"
   },
   {
    "duration": 46,
    "start_time": "2023-02-20T03:02:49.156Z"
   },
   {
    "duration": 16,
    "start_time": "2023-02-20T03:02:49.205Z"
   },
   {
    "duration": 23,
    "start_time": "2023-02-20T03:02:49.223Z"
   },
   {
    "duration": 35,
    "start_time": "2023-02-20T03:02:49.247Z"
   },
   {
    "duration": 15,
    "start_time": "2023-02-20T03:02:49.284Z"
   },
   {
    "duration": 36,
    "start_time": "2023-02-20T03:02:49.301Z"
   },
   {
    "duration": 28,
    "start_time": "2023-02-20T03:02:49.339Z"
   },
   {
    "duration": 109,
    "start_time": "2023-02-20T03:02:49.370Z"
   },
   {
    "duration": 4,
    "start_time": "2023-02-20T03:02:49.481Z"
   },
   {
    "duration": 18,
    "start_time": "2023-02-20T03:02:49.486Z"
   },
   {
    "duration": 36,
    "start_time": "2023-02-20T03:02:49.506Z"
   },
   {
    "duration": 173,
    "start_time": "2023-02-20T03:02:49.544Z"
   },
   {
    "duration": 171,
    "start_time": "2023-02-20T03:02:49.718Z"
   },
   {
    "duration": 18,
    "start_time": "2023-02-20T03:02:49.890Z"
   },
   {
    "duration": 2016,
    "start_time": "2023-02-20T03:02:49.910Z"
   },
   {
    "duration": 11,
    "start_time": "2023-02-20T03:02:51.928Z"
   },
   {
    "duration": 14,
    "start_time": "2023-02-20T03:02:51.940Z"
   },
   {
    "duration": 116,
    "start_time": "2023-02-20T03:02:51.956Z"
   },
   {
    "duration": 294,
    "start_time": "2023-02-20T03:02:52.073Z"
   },
   {
    "duration": 253,
    "start_time": "2023-02-20T03:02:52.370Z"
   },
   {
    "duration": 248,
    "start_time": "2023-02-20T03:02:52.625Z"
   },
   {
    "duration": 5,
    "start_time": "2023-02-20T03:02:52.875Z"
   },
   {
    "duration": 1548,
    "start_time": "2023-02-20T03:02:52.882Z"
   },
   {
    "duration": 377,
    "start_time": "2023-02-20T03:02:54.437Z"
   },
   {
    "duration": 22,
    "start_time": "2023-02-20T03:02:54.816Z"
   },
   {
    "duration": 265,
    "start_time": "2023-02-20T03:02:54.840Z"
   },
   {
    "duration": 7,
    "start_time": "2023-02-20T03:02:55.107Z"
   },
   {
    "duration": 24,
    "start_time": "2023-02-20T03:02:55.116Z"
   },
   {
    "duration": 195,
    "start_time": "2023-02-20T03:02:55.145Z"
   },
   {
    "duration": 207,
    "start_time": "2023-02-20T03:02:55.342Z"
   },
   {
    "duration": 201,
    "start_time": "2023-02-20T03:02:55.551Z"
   },
   {
    "duration": 15,
    "start_time": "2023-02-20T03:02:55.754Z"
   },
   {
    "duration": 19,
    "start_time": "2023-02-20T03:02:55.770Z"
   },
   {
    "duration": 14,
    "start_time": "2023-02-20T03:02:55.790Z"
   },
   {
    "duration": 11,
    "start_time": "2023-02-20T03:02:55.806Z"
   },
   {
    "duration": 15,
    "start_time": "2023-02-20T03:02:55.837Z"
   },
   {
    "duration": 8,
    "start_time": "2023-02-20T03:02:55.853Z"
   },
   {
    "duration": 14,
    "start_time": "2023-02-20T03:02:55.862Z"
   },
   {
    "duration": 5,
    "start_time": "2023-02-20T03:02:55.878Z"
   },
   {
    "duration": 10,
    "start_time": "2023-02-20T03:02:55.884Z"
   },
   {
    "duration": 6,
    "start_time": "2023-02-20T03:02:55.895Z"
   },
   {
    "duration": 1134,
    "start_time": "2023-02-20T18:38:54.372Z"
   },
   {
    "duration": 101,
    "start_time": "2023-02-20T18:38:55.508Z"
   },
   {
    "duration": 19,
    "start_time": "2023-02-20T18:38:55.611Z"
   },
   {
    "duration": 14,
    "start_time": "2023-02-20T18:38:55.631Z"
   },
   {
    "duration": 17,
    "start_time": "2023-02-20T18:38:55.648Z"
   },
   {
    "duration": 16,
    "start_time": "2023-02-20T18:38:55.667Z"
   },
   {
    "duration": 6,
    "start_time": "2023-02-20T18:38:55.685Z"
   },
   {
    "duration": 11,
    "start_time": "2023-02-20T18:38:55.693Z"
   },
   {
    "duration": 8,
    "start_time": "2023-02-20T18:38:55.706Z"
   },
   {
    "duration": 28,
    "start_time": "2023-02-20T18:38:55.716Z"
   },
   {
    "duration": 7,
    "start_time": "2023-02-20T18:38:55.746Z"
   },
   {
    "duration": 11,
    "start_time": "2023-02-20T18:38:55.755Z"
   },
   {
    "duration": 25,
    "start_time": "2023-02-20T18:38:55.767Z"
   },
   {
    "duration": 18,
    "start_time": "2023-02-20T18:38:55.795Z"
   },
   {
    "duration": 20,
    "start_time": "2023-02-20T18:38:55.814Z"
   },
   {
    "duration": 15,
    "start_time": "2023-02-20T18:38:55.836Z"
   },
   {
    "duration": 12,
    "start_time": "2023-02-20T18:38:55.852Z"
   },
   {
    "duration": 13,
    "start_time": "2023-02-20T18:38:55.865Z"
   },
   {
    "duration": 13,
    "start_time": "2023-02-20T18:38:55.880Z"
   },
   {
    "duration": 112,
    "start_time": "2023-02-20T18:38:55.895Z"
   },
   {
    "duration": 4,
    "start_time": "2023-02-20T18:38:56.009Z"
   },
   {
    "duration": 25,
    "start_time": "2023-02-20T18:38:56.015Z"
   },
   {
    "duration": 12,
    "start_time": "2023-02-20T18:38:56.041Z"
   },
   {
    "duration": 179,
    "start_time": "2023-02-20T18:38:56.055Z"
   },
   {
    "duration": 175,
    "start_time": "2023-02-20T18:38:56.236Z"
   },
   {
    "duration": 36,
    "start_time": "2023-02-20T18:38:56.413Z"
   },
   {
    "duration": 2067,
    "start_time": "2023-02-20T18:38:56.451Z"
   },
   {
    "duration": 17,
    "start_time": "2023-02-20T18:38:58.521Z"
   },
   {
    "duration": 106,
    "start_time": "2023-02-20T18:38:58.539Z"
   },
   {
    "duration": 17,
    "start_time": "2023-02-20T18:38:58.647Z"
   },
   {
    "duration": 302,
    "start_time": "2023-02-20T18:38:58.665Z"
   },
   {
    "duration": 245,
    "start_time": "2023-02-20T18:38:58.969Z"
   },
   {
    "duration": 259,
    "start_time": "2023-02-20T18:38:59.215Z"
   },
   {
    "duration": 6,
    "start_time": "2023-02-20T18:38:59.476Z"
   },
   {
    "duration": 1581,
    "start_time": "2023-02-20T18:38:59.483Z"
   },
   {
    "duration": 383,
    "start_time": "2023-02-20T18:39:01.066Z"
   },
   {
    "duration": 16,
    "start_time": "2023-02-20T18:39:01.451Z"
   },
   {
    "duration": 316,
    "start_time": "2023-02-20T18:39:01.468Z"
   },
   {
    "duration": 7,
    "start_time": "2023-02-20T18:39:01.786Z"
   },
   {
    "duration": 55,
    "start_time": "2023-02-20T18:39:01.795Z"
   },
   {
    "duration": 206,
    "start_time": "2023-02-20T18:39:01.854Z"
   },
   {
    "duration": 217,
    "start_time": "2023-02-20T18:39:02.062Z"
   },
   {
    "duration": 228,
    "start_time": "2023-02-20T18:39:02.281Z"
   },
   {
    "duration": 28,
    "start_time": "2023-02-20T18:39:02.510Z"
   },
   {
    "duration": 13,
    "start_time": "2023-02-20T18:39:02.540Z"
   },
   {
    "duration": 29,
    "start_time": "2023-02-20T18:39:02.555Z"
   },
   {
    "duration": 22,
    "start_time": "2023-02-20T18:39:02.586Z"
   },
   {
    "duration": 23,
    "start_time": "2023-02-20T18:39:02.610Z"
   },
   {
    "duration": 8,
    "start_time": "2023-02-20T18:39:02.638Z"
   },
   {
    "duration": 49,
    "start_time": "2023-02-20T18:39:02.648Z"
   },
   {
    "duration": 54,
    "start_time": "2023-02-20T18:39:02.699Z"
   },
   {
    "duration": 27,
    "start_time": "2023-02-20T18:39:02.755Z"
   },
   {
    "duration": 24,
    "start_time": "2023-02-20T18:39:02.783Z"
   },
   {
    "duration": 1305,
    "start_time": "2023-02-21T01:24:10.517Z"
   },
   {
    "duration": 489,
    "start_time": "2023-02-21T01:24:11.824Z"
   },
   {
    "duration": 19,
    "start_time": "2023-02-21T01:24:12.314Z"
   },
   {
    "duration": 12,
    "start_time": "2023-02-21T01:24:12.335Z"
   },
   {
    "duration": 17,
    "start_time": "2023-02-21T01:24:12.349Z"
   },
   {
    "duration": 27,
    "start_time": "2023-02-21T01:24:12.368Z"
   },
   {
    "duration": 4,
    "start_time": "2023-02-21T01:24:12.397Z"
   },
   {
    "duration": 9,
    "start_time": "2023-02-21T01:24:12.403Z"
   },
   {
    "duration": 11,
    "start_time": "2023-02-21T01:24:12.414Z"
   },
   {
    "duration": 12,
    "start_time": "2023-02-21T01:24:12.427Z"
   },
   {
    "duration": 4,
    "start_time": "2023-02-21T01:24:12.441Z"
   },
   {
    "duration": 25,
    "start_time": "2023-02-21T01:24:12.447Z"
   },
   {
    "duration": 20,
    "start_time": "2023-02-21T01:24:12.474Z"
   },
   {
    "duration": 10,
    "start_time": "2023-02-21T01:24:12.497Z"
   },
   {
    "duration": 16,
    "start_time": "2023-02-21T01:24:12.509Z"
   },
   {
    "duration": 12,
    "start_time": "2023-02-21T01:24:12.526Z"
   },
   {
    "duration": 18,
    "start_time": "2023-02-21T01:24:12.540Z"
   },
   {
    "duration": 26,
    "start_time": "2023-02-21T01:24:12.560Z"
   },
   {
    "duration": 10,
    "start_time": "2023-02-21T01:24:12.589Z"
   },
   {
    "duration": 14,
    "start_time": "2023-02-21T01:24:12.601Z"
   },
   {
    "duration": 13,
    "start_time": "2023-02-21T01:24:12.616Z"
   },
   {
    "duration": 161,
    "start_time": "2023-02-21T01:24:12.631Z"
   },
   {
    "duration": 157,
    "start_time": "2023-02-21T01:24:12.793Z"
   },
   {
    "duration": 18,
    "start_time": "2023-02-21T01:24:12.952Z"
   },
   {
    "duration": 1888,
    "start_time": "2023-02-21T01:24:12.972Z"
   },
   {
    "duration": 7,
    "start_time": "2023-02-21T01:24:14.861Z"
   },
   {
    "duration": 100,
    "start_time": "2023-02-21T01:24:14.869Z"
   },
   {
    "duration": 8,
    "start_time": "2023-02-21T01:24:14.971Z"
   },
   {
    "duration": 292,
    "start_time": "2023-02-21T01:24:14.993Z"
   },
   {
    "duration": 227,
    "start_time": "2023-02-21T01:24:15.288Z"
   },
   {
    "duration": 270,
    "start_time": "2023-02-21T01:24:15.517Z"
   },
   {
    "duration": 6,
    "start_time": "2023-02-21T01:24:15.792Z"
   },
   {
    "duration": 1485,
    "start_time": "2023-02-21T01:24:15.800Z"
   },
   {
    "duration": 342,
    "start_time": "2023-02-21T01:24:17.286Z"
   },
   {
    "duration": 13,
    "start_time": "2023-02-21T01:24:17.629Z"
   },
   {
    "duration": 234,
    "start_time": "2023-02-21T01:24:17.644Z"
   },
   {
    "duration": 14,
    "start_time": "2023-02-21T01:24:17.879Z"
   },
   {
    "duration": 20,
    "start_time": "2023-02-21T01:24:17.894Z"
   },
   {
    "duration": 171,
    "start_time": "2023-02-21T01:24:17.915Z"
   },
   {
    "duration": 180,
    "start_time": "2023-02-21T01:24:18.091Z"
   },
   {
    "duration": 192,
    "start_time": "2023-02-21T01:24:18.275Z"
   },
   {
    "duration": 13,
    "start_time": "2023-02-21T01:24:18.469Z"
   },
   {
    "duration": 13,
    "start_time": "2023-02-21T01:24:18.491Z"
   },
   {
    "duration": 13,
    "start_time": "2023-02-21T01:24:18.505Z"
   },
   {
    "duration": 9,
    "start_time": "2023-02-21T01:24:18.519Z"
   },
   {
    "duration": 22,
    "start_time": "2023-02-21T01:24:18.529Z"
   },
   {
    "duration": 6,
    "start_time": "2023-02-21T01:24:18.553Z"
   },
   {
    "duration": 8,
    "start_time": "2023-02-21T01:24:18.561Z"
   },
   {
    "duration": 8,
    "start_time": "2023-02-21T01:24:18.592Z"
   },
   {
    "duration": 6,
    "start_time": "2023-02-21T01:24:18.602Z"
   }
  ],
  "kernelspec": {
   "display_name": "Python 3 (ipykernel)",
   "language": "python",
   "name": "python3"
  },
  "language_info": {
   "codemirror_mode": {
    "name": "ipython",
    "version": 3
   },
   "file_extension": ".py",
   "mimetype": "text/x-python",
   "name": "python",
   "nbconvert_exporter": "python",
   "pygments_lexer": "ipython3",
   "version": "3.9.5"
  },
  "toc": {
   "base_numbering": 1,
   "nav_menu": {},
   "number_sections": true,
   "sideBar": true,
   "skip_h1_title": true,
   "title_cell": "Table of Contents",
   "title_sidebar": "Contents",
   "toc_cell": false,
   "toc_position": {},
   "toc_section_display": true,
   "toc_window_display": false
  }
 },
 "nbformat": 4,
 "nbformat_minor": 2
}
