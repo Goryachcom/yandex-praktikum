{
 "cells": [
  {
   "cell_type": "markdown",
   "id": "04457a8a",
   "metadata": {},
   "source": [
    "# Дашборд для Яндекс.Дзен"
   ]
  },
  {
   "cell_type": "markdown",
   "id": "d9a21538",
   "metadata": {},
   "source": [
    "## Описание проекта"
   ]
  },
  {
   "cell_type": "markdown",
   "id": "0ccdfb6f",
   "metadata": {},
   "source": [
    "Вы работаете аналитиком в Яндекс.Дзене. Почти всё ваше время занимает анализ пользовательского взаимодействия с карточками статей. Каждую карточку определяют её тема и источник (у него тоже есть тема). Примеры тем: «Красота и здоровье», «Россия», «Путешествия». А пользователей системы характеризует возрастная категория."
   ]
  },
  {
   "cell_type": "markdown",
   "id": "51214262",
   "metadata": {},
   "source": [
    "Есть три способа взаимодействия пользователей с системой:\n",
    "- Карточка отображена для пользователя (show);\n",
    "- Пользователь кликнул на карточку (click);\n",
    "- Пользователь просмотрел статью карточки (view)."
   ]
  },
  {
   "cell_type": "markdown",
   "id": "af272160",
   "metadata": {},
   "source": [
    "Каждую неделю начинающие менеджеры Денис и Валерия задают вам одни и те же вопросы: \n",
    "- Сколько взаимодействий пользователей с карточками происходит в системе с разбивкой по темам карточек?\n",
    "- Как много карточек генерируют источники с разными темами?\n",
    "- Как соотносятся темы карточек и темы источников?"
   ]
  },
  {
   "cell_type": "markdown",
   "id": "b1f674f0",
   "metadata": {},
   "source": [
    "На шестую неделю работы вы решаете, что процесс пора автоматизировать. Для Дениса и Валерии нужно сделать дашборд. Дашборд будет основываться на пайплайне, который будет брать данные из таблицы, в которых хранятся сырые данные, трансформировать данные и укладывать их в агрегирующую таблицу. Пайплайн будет разработан для вас дата-инженерами."
   ]
  },
  {
   "cell_type": "markdown",
   "id": "9d89f03d",
   "metadata": {},
   "source": [
    "## Краткое ТЗ для создания дашборда"
   ]
  },
  {
   "cell_type": "markdown",
   "id": "c493cb53",
   "metadata": {},
   "source": [
    "**Бизнес-задача: анализ взаимодействия пользователей с карточками Яндекс.Дзен;**"
   ]
  },
  {
   "cell_type": "markdown",
   "id": "1260f795",
   "metadata": {},
   "source": [
    "**Насколько часто предполагается пользоваться дашбордом: не реже, чем раз в неделю;**"
   ]
  },
  {
   "cell_type": "markdown",
   "id": "67f402a8",
   "metadata": {},
   "source": [
    "**Кто будет основным пользователем дашборда: менеджеры по анализу контента;**"
   ]
  },
  {
   "cell_type": "markdown",
   "id": "99eadcae",
   "metadata": {},
   "source": [
    "**Состав данных для дашборда:**\n",
    "- История событий по темам карточек (два графика - абсолютные числа и процентное соотношение);\n",
    "- Разбивка событий по темам источников;\n",
    "- Таблица соответствия тем источников темам карточек;"
   ]
  },
  {
   "cell_type": "markdown",
   "id": "2c3357af",
   "metadata": {},
   "source": [
    "**По каким параметрам данные должны группироваться:**\n",
    "- Дата и время;\n",
    "- Тема карточки;\n",
    "- Тема источника;\n",
    "- Возрастная группа;\n",
    "- Характер данных:"
   ]
  },
  {
   "cell_type": "markdown",
   "id": "fa7efc89",
   "metadata": {},
   "source": [
    "**Характер данных:**\n",
    "- История событий по темам карточек — абсолютные величины с разбивкой по минутам;\n",
    "- Разбивка событий по темам источников — относительные величины (% событий);\n",
    "- Соответствия тем источников темам карточек - абсолютные величины;"
   ]
  },
  {
   "cell_type": "markdown",
   "id": "07ca2ebc",
   "metadata": {},
   "source": [
    "**Важность: все графики имеют равную важность;**"
   ]
  },
  {
   "cell_type": "markdown",
   "id": "b5a6f3b8",
   "metadata": {},
   "source": [
    "**Источники данных для дашборда: дата-инженеры обещали подготовить для вас агрегирующую таблицу dash_visits. Вот её структура:**\n",
    "- record_id — первичный ключ,\n",
    "- item_topic — тема карточки,\n",
    "- source_topic — тема источника,\n",
    "- age_segment — возрастной сегмент,\n",
    "- dt — дата и время,\n",
    "- visits — количество событий."
   ]
  },
  {
   "cell_type": "markdown",
   "id": "f3c4e3b0",
   "metadata": {},
   "source": [
    "**Таблица хранится в специально подготовленной для вас базе данных zen;**"
   ]
  },
  {
   "cell_type": "markdown",
   "id": "9a67eed2",
   "metadata": {},
   "source": [
    "**Частота обновления данных: один раз в сутки, в полночь по UTC.**"
   ]
  },
  {
   "cell_type": "markdown",
   "id": "ce6f66c7",
   "metadata": {},
   "source": [
    "## Задачи проекта"
   ]
  },
  {
   "cell_type": "markdown",
   "id": "d09a3efc",
   "metadata": {},
   "source": [
    "**1.Получить данные из базы данных**"
   ]
  },
  {
   "cell_type": "markdown",
   "id": "5bffe42e",
   "metadata": {},
   "source": [
    "**2.Создать дашборд на основе полученных данных**"
   ]
  },
  {
   "cell_type": "markdown",
   "id": "771be60d",
   "metadata": {},
   "source": [
    "**3.Ответить на вопросы менеджеров в виде презентации:**\n",
    "- Cколько взаимодействий пользователей с карточками происходит в системе с разбивкой по темам карточек?\n",
    "- Как много карточек генерируют источники с разными темами?\n",
    "- Как соотносятся темы карточек и темы источников?"
   ]
  },
  {
   "cell_type": "code",
   "execution_count": 1,
   "id": "61257e24",
   "metadata": {},
   "outputs": [],
   "source": [
    "# импортируем библиотеки\n",
    "import pandas as pd\n",
    "from sqlalchemy import create_engine\n",
    "from IPython.display import Image"
   ]
  },
  {
   "cell_type": "code",
   "execution_count": 2,
   "id": "de3e6a74",
   "metadata": {},
   "outputs": [],
   "source": [
    "#коннектимся к базе\n",
    "db_config = {'user': 'praktikum_student', # имя пользователя\n",
    "            'pwd': 'Sdf4$2;d-d30pp', # пароль\n",
    "            'host': 'rc1b-wcoijxj3yxfsf3fs.mdb.yandexcloud.net',\n",
    "            'port': 6432, # порт подключения\n",
    "            'db': 'data-analyst-zen-project-db'} # название базы данных\n",
    "\n",
    "#запрашиваем сырые данные\n",
    "connection_string = 'postgresql://{}:{}@{}:{}/{}'.format(db_config['user'],\n",
    "                                                db_config['pwd'],\n",
    "                                                db_config['host'],\n",
    "                                                db_config['port'],\n",
    "                                                db_config['db'])\n",
    "\n",
    "engine = create_engine(connection_string)"
   ]
  },
  {
   "cell_type": "code",
   "execution_count": 3,
   "id": "5f4dfb82",
   "metadata": {},
   "outputs": [],
   "source": [
    "# делаем sql запрос\n",
    "\n",
    "query = '''\n",
    "           SELECT *\n",
    "           FROM dash_visits\n",
    "        '''\n",
    "\n",
    "dash_visits = pd.io.sql.read_sql(query, con=engine)"
   ]
  },
  {
   "cell_type": "code",
   "execution_count": 4,
   "id": "e0e7652c",
   "metadata": {},
   "outputs": [
    {
     "data": {
      "text/html": [
       "<div>\n",
       "<style scoped>\n",
       "    .dataframe tbody tr th:only-of-type {\n",
       "        vertical-align: middle;\n",
       "    }\n",
       "\n",
       "    .dataframe tbody tr th {\n",
       "        vertical-align: top;\n",
       "    }\n",
       "\n",
       "    .dataframe thead th {\n",
       "        text-align: right;\n",
       "    }\n",
       "</style>\n",
       "<table border=\"1\" class=\"dataframe\">\n",
       "  <thead>\n",
       "    <tr style=\"text-align: right;\">\n",
       "      <th></th>\n",
       "      <th>record_id</th>\n",
       "      <th>item_topic</th>\n",
       "      <th>source_topic</th>\n",
       "      <th>age_segment</th>\n",
       "      <th>dt</th>\n",
       "      <th>visits</th>\n",
       "    </tr>\n",
       "  </thead>\n",
       "  <tbody>\n",
       "    <tr>\n",
       "      <th>0</th>\n",
       "      <td>1040597</td>\n",
       "      <td>Деньги</td>\n",
       "      <td>Авто</td>\n",
       "      <td>18-25</td>\n",
       "      <td>2019-09-24 18:32:00</td>\n",
       "      <td>3</td>\n",
       "    </tr>\n",
       "    <tr>\n",
       "      <th>1</th>\n",
       "      <td>1040598</td>\n",
       "      <td>Деньги</td>\n",
       "      <td>Авто</td>\n",
       "      <td>18-25</td>\n",
       "      <td>2019-09-24 18:35:00</td>\n",
       "      <td>1</td>\n",
       "    </tr>\n",
       "    <tr>\n",
       "      <th>2</th>\n",
       "      <td>1040599</td>\n",
       "      <td>Деньги</td>\n",
       "      <td>Авто</td>\n",
       "      <td>18-25</td>\n",
       "      <td>2019-09-24 18:54:00</td>\n",
       "      <td>4</td>\n",
       "    </tr>\n",
       "    <tr>\n",
       "      <th>3</th>\n",
       "      <td>1040600</td>\n",
       "      <td>Деньги</td>\n",
       "      <td>Авто</td>\n",
       "      <td>18-25</td>\n",
       "      <td>2019-09-24 18:55:00</td>\n",
       "      <td>17</td>\n",
       "    </tr>\n",
       "    <tr>\n",
       "      <th>4</th>\n",
       "      <td>1040601</td>\n",
       "      <td>Деньги</td>\n",
       "      <td>Авто</td>\n",
       "      <td>18-25</td>\n",
       "      <td>2019-09-24 18:56:00</td>\n",
       "      <td>27</td>\n",
       "    </tr>\n",
       "    <tr>\n",
       "      <th>5</th>\n",
       "      <td>1040602</td>\n",
       "      <td>Деньги</td>\n",
       "      <td>Авто</td>\n",
       "      <td>18-25</td>\n",
       "      <td>2019-09-24 18:57:00</td>\n",
       "      <td>22</td>\n",
       "    </tr>\n",
       "    <tr>\n",
       "      <th>6</th>\n",
       "      <td>1040603</td>\n",
       "      <td>Деньги</td>\n",
       "      <td>Авто</td>\n",
       "      <td>18-25</td>\n",
       "      <td>2019-09-24 18:58:00</td>\n",
       "      <td>24</td>\n",
       "    </tr>\n",
       "    <tr>\n",
       "      <th>7</th>\n",
       "      <td>1040604</td>\n",
       "      <td>Деньги</td>\n",
       "      <td>Авто</td>\n",
       "      <td>18-25</td>\n",
       "      <td>2019-09-24 18:59:00</td>\n",
       "      <td>20</td>\n",
       "    </tr>\n",
       "    <tr>\n",
       "      <th>8</th>\n",
       "      <td>1040605</td>\n",
       "      <td>Деньги</td>\n",
       "      <td>Авто</td>\n",
       "      <td>18-25</td>\n",
       "      <td>2019-09-24 19:00:00</td>\n",
       "      <td>5</td>\n",
       "    </tr>\n",
       "    <tr>\n",
       "      <th>9</th>\n",
       "      <td>1040606</td>\n",
       "      <td>Деньги</td>\n",
       "      <td>Авто</td>\n",
       "      <td>26-30</td>\n",
       "      <td>2019-09-24 18:29:00</td>\n",
       "      <td>1</td>\n",
       "    </tr>\n",
       "  </tbody>\n",
       "</table>\n",
       "</div>"
      ],
      "text/plain": [
       "   record_id item_topic source_topic age_segment                  dt  visits\n",
       "0    1040597     Деньги         Авто       18-25 2019-09-24 18:32:00       3\n",
       "1    1040598     Деньги         Авто       18-25 2019-09-24 18:35:00       1\n",
       "2    1040599     Деньги         Авто       18-25 2019-09-24 18:54:00       4\n",
       "3    1040600     Деньги         Авто       18-25 2019-09-24 18:55:00      17\n",
       "4    1040601     Деньги         Авто       18-25 2019-09-24 18:56:00      27\n",
       "5    1040602     Деньги         Авто       18-25 2019-09-24 18:57:00      22\n",
       "6    1040603     Деньги         Авто       18-25 2019-09-24 18:58:00      24\n",
       "7    1040604     Деньги         Авто       18-25 2019-09-24 18:59:00      20\n",
       "8    1040605     Деньги         Авто       18-25 2019-09-24 19:00:00       5\n",
       "9    1040606     Деньги         Авто       26-30 2019-09-24 18:29:00       1"
      ]
     },
     "execution_count": 4,
     "metadata": {},
     "output_type": "execute_result"
    }
   ],
   "source": [
    "dash_visits.head(10) "
   ]
  },
  {
   "cell_type": "code",
   "execution_count": 5,
   "id": "d357cd12",
   "metadata": {},
   "outputs": [
    {
     "name": "stdout",
     "output_type": "stream",
     "text": [
      "<class 'pandas.core.frame.DataFrame'>\n",
      "RangeIndex: 30745 entries, 0 to 30744\n",
      "Data columns (total 6 columns):\n",
      " #   Column        Non-Null Count  Dtype         \n",
      "---  ------        --------------  -----         \n",
      " 0   record_id     30745 non-null  int64         \n",
      " 1   item_topic    30745 non-null  object        \n",
      " 2   source_topic  30745 non-null  object        \n",
      " 3   age_segment   30745 non-null  object        \n",
      " 4   dt            30745 non-null  datetime64[ns]\n",
      " 5   visits        30745 non-null  int64         \n",
      "dtypes: datetime64[ns](1), int64(2), object(3)\n",
      "memory usage: 1.4+ MB\n",
      "None\n",
      "\n",
      "\n",
      "          record_id        visits\n",
      "count  3.074500e+04  30745.000000\n",
      "mean   1.055969e+06     10.089673\n",
      "std    8.875461e+03     19.727601\n",
      "min    1.040597e+06      1.000000\n",
      "25%    1.048283e+06      1.000000\n",
      "50%    1.055969e+06      3.000000\n",
      "75%    1.063655e+06     10.000000\n",
      "max    1.071341e+06    371.000000\n"
     ]
    }
   ],
   "source": [
    "# посмотрим основную информацию\n",
    "print(dash_visits.info())\n",
    "print('\\n')\n",
    "print(dash_visits.describe())"
   ]
  },
  {
   "cell_type": "code",
   "execution_count": 6,
   "id": "974512e1",
   "metadata": {},
   "outputs": [
    {
     "data": {
      "text/plain": [
       "0"
      ]
     },
     "execution_count": 6,
     "metadata": {},
     "output_type": "execute_result"
    }
   ],
   "source": [
    "# проверим на явные дубликаты\n",
    "dash_visits.duplicated().sum()"
   ]
  },
  {
   "cell_type": "code",
   "execution_count": 7,
   "id": "a685aec6",
   "metadata": {},
   "outputs": [
    {
     "data": {
      "text/plain": [
       "Отношения             1536\n",
       "Интересные факты      1535\n",
       "Наука                 1505\n",
       "Подборки              1456\n",
       "Полезные советы       1424\n",
       "Общество              1422\n",
       "Россия                1385\n",
       "История               1363\n",
       "Семья                 1287\n",
       "Путешествия           1247\n",
       "Деньги                1234\n",
       "Женщины               1230\n",
       "Дети                  1229\n",
       "Туризм                1206\n",
       "Здоровье              1203\n",
       "Красота               1193\n",
       "Культура              1160\n",
       "Юмор                  1129\n",
       "Искусство             1119\n",
       "Рассказы              1109\n",
       "Психология            1056\n",
       "Скандалы              1023\n",
       "Знаменитости           976\n",
       "Женская психология     914\n",
       "Шоу                    804\n",
       "Name: item_topic, dtype: int64"
      ]
     },
     "execution_count": 7,
     "metadata": {},
     "output_type": "execute_result"
    }
   ],
   "source": [
    "# посмотрим на темы карточек \n",
    "dash_visits['item_topic'].value_counts()"
   ]
  },
  {
   "cell_type": "code",
   "execution_count": 8,
   "id": "f598d22a",
   "metadata": {},
   "outputs": [
    {
     "data": {
      "text/plain": [
       "Семейные отношения    1822\n",
       "Россия                1687\n",
       "Знаменитости          1650\n",
       "Полезные советы       1578\n",
       "Путешествия           1563\n",
       "Кино                  1505\n",
       "Дети                  1459\n",
       "История               1437\n",
       "Семья                 1405\n",
       "Одежда                1379\n",
       "Здоровье              1243\n",
       "Искусство             1228\n",
       "Авто                  1077\n",
       "Психология            1055\n",
       "Сад и дача            1036\n",
       "Политика              1024\n",
       "Спорт                 1007\n",
       "Сделай сам             995\n",
       "Ремонт                 985\n",
       "Деньги                 973\n",
       "Еда                    912\n",
       "Интерьеры              809\n",
       "Строительство          758\n",
       "Музыка                 750\n",
       "Технологии             741\n",
       "Финансы                667\n",
       "Name: source_topic, dtype: int64"
      ]
     },
     "execution_count": 8,
     "metadata": {},
     "output_type": "execute_result"
    }
   ],
   "source": [
    "# посмотрим на темы источников\n",
    "dash_visits['source_topic'].value_counts()"
   ]
  },
  {
   "cell_type": "code",
   "execution_count": 9,
   "id": "faad63da",
   "metadata": {},
   "outputs": [
    {
     "data": {
      "text/plain": [
       "18-25    7056\n",
       "26-30    5875\n",
       "31-35    5552\n",
       "36-40    5105\n",
       "41-45    3903\n",
       "45+      3254\n",
       "Name: age_segment, dtype: int64"
      ]
     },
     "execution_count": 9,
     "metadata": {},
     "output_type": "execute_result"
    }
   ],
   "source": [
    "# посмотрим на возрастные группы\n",
    "dash_visits['age_segment'].value_counts()"
   ]
  },
  {
   "cell_type": "code",
   "execution_count": 10,
   "id": "77da3d75",
   "metadata": {},
   "outputs": [
    {
     "name": "stdout",
     "output_type": "stream",
     "text": [
      "2019-09-24 18:28:00 || 2019-09-24 19:00:00\n"
     ]
    }
   ],
   "source": [
    "# посмотрим за какой период получены данные\n",
    "print(dash_visits['dt'].min(), '||', dash_visits['dt'].max())"
   ]
  },
  {
   "cell_type": "code",
   "execution_count": 11,
   "id": "69001d69",
   "metadata": {},
   "outputs": [],
   "source": [
    "# преобразуем в csv\n",
    "dash_visits.to_csv('dash_visits.csv', index = False)"
   ]
  },
  {
   "cell_type": "markdown",
   "id": "525737e6",
   "metadata": {},
   "source": [
    "## Дашборд"
   ]
  },
  {
   "cell_type": "markdown",
   "id": "a7cfde45",
   "metadata": {},
   "source": [
    "Ссылка: https://eu-west-1a.online.tableau.com/t/goryachcom/views/yandex-dzen_Goryachev/-"
   ]
  },
  {
   "cell_type": "markdown",
   "id": "d4f83f26",
   "metadata": {},
   "source": [
    "## Презентация"
   ]
  },
  {
   "cell_type": "markdown",
   "id": "867056b2",
   "metadata": {},
   "source": [
    "Ссылка: https://disk.yandex.ru/i/3X9eU9Nj6ODF6A"
   ]
  }
 ],
 "metadata": {
  "ExecuteTimeLog": [
   {
    "duration": 502,
    "start_time": "2023-06-02T17:35:50.878Z"
   },
   {
    "duration": 9,
    "start_time": "2023-06-02T17:36:00.178Z"
   },
   {
    "duration": 8760,
    "start_time": "2023-06-02T17:36:20.755Z"
   },
   {
    "duration": 502,
    "start_time": "2023-06-02T17:36:29.518Z"
   },
   {
    "duration": 15,
    "start_time": "2023-06-02T17:36:35.886Z"
   },
   {
    "duration": 10,
    "start_time": "2023-06-02T17:36:50.766Z"
   },
   {
    "duration": 31,
    "start_time": "2023-06-02T17:37:20.294Z"
   },
   {
    "duration": 23,
    "start_time": "2023-06-02T17:37:32.755Z"
   },
   {
    "duration": 30,
    "start_time": "2023-06-02T17:37:56.574Z"
   },
   {
    "duration": 26,
    "start_time": "2023-06-02T17:38:45.957Z"
   },
   {
    "duration": 19,
    "start_time": "2023-06-02T17:38:56.058Z"
   },
   {
    "duration": 10,
    "start_time": "2023-06-02T17:39:26.779Z"
   },
   {
    "duration": 11,
    "start_time": "2023-06-02T17:39:39.488Z"
   },
   {
    "duration": 13,
    "start_time": "2023-06-02T17:39:47.152Z"
   },
   {
    "duration": 4,
    "start_time": "2023-06-02T17:39:55.166Z"
   },
   {
    "duration": 900,
    "start_time": "2023-06-02T17:40:03.946Z"
   },
   {
    "duration": 528,
    "start_time": "2023-06-02T18:01:11.240Z"
   },
   {
    "duration": 11349,
    "start_time": "2023-06-02T18:01:11.770Z"
   },
   {
    "duration": 695,
    "start_time": "2023-06-02T18:01:23.120Z"
   },
   {
    "duration": 25,
    "start_time": "2023-06-02T18:01:23.818Z"
   },
   {
    "duration": 31,
    "start_time": "2023-06-02T18:01:23.845Z"
   },
   {
    "duration": 24,
    "start_time": "2023-06-02T18:01:23.878Z"
   },
   {
    "duration": 11,
    "start_time": "2023-06-02T18:01:23.904Z"
   },
   {
    "duration": 12,
    "start_time": "2023-06-02T18:01:23.942Z"
   },
   {
    "duration": 15,
    "start_time": "2023-06-02T18:01:23.956Z"
   },
   {
    "duration": 6,
    "start_time": "2023-06-02T18:01:23.974Z"
   },
   {
    "duration": 290,
    "start_time": "2023-06-02T18:01:23.982Z"
   },
   {
    "duration": 679,
    "start_time": "2023-06-02T18:05:48.018Z"
   },
   {
    "duration": 9057,
    "start_time": "2023-06-02T18:05:48.699Z"
   },
   {
    "duration": 553,
    "start_time": "2023-06-02T18:05:57.758Z"
   },
   {
    "duration": 34,
    "start_time": "2023-06-02T18:05:58.314Z"
   },
   {
    "duration": 43,
    "start_time": "2023-06-02T18:05:58.351Z"
   },
   {
    "duration": 53,
    "start_time": "2023-06-02T18:05:58.396Z"
   },
   {
    "duration": 90,
    "start_time": "2023-06-02T18:05:58.453Z"
   },
   {
    "duration": 35,
    "start_time": "2023-06-02T18:05:58.546Z"
   },
   {
    "duration": 16,
    "start_time": "2023-06-02T18:05:58.584Z"
   },
   {
    "duration": 8,
    "start_time": "2023-06-02T18:05:58.602Z"
   },
   {
    "duration": 317,
    "start_time": "2023-06-02T18:05:58.612Z"
   }
  ],
  "kernelspec": {
   "display_name": "Python 3 (ipykernel)",
   "language": "python",
   "name": "python3"
  },
  "language_info": {
   "codemirror_mode": {
    "name": "ipython",
    "version": 3
   },
   "file_extension": ".py",
   "mimetype": "text/x-python",
   "name": "python",
   "nbconvert_exporter": "python",
   "pygments_lexer": "ipython3",
   "version": "3.9.5"
  },
  "toc": {
   "base_numbering": "",
   "nav_menu": {},
   "number_sections": false,
   "sideBar": true,
   "skip_h1_title": false,
   "title_cell": "Table of Contents",
   "title_sidebar": "Contents",
   "toc_cell": false,
   "toc_position": {},
   "toc_section_display": true,
   "toc_window_display": false
  }
 },
 "nbformat": 4,
 "nbformat_minor": 5
}
