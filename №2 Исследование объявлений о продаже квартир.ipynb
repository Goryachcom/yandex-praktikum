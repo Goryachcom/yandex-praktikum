{
 "cells": [
  {
   "cell_type": "markdown",
   "metadata": {},
   "source": [
    "# Исследование объявлений о продаже квартир\n",
    "\n",
    "В вашем распоряжении данные сервиса Яндекс.Недвижимость — архив объявлений о продаже квартир в Санкт-Петербурге и соседних населённых пунктов за несколько лет. Нужно научиться определять рыночную стоимость объектов недвижимости. Ваша задача — установить параметры. Это позволит построить автоматизированную систему: она отследит аномалии и мошенническую деятельность. \n",
    "\n",
    "По каждой квартире на продажу доступны два вида данных. Первые вписаны пользователем, вторые — получены автоматически на основе картографических данных. Например, расстояние до центра, аэропорта, ближайшего парка и водоёма. "
   ]
  },
  {
   "cell_type": "markdown",
   "metadata": {},
   "source": [
    "### Откройте файл с данными и изучите общую информацию. "
   ]
  },
  {
   "cell_type": "code",
   "execution_count": 1,
   "metadata": {},
   "outputs": [],
   "source": [
    "import pandas as pd\n",
    "import numpy as np\n",
    "data = pd.read_csv('/datasets/real_estate_data.csv', sep='\\t')"
   ]
  },
  {
   "cell_type": "code",
   "execution_count": 2,
   "metadata": {},
   "outputs": [
    {
     "data": {
      "text/html": [
       "<div>\n",
       "<style scoped>\n",
       "    .dataframe tbody tr th:only-of-type {\n",
       "        vertical-align: middle;\n",
       "    }\n",
       "\n",
       "    .dataframe tbody tr th {\n",
       "        vertical-align: top;\n",
       "    }\n",
       "\n",
       "    .dataframe thead th {\n",
       "        text-align: right;\n",
       "    }\n",
       "</style>\n",
       "<table border=\"1\" class=\"dataframe\">\n",
       "  <thead>\n",
       "    <tr style=\"text-align: right;\">\n",
       "      <th></th>\n",
       "      <th>total_images</th>\n",
       "      <th>last_price</th>\n",
       "      <th>total_area</th>\n",
       "      <th>first_day_exposition</th>\n",
       "      <th>rooms</th>\n",
       "      <th>ceiling_height</th>\n",
       "      <th>floors_total</th>\n",
       "      <th>living_area</th>\n",
       "      <th>floor</th>\n",
       "      <th>is_apartment</th>\n",
       "      <th>...</th>\n",
       "      <th>kitchen_area</th>\n",
       "      <th>balcony</th>\n",
       "      <th>locality_name</th>\n",
       "      <th>airports_nearest</th>\n",
       "      <th>cityCenters_nearest</th>\n",
       "      <th>parks_around3000</th>\n",
       "      <th>parks_nearest</th>\n",
       "      <th>ponds_around3000</th>\n",
       "      <th>ponds_nearest</th>\n",
       "      <th>days_exposition</th>\n",
       "    </tr>\n",
       "  </thead>\n",
       "  <tbody>\n",
       "    <tr>\n",
       "      <th>0</th>\n",
       "      <td>20</td>\n",
       "      <td>13000000.0</td>\n",
       "      <td>108.0</td>\n",
       "      <td>2019-03-07T00:00:00</td>\n",
       "      <td>3</td>\n",
       "      <td>2.70</td>\n",
       "      <td>16.0</td>\n",
       "      <td>51.0</td>\n",
       "      <td>8</td>\n",
       "      <td>NaN</td>\n",
       "      <td>...</td>\n",
       "      <td>25.0</td>\n",
       "      <td>NaN</td>\n",
       "      <td>Санкт-Петербург</td>\n",
       "      <td>18863.0</td>\n",
       "      <td>16028.0</td>\n",
       "      <td>1.0</td>\n",
       "      <td>482.0</td>\n",
       "      <td>2.0</td>\n",
       "      <td>755.0</td>\n",
       "      <td>NaN</td>\n",
       "    </tr>\n",
       "    <tr>\n",
       "      <th>1</th>\n",
       "      <td>7</td>\n",
       "      <td>3350000.0</td>\n",
       "      <td>40.4</td>\n",
       "      <td>2018-12-04T00:00:00</td>\n",
       "      <td>1</td>\n",
       "      <td>NaN</td>\n",
       "      <td>11.0</td>\n",
       "      <td>18.6</td>\n",
       "      <td>1</td>\n",
       "      <td>NaN</td>\n",
       "      <td>...</td>\n",
       "      <td>11.0</td>\n",
       "      <td>2.0</td>\n",
       "      <td>посёлок Шушары</td>\n",
       "      <td>12817.0</td>\n",
       "      <td>18603.0</td>\n",
       "      <td>0.0</td>\n",
       "      <td>NaN</td>\n",
       "      <td>0.0</td>\n",
       "      <td>NaN</td>\n",
       "      <td>81.0</td>\n",
       "    </tr>\n",
       "    <tr>\n",
       "      <th>2</th>\n",
       "      <td>10</td>\n",
       "      <td>5196000.0</td>\n",
       "      <td>56.0</td>\n",
       "      <td>2015-08-20T00:00:00</td>\n",
       "      <td>2</td>\n",
       "      <td>NaN</td>\n",
       "      <td>5.0</td>\n",
       "      <td>34.3</td>\n",
       "      <td>4</td>\n",
       "      <td>NaN</td>\n",
       "      <td>...</td>\n",
       "      <td>8.3</td>\n",
       "      <td>0.0</td>\n",
       "      <td>Санкт-Петербург</td>\n",
       "      <td>21741.0</td>\n",
       "      <td>13933.0</td>\n",
       "      <td>1.0</td>\n",
       "      <td>90.0</td>\n",
       "      <td>2.0</td>\n",
       "      <td>574.0</td>\n",
       "      <td>558.0</td>\n",
       "    </tr>\n",
       "    <tr>\n",
       "      <th>3</th>\n",
       "      <td>0</td>\n",
       "      <td>64900000.0</td>\n",
       "      <td>159.0</td>\n",
       "      <td>2015-07-24T00:00:00</td>\n",
       "      <td>3</td>\n",
       "      <td>NaN</td>\n",
       "      <td>14.0</td>\n",
       "      <td>NaN</td>\n",
       "      <td>9</td>\n",
       "      <td>NaN</td>\n",
       "      <td>...</td>\n",
       "      <td>NaN</td>\n",
       "      <td>0.0</td>\n",
       "      <td>Санкт-Петербург</td>\n",
       "      <td>28098.0</td>\n",
       "      <td>6800.0</td>\n",
       "      <td>2.0</td>\n",
       "      <td>84.0</td>\n",
       "      <td>3.0</td>\n",
       "      <td>234.0</td>\n",
       "      <td>424.0</td>\n",
       "    </tr>\n",
       "    <tr>\n",
       "      <th>4</th>\n",
       "      <td>2</td>\n",
       "      <td>10000000.0</td>\n",
       "      <td>100.0</td>\n",
       "      <td>2018-06-19T00:00:00</td>\n",
       "      <td>2</td>\n",
       "      <td>3.03</td>\n",
       "      <td>14.0</td>\n",
       "      <td>32.0</td>\n",
       "      <td>13</td>\n",
       "      <td>NaN</td>\n",
       "      <td>...</td>\n",
       "      <td>41.0</td>\n",
       "      <td>NaN</td>\n",
       "      <td>Санкт-Петербург</td>\n",
       "      <td>31856.0</td>\n",
       "      <td>8098.0</td>\n",
       "      <td>2.0</td>\n",
       "      <td>112.0</td>\n",
       "      <td>1.0</td>\n",
       "      <td>48.0</td>\n",
       "      <td>121.0</td>\n",
       "    </tr>\n",
       "  </tbody>\n",
       "</table>\n",
       "<p>5 rows × 22 columns</p>\n",
       "</div>"
      ],
      "text/plain": [
       "   total_images  last_price  total_area first_day_exposition  rooms  \\\n",
       "0            20  13000000.0       108.0  2019-03-07T00:00:00      3   \n",
       "1             7   3350000.0        40.4  2018-12-04T00:00:00      1   \n",
       "2            10   5196000.0        56.0  2015-08-20T00:00:00      2   \n",
       "3             0  64900000.0       159.0  2015-07-24T00:00:00      3   \n",
       "4             2  10000000.0       100.0  2018-06-19T00:00:00      2   \n",
       "\n",
       "   ceiling_height  floors_total  living_area  floor is_apartment  ...  \\\n",
       "0            2.70          16.0         51.0      8          NaN  ...   \n",
       "1             NaN          11.0         18.6      1          NaN  ...   \n",
       "2             NaN           5.0         34.3      4          NaN  ...   \n",
       "3             NaN          14.0          NaN      9          NaN  ...   \n",
       "4            3.03          14.0         32.0     13          NaN  ...   \n",
       "\n",
       "   kitchen_area  balcony    locality_name  airports_nearest  \\\n",
       "0          25.0      NaN  Санкт-Петербург           18863.0   \n",
       "1          11.0      2.0   посёлок Шушары           12817.0   \n",
       "2           8.3      0.0  Санкт-Петербург           21741.0   \n",
       "3           NaN      0.0  Санкт-Петербург           28098.0   \n",
       "4          41.0      NaN  Санкт-Петербург           31856.0   \n",
       "\n",
       "  cityCenters_nearest  parks_around3000  parks_nearest  ponds_around3000  \\\n",
       "0             16028.0               1.0          482.0               2.0   \n",
       "1             18603.0               0.0            NaN               0.0   \n",
       "2             13933.0               1.0           90.0               2.0   \n",
       "3              6800.0               2.0           84.0               3.0   \n",
       "4              8098.0               2.0          112.0               1.0   \n",
       "\n",
       "   ponds_nearest  days_exposition  \n",
       "0          755.0              NaN  \n",
       "1            NaN             81.0  \n",
       "2          574.0            558.0  \n",
       "3          234.0            424.0  \n",
       "4           48.0            121.0  \n",
       "\n",
       "[5 rows x 22 columns]"
      ]
     },
     "execution_count": 2,
     "metadata": {},
     "output_type": "execute_result"
    }
   ],
   "source": [
    "#первые 5 строк таблицы\n",
    "data.head()"
   ]
  },
  {
   "cell_type": "code",
   "execution_count": 3,
   "metadata": {},
   "outputs": [
    {
     "data": {
      "text/html": [
       "<div>\n",
       "<style scoped>\n",
       "    .dataframe tbody tr th:only-of-type {\n",
       "        vertical-align: middle;\n",
       "    }\n",
       "\n",
       "    .dataframe tbody tr th {\n",
       "        vertical-align: top;\n",
       "    }\n",
       "\n",
       "    .dataframe thead th {\n",
       "        text-align: right;\n",
       "    }\n",
       "</style>\n",
       "<table border=\"1\" class=\"dataframe\">\n",
       "  <thead>\n",
       "    <tr style=\"text-align: right;\">\n",
       "      <th></th>\n",
       "      <th>total_images</th>\n",
       "      <th>last_price</th>\n",
       "      <th>total_area</th>\n",
       "      <th>first_day_exposition</th>\n",
       "      <th>rooms</th>\n",
       "      <th>ceiling_height</th>\n",
       "      <th>floors_total</th>\n",
       "      <th>living_area</th>\n",
       "      <th>floor</th>\n",
       "      <th>is_apartment</th>\n",
       "      <th>...</th>\n",
       "      <th>kitchen_area</th>\n",
       "      <th>balcony</th>\n",
       "      <th>locality_name</th>\n",
       "      <th>airports_nearest</th>\n",
       "      <th>cityCenters_nearest</th>\n",
       "      <th>parks_around3000</th>\n",
       "      <th>parks_nearest</th>\n",
       "      <th>ponds_around3000</th>\n",
       "      <th>ponds_nearest</th>\n",
       "      <th>days_exposition</th>\n",
       "    </tr>\n",
       "  </thead>\n",
       "  <tbody>\n",
       "    <tr>\n",
       "      <th>23694</th>\n",
       "      <td>9</td>\n",
       "      <td>9700000.0</td>\n",
       "      <td>133.81</td>\n",
       "      <td>2017-03-21T00:00:00</td>\n",
       "      <td>3</td>\n",
       "      <td>3.7</td>\n",
       "      <td>5.0</td>\n",
       "      <td>73.3</td>\n",
       "      <td>3</td>\n",
       "      <td>NaN</td>\n",
       "      <td>...</td>\n",
       "      <td>13.83</td>\n",
       "      <td>NaN</td>\n",
       "      <td>Санкт-Петербург</td>\n",
       "      <td>24665.0</td>\n",
       "      <td>4232.0</td>\n",
       "      <td>1.0</td>\n",
       "      <td>796.0</td>\n",
       "      <td>3.0</td>\n",
       "      <td>381.0</td>\n",
       "      <td>NaN</td>\n",
       "    </tr>\n",
       "    <tr>\n",
       "      <th>23695</th>\n",
       "      <td>14</td>\n",
       "      <td>3100000.0</td>\n",
       "      <td>59.00</td>\n",
       "      <td>2018-01-15T00:00:00</td>\n",
       "      <td>3</td>\n",
       "      <td>NaN</td>\n",
       "      <td>5.0</td>\n",
       "      <td>38.0</td>\n",
       "      <td>4</td>\n",
       "      <td>NaN</td>\n",
       "      <td>...</td>\n",
       "      <td>8.50</td>\n",
       "      <td>NaN</td>\n",
       "      <td>Тосно</td>\n",
       "      <td>NaN</td>\n",
       "      <td>NaN</td>\n",
       "      <td>NaN</td>\n",
       "      <td>NaN</td>\n",
       "      <td>NaN</td>\n",
       "      <td>NaN</td>\n",
       "      <td>45.0</td>\n",
       "    </tr>\n",
       "    <tr>\n",
       "      <th>23696</th>\n",
       "      <td>18</td>\n",
       "      <td>2500000.0</td>\n",
       "      <td>56.70</td>\n",
       "      <td>2018-02-11T00:00:00</td>\n",
       "      <td>2</td>\n",
       "      <td>NaN</td>\n",
       "      <td>3.0</td>\n",
       "      <td>29.7</td>\n",
       "      <td>1</td>\n",
       "      <td>NaN</td>\n",
       "      <td>...</td>\n",
       "      <td>NaN</td>\n",
       "      <td>NaN</td>\n",
       "      <td>село Рождествено</td>\n",
       "      <td>NaN</td>\n",
       "      <td>NaN</td>\n",
       "      <td>NaN</td>\n",
       "      <td>NaN</td>\n",
       "      <td>NaN</td>\n",
       "      <td>NaN</td>\n",
       "      <td>NaN</td>\n",
       "    </tr>\n",
       "    <tr>\n",
       "      <th>23697</th>\n",
       "      <td>13</td>\n",
       "      <td>11475000.0</td>\n",
       "      <td>76.75</td>\n",
       "      <td>2017-03-28T00:00:00</td>\n",
       "      <td>2</td>\n",
       "      <td>3.0</td>\n",
       "      <td>17.0</td>\n",
       "      <td>NaN</td>\n",
       "      <td>12</td>\n",
       "      <td>NaN</td>\n",
       "      <td>...</td>\n",
       "      <td>23.30</td>\n",
       "      <td>2.0</td>\n",
       "      <td>Санкт-Петербург</td>\n",
       "      <td>39140.0</td>\n",
       "      <td>10364.0</td>\n",
       "      <td>2.0</td>\n",
       "      <td>173.0</td>\n",
       "      <td>3.0</td>\n",
       "      <td>196.0</td>\n",
       "      <td>602.0</td>\n",
       "    </tr>\n",
       "    <tr>\n",
       "      <th>23698</th>\n",
       "      <td>4</td>\n",
       "      <td>1350000.0</td>\n",
       "      <td>32.30</td>\n",
       "      <td>2017-07-21T00:00:00</td>\n",
       "      <td>1</td>\n",
       "      <td>2.5</td>\n",
       "      <td>5.0</td>\n",
       "      <td>12.3</td>\n",
       "      <td>1</td>\n",
       "      <td>NaN</td>\n",
       "      <td>...</td>\n",
       "      <td>9.00</td>\n",
       "      <td>NaN</td>\n",
       "      <td>поселок Новый Учхоз</td>\n",
       "      <td>NaN</td>\n",
       "      <td>NaN</td>\n",
       "      <td>NaN</td>\n",
       "      <td>NaN</td>\n",
       "      <td>NaN</td>\n",
       "      <td>NaN</td>\n",
       "      <td>NaN</td>\n",
       "    </tr>\n",
       "  </tbody>\n",
       "</table>\n",
       "<p>5 rows × 22 columns</p>\n",
       "</div>"
      ],
      "text/plain": [
       "       total_images  last_price  total_area first_day_exposition  rooms  \\\n",
       "23694             9   9700000.0      133.81  2017-03-21T00:00:00      3   \n",
       "23695            14   3100000.0       59.00  2018-01-15T00:00:00      3   \n",
       "23696            18   2500000.0       56.70  2018-02-11T00:00:00      2   \n",
       "23697            13  11475000.0       76.75  2017-03-28T00:00:00      2   \n",
       "23698             4   1350000.0       32.30  2017-07-21T00:00:00      1   \n",
       "\n",
       "       ceiling_height  floors_total  living_area  floor is_apartment  ...  \\\n",
       "23694             3.7           5.0         73.3      3          NaN  ...   \n",
       "23695             NaN           5.0         38.0      4          NaN  ...   \n",
       "23696             NaN           3.0         29.7      1          NaN  ...   \n",
       "23697             3.0          17.0          NaN     12          NaN  ...   \n",
       "23698             2.5           5.0         12.3      1          NaN  ...   \n",
       "\n",
       "       kitchen_area  balcony        locality_name  airports_nearest  \\\n",
       "23694         13.83      NaN      Санкт-Петербург           24665.0   \n",
       "23695          8.50      NaN                Тосно               NaN   \n",
       "23696           NaN      NaN     село Рождествено               NaN   \n",
       "23697         23.30      2.0      Санкт-Петербург           39140.0   \n",
       "23698          9.00      NaN  поселок Новый Учхоз               NaN   \n",
       "\n",
       "      cityCenters_nearest  parks_around3000  parks_nearest  ponds_around3000  \\\n",
       "23694              4232.0               1.0          796.0               3.0   \n",
       "23695                 NaN               NaN            NaN               NaN   \n",
       "23696                 NaN               NaN            NaN               NaN   \n",
       "23697             10364.0               2.0          173.0               3.0   \n",
       "23698                 NaN               NaN            NaN               NaN   \n",
       "\n",
       "       ponds_nearest  days_exposition  \n",
       "23694          381.0              NaN  \n",
       "23695            NaN             45.0  \n",
       "23696            NaN              NaN  \n",
       "23697          196.0            602.0  \n",
       "23698            NaN              NaN  \n",
       "\n",
       "[5 rows x 22 columns]"
      ]
     },
     "execution_count": 3,
     "metadata": {},
     "output_type": "execute_result"
    }
   ],
   "source": [
    "#последние 5 строк таблицы\n",
    "data.tail()"
   ]
  },
  {
   "cell_type": "code",
   "execution_count": 4,
   "metadata": {},
   "outputs": [
    {
     "name": "stdout",
     "output_type": "stream",
     "text": [
      "<class 'pandas.core.frame.DataFrame'>\n",
      "RangeIndex: 23699 entries, 0 to 23698\n",
      "Data columns (total 22 columns):\n",
      " #   Column                Non-Null Count  Dtype  \n",
      "---  ------                --------------  -----  \n",
      " 0   total_images          23699 non-null  int64  \n",
      " 1   last_price            23699 non-null  float64\n",
      " 2   total_area            23699 non-null  float64\n",
      " 3   first_day_exposition  23699 non-null  object \n",
      " 4   rooms                 23699 non-null  int64  \n",
      " 5   ceiling_height        14504 non-null  float64\n",
      " 6   floors_total          23613 non-null  float64\n",
      " 7   living_area           21796 non-null  float64\n",
      " 8   floor                 23699 non-null  int64  \n",
      " 9   is_apartment          2775 non-null   object \n",
      " 10  studio                23699 non-null  bool   \n",
      " 11  open_plan             23699 non-null  bool   \n",
      " 12  kitchen_area          21421 non-null  float64\n",
      " 13  balcony               12180 non-null  float64\n",
      " 14  locality_name         23650 non-null  object \n",
      " 15  airports_nearest      18157 non-null  float64\n",
      " 16  cityCenters_nearest   18180 non-null  float64\n",
      " 17  parks_around3000      18181 non-null  float64\n",
      " 18  parks_nearest         8079 non-null   float64\n",
      " 19  ponds_around3000      18181 non-null  float64\n",
      " 20  ponds_nearest         9110 non-null   float64\n",
      " 21  days_exposition       20518 non-null  float64\n",
      "dtypes: bool(2), float64(14), int64(3), object(3)\n",
      "memory usage: 3.7+ MB\n"
     ]
    }
   ],
   "source": [
    "#общая информация о таблице\n",
    "data.info()"
   ]
  },
  {
   "cell_type": "code",
   "execution_count": 5,
   "metadata": {},
   "outputs": [],
   "source": [
    "#переименовываем столбец cityCenters_nearest\n",
    "data.rename(columns={'cityCenters_nearest' : 'city_centers_nearest'}, inplace=True)"
   ]
  },
  {
   "cell_type": "code",
   "execution_count": 6,
   "metadata": {},
   "outputs": [
    {
     "data": {
      "image/png": "[encoded data removed]",
      "text/plain": [
       "<Figure size 1080x1440 with 20 Axes>"
      ]
     },
     "metadata": {
      "needs_background": "light"
     },
     "output_type": "display_data"
    }
   ],
   "source": [
    "#строим гистограммы\n",
    "data.hist(figsize=(15, 20));"
   ]
  },
  {
   "cell_type": "code",
   "execution_count": 7,
   "metadata": {},
   "outputs": [
    {
     "data": {
      "text/plain": [
       "total_images                0\n",
       "last_price                  0\n",
       "total_area                  0\n",
       "first_day_exposition        0\n",
       "rooms                       0\n",
       "ceiling_height           9195\n",
       "floors_total               86\n",
       "living_area              1903\n",
       "floor                       0\n",
       "is_apartment            20924\n",
       "studio                      0\n",
       "open_plan                   0\n",
       "kitchen_area             2278\n",
       "balcony                 11519\n",
       "locality_name              49\n",
       "airports_nearest         5542\n",
       "city_centers_nearest     5519\n",
       "parks_around3000         5518\n",
       "parks_nearest           15620\n",
       "ponds_around3000         5518\n",
       "ponds_nearest           14589\n",
       "days_exposition          3181\n",
       "dtype: int64"
      ]
     },
     "execution_count": 7,
     "metadata": {},
     "output_type": "execute_result"
    }
   ],
   "source": [
    "#количество пропущенных значений в каждом столбце\n",
    "data.isna().sum()"
   ]
  },
  {
   "cell_type": "markdown",
   "metadata": {},
   "source": [
    "### Предобработка данных"
   ]
  },
  {
   "cell_type": "markdown",
   "metadata": {},
   "source": [
    "#### Пропущенные значения"
   ]
  },
  {
   "cell_type": "markdown",
   "metadata": {},
   "source": [
    "- ceiling_height - практически в трети объявлений пропущена высота потолков, оставим Null.\n",
    "\n",
    "- floors_total - данные просто не заполнили, из выборки, оставим Null.\n",
    "\n",
    "- living_area - оставим Null.\n",
    "\n",
    "- is_apartment - значений, можем предположить что это не апартаменты и присвоить False.\n",
    "\n",
    "- kitchen_area - проверить не студия ли это? Если нет, то оставим Null.\n",
    "\n",
    "- balcony - скорее всего там нет балконов, заполняем 0\n",
    "\n",
    "- locality_name - данные просто не заполнили, оставим Null\n",
    "\n",
    "- airports_nearest - аэропортов рядом нет, оставляем Null\n",
    "\n",
    "- city_centers_nearest - центр города не близко, оставляем Null\n",
    "\n",
    "- parks_around3000 - значит парков нет в радиусе 3км, оставляем Null\n",
    "\n",
    "- parks_nearest - значит парков нет, оставляем Null\n",
    "\n",
    "- ponds_around3000 - значит прудов нет в радиусе 3км, оставляем Null\n",
    "\n",
    "- ponds_nearest - оставляем Null\n",
    "\n",
    "- days_exposition - объявление не было опубликовано, оставляем Null"
   ]
  },
  {
   "cell_type": "code",
   "execution_count": 8,
   "metadata": {},
   "outputs": [
    {
     "name": "stdout",
     "output_type": "stream",
     "text": [
      "Число дубликатов:  0\n"
     ]
    }
   ],
   "source": [
    "print('Число дубликатов: ',data.duplicated().sum())"
   ]
  },
  {
   "cell_type": "code",
   "execution_count": 9,
   "metadata": {},
   "outputs": [],
   "source": [
    "#удалем строки с пропусками в floors_total\n",
    "data['floors_total'].dropna(inplace=True)"
   ]
  },
  {
   "cell_type": "code",
   "execution_count": 10,
   "metadata": {},
   "outputs": [],
   "source": [
    "#заполняем пропуски в is_apartment как 'False'\n",
    "data['is_apartment'] = data['is_apartment'].fillna('False')"
   ]
  },
  {
   "cell_type": "code",
   "execution_count": 11,
   "metadata": {},
   "outputs": [],
   "source": [
    "#заполняем пропуски в balcony как '0'\n",
    "data['balcony'] = data['balcony'].fillna(0)"
   ]
  },
  {
   "cell_type": "code",
   "execution_count": 12,
   "metadata": {},
   "outputs": [],
   "source": [
    "#удалем строки с пропусками в locality_name\n",
    "data['locality_name'].dropna(inplace=True)"
   ]
  },
  {
   "cell_type": "code",
   "execution_count": 13,
   "metadata": {},
   "outputs": [
    {
     "data": {
      "text/plain": [
       "total_images                0\n",
       "last_price                  0\n",
       "total_area                  0\n",
       "first_day_exposition        0\n",
       "rooms                       0\n",
       "ceiling_height           9195\n",
       "floors_total               86\n",
       "living_area              1903\n",
       "floor                       0\n",
       "is_apartment                0\n",
       "studio                      0\n",
       "open_plan                   0\n",
       "kitchen_area             2278\n",
       "balcony                     0\n",
       "locality_name              49\n",
       "airports_nearest         5542\n",
       "city_centers_nearest     5519\n",
       "parks_around3000         5518\n",
       "parks_nearest           15620\n",
       "ponds_around3000         5518\n",
       "ponds_nearest           14589\n",
       "days_exposition          3181\n",
       "dtype: int64"
      ]
     },
     "execution_count": 13,
     "metadata": {},
     "output_type": "execute_result"
    }
   ],
   "source": [
    "data.isna().sum()"
   ]
  },
  {
   "cell_type": "markdown",
   "metadata": {},
   "source": [
    "#### Типы данных"
   ]
  },
  {
   "cell_type": "code",
   "execution_count": 14,
   "metadata": {},
   "outputs": [
    {
     "name": "stdout",
     "output_type": "stream",
     "text": [
      "<class 'pandas.core.frame.DataFrame'>\n",
      "RangeIndex: 23699 entries, 0 to 23698\n",
      "Data columns (total 22 columns):\n",
      " #   Column                Non-Null Count  Dtype  \n",
      "---  ------                --------------  -----  \n",
      " 0   total_images          23699 non-null  int64  \n",
      " 1   last_price            23699 non-null  float64\n",
      " 2   total_area            23699 non-null  float64\n",
      " 3   first_day_exposition  23699 non-null  object \n",
      " 4   rooms                 23699 non-null  int64  \n",
      " 5   ceiling_height        14504 non-null  float64\n",
      " 6   floors_total          23613 non-null  float64\n",
      " 7   living_area           21796 non-null  float64\n",
      " 8   floor                 23699 non-null  int64  \n",
      " 9   is_apartment          23699 non-null  object \n",
      " 10  studio                23699 non-null  bool   \n",
      " 11  open_plan             23699 non-null  bool   \n",
      " 12  kitchen_area          21421 non-null  float64\n",
      " 13  balcony               23699 non-null  float64\n",
      " 14  locality_name         23650 non-null  object \n",
      " 15  airports_nearest      18157 non-null  float64\n",
      " 16  city_centers_nearest  18180 non-null  float64\n",
      " 17  parks_around3000      18181 non-null  float64\n",
      " 18  parks_nearest         8079 non-null   float64\n",
      " 19  ponds_around3000      18181 non-null  float64\n",
      " 20  ponds_nearest         9110 non-null   float64\n",
      " 21  days_exposition       20518 non-null  float64\n",
      "dtypes: bool(2), float64(14), int64(3), object(3)\n",
      "memory usage: 3.7+ MB\n"
     ]
    }
   ],
   "source": [
    "data.info()"
   ]
  },
  {
   "cell_type": "markdown",
   "metadata": {},
   "source": [
    "- last_price -  меняем на int64. Для экономии памяти\n",
    "- first_day_exposition - меняем на date. Для удобства работы с датой\n",
    "- floors_total - меняем на Int8. Для экономии памяти\n",
    "- is_apartment - меняем на bool. Для работы с булевым значением\n",
    "- balcony - меняем на int8. Для экономии памяти\n",
    "- days_exposition - меняем на int64. Для экономии памяти"
   ]
  },
  {
   "cell_type": "code",
   "execution_count": 15,
   "metadata": {},
   "outputs": [
    {
     "name": "stdout",
     "output_type": "stream",
     "text": [
      "1ok\n",
      "2ok\n",
      "3ok\n",
      "4ok\n",
      "5ok\n",
      "6ok\n"
     ]
    }
   ],
   "source": [
    "#try чтобы определить ошибки при преобразовании типов\n",
    "try:\n",
    "    data['last_price'] = data['last_price'].astype('int64')\n",
    "    print('1ok')\n",
    "except:\n",
    "    print('last_price int type conversion fail')\n",
    "    \n",
    "try:    \n",
    "    data['first_day_exposition'] = pd.to_datetime(data['first_day_exposition'],format='%Y-%m-%dT%H:%M:%S')\n",
    "    print('2ok')\n",
    "except:\n",
    "    print('first_day_exposition to_datetime type conversion fail')\n",
    "    \n",
    "try:\n",
    "    data['floors_total'] =  data['floors_total'].astype('Int8')\n",
    "    print('3ok')\n",
    "except:\n",
    "    print('floors_total int8 type conversion fail')\n",
    "      \n",
    "try:\n",
    "    data['is_apartment'] = data['is_apartment'].map({'False':False, 'True':True})\n",
    "    print('4ok')\n",
    "except:\n",
    "    print('is_apartment bool type conversion fail')\n",
    "        \n",
    "try:\n",
    "    data['balcony'] = data['balcony'].astype('int8')\n",
    "    print('5ok')\n",
    "except:\n",
    "    print('balcony int8 type conversion fail')\n",
    "    \n",
    "try:\n",
    "    data['days_exposition'] = np.floor(pd.to_numeric(data['days_exposition'], errors='coerce')).astype('Int64')\n",
    "    print('6ok')\n",
    "except:\n",
    "    print('days_exposition int64 type conversion fail')"
   ]
  },
  {
   "cell_type": "code",
   "execution_count": 16,
   "metadata": {},
   "outputs": [
    {
     "name": "stdout",
     "output_type": "stream",
     "text": [
      "<class 'pandas.core.frame.DataFrame'>\n",
      "RangeIndex: 23699 entries, 0 to 23698\n",
      "Data columns (total 22 columns):\n",
      " #   Column                Non-Null Count  Dtype         \n",
      "---  ------                --------------  -----         \n",
      " 0   total_images          23699 non-null  int64         \n",
      " 1   last_price            23699 non-null  int64         \n",
      " 2   total_area            23699 non-null  float64       \n",
      " 3   first_day_exposition  23699 non-null  datetime64[ns]\n",
      " 4   rooms                 23699 non-null  int64         \n",
      " 5   ceiling_height        14504 non-null  float64       \n",
      " 6   floors_total          23613 non-null  Int8          \n",
      " 7   living_area           21796 non-null  float64       \n",
      " 8   floor                 23699 non-null  int64         \n",
      " 9   is_apartment          20924 non-null  object        \n",
      " 10  studio                23699 non-null  bool          \n",
      " 11  open_plan             23699 non-null  bool          \n",
      " 12  kitchen_area          21421 non-null  float64       \n",
      " 13  balcony               23699 non-null  int8          \n",
      " 14  locality_name         23650 non-null  object        \n",
      " 15  airports_nearest      18157 non-null  float64       \n",
      " 16  city_centers_nearest  18180 non-null  float64       \n",
      " 17  parks_around3000      18181 non-null  float64       \n",
      " 18  parks_nearest         8079 non-null   float64       \n",
      " 19  ponds_around3000      18181 non-null  float64       \n",
      " 20  ponds_nearest         9110 non-null   float64       \n",
      " 21  days_exposition       20518 non-null  Int64         \n",
      "dtypes: Int64(1), Int8(1), bool(2), datetime64[ns](1), float64(10), int64(4), int8(1), object(2)\n",
      "memory usage: 3.4+ MB\n"
     ]
    }
   ],
   "source": [
    "data.info()"
   ]
  },
  {
   "cell_type": "markdown",
   "metadata": {},
   "source": [
    "#### Уникальные значения"
   ]
  },
  {
   "cell_type": "code",
   "execution_count": 17,
   "metadata": {},
   "outputs": [
    {
     "name": "stdout",
     "output_type": "stream",
     "text": [
      "Количество уникальных занчений locality_name: 365\n"
     ]
    }
   ],
   "source": [
    "def loc_length():\n",
    "    return print('Количество уникальных занчений locality_name:', data['locality_name'].unique().shape[0])\n",
    "loc_length()"
   ]
  },
  {
   "cell_type": "code",
   "execution_count": 18,
   "metadata": {},
   "outputs": [],
   "source": [
    "#приводим всё к нижнему регистру\n",
    "data['locality_name'] = data['locality_name'].str.lower()"
   ]
  },
  {
   "cell_type": "code",
   "execution_count": 19,
   "metadata": {},
   "outputs": [
    {
     "name": "stdout",
     "output_type": "stream",
     "text": [
      "Количество уникальных занчений locality_name: 331\n",
      "\n"
     ]
    }
   ],
   "source": [
    "#заменяем все \"ё\" на \"е\"\n",
    "data['locality_name'] = data['locality_name'].str.replace('ё', 'е')\n",
    "loc_length()\n",
    "print()"
   ]
  },
  {
   "cell_type": "code",
   "execution_count": 20,
   "metadata": {},
   "outputs": [
    {
     "name": "stdout",
     "output_type": "stream",
     "text": [
      "Количество уникальных занчений locality_name: 324\n",
      "\n"
     ]
    }
   ],
   "source": [
    "#заменяем \"городской поселок\" на \"поселок городского типа\"\n",
    "data['locality_name'] = data['locality_name'].str.replace('городской поселок','поселок городского типа')\n",
    "loc_length()\n",
    "print()"
   ]
  },
  {
   "cell_type": "code",
   "execution_count": 21,
   "metadata": {},
   "outputs": [
    {
     "name": "stdout",
     "output_type": "stream",
     "text": [
      "Количетво явных дубликатов: 0\n"
     ]
    }
   ],
   "source": [
    "#проверим наличие явных дубликатов\n",
    "print('Количетво явных дубликатов:', data.duplicated().sum())"
   ]
  },
  {
   "cell_type": "markdown",
   "metadata": {},
   "source": [
    "#### Выбросы(аномалии)"
   ]
  },
  {
   "cell_type": "code",
   "execution_count": 22,
   "metadata": {},
   "outputs": [
    {
     "data": {
      "text/html": [
       "<div>\n",
       "<style scoped>\n",
       "    .dataframe tbody tr th:only-of-type {\n",
       "        vertical-align: middle;\n",
       "    }\n",
       "\n",
       "    .dataframe tbody tr th {\n",
       "        vertical-align: top;\n",
       "    }\n",
       "\n",
       "    .dataframe thead th {\n",
       "        text-align: right;\n",
       "    }\n",
       "</style>\n",
       "<table border=\"1\" class=\"dataframe\">\n",
       "  <thead>\n",
       "    <tr style=\"text-align: right;\">\n",
       "      <th></th>\n",
       "      <th>total_images</th>\n",
       "      <th>last_price</th>\n",
       "      <th>total_area</th>\n",
       "      <th>rooms</th>\n",
       "      <th>ceiling_height</th>\n",
       "      <th>floors_total</th>\n",
       "      <th>living_area</th>\n",
       "      <th>floor</th>\n",
       "      <th>kitchen_area</th>\n",
       "      <th>balcony</th>\n",
       "      <th>airports_nearest</th>\n",
       "      <th>city_centers_nearest</th>\n",
       "      <th>parks_around3000</th>\n",
       "      <th>parks_nearest</th>\n",
       "      <th>ponds_around3000</th>\n",
       "      <th>ponds_nearest</th>\n",
       "      <th>days_exposition</th>\n",
       "    </tr>\n",
       "  </thead>\n",
       "  <tbody>\n",
       "    <tr>\n",
       "      <th>count</th>\n",
       "      <td>23699.000000</td>\n",
       "      <td>2.369900e+04</td>\n",
       "      <td>23699.000000</td>\n",
       "      <td>23699.000000</td>\n",
       "      <td>14504.000000</td>\n",
       "      <td>23613.000000</td>\n",
       "      <td>21796.000000</td>\n",
       "      <td>23699.000000</td>\n",
       "      <td>21421.000000</td>\n",
       "      <td>23699.000000</td>\n",
       "      <td>18157.000000</td>\n",
       "      <td>18180.000000</td>\n",
       "      <td>18181.000000</td>\n",
       "      <td>8079.000000</td>\n",
       "      <td>18181.000000</td>\n",
       "      <td>9110.000000</td>\n",
       "      <td>20518.000000</td>\n",
       "    </tr>\n",
       "    <tr>\n",
       "      <th>mean</th>\n",
       "      <td>9.858475</td>\n",
       "      <td>6.541549e+06</td>\n",
       "      <td>60.348651</td>\n",
       "      <td>2.070636</td>\n",
       "      <td>2.771499</td>\n",
       "      <td>10.673824</td>\n",
       "      <td>34.457852</td>\n",
       "      <td>5.892358</td>\n",
       "      <td>10.569807</td>\n",
       "      <td>0.591080</td>\n",
       "      <td>28793.672193</td>\n",
       "      <td>14191.277833</td>\n",
       "      <td>0.611408</td>\n",
       "      <td>490.804555</td>\n",
       "      <td>0.770255</td>\n",
       "      <td>517.980900</td>\n",
       "      <td>180.888634</td>\n",
       "    </tr>\n",
       "    <tr>\n",
       "      <th>std</th>\n",
       "      <td>5.682529</td>\n",
       "      <td>1.088701e+07</td>\n",
       "      <td>35.654083</td>\n",
       "      <td>1.078405</td>\n",
       "      <td>1.261056</td>\n",
       "      <td>6.597173</td>\n",
       "      <td>22.030445</td>\n",
       "      <td>4.885249</td>\n",
       "      <td>5.905438</td>\n",
       "      <td>0.959298</td>\n",
       "      <td>12630.880622</td>\n",
       "      <td>8608.386210</td>\n",
       "      <td>0.802074</td>\n",
       "      <td>342.317995</td>\n",
       "      <td>0.938346</td>\n",
       "      <td>277.720643</td>\n",
       "      <td>219.727988</td>\n",
       "    </tr>\n",
       "    <tr>\n",
       "      <th>min</th>\n",
       "      <td>0.000000</td>\n",
       "      <td>1.219000e+04</td>\n",
       "      <td>12.000000</td>\n",
       "      <td>0.000000</td>\n",
       "      <td>1.000000</td>\n",
       "      <td>1.000000</td>\n",
       "      <td>2.000000</td>\n",
       "      <td>1.000000</td>\n",
       "      <td>1.300000</td>\n",
       "      <td>0.000000</td>\n",
       "      <td>0.000000</td>\n",
       "      <td>181.000000</td>\n",
       "      <td>0.000000</td>\n",
       "      <td>1.000000</td>\n",
       "      <td>0.000000</td>\n",
       "      <td>13.000000</td>\n",
       "      <td>1.000000</td>\n",
       "    </tr>\n",
       "    <tr>\n",
       "      <th>25%</th>\n",
       "      <td>6.000000</td>\n",
       "      <td>3.400000e+06</td>\n",
       "      <td>40.000000</td>\n",
       "      <td>1.000000</td>\n",
       "      <td>2.520000</td>\n",
       "      <td>5.000000</td>\n",
       "      <td>18.600000</td>\n",
       "      <td>2.000000</td>\n",
       "      <td>7.000000</td>\n",
       "      <td>0.000000</td>\n",
       "      <td>18585.000000</td>\n",
       "      <td>9238.000000</td>\n",
       "      <td>0.000000</td>\n",
       "      <td>288.000000</td>\n",
       "      <td>0.000000</td>\n",
       "      <td>294.000000</td>\n",
       "      <td>45.000000</td>\n",
       "    </tr>\n",
       "    <tr>\n",
       "      <th>50%</th>\n",
       "      <td>9.000000</td>\n",
       "      <td>4.650000e+06</td>\n",
       "      <td>52.000000</td>\n",
       "      <td>2.000000</td>\n",
       "      <td>2.650000</td>\n",
       "      <td>9.000000</td>\n",
       "      <td>30.000000</td>\n",
       "      <td>4.000000</td>\n",
       "      <td>9.100000</td>\n",
       "      <td>0.000000</td>\n",
       "      <td>26726.000000</td>\n",
       "      <td>13098.500000</td>\n",
       "      <td>0.000000</td>\n",
       "      <td>455.000000</td>\n",
       "      <td>1.000000</td>\n",
       "      <td>502.000000</td>\n",
       "      <td>95.000000</td>\n",
       "    </tr>\n",
       "    <tr>\n",
       "      <th>75%</th>\n",
       "      <td>14.000000</td>\n",
       "      <td>6.800000e+06</td>\n",
       "      <td>69.900000</td>\n",
       "      <td>3.000000</td>\n",
       "      <td>2.800000</td>\n",
       "      <td>16.000000</td>\n",
       "      <td>42.300000</td>\n",
       "      <td>8.000000</td>\n",
       "      <td>12.000000</td>\n",
       "      <td>1.000000</td>\n",
       "      <td>37273.000000</td>\n",
       "      <td>16293.000000</td>\n",
       "      <td>1.000000</td>\n",
       "      <td>612.000000</td>\n",
       "      <td>1.000000</td>\n",
       "      <td>729.000000</td>\n",
       "      <td>232.000000</td>\n",
       "    </tr>\n",
       "    <tr>\n",
       "      <th>max</th>\n",
       "      <td>50.000000</td>\n",
       "      <td>7.630000e+08</td>\n",
       "      <td>900.000000</td>\n",
       "      <td>19.000000</td>\n",
       "      <td>100.000000</td>\n",
       "      <td>60.000000</td>\n",
       "      <td>409.700000</td>\n",
       "      <td>33.000000</td>\n",
       "      <td>112.000000</td>\n",
       "      <td>5.000000</td>\n",
       "      <td>84869.000000</td>\n",
       "      <td>65968.000000</td>\n",
       "      <td>3.000000</td>\n",
       "      <td>3190.000000</td>\n",
       "      <td>3.000000</td>\n",
       "      <td>1344.000000</td>\n",
       "      <td>1580.000000</td>\n",
       "    </tr>\n",
       "  </tbody>\n",
       "</table>\n",
       "</div>"
      ],
      "text/plain": [
       "       total_images    last_price    total_area         rooms  ceiling_height  \\\n",
       "count  23699.000000  2.369900e+04  23699.000000  23699.000000    14504.000000   \n",
       "mean       9.858475  6.541549e+06     60.348651      2.070636        2.771499   \n",
       "std        5.682529  1.088701e+07     35.654083      1.078405        1.261056   \n",
       "min        0.000000  1.219000e+04     12.000000      0.000000        1.000000   \n",
       "25%        6.000000  3.400000e+06     40.000000      1.000000        2.520000   \n",
       "50%        9.000000  4.650000e+06     52.000000      2.000000        2.650000   \n",
       "75%       14.000000  6.800000e+06     69.900000      3.000000        2.800000   \n",
       "max       50.000000  7.630000e+08    900.000000     19.000000      100.000000   \n",
       "\n",
       "       floors_total   living_area         floor  kitchen_area       balcony  \\\n",
       "count  23613.000000  21796.000000  23699.000000  21421.000000  23699.000000   \n",
       "mean      10.673824     34.457852      5.892358     10.569807      0.591080   \n",
       "std        6.597173     22.030445      4.885249      5.905438      0.959298   \n",
       "min        1.000000      2.000000      1.000000      1.300000      0.000000   \n",
       "25%        5.000000     18.600000      2.000000      7.000000      0.000000   \n",
       "50%        9.000000     30.000000      4.000000      9.100000      0.000000   \n",
       "75%       16.000000     42.300000      8.000000     12.000000      1.000000   \n",
       "max       60.000000    409.700000     33.000000    112.000000      5.000000   \n",
       "\n",
       "       airports_nearest  city_centers_nearest  parks_around3000  \\\n",
       "count      18157.000000          18180.000000      18181.000000   \n",
       "mean       28793.672193          14191.277833          0.611408   \n",
       "std        12630.880622           8608.386210          0.802074   \n",
       "min            0.000000            181.000000          0.000000   \n",
       "25%        18585.000000           9238.000000          0.000000   \n",
       "50%        26726.000000          13098.500000          0.000000   \n",
       "75%        37273.000000          16293.000000          1.000000   \n",
       "max        84869.000000          65968.000000          3.000000   \n",
       "\n",
       "       parks_nearest  ponds_around3000  ponds_nearest  days_exposition  \n",
       "count    8079.000000      18181.000000    9110.000000     20518.000000  \n",
       "mean      490.804555          0.770255     517.980900       180.888634  \n",
       "std       342.317995          0.938346     277.720643       219.727988  \n",
       "min         1.000000          0.000000      13.000000         1.000000  \n",
       "25%       288.000000          0.000000     294.000000        45.000000  \n",
       "50%       455.000000          1.000000     502.000000        95.000000  \n",
       "75%       612.000000          1.000000     729.000000       232.000000  \n",
       "max      3190.000000          3.000000    1344.000000      1580.000000  "
      ]
     },
     "execution_count": 22,
     "metadata": {},
     "output_type": "execute_result"
    }
   ],
   "source": [
    "#посмотрим на распределение значений в данных\n",
    "data.describe()"
   ]
  },
  {
   "cell_type": "code",
   "execution_count": 23,
   "metadata": {},
   "outputs": [
    {
     "name": "stdout",
     "output_type": "stream",
     "text": [
      "Квартир стоимостью 0: 0\n",
      "Квартир стоимостью меньше 100.000: 1\n",
      "Квартир стоимостью больше 100.000.000: 37\n"
     ]
    }
   ],
   "source": [
    "#last_price - цена\n",
    "#взглянем на квартиры от 0 до 20 млн, нет квартир стоимостью 0\n",
    "#есть одна квартира стоимостью меньше 100 000, её мы учитывать не будем\n",
    "#убираем слишком дорогие квартиры стоимостью больше 100.000.000\n",
    "print('Квартир стоимостью 0:', data.query('last_price == 0')['last_price'].count())\n",
    "print('Квартир стоимостью меньше 100.000:', data.query('last_price < 1e+05')['last_price'].count())\n",
    "print('Квартир стоимостью больше 100.000.000:', data.query('last_price > 1e+08')['last_price'].count())\n",
    "\n",
    "data.drop(index=data.query('last_price > 1e+08').index,inplace=True)"
   ]
  },
  {
   "cell_type": "code",
   "execution_count": 24,
   "metadata": {},
   "outputs": [
    {
     "data": {
      "image/png": "[encoded data removed]",
      "text/plain": [
       "<Figure size 432x288 with 1 Axes>"
      ]
     },
     "metadata": {
      "needs_background": "light"
     },
     "output_type": "display_data"
    },
    {
     "data": {
      "image/png": "[encoded data removed]",
      "text/plain": [
       "<Figure size 432x288 with 1 Axes>"
      ]
     },
     "metadata": {
      "needs_background": "light"
     },
     "output_type": "display_data"
    }
   ],
   "source": [
    "data.hist('last_price', bins=50, range=(0,2e+07));\n",
    "data.hist('last_price', bins=50, range=(0,4e+06));\n",
    "\n",
    "data.drop(index=data.query('last_price < 1e+05').index,inplace=True)"
   ]
  },
  {
   "cell_type": "code",
   "execution_count": 25,
   "metadata": {},
   "outputs": [
    {
     "name": "stdout",
     "output_type": "stream",
     "text": [
      "Квартир площадью менее 10 кв.м.: 0\n",
      "Квартир площадью более 500 кв.м.: 3\n"
     ]
    },
    {
     "data": {
      "image/png": "[encoded data removed]",
      "text/plain": [
       "<Figure size 432x288 with 1 Axes>"
      ]
     },
     "metadata": {
      "needs_background": "light"
     },
     "output_type": "display_data"
    },
    {
     "data": {
      "image/png": "[encoded data removed]",
      "text/plain": [
       "<Figure size 432x288 with 1 Axes>"
      ]
     },
     "metadata": {
      "needs_background": "light"
     },
     "output_type": "display_data"
    }
   ],
   "source": [
    "#total_area - общая площадь\n",
    "#нет квартир площадью меньше 10 кв.м.\n",
    "#квартиры площадью более 500 кв.м немного, удаляем их\n",
    "print('Квартир площадью менее 10 кв.м.:',data.query('total_area < 10')['total_area'].count()) \n",
    "print('Квартир площадью более 500 кв.м.:',data.query('total_area > 500')['total_area'].count())\n",
    "\n",
    "data.drop(index=data.query('total_area > 500').index,inplace=True)\n",
    "\n",
    "data.hist('total_area', bins=50, range=(0,900));\n",
    "data.hist('total_area', bins=50, range=(0,100));"
   ]
  },
  {
   "cell_type": "code",
   "execution_count": 26,
   "metadata": {},
   "outputs": [
    {
     "name": "stdout",
     "output_type": "stream",
     "text": [
      "Квартир с потолками от 4 до 5м: 36 шт.\n",
      "Квартир с потолками от 5 до 25м: 14 шт.\n",
      "Квартир с потолками от 25м до 36м: 19 шт.\n",
      "Квартир с потолками от 25м до 36м: 0 шт.\n",
      "Квартир с потолками от 50м: 1 шт.\n"
     ]
    }
   ],
   "source": [
    "#ceiling_height - высота потолков\n",
    "#стандартная высота от пола до потолка должна быть в пределах 2,5-3,2 метров\n",
    "#можно предположить, что квартиры с высотой потолков 25-36м на самом деле являются опечаткой и соотвествуют 2.5-3.6м\n",
    "#исходя их этого предполагаем, что все квартиры с высотой потолков от 36м являются выбросами\n",
    "print('Квартир с потолками от 4 до 5м: ' + str(data.query('ceiling_height > 4 and ceiling_height <= 5')['ceiling_height'].count()) + ' шт.')\n",
    "print('Квартир с потолками от 5 до 25м: ' + str(data.query('ceiling_height > 5 and ceiling_height < 25')['ceiling_height'].count()) + ' шт.')\n",
    "print('Квартир с потолками от 25м до 36м: ' + str(data.query('ceiling_height >= 25 and ceiling_height <= 36')['ceiling_height'].count()) + ' шт.')\n",
    "print('Квартир с потолками от 25м до 36м: ' + str(data.query('ceiling_height > 36 and ceiling_height < 50')['ceiling_height'].count()) + ' шт.')\n",
    "print('Квартир с потолками от 50м: ' + str(data.query('ceiling_height >= 50')['ceiling_height'].count()) + ' шт.')"
   ]
  },
  {
   "cell_type": "code",
   "execution_count": 27,
   "metadata": {},
   "outputs": [],
   "source": [
    "#удаляем квартиры с высотой потолков от 4 до 25метров\n",
    "#квартиры с высотой потолков до 25 до 36 метров предполагаем, что это опечатка и делим на 10, получая 2.5 и 3.6 метра\n",
    "#удаляем квартиры с высотой потолков от 36 метров\n",
    "data.drop(index=data.query('ceiling_height > 4 and ceiling_height < 25').index,inplace=True)\n",
    "data.update(data[(data['ceiling_height'] >= 25) & (data['ceiling_height'] <= 36)]['ceiling_height']/10)\n",
    "data.drop(index=data.query('ceiling_height > 36').index,inplace=True)"
   ]
  },
  {
   "cell_type": "code",
   "execution_count": 28,
   "metadata": {},
   "outputs": [
    {
     "data": {
      "image/png": "[encoded data removed]",
      "text/plain": [
       "<Figure size 432x288 with 1 Axes>"
      ]
     },
     "metadata": {
      "needs_background": "light"
     },
     "output_type": "display_data"
    }
   ],
   "source": [
    "#изучаем квартиры где высота потолков менее 2.5 метров\n",
    "data.hist('ceiling_height',bins=50,range=(0,4));"
   ]
  },
  {
   "cell_type": "code",
   "execution_count": 29,
   "metadata": {},
   "outputs": [
    {
     "name": "stdout",
     "output_type": "stream",
     "text": [
      "Квартир с потолками меньше 2.5м : 73 шт.\n"
     ]
    }
   ],
   "source": [
    "#удаляем квартиры где высота потолков менее 2.5 метров\n",
    "print('Квартир с потолками меньше 2.5м : ' + str(data.query('ceiling_height < 2.5')['ceiling_height'].count()) + ' шт.')\n",
    "\n",
    "data.drop(index=data.query('ceiling_height < 2.5').index,inplace=True)"
   ]
  },
  {
   "cell_type": "code",
   "execution_count": 30,
   "metadata": {},
   "outputs": [
    {
     "name": "stdout",
     "output_type": "stream",
     "text": [
      "Квартир в одноэтажных домах :  23\n",
      "Квартир в 30+ этажных домах :  31\n"
     ]
    },
    {
     "data": {
      "image/png": "[encoded data removed]",
      "text/plain": [
       "<Figure size 432x288 with 1 Axes>"
      ]
     },
     "metadata": {
      "needs_background": "light"
     },
     "output_type": "display_data"
    }
   ],
   "source": [
    "#floors_total - общее количество этажей\n",
    "#есть одноэтажные квартиры,но это не похоже на выброс\n",
    "#есть небольшое количество квартир в 30 и более этажных домах\n",
    "print('Квартир в одноэтажных домах : ',data.query('floors_total == 1')['floors_total'].count())\n",
    "print('Квартир в 30+ этажных домах : ',data.query('floors_total > 30')['floors_total'].count())\n",
    "\n",
    "data.drop(index=data.query('floors_total > 30').index,inplace=True)\n",
    "\n",
    "data.hist('floors_total', bins=30);"
   ]
  },
  {
   "cell_type": "code",
   "execution_count": 31,
   "metadata": {},
   "outputs": [
    {
     "name": "stdout",
     "output_type": "stream",
     "text": [
      "Жилая площадь меньше 10 кв.м.:  25\n",
      "Жилая площадь больше общей:  0\n",
      "Жилая площадь больше 200:  16\n"
     ]
    },
    {
     "data": {
      "image/png": "[encoded data removed]",
      "text/plain": [
       "<Figure size 432x288 with 1 Axes>"
      ]
     },
     "metadata": {
      "needs_background": "light"
     },
     "output_type": "display_data"
    },
    {
     "data": {
      "image/png": "[encoded data removed]",
      "text/plain": [
       "<Figure size 432x288 with 1 Axes>"
      ]
     },
     "metadata": {
      "needs_background": "light"
     },
     "output_type": "display_data"
    }
   ],
   "source": [
    "#living_area - жилая площадь\n",
    "#имеем большое количество квартир с жилой площадью от 10 до 60 кв.м.\n",
    "#здесь интерсуют квартиры с жилой площадью меньше 10 кв.м. их 25!\n",
    "#судя по гистограмме есть даже с жилой площадью 2 кв.м.\n",
    "#отбросим значения с жилой площадью меньше 10кв.м.\n",
    "#отбросим квартиры с площадью более 200 кв.м.\n",
    "print('Жилая площадь меньше 10 кв.м.: ',data.query('living_area < 10')['living_area'].count())\n",
    "print('Жилая площадь больше общей: ',data.query('living_area > total_area')['living_area'].count())\n",
    "print('Жилая площадь больше 200: ',data.query('living_area > 200')['living_area'].count())\n",
    "\n",
    "data.drop(index=data.query('living_area < 10').index,inplace=True)\n",
    "data.drop(index=data.query('living_area > 200').index,inplace=True)\n",
    "\n",
    "data.hist('living_area', bins=30);\n",
    "data.hist('living_area', bins=60, range=(0,60));"
   ]
  },
  {
   "cell_type": "code",
   "execution_count": 32,
   "metadata": {},
   "outputs": [
    {
     "name": "stdout",
     "output_type": "stream",
     "text": [
      "Этаж 0 0\n",
      "Этаж 0 0\n",
      "Этаж больше количества этажей:  0\n"
     ]
    },
    {
     "data": {
      "image/png": "[encoded data removed]",
      "text/plain": [
       "<Figure size 432x288 with 1 Axes>"
      ]
     },
     "metadata": {
      "needs_background": "light"
     },
     "output_type": "display_data"
    }
   ],
   "source": [
    "#floor - этаж\n",
    "#здесь нет нулевых значений и слишком больших значений\n",
    "print('Этаж 0',data.query('floor == 0')['floor'].count())\n",
    "print('Этаж 0',data.query('floor > 30')['floor'].count())\n",
    "print('Этаж больше количества этажей: ',data.query('floor > floors_total')['floor'].count())\n",
    "\n",
    "data.hist('floor',bins=20);"
   ]
  },
  {
   "cell_type": "code",
   "execution_count": 33,
   "metadata": {},
   "outputs": [
    {
     "name": "stdout",
     "output_type": "stream",
     "text": [
      "Площадь кухни меньше 2 кв.м.:  1\n",
      "Площадь кухни 5 кв.м.:  352\n",
      "Площадь кухни больше 50 кв.м.:  33\n",
      "Площадь кухни больше общей:  0\n"
     ]
    },
    {
     "data": {
      "image/png": "[encoded data removed]",
      "text/plain": [
       "<Figure size 432x288 with 1 Axes>"
      ]
     },
     "metadata": {
      "needs_background": "light"
     },
     "output_type": "display_data"
    },
    {
     "data": {
      "image/png": "[encoded data removed]",
      "text/plain": [
       "<Figure size 432x288 with 1 Axes>"
      ]
     },
     "metadata": {
      "needs_background": "light"
     },
     "output_type": "display_data"
    }
   ],
   "source": [
    "#kitchen_area - площадь кухни\n",
    "#есть одна квартира с площадью кухни меньше 1 кв. метра. Явно аномалия.\n",
    "#удалим строки с кухнями менее 2кв.м. и больше 50кв.м.\n",
    "print('Площадь кухни меньше 2 кв.м.: ',data.query('kitchen_area < 2')['living_area'].count())\n",
    "print('Площадь кухни 5 кв.м.: ',data.query('kitchen_area == 5')['living_area'].count())\n",
    "print('Площадь кухни больше 50 кв.м.: ',data.query('kitchen_area > 50')['living_area'].count())\n",
    "print('Площадь кухни больше общей: ',data.query('kitchen_area > total_area')['living_area'].count())\n",
    "\n",
    "data.drop(index=data.query('kitchen_area < 2').index,inplace=True)\n",
    "data.drop(index=data.query('kitchen_area > 50').index,inplace=True)\n",
    "\n",
    "data.hist('kitchen_area', bins=50);\n",
    "data.hist('kitchen_area', bins=30, range=(0,30));"
   ]
  },
  {
   "cell_type": "code",
   "execution_count": 34,
   "metadata": {},
   "outputs": [
    {
     "data": {
      "image/png": "[encoded data removed]",
      "text/plain": [
       "<Figure size 432x288 with 1 Axes>"
      ]
     },
     "metadata": {
      "needs_background": "light"
     },
     "output_type": "display_data"
    }
   ],
   "source": [
    "#balcony - балкон\n",
    "data.hist('balcony', bins=6);"
   ]
  },
  {
   "cell_type": "code",
   "execution_count": 35,
   "metadata": {},
   "outputs": [
    {
     "name": "stdout",
     "output_type": "stream",
     "text": [
      "Объявление не было оопубликовано:  0\n",
      "Объявлению больше 3 лет :  166\n"
     ]
    },
    {
     "data": {
      "image/png": "[encoded data removed]",
      "text/plain": [
       "<Figure size 432x288 with 1 Axes>"
      ]
     },
     "metadata": {
      "needs_background": "light"
     },
     "output_type": "display_data"
    }
   ],
   "source": [
    "#days_exposition - сколько дней было размещено объявление\n",
    "#объявления, которые висели дольше 3-х лет отбросим\n",
    "print('Объявление не было оопубликовано: ',data.query('days_exposition == 0')['days_exposition'].count())\n",
    "print('Объявлению больше 3 лет : ',data.query('days_exposition > 365*3')['days_exposition'].count())\n",
    "\n",
    "data.drop(index=data.query('days_exposition > 365*3').index,inplace=True)\n",
    "\n",
    "data.hist('days_exposition', bins=100);"
   ]
  },
  {
   "cell_type": "code",
   "execution_count": 36,
   "metadata": {},
   "outputs": [
    {
     "name": "stdout",
     "output_type": "stream",
     "text": [
      "Квартир слишком близко к аэропорту: 1\n"
     ]
    },
    {
     "data": {
      "image/png": "[encoded data removed]",
      "text/plain": [
       "<Figure size 432x288 with 1 Axes>"
      ]
     },
     "metadata": {
      "needs_background": "light"
     },
     "output_type": "display_data"
    }
   ],
   "source": [
    "#airports_nearest - квартира ближе 5 км к аэропорту одна, удаляем ее\n",
    "print('Квартир слишком близко к аэропорту:',data.query('airports_nearest < 5000')['airports_nearest'].count())\n",
    "data.hist('airports_nearest', bins=100, range=(0,20000));\n",
    "\n",
    "data.drop(index=data.query('airports_nearest < 5000').index,inplace=True)"
   ]
  },
  {
   "cell_type": "code",
   "execution_count": 37,
   "metadata": {},
   "outputs": [],
   "source": [
    "#сбросим индексацию после удаления строк\n",
    "data.reset_index(drop=True,inplace=True)"
   ]
  },
  {
   "cell_type": "markdown",
   "metadata": {},
   "source": [
    "По результату проведённой обработки данных, можно сказать что довольно большая часть данных, которая может влиять на итоговую статистику,потеряны или внесены с ошибками. Об этом необходимо сообщить ответственным сотрудникам по выгрузке и сбору данных."
   ]
  },
  {
   "cell_type": "markdown",
   "metadata": {},
   "source": [
    "### Посчитайте и добавьте в таблицу новые столбцы"
   ]
  },
  {
   "cell_type": "code",
   "execution_count": 38,
   "metadata": {},
   "outputs": [],
   "source": [
    "#цена одного квадратного метра\n",
    "data['cost_per_sqm'] = data['last_price'] / data['total_area']"
   ]
  },
  {
   "cell_type": "code",
   "execution_count": 39,
   "metadata": {},
   "outputs": [],
   "source": [
    "#день публикации объявления (0 - понедельник, 1 - вторник и т.д.)\n",
    "data['dayofweek'] = data['first_day_exposition'].dt.dayofweek"
   ]
  },
  {
   "cell_type": "code",
   "execution_count": 40,
   "metadata": {},
   "outputs": [],
   "source": [
    "#месяц публикации объявления\n",
    "data['month'] = data['first_day_exposition'].dt.month"
   ]
  },
  {
   "cell_type": "code",
   "execution_count": 41,
   "metadata": {},
   "outputs": [],
   "source": [
    "#год публикации объявления\n",
    "data['year'] = data['first_day_exposition'].dt.year"
   ]
  },
  {
   "cell_type": "code",
   "execution_count": 42,
   "metadata": {},
   "outputs": [],
   "source": [
    "#тип этажа квартиры (значения — «первый», «последний», «другой»)\n",
    "data['floor_category'] = data.apply(\n",
    "    lambda x: 'первый' if (x.floor == 1) \n",
    "    else ('последний' if (x.floor == x.floors_total) & isinstance(x.floors_total,int) \n",
    "    else 'другой'), axis=1\n",
    ")\n",
    "\n",
    "data['floor_category_digit'] = data.apply(\n",
    "    lambda x: 0 if (x.floor == 1) \n",
    "    else (2 if (x.floor == x.floors_total) & isinstance(x.floors_total,int) \n",
    "    else 1), axis=1\n",
    ")"
   ]
  },
  {
   "cell_type": "code",
   "execution_count": 43,
   "metadata": {},
   "outputs": [
    {
     "data": {
      "text/plain": [
       "1    17136\n",
       "2     3250\n",
       "0     2874\n",
       "Name: floor_category_digit, dtype: int64"
      ]
     },
     "execution_count": 43,
     "metadata": {},
     "output_type": "execute_result"
    }
   ],
   "source": [
    "data['floor_category_digit'].value_counts()"
   ]
  },
  {
   "cell_type": "code",
   "execution_count": 44,
   "metadata": {},
   "outputs": [
    {
     "name": "stdout",
     "output_type": "stream",
     "text": [
      "city_centers_nearest_km ok\n"
     ]
    }
   ],
   "source": [
    "#расстояние в км до центра города\n",
    "data['city_centers_nearest_km'] = round(data['city_centers_nearest'] / 1000)\n",
    "try:\n",
    "    data['city_centers_nearest_km'] =  data['city_centers_nearest_km'].astype('Int32')\n",
    "    print('city_centers_nearest_km ok')\n",
    "except:\n",
    "    print('city_centers_nearest_km Int32 type conversion fail')"
   ]
  },
  {
   "cell_type": "markdown",
   "metadata": {},
   "source": [
    "### Проведите исследовательский анализ данных"
   ]
  },
  {
   "cell_type": "markdown",
   "metadata": {},
   "source": [
    "#### Гистограммы"
   ]
  },
  {
   "cell_type": "code",
   "execution_count": 45,
   "metadata": {},
   "outputs": [
    {
     "data": {
      "image/png": "[encoded data removed]",
      "text/plain": [
       "<Figure size 432x288 with 1 Axes>"
      ]
     },
     "metadata": {
      "needs_background": "light"
     },
     "output_type": "display_data"
    },
    {
     "data": {
      "image/png": "[encoded data removed]",
      "text/plain": [
       "<Figure size 432x288 with 1 Axes>"
      ]
     },
     "metadata": {
      "needs_background": "light"
     },
     "output_type": "display_data"
    },
    {
     "data": {
      "image/png": "[encoded data removed]",
      "text/plain": [
       "<Figure size 432x288 with 1 Axes>"
      ]
     },
     "metadata": {
      "needs_background": "light"
     },
     "output_type": "display_data"
    },
    {
     "data": {
      "image/png": "[encoded data removed]",
      "text/plain": [
       "<Figure size 432x288 with 1 Axes>"
      ]
     },
     "metadata": {
      "needs_background": "light"
     },
     "output_type": "display_data"
    },
    {
     "data": {
      "image/png": "[encoded data removed]",
      "text/plain": [
       "<Figure size 432x288 with 1 Axes>"
      ]
     },
     "metadata": {
      "needs_background": "light"
     },
     "output_type": "display_data"
    },
    {
     "data": {
      "image/png": "[encoded data removed]",
      "text/plain": [
       "<Figure size 432x288 with 1 Axes>"
      ]
     },
     "metadata": {
      "needs_background": "light"
     },
     "output_type": "display_data"
    },
    {
     "data": {
      "image/png": "[encoded data removed]",
      "text/plain": [
       "<Figure size 432x288 with 1 Axes>"
      ]
     },
     "metadata": {
      "needs_background": "light"
     },
     "output_type": "display_data"
    },
    {
     "data": {
      "image/png": "[encoded data removed]",
      "text/plain": [
       "<Figure size 432x288 with 1 Axes>"
      ]
     },
     "metadata": {
      "needs_background": "light"
     },
     "output_type": "display_data"
    },
    {
     "data": {
      "image/png": "[encoded data removed]",
      "text/plain": [
       "<Figure size 432x288 with 1 Axes>"
      ]
     },
     "metadata": {
      "needs_background": "light"
     },
     "output_type": "display_data"
    },
    {
     "data": {
      "image/png": "[encoded data removed]",
      "text/plain": [
       "<Figure size 432x288 with 1 Axes>"
      ]
     },
     "metadata": {
      "needs_background": "light"
     },
     "output_type": "display_data"
    },
    {
     "data": {
      "image/png": "[encoded data removed]",
      "text/plain": [
       "<Figure size 432x288 with 1 Axes>"
      ]
     },
     "metadata": {
      "needs_background": "light"
     },
     "output_type": "display_data"
    },
    {
     "data": {
      "image/png": "[encoded data removed]",
      "text/plain": [
       "<Figure size 432x288 with 1 Axes>"
      ]
     },
     "metadata": {
      "needs_background": "light"
     },
     "output_type": "display_data"
    },
    {
     "data": {
      "image/png": "[encoded data removed]",
      "text/plain": [
       "<Figure size 432x288 with 1 Axes>"
      ]
     },
     "metadata": {
      "needs_background": "light"
     },
     "output_type": "display_data"
    },
    {
     "data": {
      "image/png": "[encoded data removed]",
      "text/plain": [
       "<Figure size 432x288 with 1 Axes>"
      ]
     },
     "metadata": {
      "needs_background": "light"
     },
     "output_type": "display_data"
    },
    {
     "data": {
      "image/png": "[encoded data removed]",
      "text/plain": [
       "<Figure size 432x288 with 1 Axes>"
      ]
     },
     "metadata": {
      "needs_background": "light"
     },
     "output_type": "display_data"
    },
    {
     "data": {
      "image/png": "[encoded data removed]",
      "text/plain": [
       "<Figure size 432x288 with 1 Axes>"
      ]
     },
     "metadata": {
      "needs_background": "light"
     },
     "output_type": "display_data"
    },
    {
     "data": {
      "image/png": "[encoded data removed]",
      "text/plain": [
       "<Figure size 432x288 with 1 Axes>"
      ]
     },
     "metadata": {
      "needs_background": "light"
     },
     "output_type": "display_data"
    }
   ],
   "source": [
    "data.groupby(by='floor_category')['floor_category'].count().plot(kind='bar', ylabel = 'count');\n",
    "\n",
    "data.hist('total_area', bins=100);\n",
    "\n",
    "data.hist('living_area', bins=100);\n",
    "data.hist('living_area', bins=50, range=(0,50));\n",
    "\n",
    "data.hist('kitchen_area', bins=100);\n",
    "data.hist('kitchen_area', bins=20, range=(0,20));\n",
    "\n",
    "data.hist('last_price', bins=100);\n",
    "data.hist('last_price', bins=100, range=(0,2e+07));\n",
    "\n",
    "data.hist('rooms', bins=data['rooms'].max());\n",
    "\n",
    "data.hist('ceiling_height', bins=30);\n",
    "\n",
    "data.hist('floor', bins=data['floor'].max());\n",
    "\n",
    "data.hist('floors_total', bins=data['floors_total'].max());\n",
    "\n",
    "data.hist('city_centers_nearest', bins=100);\n",
    "\n",
    "data.hist('airports_nearest', bins=100);\n",
    "\n",
    "data.hist('parks_nearest', bins=100);\n",
    "\n",
    "data.hist('dayofweek', bins=7);\n",
    "\n",
    "data.hist('month', bins=12);"
   ]
  },
  {
   "cell_type": "markdown",
   "metadata": {},
   "source": [
    "- Тип этажа квартиры («первый», «последний», «другой») в этом случае используем тип bar. Больше всего квартир на \"другом\" этаже и это логично. Первых и последних этажей одинакого мало.\n",
    "- Общая площадь. Наблюдаем очень малое количество квартир с общей площадью более 100 кв.м.\n",
    "- Жилая площадь. Наблюдаем два пика - на 18 кв.м. и на 30 кв.м. Нужно проверить, почему у нас именно два пика и почему есть явный провал около 24 кв.м.\n",
    "- Площадь кухни. Площадь кухни выглядит хорошо.\n",
    "- Цена объекта. Цена объекта выглядит хорошо.\n",
    "- Количество комнат. Больше всего двух- и трёх-комнатных квартир, но встречаются и редкие исключения.\n",
    "- Высота потолков. Здесь два пика 2.5м и 3м, что логично.\n",
    "- Этаж квартиры. Больше всего квартир с 1 по 5 этаж. Логино, питер не город небоскрёбов.\n",
    "- Общее количество этажей в доме. Видим явные пики: 5-этажная застройка, 9-этажная застройка, и небольшие пики более высоких новостроек.\n",
    "- Расстояние до центра города в метрах. Здесь наблюдаем два пика, один маленький, 5км и другой побльшой от 10 км. до 15 км. Так же есть совсем небольшие всплески на 30 км. и 50 км.\n",
    "- Расстояние до ближайшего аэропорта. Здесь видим довольно \"шумный\" график. Но это вполне нормально.\n",
    "- Расстояние до ближайшего парка. Судя по графику больше всего квартир с парками на расстоянии до 750м.\n",
    "- День и месяц публикации объявления. Видим провал в публикации объявлений в субботу и воскресенье, что логично. Так же видим что с февраля по апрель наблюдалосась повышенная активность. Так же был плавный рост активности с июля по ноябрь. Провалы в декабре, январе и мае."
   ]
  },
  {
   "cell_type": "markdown",
   "metadata": {},
   "source": [
    "#### Как быстро продавались квартиры (столбец days_exposition)"
   ]
  },
  {
   "cell_type": "code",
   "execution_count": 46,
   "metadata": {},
   "outputs": [
    {
     "name": "stdout",
     "output_type": "stream",
     "text": [
      "Среднее время продажи квартиры в днях: 171\n",
      "Медианное время продажи квартиры в днях: 93\n",
      "\n",
      "[Выбросы] Количество объявлений, которые сняты через:\n",
      "45 дней: 870\n",
      "60 дней: 535\n",
      "90 дней: 203\n"
     ]
    },
    {
     "data": {
      "image/png": "[encoded data removed]",
      "text/plain": [
       "<Figure size 432x288 with 1 Axes>"
      ]
     },
     "metadata": {
      "needs_background": "light"
     },
     "output_type": "display_data"
    },
    {
     "data": {
      "image/png": "[encoded data removed]",
      "text/plain": [
       "<Figure size 432x288 with 1 Axes>"
      ]
     },
     "metadata": {
      "needs_background": "light"
     },
     "output_type": "display_data"
    }
   ],
   "source": [
    "data.hist('days_exposition', bins=100);\n",
    "data.hist('days_exposition', bins=100, range = (0,100));\n",
    "print(f'Среднее время продажи квартиры в днях:',int(data['days_exposition'].mean()))\n",
    "print('Медианное время продажи квартиры в днях:',int(data['days_exposition'].median()))\n",
    "\n",
    "print('\\n[Выбросы] Количество объявлений, которые сняты через:')\n",
    "print('45 дней:',data[data['days_exposition']==45]['days_exposition'].count())\n",
    "print('60 дней:',data[data['days_exposition']==60]['days_exposition'].count())\n",
    "print('90 дней:',data[data['days_exposition']==90]['days_exposition'].count())"
   ]
  },
  {
   "cell_type": "markdown",
   "metadata": {},
   "source": [
    "Можно сказать, что среднее время продажи квартиры составляет 171 день или целые полгода. Но если взять медиану - то это уже 93 дней, в два раза меньше. Почему так? Потому что у нас есть \"длинный хвост\" квартир, которые продавались очень долго, буквально годами.\n",
    "Я бы предложил считать быстрыми продажи до 93 дней, а необычно долгими - свыше 171 дня. Выбросы похожи на платные объявлени с истекшим сроком размещения или работу ситемы удаления неактивных объявлений."
   ]
  },
  {
   "cell_type": "markdown",
   "metadata": {},
   "source": [
    "#### Факторы больше всего влияющие на общую (полную) стоимость объекта"
   ]
  },
  {
   "cell_type": "code",
   "execution_count": 47,
   "metadata": {},
   "outputs": [
    {
     "data": {
      "text/plain": [
       "<AxesSubplot:xlabel='last_price', ylabel='kitchen_area'>"
      ]
     },
     "execution_count": 47,
     "metadata": {},
     "output_type": "execute_result"
    },
    {
     "data": {
      "image/png": "[encoded data removed]",
      "text/plain": [
       "<Figure size 432x288 with 1 Axes>"
      ]
     },
     "metadata": {
      "needs_background": "light"
     },
     "output_type": "display_data"
    },
    {
     "data": {
      "image/png": "[encoded data removed]",
      "text/plain": [
       "<Figure size 432x288 with 1 Axes>"
      ]
     },
     "metadata": {
      "needs_background": "light"
     },
     "output_type": "display_data"
    },
    {
     "data": {
      "image/png": "[encoded data removed]",
      "text/plain": [
       "<Figure size 432x288 with 1 Axes>"
      ]
     },
     "metadata": {
      "needs_background": "light"
     },
     "output_type": "display_data"
    }
   ],
   "source": [
    "data.plot(x='last_price', y='total_area', kind='scatter', alpha=0.2)\n",
    "data.plot(x='last_price', y='living_area', kind='scatter', alpha=0.2)\n",
    "data.plot(x='last_price', y='kitchen_area', kind='scatter', alpha=0.2)"
   ]
  },
  {
   "cell_type": "code",
   "execution_count": 48,
   "metadata": {},
   "outputs": [
    {
     "data": {
      "image/png": "[encoded data removed]",
      "text/plain": [
       "<Figure size 432x288 with 1 Axes>"
      ]
     },
     "metadata": {
      "needs_background": "light"
     },
     "output_type": "display_data"
    }
   ],
   "source": [
    "data.pivot_table(index='rooms',values='last_price').plot(y='last_price', kind='bar');"
   ]
  },
  {
   "cell_type": "code",
   "execution_count": 49,
   "metadata": {},
   "outputs": [
    {
     "data": {
      "image/png": "[encoded data removed]",
      "text/plain": [
       "<Figure size 432x288 with 1 Axes>"
      ]
     },
     "metadata": {
      "needs_background": "light"
     },
     "output_type": "display_data"
    },
    {
     "data": {
      "image/png": "[encoded data removed]",
      "text/plain": [
       "<Figure size 432x288 with 1 Axes>"
      ]
     },
     "metadata": {
      "needs_background": "light"
     },
     "output_type": "display_data"
    },
    {
     "data": {
      "image/png": "[encoded data removed]",
      "text/plain": [
       "<Figure size 432x288 with 1 Axes>"
      ]
     },
     "metadata": {
      "needs_background": "light"
     },
     "output_type": "display_data"
    },
    {
     "data": {
      "image/png": "[encoded data removed]",
      "text/plain": [
       "<Figure size 432x288 with 1 Axes>"
      ]
     },
     "metadata": {
      "needs_background": "light"
     },
     "output_type": "display_data"
    },
    {
     "data": {
      "image/png": "[encoded data removed]",
      "text/plain": [
       "<Figure size 432x288 with 1 Axes>"
      ]
     },
     "metadata": {
      "needs_background": "light"
     },
     "output_type": "display_data"
    },
    {
     "data": {
      "image/png": "[encoded data removed]",
      "text/plain": [
       "<Figure size 432x288 with 1 Axes>"
      ]
     },
     "metadata": {
      "needs_background": "light"
     },
     "output_type": "display_data"
    }
   ],
   "source": [
    "data.pivot_table(index='dayofweek',values='last_price',aggfunc='mean').plot(y='last_price', kind='line', title='mean');\n",
    "data.pivot_table(index='dayofweek',values='last_price',aggfunc='median').plot(y='last_price', kind='line', title='median');\n",
    "\n",
    "data.pivot_table(index='month',values='last_price',aggfunc='mean').plot(y='last_price', kind='line', title='mean');\n",
    "data.pivot_table(index='month',values='last_price',aggfunc='median').plot(y='last_price', kind='line', title='median');\n",
    "\n",
    "data.pivot_table(index='year',values='last_price',aggfunc='mean').plot(y='last_price', kind='line', title='mean');\n",
    "data.pivot_table(index='year',values='last_price',aggfunc='median').plot(y='last_price', kind='line', title='median');"
   ]
  },
  {
   "cell_type": "markdown",
   "metadata": {},
   "source": [
    "Цена по убыванию зависит от: общей площади; жилой площади; площади кухни; количества комнат."
   ]
  },
  {
   "cell_type": "markdown",
   "metadata": {},
   "source": [
    "Цена практически на зависит от: этажа, на котором расположена квартира; даты размещения."
   ]
  },
  {
   "cell_type": "code",
   "execution_count": 50,
   "metadata": {},
   "outputs": [
    {
     "data": {
      "text/plain": [
       "<AxesSubplot:xlabel='last_price', ylabel='floor_category'>"
      ]
     },
     "execution_count": 50,
     "metadata": {},
     "output_type": "execute_result"
    },
    {
     "data": {
      "image/png": "[encoded data removed]",
      "text/plain": [
       "<Figure size 432x288 with 1 Axes>"
      ]
     },
     "metadata": {
      "needs_background": "light"
     },
     "output_type": "display_data"
    },
    {
     "data": {
      "image/png": "[encoded data removed]",
      "text/plain": [
       "<Figure size 432x288 with 1 Axes>"
      ]
     },
     "metadata": {
      "needs_background": "light"
     },
     "output_type": "display_data"
    }
   ],
   "source": [
    "data.pivot_table(index='floor_category',values='last_price').plot(y='last_price', kind='barh');\n",
    "\n",
    "data.plot(x='last_price', y='floor_category', kind='scatter', alpha=0.2)"
   ]
  },
  {
   "cell_type": "markdown",
   "metadata": {},
   "source": [
    "#### Среднюю цена одного квадратного метра в 10 населённых пунктах с наибольшим числом объявлений"
   ]
  },
  {
   "cell_type": "code",
   "execution_count": 51,
   "metadata": {},
   "outputs": [
    {
     "data": {
      "text/plain": [
       "<AxesSubplot:ylabel='locality_name'>"
      ]
     },
     "execution_count": 51,
     "metadata": {},
     "output_type": "execute_result"
    },
    {
     "data": {
      "image/png": "[encoded data removed]",
      "text/plain": [
       "<Figure size 432x288 with 1 Axes>"
      ]
     },
     "metadata": {
      "needs_background": "light"
     },
     "output_type": "display_data"
    }
   ],
   "source": [
    "top_10 = data.pivot_table(index='locality_name', values=['last_price','total_area'] ,aggfunc=['sum','count'])\n",
    "top_10.columns=['last_price_sum','total_area_sum','last_price_count','total_area_count']\n",
    "top_10.pop('total_area_count')\n",
    "top_10.sort_values(by=['last_price_count'],ascending=False, inplace=True)\n",
    "top_10 = top_10.iloc[:10]\n",
    "top_10['price_per_sq_m'] = top_10['last_price_sum']/top_10['total_area_sum']\n",
    "top_10.sort_values(by=['price_per_sq_m'],ascending=True, inplace=True)\n",
    "top_10['price_per_sq_m'].plot(kind='barh')"
   ]
  },
  {
   "cell_type": "code",
   "execution_count": 52,
   "metadata": {},
   "outputs": [
    {
     "data": {
      "text/html": [
       "<div>\n",
       "<style scoped>\n",
       "    .dataframe tbody tr th:only-of-type {\n",
       "        vertical-align: middle;\n",
       "    }\n",
       "\n",
       "    .dataframe tbody tr th {\n",
       "        vertical-align: top;\n",
       "    }\n",
       "\n",
       "    .dataframe thead th {\n",
       "        text-align: right;\n",
       "    }\n",
       "</style>\n",
       "<table border=\"1\" class=\"dataframe\">\n",
       "  <thead>\n",
       "    <tr style=\"text-align: right;\">\n",
       "      <th></th>\n",
       "      <th>total_images</th>\n",
       "      <th>last_price</th>\n",
       "      <th>total_area</th>\n",
       "      <th>first_day_exposition</th>\n",
       "      <th>rooms</th>\n",
       "      <th>ceiling_height</th>\n",
       "      <th>floors_total</th>\n",
       "      <th>living_area</th>\n",
       "      <th>floor</th>\n",
       "      <th>is_apartment</th>\n",
       "      <th>...</th>\n",
       "      <th>ponds_around3000</th>\n",
       "      <th>ponds_nearest</th>\n",
       "      <th>days_exposition</th>\n",
       "      <th>cost_per_sqm</th>\n",
       "      <th>dayofweek</th>\n",
       "      <th>month</th>\n",
       "      <th>year</th>\n",
       "      <th>floor_category</th>\n",
       "      <th>floor_category_digit</th>\n",
       "      <th>city_centers_nearest_km</th>\n",
       "    </tr>\n",
       "  </thead>\n",
       "  <tbody>\n",
       "    <tr>\n",
       "      <th>0</th>\n",
       "      <td>20</td>\n",
       "      <td>13000000</td>\n",
       "      <td>108.0</td>\n",
       "      <td>2019-03-07</td>\n",
       "      <td>3</td>\n",
       "      <td>2.70</td>\n",
       "      <td>16</td>\n",
       "      <td>51.0</td>\n",
       "      <td>8</td>\n",
       "      <td>False</td>\n",
       "      <td>...</td>\n",
       "      <td>2.0</td>\n",
       "      <td>755.0</td>\n",
       "      <td>&lt;NA&gt;</td>\n",
       "      <td>120370.370370</td>\n",
       "      <td>3</td>\n",
       "      <td>3</td>\n",
       "      <td>2019</td>\n",
       "      <td>другой</td>\n",
       "      <td>1</td>\n",
       "      <td>16</td>\n",
       "    </tr>\n",
       "    <tr>\n",
       "      <th>1</th>\n",
       "      <td>7</td>\n",
       "      <td>3350000</td>\n",
       "      <td>40.4</td>\n",
       "      <td>2018-12-04</td>\n",
       "      <td>1</td>\n",
       "      <td>NaN</td>\n",
       "      <td>11</td>\n",
       "      <td>18.6</td>\n",
       "      <td>1</td>\n",
       "      <td>False</td>\n",
       "      <td>...</td>\n",
       "      <td>0.0</td>\n",
       "      <td>NaN</td>\n",
       "      <td>81</td>\n",
       "      <td>82920.792079</td>\n",
       "      <td>1</td>\n",
       "      <td>12</td>\n",
       "      <td>2018</td>\n",
       "      <td>первый</td>\n",
       "      <td>0</td>\n",
       "      <td>19</td>\n",
       "    </tr>\n",
       "    <tr>\n",
       "      <th>2</th>\n",
       "      <td>10</td>\n",
       "      <td>5196000</td>\n",
       "      <td>56.0</td>\n",
       "      <td>2015-08-20</td>\n",
       "      <td>2</td>\n",
       "      <td>NaN</td>\n",
       "      <td>5</td>\n",
       "      <td>34.3</td>\n",
       "      <td>4</td>\n",
       "      <td>False</td>\n",
       "      <td>...</td>\n",
       "      <td>2.0</td>\n",
       "      <td>574.0</td>\n",
       "      <td>558</td>\n",
       "      <td>92785.714286</td>\n",
       "      <td>3</td>\n",
       "      <td>8</td>\n",
       "      <td>2015</td>\n",
       "      <td>другой</td>\n",
       "      <td>1</td>\n",
       "      <td>14</td>\n",
       "    </tr>\n",
       "    <tr>\n",
       "      <th>3</th>\n",
       "      <td>0</td>\n",
       "      <td>64900000</td>\n",
       "      <td>159.0</td>\n",
       "      <td>2015-07-24</td>\n",
       "      <td>3</td>\n",
       "      <td>NaN</td>\n",
       "      <td>14</td>\n",
       "      <td>NaN</td>\n",
       "      <td>9</td>\n",
       "      <td>False</td>\n",
       "      <td>...</td>\n",
       "      <td>3.0</td>\n",
       "      <td>234.0</td>\n",
       "      <td>424</td>\n",
       "      <td>408176.100629</td>\n",
       "      <td>4</td>\n",
       "      <td>7</td>\n",
       "      <td>2015</td>\n",
       "      <td>другой</td>\n",
       "      <td>1</td>\n",
       "      <td>7</td>\n",
       "    </tr>\n",
       "    <tr>\n",
       "      <th>4</th>\n",
       "      <td>2</td>\n",
       "      <td>10000000</td>\n",
       "      <td>100.0</td>\n",
       "      <td>2018-06-19</td>\n",
       "      <td>2</td>\n",
       "      <td>3.03</td>\n",
       "      <td>14</td>\n",
       "      <td>32.0</td>\n",
       "      <td>13</td>\n",
       "      <td>False</td>\n",
       "      <td>...</td>\n",
       "      <td>1.0</td>\n",
       "      <td>48.0</td>\n",
       "      <td>121</td>\n",
       "      <td>100000.000000</td>\n",
       "      <td>1</td>\n",
       "      <td>6</td>\n",
       "      <td>2018</td>\n",
       "      <td>другой</td>\n",
       "      <td>1</td>\n",
       "      <td>8</td>\n",
       "    </tr>\n",
       "  </tbody>\n",
       "</table>\n",
       "<p>5 rows × 29 columns</p>\n",
       "</div>"
      ],
      "text/plain": [
       "   total_images  last_price  total_area first_day_exposition  rooms  \\\n",
       "0            20    13000000       108.0           2019-03-07      3   \n",
       "1             7     3350000        40.4           2018-12-04      1   \n",
       "2            10     5196000        56.0           2015-08-20      2   \n",
       "3             0    64900000       159.0           2015-07-24      3   \n",
       "4             2    10000000       100.0           2018-06-19      2   \n",
       "\n",
       "   ceiling_height  floors_total  living_area  floor is_apartment  ...  \\\n",
       "0            2.70            16         51.0      8        False  ...   \n",
       "1             NaN            11         18.6      1        False  ...   \n",
       "2             NaN             5         34.3      4        False  ...   \n",
       "3             NaN            14          NaN      9        False  ...   \n",
       "4            3.03            14         32.0     13        False  ...   \n",
       "\n",
       "   ponds_around3000  ponds_nearest  days_exposition   cost_per_sqm dayofweek  \\\n",
       "0               2.0          755.0             <NA>  120370.370370         3   \n",
       "1               0.0            NaN               81   82920.792079         1   \n",
       "2               2.0          574.0              558   92785.714286         3   \n",
       "3               3.0          234.0              424  408176.100629         4   \n",
       "4               1.0           48.0              121  100000.000000         1   \n",
       "\n",
       "   month  year  floor_category  floor_category_digit  city_centers_nearest_km  \n",
       "0      3  2019          другой                     1                       16  \n",
       "1     12  2018          первый                     0                       19  \n",
       "2      8  2015          другой                     1                       14  \n",
       "3      7  2015          другой                     1                        7  \n",
       "4      6  2018          другой                     1                        8  \n",
       "\n",
       "[5 rows x 29 columns]"
      ]
     },
     "execution_count": 52,
     "metadata": {},
     "output_type": "execute_result"
    }
   ],
   "source": [
    "data.head()"
   ]
  },
  {
   "cell_type": "code",
   "execution_count": 53,
   "metadata": {},
   "outputs": [
    {
     "data": {
      "text/plain": [
       "1     7957\n",
       "2     7814\n",
       "3     5702\n",
       "4     1138\n",
       "5      297\n",
       "0      192\n",
       "6       94\n",
       "7       44\n",
       "8       10\n",
       "9        6\n",
       "10       3\n",
       "11       2\n",
       "14       1\n",
       "Name: rooms, dtype: int64"
      ]
     },
     "execution_count": 53,
     "metadata": {},
     "output_type": "execute_result"
    }
   ],
   "source": [
    "data['rooms'].value_counts()"
   ]
  },
  {
   "cell_type": "code",
   "execution_count": 54,
   "metadata": {},
   "outputs": [
    {
     "data": {
      "text/plain": [
       "rooms\n",
       "1     7957\n",
       "2     7814\n",
       "3     5702\n",
       "4     1138\n",
       "5      297\n",
       "0      192\n",
       "6       94\n",
       "7       44\n",
       "8       10\n",
       "9        6\n",
       "10       3\n",
       "11       2\n",
       "14       1\n",
       "Name: rooms, dtype: int64"
      ]
     },
     "execution_count": 54,
     "metadata": {},
     "output_type": "execute_result"
    }
   ],
   "source": [
    "data.groupby(by='rooms')['rooms'].count().sort_values(ascending=False)"
   ]
  },
  {
   "cell_type": "markdown",
   "metadata": {},
   "source": [
    "Самая дорогая недвижимость в Санкт-Петербурге. В ТОП-10 входят ближайшие к Санкт-Петербургу города."
   ]
  },
  {
   "cell_type": "markdown",
   "metadata": {},
   "source": [
    "#### Расстояние до центра города"
   ]
  },
  {
   "cell_type": "code",
   "execution_count": 55,
   "metadata": {},
   "outputs": [
    {
     "data": {
      "text/plain": [
       "<AxesSubplot:xlabel='city_centers_nearest_km'>"
      ]
     },
     "execution_count": 55,
     "metadata": {},
     "output_type": "execute_result"
    },
    {
     "data": {
      "image/png": "[encoded data removed]",
      "text/plain": [
       "<Figure size 432x288 with 1 Axes>"
      ]
     },
     "metadata": {
      "needs_background": "light"
     },
     "output_type": "display_data"
    }
   ],
   "source": [
    "(\n",
    "    data[data['locality_name']=='санкт-петербург']\n",
    "    .pivot_table(\n",
    "        index='city_centers_nearest_km',\n",
    "        values='last_price',\n",
    "        aggfunc='mean')\n",
    "    .plot(kind='bar')\n",
    ")"
   ]
  },
  {
   "cell_type": "markdown",
   "metadata": {},
   "source": [
    "С большим отрывом лидирует недвижимость до 1км. Видим более низкие цены на недвижимость на расстоянии от 1 км. до 7 км. включительно. Далее цена спадает на расстоянии от 8 км. до 27 км. Видим пик на 27км, его сложно объяснить, возможно это недвижимость в \"особом\" районе."
   ]
  },
  {
   "cell_type": "markdown",
   "metadata": {},
   "source": [
    "### Общий вывод"
   ]
  },
  {
   "cell_type": "markdown",
   "metadata": {},
   "source": [
    "После изучения данных можно сказать, что можно работать с таблицами, в которых встречаются пропущенные значения. Данные всё-таки лучше очищать от явных \"выбросов\", но возможно чистить данные придётся после этапа исследовательского анализа данных. В нашем примере - это дорогие квартиры, которые портили корреляции и графики зависимости полной стоимости от разных параметров. Из необычных особенностей:\n",
    "\n",
    "- В 27 км от центра Санкт-Петербурга есть недвижимость по цене почти равная недвижимости в 8 км. от центра;\n",
    "- В ТОП-10 входят в основном ближайшие к Санкт-Петербургу города и самые крупные города области: Пушкин; Гатчина; Всеволожск; Выборг.\n",
    "\n",
    "Цена в основном зависит от площади квартиры, но корреляция с этажностью(не первый и не последний) видна на графике. Таких квартир явно больше и они явно дороже.\n",
    "\n",
    "Быстрые продажи это до 95 дней, а необычно долгие - свыше 171 дня.\n",
    "Выбросы Количество объявлений, которые сняты через:\n",
    "- 45 дней: 870\n",
    "- 60 дней: 535\n",
    "- 90 дней: 203\n",
    "\n",
    "Предполагаю, что данные взяты с площадки, где неактивные объявления автоматически снимаются, если пользователь не продлит время размещения через определёный срок. Либо присутсвует платное рамещение. Нужно связаться с тем, кто предоставляет данные."
   ]
  }
 ],
 "metadata": {
  "ExecuteTimeLog": [
   {
    "duration": 592,
    "start_time": "2023-01-26T04:10:12.856Z"
   },
   {
    "duration": 597,
    "start_time": "2023-01-26T04:10:35.169Z"
   },
   {
    "duration": 632,
    "start_time": "2023-01-26T04:12:19.509Z"
   },
   {
    "duration": 35,
    "start_time": "2023-01-26T04:12:20.142Z"
   },
   {
    "duration": 38,
    "start_time": "2023-01-26T04:12:20.187Z"
   },
   {
    "duration": 16,
    "start_time": "2023-01-26T04:12:20.227Z"
   },
   {
    "duration": 2883,
    "start_time": "2023-01-26T04:16:18.416Z"
   },
   {
    "duration": 2241,
    "start_time": "2023-01-26T04:16:32.164Z"
   },
   {
    "duration": 2578,
    "start_time": "2023-01-26T04:19:28.552Z"
   },
   {
    "duration": 1579,
    "start_time": "2023-01-26T04:19:51.572Z"
   },
   {
    "duration": 2290,
    "start_time": "2023-01-26T04:20:05.099Z"
   },
   {
    "duration": 2184,
    "start_time": "2023-01-26T04:20:15.352Z"
   },
   {
    "duration": 2230,
    "start_time": "2023-01-26T04:24:18.308Z"
   },
   {
    "duration": 75,
    "start_time": "2023-01-26T04:25:38.368Z"
   },
   {
    "duration": 10,
    "start_time": "2023-01-26T04:33:03.351Z"
   },
   {
    "duration": 50,
    "start_time": "2023-01-26T04:42:44.900Z"
   },
   {
    "duration": 11,
    "start_time": "2023-01-26T05:35:02.306Z"
   },
   {
    "duration": 13,
    "start_time": "2023-01-26T05:35:50.355Z"
   },
   {
    "duration": 681,
    "start_time": "2023-01-26T05:43:20.387Z"
   },
   {
    "duration": 54,
    "start_time": "2023-01-26T05:43:21.073Z"
   },
   {
    "duration": 58,
    "start_time": "2023-01-26T05:43:21.129Z"
   },
   {
    "duration": 24,
    "start_time": "2023-01-26T05:43:21.189Z"
   },
   {
    "duration": 4,
    "start_time": "2023-01-26T05:43:21.216Z"
   },
   {
    "duration": 3143,
    "start_time": "2023-01-26T05:43:21.223Z"
   },
   {
    "duration": 16,
    "start_time": "2023-01-26T05:43:24.369Z"
   },
   {
    "duration": 7,
    "start_time": "2023-01-26T05:43:24.388Z"
   },
   {
    "duration": 0,
    "start_time": "2023-01-26T05:43:24.397Z"
   },
   {
    "duration": 0,
    "start_time": "2023-01-26T05:43:24.399Z"
   },
   {
    "duration": 6,
    "start_time": "2023-01-26T05:50:09.631Z"
   },
   {
    "duration": 7,
    "start_time": "2023-01-26T05:51:57.236Z"
   },
   {
    "duration": 5,
    "start_time": "2023-01-26T05:53:01.275Z"
   },
   {
    "duration": 5,
    "start_time": "2023-01-26T05:59:31.875Z"
   },
   {
    "duration": 5,
    "start_time": "2023-01-26T06:02:05.322Z"
   },
   {
    "duration": 12,
    "start_time": "2023-01-26T06:02:35.530Z"
   },
   {
    "duration": 532,
    "start_time": "2023-01-26T06:02:51.340Z"
   },
   {
    "duration": 45,
    "start_time": "2023-01-26T06:02:51.874Z"
   },
   {
    "duration": 27,
    "start_time": "2023-01-26T06:02:51.921Z"
   },
   {
    "duration": 41,
    "start_time": "2023-01-26T06:02:51.951Z"
   },
   {
    "duration": 5,
    "start_time": "2023-01-26T06:02:51.995Z"
   },
   {
    "duration": 2615,
    "start_time": "2023-01-26T06:02:52.003Z"
   },
   {
    "duration": 15,
    "start_time": "2023-01-26T06:02:54.620Z"
   },
   {
    "duration": 6,
    "start_time": "2023-01-26T06:02:54.637Z"
   },
   {
    "duration": 10,
    "start_time": "2023-01-26T06:02:54.645Z"
   },
   {
    "duration": 16,
    "start_time": "2023-01-26T06:02:54.658Z"
   },
   {
    "duration": 8,
    "start_time": "2023-01-26T06:02:54.676Z"
   },
   {
    "duration": 20,
    "start_time": "2023-01-26T06:02:54.686Z"
   },
   {
    "duration": 5,
    "start_time": "2023-01-26T06:05:05.258Z"
   },
   {
    "duration": 6,
    "start_time": "2023-01-26T06:06:35.230Z"
   },
   {
    "duration": 5,
    "start_time": "2023-01-26T06:06:35.729Z"
   },
   {
    "duration": 6,
    "start_time": "2023-01-26T06:06:36.261Z"
   },
   {
    "duration": 4,
    "start_time": "2023-01-26T06:06:36.830Z"
   },
   {
    "duration": 10,
    "start_time": "2023-01-26T06:06:37.698Z"
   },
   {
    "duration": 3,
    "start_time": "2023-01-26T06:10:07.112Z"
   },
   {
    "duration": 3,
    "start_time": "2023-01-26T06:10:10.044Z"
   },
   {
    "duration": 6,
    "start_time": "2023-01-26T06:15:55.997Z"
   },
   {
    "duration": 4,
    "start_time": "2023-01-26T06:16:02.270Z"
   },
   {
    "duration": 5,
    "start_time": "2023-01-26T06:16:08.685Z"
   },
   {
    "duration": 5,
    "start_time": "2023-01-26T06:16:13.618Z"
   },
   {
    "duration": 12,
    "start_time": "2023-01-26T06:16:14.737Z"
   },
   {
    "duration": 16,
    "start_time": "2023-01-26T06:18:18.758Z"
   },
   {
    "duration": 37,
    "start_time": "2023-01-26T06:29:28.164Z"
   },
   {
    "duration": 25,
    "start_time": "2023-01-26T06:30:44.150Z"
   },
   {
    "duration": 16,
    "start_time": "2023-01-26T06:31:07.753Z"
   },
   {
    "duration": 5,
    "start_time": "2023-01-26T06:39:20.958Z"
   },
   {
    "duration": 17,
    "start_time": "2023-01-26T06:40:03.892Z"
   },
   {
    "duration": 22,
    "start_time": "2023-01-26T06:40:49.986Z"
   },
   {
    "duration": 23,
    "start_time": "2023-01-26T06:41:00.918Z"
   },
   {
    "duration": 20,
    "start_time": "2023-01-26T06:41:44.250Z"
   },
   {
    "duration": 34,
    "start_time": "2023-01-26T06:42:20.238Z"
   },
   {
    "duration": 110,
    "start_time": "2023-01-26T06:44:42.977Z"
   },
   {
    "duration": 31,
    "start_time": "2023-01-26T06:50:12.568Z"
   },
   {
    "duration": 432,
    "start_time": "2023-01-26T06:50:37.222Z"
   },
   {
    "duration": 24,
    "start_time": "2023-01-26T06:53:31.898Z"
   },
   {
    "duration": 450,
    "start_time": "2023-01-26T06:53:53.237Z"
   },
   {
    "duration": 592,
    "start_time": "2023-01-26T06:57:22.718Z"
   },
   {
    "duration": 24,
    "start_time": "2023-01-26T06:57:30.770Z"
   },
   {
    "duration": 454,
    "start_time": "2023-01-26T06:57:34.638Z"
   },
   {
    "duration": 396,
    "start_time": "2023-01-26T06:57:38.526Z"
   },
   {
    "duration": 12,
    "start_time": "2023-01-26T07:04:07.102Z"
   },
   {
    "duration": 8,
    "start_time": "2023-01-26T07:04:34.694Z"
   },
   {
    "duration": 9,
    "start_time": "2023-01-26T07:04:45.543Z"
   },
   {
    "duration": 9,
    "start_time": "2023-01-26T07:06:27.134Z"
   },
   {
    "duration": 8,
    "start_time": "2023-01-26T07:07:30.734Z"
   },
   {
    "duration": 25,
    "start_time": "2023-01-26T07:10:00.833Z"
   },
   {
    "duration": 31,
    "start_time": "2023-01-26T07:13:32.619Z"
   },
   {
    "duration": 37,
    "start_time": "2023-01-26T07:15:38.357Z"
   },
   {
    "duration": 214,
    "start_time": "2023-01-26T07:17:21.702Z"
   },
   {
    "duration": 24,
    "start_time": "2023-01-26T07:18:16.183Z"
   },
   {
    "duration": 206,
    "start_time": "2023-01-26T07:20:34.265Z"
   },
   {
    "duration": 215,
    "start_time": "2023-01-26T07:21:21.069Z"
   },
   {
    "duration": 751,
    "start_time": "2023-01-26T07:23:32.466Z"
   },
   {
    "duration": 75,
    "start_time": "2023-01-26T07:26:12.682Z"
   },
   {
    "duration": 588,
    "start_time": "2023-01-26T07:26:28.431Z"
   },
   {
    "duration": 38,
    "start_time": "2023-01-26T07:26:29.021Z"
   },
   {
    "duration": 41,
    "start_time": "2023-01-26T07:26:29.061Z"
   },
   {
    "duration": 53,
    "start_time": "2023-01-26T07:26:29.104Z"
   },
   {
    "duration": 10,
    "start_time": "2023-01-26T07:26:29.159Z"
   },
   {
    "duration": 2667,
    "start_time": "2023-01-26T07:26:29.171Z"
   },
   {
    "duration": 10,
    "start_time": "2023-01-26T07:26:31.839Z"
   },
   {
    "duration": 49,
    "start_time": "2023-01-26T07:26:31.851Z"
   },
   {
    "duration": 20,
    "start_time": "2023-01-26T07:26:31.902Z"
   },
   {
    "duration": 16,
    "start_time": "2023-01-26T07:26:31.924Z"
   },
   {
    "duration": 23,
    "start_time": "2023-01-26T07:26:31.942Z"
   },
   {
    "duration": 29,
    "start_time": "2023-01-26T07:26:31.967Z"
   },
   {
    "duration": 28,
    "start_time": "2023-01-26T07:26:31.998Z"
   },
   {
    "duration": 34,
    "start_time": "2023-01-26T07:26:32.031Z"
   },
   {
    "duration": 38,
    "start_time": "2023-01-26T07:26:32.067Z"
   },
   {
    "duration": 23,
    "start_time": "2023-01-26T07:26:32.107Z"
   },
   {
    "duration": 24,
    "start_time": "2023-01-26T07:26:32.133Z"
   },
   {
    "duration": 33,
    "start_time": "2023-01-26T07:26:32.159Z"
   },
   {
    "duration": 39,
    "start_time": "2023-01-26T07:26:32.193Z"
   },
   {
    "duration": 40,
    "start_time": "2023-01-26T07:26:32.234Z"
   },
   {
    "duration": 104,
    "start_time": "2023-01-26T07:26:32.275Z"
   },
   {
    "duration": 28,
    "start_time": "2023-01-26T07:26:32.384Z"
   },
   {
    "duration": 497,
    "start_time": "2023-01-26T07:26:32.414Z"
   },
   {
    "duration": 428,
    "start_time": "2023-01-26T07:26:32.913Z"
   },
   {
    "duration": 27,
    "start_time": "2023-01-26T07:26:33.343Z"
   },
   {
    "duration": 44,
    "start_time": "2023-01-26T07:26:33.384Z"
   },
   {
    "duration": 221,
    "start_time": "2023-01-26T07:26:33.430Z"
   },
   {
    "duration": 16,
    "start_time": "2023-01-26T07:26:33.654Z"
   },
   {
    "duration": 375,
    "start_time": "2023-01-26T07:26:33.683Z"
   },
   {
    "duration": 450,
    "start_time": "2023-01-26T07:26:34.060Z"
   },
   {
    "duration": 186,
    "start_time": "2023-01-26T07:26:34.512Z"
   },
   {
    "duration": 436,
    "start_time": "2023-01-26T07:29:18.531Z"
   },
   {
    "duration": 147,
    "start_time": "2023-01-26T07:30:17.423Z"
   },
   {
    "duration": 448,
    "start_time": "2023-01-26T07:32:30.964Z"
   },
   {
    "duration": 456,
    "start_time": "2023-01-26T07:35:08.061Z"
   },
   {
    "duration": 3,
    "start_time": "2023-01-26T07:35:53.445Z"
   },
   {
    "duration": 3,
    "start_time": "2023-01-26T07:35:57.609Z"
   },
   {
    "duration": 547,
    "start_time": "2023-01-26T07:37:38.205Z"
   },
   {
    "duration": 49,
    "start_time": "2023-01-26T07:37:38.754Z"
   },
   {
    "duration": 35,
    "start_time": "2023-01-26T07:37:38.805Z"
   },
   {
    "duration": 38,
    "start_time": "2023-01-26T07:37:38.843Z"
   },
   {
    "duration": 24,
    "start_time": "2023-01-26T07:37:38.883Z"
   },
   {
    "duration": 2865,
    "start_time": "2023-01-26T07:37:38.909Z"
   },
   {
    "duration": 15,
    "start_time": "2023-01-26T07:37:41.775Z"
   },
   {
    "duration": 23,
    "start_time": "2023-01-26T07:37:41.792Z"
   },
   {
    "duration": 16,
    "start_time": "2023-01-26T07:37:41.817Z"
   },
   {
    "duration": 35,
    "start_time": "2023-01-26T07:37:41.838Z"
   },
   {
    "duration": 65,
    "start_time": "2023-01-26T07:37:41.875Z"
   },
   {
    "duration": 68,
    "start_time": "2023-01-26T07:37:41.942Z"
   },
   {
    "duration": 56,
    "start_time": "2023-01-26T07:37:42.012Z"
   },
   {
    "duration": 30,
    "start_time": "2023-01-26T07:37:42.070Z"
   },
   {
    "duration": 74,
    "start_time": "2023-01-26T07:37:42.102Z"
   },
   {
    "duration": 31,
    "start_time": "2023-01-26T07:37:42.178Z"
   },
   {
    "duration": 36,
    "start_time": "2023-01-26T07:37:42.211Z"
   },
   {
    "duration": 24,
    "start_time": "2023-01-26T07:37:42.249Z"
   },
   {
    "duration": 67,
    "start_time": "2023-01-26T07:37:42.275Z"
   },
   {
    "duration": 53,
    "start_time": "2023-01-26T07:37:42.345Z"
   },
   {
    "duration": 127,
    "start_time": "2023-01-26T07:37:42.400Z"
   },
   {
    "duration": 27,
    "start_time": "2023-01-26T07:37:42.529Z"
   },
   {
    "duration": 546,
    "start_time": "2023-01-26T07:37:42.557Z"
   },
   {
    "duration": 439,
    "start_time": "2023-01-26T07:37:43.105Z"
   },
   {
    "duration": 26,
    "start_time": "2023-01-26T07:37:43.546Z"
   },
   {
    "duration": 85,
    "start_time": "2023-01-26T07:37:43.584Z"
   },
   {
    "duration": 244,
    "start_time": "2023-01-26T07:37:43.671Z"
   },
   {
    "duration": 16,
    "start_time": "2023-01-26T07:37:43.919Z"
   },
   {
    "duration": 368,
    "start_time": "2023-01-26T07:37:43.937Z"
   },
   {
    "duration": 490,
    "start_time": "2023-01-26T07:37:44.308Z"
   },
   {
    "duration": 180,
    "start_time": "2023-01-26T07:37:44.801Z"
   },
   {
    "duration": 447,
    "start_time": "2023-01-26T07:37:44.987Z"
   },
   {
    "duration": 172,
    "start_time": "2023-01-26T07:37:45.436Z"
   },
   {
    "duration": 326,
    "start_time": "2023-01-26T07:37:45.610Z"
   },
   {
    "duration": 335,
    "start_time": "2023-01-26T07:37:45.937Z"
   },
   {
    "duration": 3,
    "start_time": "2023-01-26T07:37:46.274Z"
   },
   {
    "duration": 5,
    "start_time": "2023-01-26T07:43:09.176Z"
   },
   {
    "duration": 7,
    "start_time": "2023-01-26T07:43:51.935Z"
   },
   {
    "duration": 6,
    "start_time": "2023-01-26T07:44:33.802Z"
   },
   {
    "duration": 7,
    "start_time": "2023-01-26T07:44:59.042Z"
   },
   {
    "duration": 1487,
    "start_time": "2023-01-26T07:45:59.246Z"
   },
   {
    "duration": 8,
    "start_time": "2023-01-26T07:46:10.913Z"
   },
   {
    "duration": 9,
    "start_time": "2023-01-26T07:47:13.225Z"
   },
   {
    "duration": 164,
    "start_time": "2023-01-26T07:53:14.003Z"
   },
   {
    "duration": 350,
    "start_time": "2023-01-26T07:54:32.747Z"
   },
   {
    "duration": 287,
    "start_time": "2023-01-26T07:54:44.368Z"
   },
   {
    "duration": 4543,
    "start_time": "2023-01-26T07:55:21.207Z"
   },
   {
    "duration": 4401,
    "start_time": "2023-01-26T08:02:32.606Z"
   },
   {
    "duration": 4457,
    "start_time": "2023-01-26T08:02:43.233Z"
   },
   {
    "duration": 4916,
    "start_time": "2023-01-26T08:04:49.608Z"
   },
   {
    "duration": 4384,
    "start_time": "2023-01-26T08:15:52.417Z"
   },
   {
    "duration": 4483,
    "start_time": "2023-01-26T08:16:28.703Z"
   },
   {
    "duration": 620,
    "start_time": "2023-01-26T08:21:36.203Z"
   },
   {
    "duration": 36,
    "start_time": "2023-01-26T08:21:36.825Z"
   },
   {
    "duration": 65,
    "start_time": "2023-01-26T08:21:36.863Z"
   },
   {
    "duration": 45,
    "start_time": "2023-01-26T08:21:36.931Z"
   },
   {
    "duration": 49,
    "start_time": "2023-01-26T08:21:36.978Z"
   },
   {
    "duration": 2821,
    "start_time": "2023-01-26T08:21:37.029Z"
   },
   {
    "duration": 14,
    "start_time": "2023-01-26T08:21:39.852Z"
   },
   {
    "duration": 93,
    "start_time": "2023-01-26T08:21:39.868Z"
   },
   {
    "duration": 168,
    "start_time": "2023-01-26T08:21:39.964Z"
   },
   {
    "duration": 63,
    "start_time": "2023-01-26T08:21:40.137Z"
   },
   {
    "duration": 64,
    "start_time": "2023-01-26T08:21:40.210Z"
   },
   {
    "duration": 58,
    "start_time": "2023-01-26T08:21:40.276Z"
   },
   {
    "duration": 76,
    "start_time": "2023-01-26T08:21:40.336Z"
   },
   {
    "duration": 72,
    "start_time": "2023-01-26T08:21:40.423Z"
   },
   {
    "duration": 67,
    "start_time": "2023-01-26T08:21:40.497Z"
   },
   {
    "duration": 79,
    "start_time": "2023-01-26T08:21:40.567Z"
   },
   {
    "duration": 86,
    "start_time": "2023-01-26T08:21:40.649Z"
   },
   {
    "duration": 70,
    "start_time": "2023-01-26T08:21:40.738Z"
   },
   {
    "duration": 90,
    "start_time": "2023-01-26T08:21:40.811Z"
   },
   {
    "duration": 98,
    "start_time": "2023-01-26T08:21:40.903Z"
   },
   {
    "duration": 139,
    "start_time": "2023-01-26T08:21:41.011Z"
   },
   {
    "duration": 39,
    "start_time": "2023-01-26T08:21:41.153Z"
   },
   {
    "duration": 621,
    "start_time": "2023-01-26T08:21:41.194Z"
   },
   {
    "duration": 590,
    "start_time": "2023-01-26T08:21:41.817Z"
   },
   {
    "duration": 29,
    "start_time": "2023-01-26T08:21:42.415Z"
   },
   {
    "duration": 129,
    "start_time": "2023-01-26T08:21:42.446Z"
   },
   {
    "duration": 323,
    "start_time": "2023-01-26T08:21:42.577Z"
   },
   {
    "duration": 21,
    "start_time": "2023-01-26T08:21:42.905Z"
   },
   {
    "duration": 435,
    "start_time": "2023-01-26T08:21:42.928Z"
   },
   {
    "duration": 539,
    "start_time": "2023-01-26T08:21:43.366Z"
   },
   {
    "duration": 236,
    "start_time": "2023-01-26T08:21:43.908Z"
   },
   {
    "duration": 545,
    "start_time": "2023-01-26T08:21:44.146Z"
   },
   {
    "duration": 185,
    "start_time": "2023-01-26T08:21:44.694Z"
   },
   {
    "duration": 376,
    "start_time": "2023-01-26T08:21:44.881Z"
   },
   {
    "duration": 388,
    "start_time": "2023-01-26T08:21:45.259Z"
   },
   {
    "duration": 8,
    "start_time": "2023-01-26T08:21:45.649Z"
   },
   {
    "duration": 93,
    "start_time": "2023-01-26T08:21:45.659Z"
   },
   {
    "duration": 80,
    "start_time": "2023-01-26T08:21:45.754Z"
   },
   {
    "duration": 22,
    "start_time": "2023-01-26T08:21:45.836Z"
   },
   {
    "duration": 91,
    "start_time": "2023-01-26T08:21:45.860Z"
   },
   {
    "duration": 1719,
    "start_time": "2023-01-26T08:21:45.953Z"
   },
   {
    "duration": 18,
    "start_time": "2023-01-26T08:21:47.674Z"
   },
   {
    "duration": 55,
    "start_time": "2023-01-26T08:21:47.693Z"
   },
   {
    "duration": 215,
    "start_time": "2023-01-26T08:21:47.750Z"
   },
   {
    "duration": 4798,
    "start_time": "2023-01-26T08:21:47.968Z"
   },
   {
    "duration": 618,
    "start_time": "2023-01-26T08:29:05.159Z"
   },
   {
    "duration": 556,
    "start_time": "2023-01-26T08:44:36.850Z"
   },
   {
    "duration": 34,
    "start_time": "2023-01-26T08:44:37.408Z"
   },
   {
    "duration": 43,
    "start_time": "2023-01-26T08:44:37.444Z"
   },
   {
    "duration": 16,
    "start_time": "2023-01-26T08:44:37.489Z"
   },
   {
    "duration": 3,
    "start_time": "2023-01-26T08:44:37.507Z"
   },
   {
    "duration": 2474,
    "start_time": "2023-01-26T08:44:37.512Z"
   },
   {
    "duration": 14,
    "start_time": "2023-01-26T08:44:39.989Z"
   },
   {
    "duration": 13,
    "start_time": "2023-01-26T08:44:40.005Z"
   },
   {
    "duration": 13,
    "start_time": "2023-01-26T08:44:40.021Z"
   },
   {
    "duration": 12,
    "start_time": "2023-01-26T08:44:40.038Z"
   },
   {
    "duration": 22,
    "start_time": "2023-01-26T08:44:40.052Z"
   },
   {
    "duration": 26,
    "start_time": "2023-01-26T08:44:40.077Z"
   },
   {
    "duration": 29,
    "start_time": "2023-01-26T08:44:40.105Z"
   },
   {
    "duration": 27,
    "start_time": "2023-01-26T08:44:40.137Z"
   },
   {
    "duration": 34,
    "start_time": "2023-01-26T08:44:40.166Z"
   },
   {
    "duration": 21,
    "start_time": "2023-01-26T08:44:40.202Z"
   },
   {
    "duration": 38,
    "start_time": "2023-01-26T08:44:40.226Z"
   },
   {
    "duration": 73,
    "start_time": "2023-01-26T08:44:40.267Z"
   },
   {
    "duration": 70,
    "start_time": "2023-01-26T08:44:40.342Z"
   },
   {
    "duration": 42,
    "start_time": "2023-01-26T08:44:40.414Z"
   },
   {
    "duration": 119,
    "start_time": "2023-01-26T08:44:40.458Z"
   },
   {
    "duration": 26,
    "start_time": "2023-01-26T08:44:40.579Z"
   },
   {
    "duration": 461,
    "start_time": "2023-01-26T08:44:40.607Z"
   },
   {
    "duration": 409,
    "start_time": "2023-01-26T08:44:41.070Z"
   },
   {
    "duration": 23,
    "start_time": "2023-01-26T08:44:41.484Z"
   },
   {
    "duration": 30,
    "start_time": "2023-01-26T08:44:41.509Z"
   },
   {
    "duration": 245,
    "start_time": "2023-01-26T08:44:41.541Z"
   },
   {
    "duration": 15,
    "start_time": "2023-01-26T08:44:41.789Z"
   },
   {
    "duration": 364,
    "start_time": "2023-01-26T08:44:41.806Z"
   },
   {
    "duration": 433,
    "start_time": "2023-01-26T08:44:42.172Z"
   },
   {
    "duration": 169,
    "start_time": "2023-01-26T08:44:42.607Z"
   },
   {
    "duration": 395,
    "start_time": "2023-01-26T08:44:42.784Z"
   },
   {
    "duration": 150,
    "start_time": "2023-01-26T08:44:43.184Z"
   },
   {
    "duration": 305,
    "start_time": "2023-01-26T08:44:43.335Z"
   },
   {
    "duration": 305,
    "start_time": "2023-01-26T08:44:43.643Z"
   },
   {
    "duration": 3,
    "start_time": "2023-01-26T08:44:43.950Z"
   },
   {
    "duration": 12,
    "start_time": "2023-01-26T08:44:43.954Z"
   },
   {
    "duration": 16,
    "start_time": "2023-01-26T08:44:43.968Z"
   },
   {
    "duration": 6,
    "start_time": "2023-01-26T08:44:43.985Z"
   },
   {
    "duration": 10,
    "start_time": "2023-01-26T08:44:43.993Z"
   },
   {
    "duration": 1286,
    "start_time": "2023-01-26T08:44:44.005Z"
   },
   {
    "duration": 6,
    "start_time": "2023-01-26T08:44:45.293Z"
   },
   {
    "duration": 43,
    "start_time": "2023-01-26T08:44:45.300Z"
   },
   {
    "duration": 3790,
    "start_time": "2023-01-26T08:44:45.345Z"
   },
   {
    "duration": 599,
    "start_time": "2023-01-26T08:44:49.137Z"
   },
   {
    "duration": 13,
    "start_time": "2023-01-26T08:48:12.902Z"
   },
   {
    "duration": 584,
    "start_time": "2023-01-26T08:48:48.861Z"
   },
   {
    "duration": 197,
    "start_time": "2023-01-26T08:49:03.921Z"
   },
   {
    "duration": 989,
    "start_time": "2023-01-26T08:49:46.962Z"
   },
   {
    "duration": 48,
    "start_time": "2023-01-26T08:50:46.498Z"
   },
   {
    "duration": 660,
    "start_time": "2023-01-26T08:51:29.168Z"
   },
   {
    "duration": 208,
    "start_time": "2023-01-26T08:53:11.533Z"
   },
   {
    "duration": 33,
    "start_time": "2023-01-26T08:53:39.925Z"
   },
   {
    "duration": 7,
    "start_time": "2023-01-26T08:53:50.365Z"
   },
   {
    "duration": 8,
    "start_time": "2023-01-26T08:54:01.165Z"
   },
   {
    "duration": 305,
    "start_time": "2023-01-26T08:57:22.955Z"
   },
   {
    "duration": 541,
    "start_time": "2023-01-26T09:07:14.199Z"
   },
   {
    "duration": 50,
    "start_time": "2023-01-26T09:07:14.742Z"
   },
   {
    "duration": 27,
    "start_time": "2023-01-26T09:07:14.796Z"
   },
   {
    "duration": 25,
    "start_time": "2023-01-26T09:07:14.825Z"
   },
   {
    "duration": 7,
    "start_time": "2023-01-26T09:07:14.853Z"
   },
   {
    "duration": 2504,
    "start_time": "2023-01-26T09:07:14.862Z"
   },
   {
    "duration": 10,
    "start_time": "2023-01-26T09:07:17.368Z"
   },
   {
    "duration": 3,
    "start_time": "2023-01-26T09:07:17.380Z"
   },
   {
    "duration": 17,
    "start_time": "2023-01-26T09:07:17.389Z"
   },
   {
    "duration": 9,
    "start_time": "2023-01-26T09:07:17.408Z"
   },
   {
    "duration": 6,
    "start_time": "2023-01-26T09:07:17.419Z"
   },
   {
    "duration": 14,
    "start_time": "2023-01-26T09:07:17.427Z"
   },
   {
    "duration": 15,
    "start_time": "2023-01-26T09:07:17.442Z"
   },
   {
    "duration": 36,
    "start_time": "2023-01-26T09:07:17.461Z"
   },
   {
    "duration": 17,
    "start_time": "2023-01-26T09:07:17.499Z"
   },
   {
    "duration": 8,
    "start_time": "2023-01-26T09:07:17.518Z"
   },
   {
    "duration": 27,
    "start_time": "2023-01-26T09:07:17.527Z"
   },
   {
    "duration": 18,
    "start_time": "2023-01-26T09:07:17.556Z"
   },
   {
    "duration": 28,
    "start_time": "2023-01-26T09:07:17.585Z"
   },
   {
    "duration": 27,
    "start_time": "2023-01-26T09:07:17.615Z"
   },
   {
    "duration": 123,
    "start_time": "2023-01-26T09:07:17.644Z"
   },
   {
    "duration": 34,
    "start_time": "2023-01-26T09:07:17.769Z"
   },
   {
    "duration": 446,
    "start_time": "2023-01-26T09:07:17.805Z"
   },
   {
    "duration": 394,
    "start_time": "2023-01-26T09:07:18.253Z"
   },
   {
    "duration": 22,
    "start_time": "2023-01-26T09:07:18.649Z"
   },
   {
    "duration": 39,
    "start_time": "2023-01-26T09:07:18.684Z"
   },
   {
    "duration": 205,
    "start_time": "2023-01-26T09:07:18.724Z"
   },
   {
    "duration": 14,
    "start_time": "2023-01-26T09:07:18.931Z"
   },
   {
    "duration": 329,
    "start_time": "2023-01-26T09:07:18.947Z"
   },
   {
    "duration": 478,
    "start_time": "2023-01-26T09:07:19.284Z"
   },
   {
    "duration": 207,
    "start_time": "2023-01-26T09:07:19.764Z"
   },
   {
    "duration": 414,
    "start_time": "2023-01-26T09:07:19.974Z"
   },
   {
    "duration": 158,
    "start_time": "2023-01-26T09:07:20.399Z"
   },
   {
    "duration": 309,
    "start_time": "2023-01-26T09:07:20.559Z"
   },
   {
    "duration": 300,
    "start_time": "2023-01-26T09:07:20.870Z"
   },
   {
    "duration": 16,
    "start_time": "2023-01-26T09:07:21.172Z"
   },
   {
    "duration": 42,
    "start_time": "2023-01-26T09:07:21.198Z"
   },
   {
    "duration": 517,
    "start_time": "2023-01-26T09:07:21.242Z"
   },
   {
    "duration": 6,
    "start_time": "2023-01-26T09:07:21.761Z"
   },
   {
    "duration": 7,
    "start_time": "2023-01-26T09:07:21.768Z"
   },
   {
    "duration": 1295,
    "start_time": "2023-01-26T09:07:21.779Z"
   },
   {
    "duration": 22,
    "start_time": "2023-01-26T09:07:23.076Z"
   },
   {
    "duration": 23,
    "start_time": "2023-01-26T09:07:23.100Z"
   },
   {
    "duration": 3744,
    "start_time": "2023-01-26T09:07:23.125Z"
   },
   {
    "duration": 565,
    "start_time": "2023-01-26T09:07:26.871Z"
   },
   {
    "duration": 13,
    "start_time": "2023-01-26T09:07:27.438Z"
   },
   {
    "duration": 621,
    "start_time": "2023-01-26T09:07:27.452Z"
   },
   {
    "duration": 222,
    "start_time": "2023-01-26T09:07:28.075Z"
   },
   {
    "duration": 967,
    "start_time": "2023-01-26T09:07:28.300Z"
   },
   {
    "duration": 669,
    "start_time": "2023-01-26T09:07:29.269Z"
   },
   {
    "duration": 239,
    "start_time": "2023-01-26T09:07:29.941Z"
   },
   {
    "duration": 30,
    "start_time": "2023-01-26T09:07:30.182Z"
   },
   {
    "duration": 21,
    "start_time": "2023-01-26T09:07:30.214Z"
   },
   {
    "duration": 38,
    "start_time": "2023-01-26T09:07:30.237Z"
   },
   {
    "duration": 384,
    "start_time": "2023-01-26T09:07:30.277Z"
   },
   {
    "duration": 579,
    "start_time": "2023-01-26T09:08:56.179Z"
   },
   {
    "duration": 48,
    "start_time": "2023-01-26T09:08:56.760Z"
   },
   {
    "duration": 27,
    "start_time": "2023-01-26T09:08:56.810Z"
   },
   {
    "duration": 21,
    "start_time": "2023-01-26T09:08:56.839Z"
   },
   {
    "duration": 30,
    "start_time": "2023-01-26T09:08:56.863Z"
   },
   {
    "duration": 2603,
    "start_time": "2023-01-26T09:08:56.895Z"
   },
   {
    "duration": 12,
    "start_time": "2023-01-26T09:08:59.500Z"
   },
   {
    "duration": 10,
    "start_time": "2023-01-26T09:08:59.514Z"
   },
   {
    "duration": 9,
    "start_time": "2023-01-26T09:08:59.525Z"
   },
   {
    "duration": 7,
    "start_time": "2023-01-26T09:08:59.536Z"
   },
   {
    "duration": 9,
    "start_time": "2023-01-26T09:08:59.545Z"
   },
   {
    "duration": 16,
    "start_time": "2023-01-26T09:08:59.555Z"
   },
   {
    "duration": 39,
    "start_time": "2023-01-26T09:08:59.573Z"
   },
   {
    "duration": 46,
    "start_time": "2023-01-26T09:08:59.617Z"
   },
   {
    "duration": 30,
    "start_time": "2023-01-26T09:08:59.666Z"
   },
   {
    "duration": 16,
    "start_time": "2023-01-26T09:08:59.698Z"
   },
   {
    "duration": 24,
    "start_time": "2023-01-26T09:08:59.717Z"
   },
   {
    "duration": 51,
    "start_time": "2023-01-26T09:08:59.743Z"
   },
   {
    "duration": 31,
    "start_time": "2023-01-26T09:08:59.796Z"
   },
   {
    "duration": 37,
    "start_time": "2023-01-26T09:08:59.830Z"
   },
   {
    "duration": 133,
    "start_time": "2023-01-26T09:08:59.870Z"
   },
   {
    "duration": 36,
    "start_time": "2023-01-26T09:09:00.006Z"
   },
   {
    "duration": 505,
    "start_time": "2023-01-26T09:09:00.045Z"
   },
   {
    "duration": 463,
    "start_time": "2023-01-26T09:09:00.553Z"
   },
   {
    "duration": 27,
    "start_time": "2023-01-26T09:09:01.018Z"
   },
   {
    "duration": 100,
    "start_time": "2023-01-26T09:09:01.047Z"
   },
   {
    "duration": 220,
    "start_time": "2023-01-26T09:09:01.149Z"
   },
   {
    "duration": 26,
    "start_time": "2023-01-26T09:09:01.371Z"
   },
   {
    "duration": 422,
    "start_time": "2023-01-26T09:09:01.399Z"
   },
   {
    "duration": 478,
    "start_time": "2023-01-26T09:09:01.822Z"
   },
   {
    "duration": 201,
    "start_time": "2023-01-26T09:09:02.303Z"
   },
   {
    "duration": 429,
    "start_time": "2023-01-26T09:09:02.505Z"
   },
   {
    "duration": 167,
    "start_time": "2023-01-26T09:09:02.936Z"
   },
   {
    "duration": 354,
    "start_time": "2023-01-26T09:09:03.105Z"
   },
   {
    "duration": 333,
    "start_time": "2023-01-26T09:09:03.461Z"
   },
   {
    "duration": 3,
    "start_time": "2023-01-26T09:09:03.796Z"
   },
   {
    "duration": 9,
    "start_time": "2023-01-26T09:09:03.801Z"
   },
   {
    "duration": 10,
    "start_time": "2023-01-26T09:09:03.812Z"
   },
   {
    "duration": 7,
    "start_time": "2023-01-26T09:09:03.823Z"
   },
   {
    "duration": 7,
    "start_time": "2023-01-26T09:09:03.831Z"
   },
   {
    "duration": 1367,
    "start_time": "2023-01-26T09:09:03.842Z"
   },
   {
    "duration": 6,
    "start_time": "2023-01-26T09:09:05.212Z"
   },
   {
    "duration": 15,
    "start_time": "2023-01-26T09:09:05.219Z"
   },
   {
    "duration": 4109,
    "start_time": "2023-01-26T09:09:05.235Z"
   },
   {
    "duration": 712,
    "start_time": "2023-01-26T09:09:09.346Z"
   },
   {
    "duration": 37,
    "start_time": "2023-01-26T09:09:10.060Z"
   },
   {
    "duration": 673,
    "start_time": "2023-01-26T09:09:10.099Z"
   },
   {
    "duration": 219,
    "start_time": "2023-01-26T09:09:10.774Z"
   },
   {
    "duration": 978,
    "start_time": "2023-01-26T09:09:11.001Z"
   },
   {
    "duration": 639,
    "start_time": "2023-01-26T09:09:11.981Z"
   },
   {
    "duration": 215,
    "start_time": "2023-01-26T09:09:12.621Z"
   },
   {
    "duration": 52,
    "start_time": "2023-01-26T09:09:12.838Z"
   },
   {
    "duration": 7,
    "start_time": "2023-01-26T09:09:12.897Z"
   },
   {
    "duration": 9,
    "start_time": "2023-01-26T09:09:12.907Z"
   },
   {
    "duration": 308,
    "start_time": "2023-01-26T09:09:12.918Z"
   },
   {
    "duration": 93,
    "start_time": "2023-01-26T09:09:14.299Z"
   },
   {
    "duration": 28,
    "start_time": "2023-01-26T09:09:15.331Z"
   },
   {
    "duration": 33,
    "start_time": "2023-01-26T09:09:16.439Z"
   },
   {
    "duration": 29,
    "start_time": "2023-01-26T09:09:17.580Z"
   },
   {
    "duration": 4,
    "start_time": "2023-01-26T09:09:18.740Z"
   },
   {
    "duration": 2316,
    "start_time": "2023-01-26T09:09:19.827Z"
   },
   {
    "duration": 10,
    "start_time": "2023-01-26T09:09:22.245Z"
   },
   {
    "duration": 3,
    "start_time": "2023-01-26T09:09:25.151Z"
   },
   {
    "duration": 6,
    "start_time": "2023-01-26T09:09:25.698Z"
   },
   {
    "duration": 5,
    "start_time": "2023-01-26T09:09:26.154Z"
   },
   {
    "duration": 9,
    "start_time": "2023-01-26T09:09:26.530Z"
   },
   {
    "duration": 11,
    "start_time": "2023-01-26T09:09:27.351Z"
   },
   {
    "duration": 18,
    "start_time": "2023-01-26T09:09:28.798Z"
   },
   {
    "duration": 23,
    "start_time": "2023-01-26T09:09:30.133Z"
   },
   {
    "duration": 25,
    "start_time": "2023-01-26T09:09:31.478Z"
   },
   {
    "duration": 5,
    "start_time": "2023-01-26T09:09:31.980Z"
   },
   {
    "duration": 14,
    "start_time": "2023-01-26T09:09:32.918Z"
   },
   {
    "duration": 25,
    "start_time": "2023-01-26T09:09:33.602Z"
   },
   {
    "duration": 33,
    "start_time": "2023-01-26T09:09:34.167Z"
   },
   {
    "duration": 31,
    "start_time": "2023-01-26T09:09:34.872Z"
   },
   {
    "duration": 106,
    "start_time": "2023-01-26T09:09:36.366Z"
   },
   {
    "duration": 31,
    "start_time": "2023-01-26T09:09:37.167Z"
   },
   {
    "duration": 453,
    "start_time": "2023-01-26T09:09:37.858Z"
   },
   {
    "duration": 409,
    "start_time": "2023-01-26T09:09:39.058Z"
   },
   {
    "duration": 27,
    "start_time": "2023-01-26T09:09:39.846Z"
   },
   {
    "duration": 32,
    "start_time": "2023-01-26T09:09:40.872Z"
   },
   {
    "duration": 216,
    "start_time": "2023-01-26T09:09:41.667Z"
   },
   {
    "duration": 21,
    "start_time": "2023-01-26T09:09:42.511Z"
   },
   {
    "duration": 245,
    "start_time": "2023-01-26T09:09:43.219Z"
   },
   {
    "duration": 624,
    "start_time": "2023-01-26T09:09:43.980Z"
   },
   {
    "duration": 210,
    "start_time": "2023-01-26T09:09:44.892Z"
   },
   {
    "duration": 446,
    "start_time": "2023-01-26T09:09:47.367Z"
   },
   {
    "duration": 155,
    "start_time": "2023-01-26T09:09:48.807Z"
   },
   {
    "duration": 352,
    "start_time": "2023-01-26T09:09:49.947Z"
   },
   {
    "duration": 324,
    "start_time": "2023-01-26T09:09:51.514Z"
   },
   {
    "duration": 4,
    "start_time": "2023-01-26T09:09:52.799Z"
   },
   {
    "duration": 5,
    "start_time": "2023-01-26T09:09:54.067Z"
   },
   {
    "duration": 6,
    "start_time": "2023-01-26T09:09:54.622Z"
   },
   {
    "duration": 6,
    "start_time": "2023-01-26T09:09:55.040Z"
   },
   {
    "duration": 6,
    "start_time": "2023-01-26T09:09:55.602Z"
   },
   {
    "duration": 1364,
    "start_time": "2023-01-26T09:09:56.335Z"
   },
   {
    "duration": 6,
    "start_time": "2023-01-26T09:09:57.704Z"
   },
   {
    "duration": 10,
    "start_time": "2023-01-26T09:09:57.712Z"
   },
   {
    "duration": 3852,
    "start_time": "2023-01-26T09:09:59.907Z"
   },
   {
    "duration": 768,
    "start_time": "2023-01-26T09:10:03.761Z"
   },
   {
    "duration": 12,
    "start_time": "2023-01-26T09:10:04.531Z"
   },
   {
    "duration": 634,
    "start_time": "2023-01-26T09:10:04.935Z"
   },
   {
    "duration": 249,
    "start_time": "2023-01-26T09:10:05.572Z"
   },
   {
    "duration": 980,
    "start_time": "2023-01-26T09:10:06.039Z"
   },
   {
    "duration": 329,
    "start_time": "2023-01-26T09:10:07.899Z"
   },
   {
    "duration": 191,
    "start_time": "2023-01-26T09:10:09.087Z"
   },
   {
    "duration": 48,
    "start_time": "2023-01-26T09:10:09.762Z"
   },
   {
    "duration": 7,
    "start_time": "2023-01-26T09:10:10.427Z"
   },
   {
    "duration": 8,
    "start_time": "2023-01-26T09:10:11.139Z"
   },
   {
    "duration": 320,
    "start_time": "2023-01-26T09:10:13.515Z"
   },
   {
    "duration": 791,
    "start_time": "2023-01-26T15:55:05.831Z"
   },
   {
    "duration": 35,
    "start_time": "2023-01-26T15:55:06.624Z"
   },
   {
    "duration": 27,
    "start_time": "2023-01-26T15:55:06.661Z"
   },
   {
    "duration": 30,
    "start_time": "2023-01-26T15:55:06.690Z"
   },
   {
    "duration": 16,
    "start_time": "2023-01-26T15:55:06.722Z"
   },
   {
    "duration": 2643,
    "start_time": "2023-01-26T15:55:06.740Z"
   },
   {
    "duration": 10,
    "start_time": "2023-01-26T15:55:09.385Z"
   },
   {
    "duration": 13,
    "start_time": "2023-01-26T15:55:09.397Z"
   },
   {
    "duration": 21,
    "start_time": "2023-01-26T15:55:09.411Z"
   },
   {
    "duration": 29,
    "start_time": "2023-01-26T15:55:09.435Z"
   },
   {
    "duration": 21,
    "start_time": "2023-01-26T15:55:09.466Z"
   },
   {
    "duration": 17,
    "start_time": "2023-01-26T15:55:09.489Z"
   },
   {
    "duration": 38,
    "start_time": "2023-01-26T15:55:09.507Z"
   },
   {
    "duration": 24,
    "start_time": "2023-01-26T15:55:09.546Z"
   },
   {
    "duration": 14,
    "start_time": "2023-01-26T15:55:09.571Z"
   },
   {
    "duration": 5,
    "start_time": "2023-01-26T15:55:09.587Z"
   },
   {
    "duration": 43,
    "start_time": "2023-01-26T15:55:09.594Z"
   },
   {
    "duration": 17,
    "start_time": "2023-01-26T15:55:09.639Z"
   },
   {
    "duration": 30,
    "start_time": "2023-01-26T15:55:09.658Z"
   },
   {
    "duration": 29,
    "start_time": "2023-01-26T15:55:09.690Z"
   },
   {
    "duration": 105,
    "start_time": "2023-01-26T15:55:09.721Z"
   },
   {
    "duration": 29,
    "start_time": "2023-01-26T15:55:09.828Z"
   },
   {
    "duration": 445,
    "start_time": "2023-01-26T15:55:09.859Z"
   },
   {
    "duration": 417,
    "start_time": "2023-01-26T15:55:10.306Z"
   },
   {
    "duration": 127,
    "start_time": "2023-01-26T15:55:10.725Z"
   },
   {
    "duration": 26,
    "start_time": "2023-01-26T15:55:10.855Z"
   },
   {
    "duration": 212,
    "start_time": "2023-01-26T15:55:10.883Z"
   },
   {
    "duration": 15,
    "start_time": "2023-01-26T15:55:11.099Z"
   },
   {
    "duration": 196,
    "start_time": "2023-01-26T15:55:11.116Z"
   },
   {
    "duration": 414,
    "start_time": "2023-01-26T15:55:11.314Z"
   },
   {
    "duration": 166,
    "start_time": "2023-01-26T15:55:11.730Z"
   },
   {
    "duration": 392,
    "start_time": "2023-01-26T15:55:11.898Z"
   },
   {
    "duration": 165,
    "start_time": "2023-01-26T15:55:12.293Z"
   },
   {
    "duration": 391,
    "start_time": "2023-01-26T15:55:12.460Z"
   },
   {
    "duration": 397,
    "start_time": "2023-01-26T15:55:12.853Z"
   },
   {
    "duration": 3,
    "start_time": "2023-01-26T15:55:13.252Z"
   },
   {
    "duration": 11,
    "start_time": "2023-01-26T15:55:13.258Z"
   },
   {
    "duration": 11,
    "start_time": "2023-01-26T15:55:13.271Z"
   },
   {
    "duration": 11,
    "start_time": "2023-01-26T15:55:13.284Z"
   },
   {
    "duration": 8,
    "start_time": "2023-01-26T15:55:13.297Z"
   },
   {
    "duration": 1246,
    "start_time": "2023-01-26T15:55:13.307Z"
   },
   {
    "duration": 7,
    "start_time": "2023-01-26T15:55:14.556Z"
   },
   {
    "duration": 36,
    "start_time": "2023-01-26T15:55:14.565Z"
   },
   {
    "duration": 3766,
    "start_time": "2023-01-26T15:55:14.602Z"
   },
   {
    "duration": 567,
    "start_time": "2023-01-26T15:55:18.370Z"
   },
   {
    "duration": 12,
    "start_time": "2023-01-26T15:55:18.940Z"
   },
   {
    "duration": 617,
    "start_time": "2023-01-26T15:55:18.954Z"
   },
   {
    "duration": 203,
    "start_time": "2023-01-26T15:55:19.573Z"
   },
   {
    "duration": 1174,
    "start_time": "2023-01-26T15:55:19.778Z"
   },
   {
    "duration": 327,
    "start_time": "2023-01-26T15:55:20.954Z"
   },
   {
    "duration": 208,
    "start_time": "2023-01-26T15:55:21.284Z"
   },
   {
    "duration": 26,
    "start_time": "2023-01-26T15:55:21.494Z"
   },
   {
    "duration": 17,
    "start_time": "2023-01-26T15:55:21.522Z"
   },
   {
    "duration": 26,
    "start_time": "2023-01-26T15:55:21.541Z"
   },
   {
    "duration": 300,
    "start_time": "2023-01-26T15:55:21.569Z"
   },
   {
    "duration": 30,
    "start_time": "2023-01-26T15:55:24.199Z"
   },
   {
    "duration": 25,
    "start_time": "2023-01-26T15:55:56.418Z"
   },
   {
    "duration": 44,
    "start_time": "2023-01-26T15:56:21.871Z"
   },
   {
    "duration": 27,
    "start_time": "2023-01-26T15:56:36.551Z"
   },
   {
    "duration": 29,
    "start_time": "2023-01-26T15:56:46.711Z"
   },
   {
    "duration": 27,
    "start_time": "2023-01-26T15:59:04.942Z"
   },
   {
    "duration": 510,
    "start_time": "2023-01-26T16:30:18.655Z"
   },
   {
    "duration": 32,
    "start_time": "2023-01-26T16:30:19.167Z"
   },
   {
    "duration": 41,
    "start_time": "2023-01-26T16:30:19.201Z"
   },
   {
    "duration": 16,
    "start_time": "2023-01-26T16:30:19.244Z"
   },
   {
    "duration": 4,
    "start_time": "2023-01-26T16:30:19.262Z"
   },
   {
    "duration": 2384,
    "start_time": "2023-01-26T16:30:19.268Z"
   },
   {
    "duration": 12,
    "start_time": "2023-01-26T16:30:21.655Z"
   },
   {
    "duration": 52,
    "start_time": "2023-01-26T16:30:21.669Z"
   },
   {
    "duration": 4,
    "start_time": "2023-01-26T16:30:21.724Z"
   },
   {
    "duration": 61,
    "start_time": "2023-01-26T16:30:21.731Z"
   },
   {
    "duration": 25,
    "start_time": "2023-01-26T16:30:21.794Z"
   },
   {
    "duration": 37,
    "start_time": "2023-01-26T16:30:21.820Z"
   },
   {
    "duration": 45,
    "start_time": "2023-01-26T16:30:21.859Z"
   },
   {
    "duration": 37,
    "start_time": "2023-01-26T16:30:21.906Z"
   },
   {
    "duration": 27,
    "start_time": "2023-01-26T16:30:21.945Z"
   },
   {
    "duration": 39,
    "start_time": "2023-01-26T16:30:21.974Z"
   },
   {
    "duration": 28,
    "start_time": "2023-01-26T16:30:22.015Z"
   },
   {
    "duration": 25,
    "start_time": "2023-01-26T16:30:22.044Z"
   },
   {
    "duration": 41,
    "start_time": "2023-01-26T16:30:22.071Z"
   },
   {
    "duration": 37,
    "start_time": "2023-01-26T16:30:22.113Z"
   },
   {
    "duration": 38,
    "start_time": "2023-01-26T16:30:22.153Z"
   },
   {
    "duration": 95,
    "start_time": "2023-01-26T16:30:22.193Z"
   },
   {
    "duration": 22,
    "start_time": "2023-01-26T16:30:22.291Z"
   },
   {
    "duration": 523,
    "start_time": "2023-01-26T16:30:22.315Z"
   },
   {
    "duration": 377,
    "start_time": "2023-01-26T16:30:22.839Z"
   },
   {
    "duration": 30,
    "start_time": "2023-01-26T16:30:23.217Z"
   },
   {
    "duration": 28,
    "start_time": "2023-01-26T16:30:23.249Z"
   },
   {
    "duration": 223,
    "start_time": "2023-01-26T16:30:23.281Z"
   },
   {
    "duration": 16,
    "start_time": "2023-01-26T16:30:23.506Z"
   },
   {
    "duration": 337,
    "start_time": "2023-01-26T16:30:23.538Z"
   },
   {
    "duration": 427,
    "start_time": "2023-01-26T16:30:23.877Z"
   },
   {
    "duration": 163,
    "start_time": "2023-01-26T16:30:24.305Z"
   },
   {
    "duration": 382,
    "start_time": "2023-01-26T16:30:24.470Z"
   },
   {
    "duration": 146,
    "start_time": "2023-01-26T16:30:24.853Z"
   },
   {
    "duration": 280,
    "start_time": "2023-01-26T16:30:25.001Z"
   },
   {
    "duration": 311,
    "start_time": "2023-01-26T16:30:25.283Z"
   },
   {
    "duration": 3,
    "start_time": "2023-01-26T16:30:25.595Z"
   },
   {
    "duration": 14,
    "start_time": "2023-01-26T16:30:25.599Z"
   },
   {
    "duration": 12,
    "start_time": "2023-01-26T16:30:25.615Z"
   },
   {
    "duration": 12,
    "start_time": "2023-01-26T16:30:25.629Z"
   },
   {
    "duration": 5,
    "start_time": "2023-01-26T16:30:25.643Z"
   },
   {
    "duration": 1238,
    "start_time": "2023-01-26T16:30:25.650Z"
   },
   {
    "duration": 6,
    "start_time": "2023-01-26T16:30:26.890Z"
   },
   {
    "duration": 9,
    "start_time": "2023-01-26T16:30:26.898Z"
   },
   {
    "duration": 3491,
    "start_time": "2023-01-26T16:30:26.908Z"
   },
   {
    "duration": 498,
    "start_time": "2023-01-26T16:30:30.401Z"
   },
   {
    "duration": 547,
    "start_time": "2023-01-26T16:30:30.900Z"
   },
   {
    "duration": 175,
    "start_time": "2023-01-26T16:30:31.449Z"
   },
   {
    "duration": 944,
    "start_time": "2023-01-26T16:30:31.626Z"
   },
   {
    "duration": 580,
    "start_time": "2023-01-26T16:30:32.572Z"
   },
   {
    "duration": 188,
    "start_time": "2023-01-26T16:30:33.154Z"
   },
   {
    "duration": 26,
    "start_time": "2023-01-26T16:30:33.343Z"
   },
   {
    "duration": 6,
    "start_time": "2023-01-26T16:30:33.371Z"
   },
   {
    "duration": 12,
    "start_time": "2023-01-26T16:30:33.378Z"
   },
   {
    "duration": 317,
    "start_time": "2023-01-26T16:30:33.391Z"
   },
   {
    "duration": 539,
    "start_time": "2023-01-26T16:32:50.374Z"
   },
   {
    "duration": 47,
    "start_time": "2023-01-26T16:32:50.916Z"
   },
   {
    "duration": 32,
    "start_time": "2023-01-26T16:32:50.965Z"
   },
   {
    "duration": 468,
    "start_time": "2023-01-26T16:32:50.999Z"
   },
   {
    "duration": 40,
    "start_time": "2023-01-26T16:32:51.469Z"
   },
   {
    "duration": 879,
    "start_time": "2023-01-26T20:56:31.071Z"
   },
   {
    "duration": 49,
    "start_time": "2023-01-26T20:56:31.953Z"
   },
   {
    "duration": 28,
    "start_time": "2023-01-26T20:56:32.004Z"
   },
   {
    "duration": 41,
    "start_time": "2023-01-26T20:56:32.038Z"
   },
   {
    "duration": 4,
    "start_time": "2023-01-26T20:56:32.081Z"
   },
   {
    "duration": 2821,
    "start_time": "2023-01-26T20:56:32.087Z"
   },
   {
    "duration": 11,
    "start_time": "2023-01-26T20:56:34.911Z"
   },
   {
    "duration": 65,
    "start_time": "2023-01-26T20:56:34.924Z"
   },
   {
    "duration": 4,
    "start_time": "2023-01-26T20:56:34.992Z"
   },
   {
    "duration": 25,
    "start_time": "2023-01-26T20:56:35.000Z"
   },
   {
    "duration": 28,
    "start_time": "2023-01-26T20:56:35.027Z"
   },
   {
    "duration": 20,
    "start_time": "2023-01-26T20:56:35.056Z"
   },
   {
    "duration": 48,
    "start_time": "2023-01-26T20:56:35.077Z"
   },
   {
    "duration": 54,
    "start_time": "2023-01-26T20:56:35.127Z"
   },
   {
    "duration": 46,
    "start_time": "2023-01-26T20:56:35.184Z"
   },
   {
    "duration": 42,
    "start_time": "2023-01-26T20:56:35.232Z"
   },
   {
    "duration": 33,
    "start_time": "2023-01-26T20:56:35.276Z"
   },
   {
    "duration": 44,
    "start_time": "2023-01-26T20:56:35.312Z"
   },
   {
    "duration": 38,
    "start_time": "2023-01-26T20:56:35.359Z"
   },
   {
    "duration": 42,
    "start_time": "2023-01-26T20:56:35.400Z"
   },
   {
    "duration": 42,
    "start_time": "2023-01-26T20:56:35.444Z"
   },
   {
    "duration": 131,
    "start_time": "2023-01-26T20:56:35.489Z"
   },
   {
    "duration": 31,
    "start_time": "2023-01-26T20:56:35.623Z"
   },
   {
    "duration": 539,
    "start_time": "2023-01-26T20:56:35.656Z"
   },
   {
    "duration": 492,
    "start_time": "2023-01-26T20:56:36.197Z"
   },
   {
    "duration": 148,
    "start_time": "2023-01-26T20:56:36.691Z"
   },
   {
    "duration": 29,
    "start_time": "2023-01-26T20:56:36.841Z"
   },
   {
    "duration": 244,
    "start_time": "2023-01-26T20:56:36.875Z"
   },
   {
    "duration": 24,
    "start_time": "2023-01-26T20:56:37.121Z"
   },
   {
    "duration": 200,
    "start_time": "2023-01-26T20:56:37.147Z"
   },
   {
    "duration": 486,
    "start_time": "2023-01-26T20:56:37.349Z"
   },
   {
    "duration": 180,
    "start_time": "2023-01-26T20:56:37.837Z"
   },
   {
    "duration": 453,
    "start_time": "2023-01-26T20:56:38.019Z"
   },
   {
    "duration": 153,
    "start_time": "2023-01-26T20:56:38.475Z"
   },
   {
    "duration": 302,
    "start_time": "2023-01-26T20:56:38.629Z"
   },
   {
    "duration": 393,
    "start_time": "2023-01-26T20:56:38.932Z"
   },
   {
    "duration": 11,
    "start_time": "2023-01-26T20:56:39.327Z"
   },
   {
    "duration": 19,
    "start_time": "2023-01-26T20:56:39.339Z"
   },
   {
    "duration": 19,
    "start_time": "2023-01-26T20:56:39.360Z"
   },
   {
    "duration": 8,
    "start_time": "2023-01-26T20:56:39.381Z"
   },
   {
    "duration": 10,
    "start_time": "2023-01-26T20:56:39.390Z"
   },
   {
    "duration": 1180,
    "start_time": "2023-01-26T20:56:39.402Z"
   },
   {
    "duration": 6,
    "start_time": "2023-01-26T20:56:40.584Z"
   },
   {
    "duration": 30,
    "start_time": "2023-01-26T20:56:40.591Z"
   },
   {
    "duration": 3963,
    "start_time": "2023-01-26T20:56:40.623Z"
   },
   {
    "duration": 585,
    "start_time": "2023-01-26T20:56:44.588Z"
   },
   {
    "duration": 620,
    "start_time": "2023-01-26T20:56:45.175Z"
   },
   {
    "duration": 190,
    "start_time": "2023-01-26T20:56:45.797Z"
   },
   {
    "duration": 1186,
    "start_time": "2023-01-26T20:56:45.989Z"
   },
   {
    "duration": 327,
    "start_time": "2023-01-26T20:56:47.178Z"
   },
   {
    "duration": 192,
    "start_time": "2023-01-26T20:56:47.507Z"
   },
   {
    "duration": 25,
    "start_time": "2023-01-26T20:56:47.701Z"
   },
   {
    "duration": 8,
    "start_time": "2023-01-26T20:56:47.737Z"
   },
   {
    "duration": 25,
    "start_time": "2023-01-26T20:56:47.747Z"
   },
   {
    "duration": 315,
    "start_time": "2023-01-26T20:56:47.774Z"
   },
   {
    "duration": 560,
    "start_time": "2023-02-03T10:20:54.263Z"
   },
   {
    "duration": 31,
    "start_time": "2023-02-03T10:20:54.825Z"
   },
   {
    "duration": 23,
    "start_time": "2023-02-03T10:20:54.858Z"
   },
   {
    "duration": 14,
    "start_time": "2023-02-03T10:20:54.883Z"
   },
   {
    "duration": 3,
    "start_time": "2023-02-03T10:20:54.899Z"
   },
   {
    "duration": 2462,
    "start_time": "2023-02-03T10:20:54.903Z"
   },
   {
    "duration": 12,
    "start_time": "2023-02-03T10:20:57.366Z"
   },
   {
    "duration": 39,
    "start_time": "2023-02-03T10:20:57.380Z"
   },
   {
    "duration": 3,
    "start_time": "2023-02-03T10:20:57.421Z"
   },
   {
    "duration": 9,
    "start_time": "2023-02-03T10:20:57.428Z"
   },
   {
    "duration": 7,
    "start_time": "2023-02-03T10:20:57.439Z"
   },
   {
    "duration": 12,
    "start_time": "2023-02-03T10:20:57.448Z"
   },
   {
    "duration": 23,
    "start_time": "2023-02-03T10:20:57.462Z"
   },
   {
    "duration": 20,
    "start_time": "2023-02-03T10:20:57.487Z"
   },
   {
    "duration": 31,
    "start_time": "2023-02-03T10:20:57.509Z"
   },
   {
    "duration": 15,
    "start_time": "2023-02-03T10:20:57.541Z"
   },
   {
    "duration": 5,
    "start_time": "2023-02-03T10:20:57.557Z"
   },
   {
    "duration": 17,
    "start_time": "2023-02-03T10:20:57.563Z"
   },
   {
    "duration": 18,
    "start_time": "2023-02-03T10:20:57.582Z"
   },
   {
    "duration": 44,
    "start_time": "2023-02-03T10:20:57.602Z"
   },
   {
    "duration": 24,
    "start_time": "2023-02-03T10:20:57.648Z"
   },
   {
    "duration": 118,
    "start_time": "2023-02-03T10:20:57.674Z"
   },
   {
    "duration": 23,
    "start_time": "2023-02-03T10:20:57.794Z"
   },
   {
    "duration": 466,
    "start_time": "2023-02-03T10:20:57.820Z"
   },
   {
    "duration": 430,
    "start_time": "2023-02-03T10:20:58.288Z"
   },
   {
    "duration": 156,
    "start_time": "2023-02-03T10:20:58.720Z"
   },
   {
    "duration": 34,
    "start_time": "2023-02-03T10:20:58.878Z"
   },
   {
    "duration": 274,
    "start_time": "2023-02-03T10:20:58.918Z"
   },
   {
    "duration": 15,
    "start_time": "2023-02-03T10:20:59.194Z"
   },
   {
    "duration": 192,
    "start_time": "2023-02-03T10:20:59.211Z"
   },
   {
    "duration": 410,
    "start_time": "2023-02-03T10:20:59.404Z"
   },
   {
    "duration": 174,
    "start_time": "2023-02-03T10:20:59.817Z"
   },
   {
    "duration": 388,
    "start_time": "2023-02-03T10:20:59.992Z"
   },
   {
    "duration": 141,
    "start_time": "2023-02-03T10:21:00.381Z"
   },
   {
    "duration": 273,
    "start_time": "2023-02-03T10:21:00.524Z"
   },
   {
    "duration": 391,
    "start_time": "2023-02-03T10:21:00.799Z"
   },
   {
    "duration": 3,
    "start_time": "2023-02-03T10:21:01.192Z"
   },
   {
    "duration": 46,
    "start_time": "2023-02-03T10:21:01.197Z"
   },
   {
    "duration": 25,
    "start_time": "2023-02-03T10:21:01.245Z"
   },
   {
    "duration": 41,
    "start_time": "2023-02-03T10:21:01.272Z"
   },
   {
    "duration": 30,
    "start_time": "2023-02-03T10:21:01.315Z"
   },
   {
    "duration": 1175,
    "start_time": "2023-02-03T10:21:01.347Z"
   },
   {
    "duration": 7,
    "start_time": "2023-02-03T10:21:02.524Z"
   },
   {
    "duration": 34,
    "start_time": "2023-02-03T10:21:02.540Z"
   },
   {
    "duration": 3664,
    "start_time": "2023-02-03T10:21:02.576Z"
   },
   {
    "duration": 549,
    "start_time": "2023-02-03T10:21:06.242Z"
   },
   {
    "duration": 564,
    "start_time": "2023-02-03T10:21:06.793Z"
   },
   {
    "duration": 186,
    "start_time": "2023-02-03T10:21:07.359Z"
   },
   {
    "duration": 1159,
    "start_time": "2023-02-03T10:21:07.547Z"
   },
   {
    "duration": 409,
    "start_time": "2023-02-03T10:21:08.708Z"
   },
   {
    "duration": 213,
    "start_time": "2023-02-03T10:21:09.119Z"
   },
   {
    "duration": 25,
    "start_time": "2023-02-03T10:21:09.339Z"
   },
   {
    "duration": 6,
    "start_time": "2023-02-03T10:21:09.366Z"
   },
   {
    "duration": 7,
    "start_time": "2023-02-03T10:21:09.373Z"
   },
   {
    "duration": 296,
    "start_time": "2023-02-03T10:21:09.381Z"
   },
   {
    "duration": 537,
    "start_time": "2023-02-03T10:29:04.019Z"
   },
   {
    "duration": 33,
    "start_time": "2023-02-03T10:29:04.559Z"
   },
   {
    "duration": 28,
    "start_time": "2023-02-03T10:29:04.594Z"
   },
   {
    "duration": 16,
    "start_time": "2023-02-03T10:29:04.641Z"
   },
   {
    "duration": 14,
    "start_time": "2023-02-03T10:29:04.660Z"
   },
   {
    "duration": 2369,
    "start_time": "2023-02-03T10:29:04.676Z"
   },
   {
    "duration": 10,
    "start_time": "2023-02-03T10:29:07.047Z"
   },
   {
    "duration": 28,
    "start_time": "2023-02-03T10:29:07.058Z"
   },
   {
    "duration": 4,
    "start_time": "2023-02-03T10:29:07.087Z"
   },
   {
    "duration": 8,
    "start_time": "2023-02-03T10:29:07.092Z"
   },
   {
    "duration": 6,
    "start_time": "2023-02-03T10:29:07.101Z"
   },
   {
    "duration": 30,
    "start_time": "2023-02-03T10:29:07.109Z"
   },
   {
    "duration": 10,
    "start_time": "2023-02-03T10:29:07.142Z"
   },
   {
    "duration": 16,
    "start_time": "2023-02-03T10:29:07.156Z"
   },
   {
    "duration": 23,
    "start_time": "2023-02-03T10:29:07.174Z"
   },
   {
    "duration": 48,
    "start_time": "2023-02-03T10:29:07.199Z"
   },
   {
    "duration": 4,
    "start_time": "2023-02-03T10:29:07.249Z"
   },
   {
    "duration": 16,
    "start_time": "2023-02-03T10:29:07.255Z"
   },
   {
    "duration": 15,
    "start_time": "2023-02-03T10:29:07.273Z"
   },
   {
    "duration": 19,
    "start_time": "2023-02-03T10:29:07.290Z"
   },
   {
    "duration": 49,
    "start_time": "2023-02-03T10:29:07.310Z"
   },
   {
    "duration": 107,
    "start_time": "2023-02-03T10:29:07.360Z"
   },
   {
    "duration": 23,
    "start_time": "2023-02-03T10:29:07.469Z"
   },
   {
    "duration": 473,
    "start_time": "2023-02-03T10:29:07.494Z"
   },
   {
    "duration": 415,
    "start_time": "2023-02-03T10:29:07.969Z"
   },
   {
    "duration": 31,
    "start_time": "2023-02-03T10:29:08.386Z"
   },
   {
    "duration": 54,
    "start_time": "2023-02-03T10:29:08.419Z"
   },
   {
    "duration": 220,
    "start_time": "2023-02-03T10:29:08.475Z"
   },
   {
    "duration": 15,
    "start_time": "2023-02-03T10:29:08.696Z"
   },
   {
    "duration": 420,
    "start_time": "2023-02-03T10:29:08.712Z"
   },
   {
    "duration": 451,
    "start_time": "2023-02-03T10:29:09.139Z"
   },
   {
    "duration": 174,
    "start_time": "2023-02-03T10:29:09.593Z"
   },
   {
    "duration": 424,
    "start_time": "2023-02-03T10:29:09.769Z"
   },
   {
    "duration": 146,
    "start_time": "2023-02-03T10:29:10.195Z"
   },
   {
    "duration": 273,
    "start_time": "2023-02-03T10:29:10.343Z"
   },
   {
    "duration": 288,
    "start_time": "2023-02-03T10:29:10.618Z"
   },
   {
    "duration": 2,
    "start_time": "2023-02-03T10:29:10.908Z"
   },
   {
    "duration": 13,
    "start_time": "2023-02-03T10:29:10.912Z"
   },
   {
    "duration": 15,
    "start_time": "2023-02-03T10:29:10.927Z"
   },
   {
    "duration": 5,
    "start_time": "2023-02-03T10:29:10.944Z"
   },
   {
    "duration": 5,
    "start_time": "2023-02-03T10:29:10.953Z"
   },
   {
    "duration": 1223,
    "start_time": "2023-02-03T10:29:10.960Z"
   },
   {
    "duration": 6,
    "start_time": "2023-02-03T10:29:12.184Z"
   },
   {
    "duration": 12,
    "start_time": "2023-02-03T10:29:12.192Z"
   },
   {
    "duration": 3861,
    "start_time": "2023-02-03T10:29:12.206Z"
   },
   {
    "duration": 571,
    "start_time": "2023-02-03T10:29:16.069Z"
   },
   {
    "duration": 600,
    "start_time": "2023-02-03T10:29:16.642Z"
   },
   {
    "duration": 197,
    "start_time": "2023-02-03T10:29:17.244Z"
   },
   {
    "duration": 489,
    "start_time": "2023-02-03T10:29:20.271Z"
   },
   {
    "duration": 32,
    "start_time": "2023-02-03T10:29:20.762Z"
   },
   {
    "duration": 27,
    "start_time": "2023-02-03T10:29:20.796Z"
   },
   {
    "duration": 17,
    "start_time": "2023-02-03T10:29:20.839Z"
   },
   {
    "duration": 3,
    "start_time": "2023-02-03T10:29:20.858Z"
   },
   {
    "duration": 2283,
    "start_time": "2023-02-03T10:29:20.862Z"
   },
   {
    "duration": 10,
    "start_time": "2023-02-03T10:29:23.147Z"
   },
   {
    "duration": 31,
    "start_time": "2023-02-03T10:29:23.160Z"
   },
   {
    "duration": 4,
    "start_time": "2023-02-03T10:29:23.193Z"
   },
   {
    "duration": 7,
    "start_time": "2023-02-03T10:29:23.201Z"
   },
   {
    "duration": 9,
    "start_time": "2023-02-03T10:29:23.209Z"
   },
   {
    "duration": 8,
    "start_time": "2023-02-03T10:29:23.239Z"
   },
   {
    "duration": 17,
    "start_time": "2023-02-03T10:29:23.249Z"
   },
   {
    "duration": 16,
    "start_time": "2023-02-03T10:29:23.268Z"
   },
   {
    "duration": 22,
    "start_time": "2023-02-03T10:29:23.285Z"
   },
   {
    "duration": 41,
    "start_time": "2023-02-03T10:29:23.308Z"
   },
   {
    "duration": 5,
    "start_time": "2023-02-03T10:29:23.351Z"
   },
   {
    "duration": 23,
    "start_time": "2023-02-03T10:29:23.358Z"
   },
   {
    "duration": 27,
    "start_time": "2023-02-03T10:29:23.384Z"
   },
   {
    "duration": 54,
    "start_time": "2023-02-03T10:29:23.413Z"
   },
   {
    "duration": 43,
    "start_time": "2023-02-03T10:29:23.469Z"
   },
   {
    "duration": 106,
    "start_time": "2023-02-03T10:29:23.514Z"
   },
   {
    "duration": 30,
    "start_time": "2023-02-03T10:29:23.622Z"
   },
   {
    "duration": 441,
    "start_time": "2023-02-03T10:29:23.654Z"
   },
   {
    "duration": 421,
    "start_time": "2023-02-03T10:29:24.097Z"
   },
   {
    "duration": 31,
    "start_time": "2023-02-03T10:29:24.520Z"
   },
   {
    "duration": 29,
    "start_time": "2023-02-03T10:29:24.553Z"
   },
   {
    "duration": 223,
    "start_time": "2023-02-03T10:29:24.586Z"
   },
   {
    "duration": 28,
    "start_time": "2023-02-03T10:29:24.812Z"
   },
   {
    "duration": 326,
    "start_time": "2023-02-03T10:29:24.842Z"
   },
   {
    "duration": 426,
    "start_time": "2023-02-03T10:29:25.170Z"
   },
   {
    "duration": 167,
    "start_time": "2023-02-03T10:29:25.598Z"
   },
   {
    "duration": 430,
    "start_time": "2023-02-03T10:29:25.767Z"
   },
   {
    "duration": 149,
    "start_time": "2023-02-03T10:29:26.198Z"
   },
   {
    "duration": 314,
    "start_time": "2023-02-03T10:29:26.349Z"
   },
   {
    "duration": 287,
    "start_time": "2023-02-03T10:29:26.665Z"
   },
   {
    "duration": 3,
    "start_time": "2023-02-03T10:29:26.954Z"
   },
   {
    "duration": 41,
    "start_time": "2023-02-03T10:29:26.959Z"
   },
   {
    "duration": 27,
    "start_time": "2023-02-03T10:29:27.002Z"
   },
   {
    "duration": 14,
    "start_time": "2023-02-03T10:29:27.031Z"
   },
   {
    "duration": 11,
    "start_time": "2023-02-03T10:29:27.047Z"
   },
   {
    "duration": 1246,
    "start_time": "2023-02-03T10:29:27.060Z"
   },
   {
    "duration": 7,
    "start_time": "2023-02-03T10:29:28.308Z"
   },
   {
    "duration": 52,
    "start_time": "2023-02-03T10:29:28.317Z"
   },
   {
    "duration": 3930,
    "start_time": "2023-02-03T10:29:28.371Z"
   },
   {
    "duration": 573,
    "start_time": "2023-02-03T10:29:32.303Z"
   },
   {
    "duration": 601,
    "start_time": "2023-02-03T10:29:32.878Z"
   },
   {
    "duration": 199,
    "start_time": "2023-02-03T10:29:33.481Z"
   },
   {
    "duration": 960,
    "start_time": "2023-02-03T10:29:33.682Z"
   },
   {
    "duration": 594,
    "start_time": "2023-02-03T10:29:34.644Z"
   },
   {
    "duration": 203,
    "start_time": "2023-02-03T10:29:35.241Z"
   },
   {
    "duration": 26,
    "start_time": "2023-02-03T10:29:35.446Z"
   },
   {
    "duration": 7,
    "start_time": "2023-02-03T10:29:35.474Z"
   },
   {
    "duration": 11,
    "start_time": "2023-02-03T10:29:35.483Z"
   },
   {
    "duration": 391,
    "start_time": "2023-02-03T10:29:35.496Z"
   },
   {
    "duration": 750,
    "start_time": "2023-06-02T17:29:02.014Z"
   },
   {
    "duration": 92,
    "start_time": "2023-06-02T17:29:05.305Z"
   },
   {
    "duration": 94,
    "start_time": "2023-06-02T17:29:07.698Z"
   },
   {
    "duration": 35,
    "start_time": "2023-06-02T17:30:35.426Z"
   },
   {
    "duration": 26,
    "start_time": "2023-06-02T17:30:37.948Z"
   },
   {
    "duration": 521,
    "start_time": "2023-06-02T17:35:00.786Z"
   },
   {
    "duration": 48,
    "start_time": "2023-06-02T17:35:01.309Z"
   },
   {
    "duration": 42,
    "start_time": "2023-06-02T17:35:01.359Z"
   },
   {
    "duration": 36,
    "start_time": "2023-06-02T17:35:01.403Z"
   },
   {
    "duration": 31,
    "start_time": "2023-06-02T17:35:01.441Z"
   },
   {
    "duration": 2679,
    "start_time": "2023-06-02T17:35:01.475Z"
   },
   {
    "duration": 11,
    "start_time": "2023-06-02T17:35:04.157Z"
   },
   {
    "duration": 30,
    "start_time": "2023-06-02T17:35:04.170Z"
   },
   {
    "duration": 3,
    "start_time": "2023-06-02T17:35:04.203Z"
   },
   {
    "duration": 9,
    "start_time": "2023-06-02T17:35:04.210Z"
   },
   {
    "duration": 26,
    "start_time": "2023-06-02T17:35:04.221Z"
   },
   {
    "duration": 16,
    "start_time": "2023-06-02T17:35:04.249Z"
   },
   {
    "duration": 27,
    "start_time": "2023-06-02T17:35:04.267Z"
   },
   {
    "duration": 17,
    "start_time": "2023-06-02T17:35:04.296Z"
   },
   {
    "duration": 37,
    "start_time": "2023-06-02T17:35:04.314Z"
   },
   {
    "duration": 15,
    "start_time": "2023-06-02T17:35:04.356Z"
   },
   {
    "duration": 5,
    "start_time": "2023-06-02T17:35:04.373Z"
   },
   {
    "duration": 31,
    "start_time": "2023-06-02T17:35:04.379Z"
   },
   {
    "duration": 30,
    "start_time": "2023-06-02T17:35:04.412Z"
   },
   {
    "duration": 27,
    "start_time": "2023-06-02T17:35:04.444Z"
   },
   {
    "duration": 35,
    "start_time": "2023-06-02T17:35:04.473Z"
   },
   {
    "duration": 139,
    "start_time": "2023-06-02T17:35:04.510Z"
   },
   {
    "duration": 24,
    "start_time": "2023-06-02T17:35:04.652Z"
   },
   {
    "duration": 478,
    "start_time": "2023-06-02T17:35:04.678Z"
   },
   {
    "duration": 411,
    "start_time": "2023-06-02T17:35:05.158Z"
   },
   {
    "duration": 159,
    "start_time": "2023-06-02T17:35:05.570Z"
   },
   {
    "duration": 147,
    "start_time": "2023-06-02T17:35:05.731Z"
   },
   {
    "duration": 203,
    "start_time": "2023-06-02T17:35:05.882Z"
   },
   {
    "duration": 17,
    "start_time": "2023-06-02T17:35:06.087Z"
   },
   {
    "duration": 224,
    "start_time": "2023-06-02T17:35:06.106Z"
   },
   {
    "duration": 410,
    "start_time": "2023-06-02T17:35:06.341Z"
   },
   {
    "duration": 152,
    "start_time": "2023-06-02T17:35:06.753Z"
   },
   {
    "duration": 397,
    "start_time": "2023-06-02T17:35:06.908Z"
   },
   {
    "duration": 151,
    "start_time": "2023-06-02T17:35:07.307Z"
   },
   {
    "duration": 287,
    "start_time": "2023-06-02T17:35:07.460Z"
   },
   {
    "duration": 396,
    "start_time": "2023-06-02T17:35:07.751Z"
   },
   {
    "duration": 3,
    "start_time": "2023-06-02T17:35:08.152Z"
   },
   {
    "duration": 11,
    "start_time": "2023-06-02T17:35:08.157Z"
   },
   {
    "duration": 15,
    "start_time": "2023-06-02T17:35:08.170Z"
   },
   {
    "duration": 9,
    "start_time": "2023-06-02T17:35:08.187Z"
   },
   {
    "duration": 9,
    "start_time": "2023-06-02T17:35:08.198Z"
   },
   {
    "duration": 1218,
    "start_time": "2023-06-02T17:35:08.209Z"
   },
   {
    "duration": 5,
    "start_time": "2023-06-02T17:35:09.429Z"
   },
   {
    "duration": 13,
    "start_time": "2023-06-02T17:35:09.444Z"
   },
   {
    "duration": 5525,
    "start_time": "2023-06-02T17:35:09.458Z"
   },
   {
    "duration": 541,
    "start_time": "2023-06-02T17:35:14.985Z"
   },
   {
    "duration": 588,
    "start_time": "2023-06-02T17:35:15.528Z"
   },
   {
    "duration": 198,
    "start_time": "2023-06-02T17:35:16.117Z"
   },
   {
    "duration": 1224,
    "start_time": "2023-06-02T17:35:16.317Z"
   },
   {
    "duration": 312,
    "start_time": "2023-06-02T17:35:17.547Z"
   },
   {
    "duration": 193,
    "start_time": "2023-06-02T17:35:17.861Z"
   },
   {
    "duration": 25,
    "start_time": "2023-06-02T17:35:18.056Z"
   },
   {
    "duration": 6,
    "start_time": "2023-06-02T17:35:18.083Z"
   },
   {
    "duration": 8,
    "start_time": "2023-06-02T17:35:18.090Z"
   },
   {
    "duration": 359,
    "start_time": "2023-06-02T17:35:18.099Z"
   }
  ],
  "kernelspec": {
   "display_name": "Python 3 (ipykernel)",
   "language": "python",
   "name": "python3"
  },
  "language_info": {
   "codemirror_mode": {
    "name": "ipython",
    "version": 3
   },
   "file_extension": ".py",
   "mimetype": "text/x-python",
   "name": "python",
   "nbconvert_exporter": "python",
   "pygments_lexer": "ipython3",
   "version": "3.9.5"
  },
  "toc": {
   "base_numbering": 1,
   "nav_menu": {},
   "number_sections": true,
   "sideBar": true,
   "skip_h1_title": true,
   "title_cell": "Table of Contents",
   "title_sidebar": "Contents",
   "toc_cell": false,
   "toc_position": {},
   "toc_section_display": true,
   "toc_window_display": false
  }
 },
 "nbformat": 4,
 "nbformat_minor": 2
}
