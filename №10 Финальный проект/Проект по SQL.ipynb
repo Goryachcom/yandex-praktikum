{
 "cells": [
  {
   "cell_type": "markdown",
   "metadata": {},
   "source": [
    "# Проект по SQL"
   ]
  },
  {
   "cell_type": "markdown",
   "metadata": {},
   "source": [
    "## Описание проекта"
   ]
  },
  {
   "cell_type": "markdown",
   "metadata": {},
   "source": [
    "Коронавирус застал мир врасплох, изменив привычный порядок вещей. В свободное время жители городов больше не выходят на улицу, не посещают кафе и торговые центры. Зато стало больше времени для книг. Это заметили стартаперы — и бросились создавать приложения для тех, кто любит читать.\n",
    "\n",
    "Ваша компания решила быть на волне и купила крупный сервис для чтения книг по подписке. Ваша первая задача как аналитика — проанализировать базу данных. В ней — информация о книгах, издательствах, авторах, а также пользовательские обзоры книг. Эти данные помогут сформулировать ценностное предложение для нового продукта."
   ]
  },
  {
   "cell_type": "markdown",
   "metadata": {},
   "source": [
    "## Описание данных"
   ]
  },
  {
   "cell_type": "markdown",
   "metadata": {},
   "source": [
    "**Таблица books**\n",
    "- book_id — идентификатор книги;\n",
    "- author_id — идентификатор автора;\n",
    "- title — название книги;\n",
    "- num_pages — количество страниц;\n",
    "- publication_date — дата публикации книги;\n",
    "- publisher_id — идентификатор издателя."
   ]
  },
  {
   "cell_type": "markdown",
   "metadata": {},
   "source": [
    "**Таблица authors**\n",
    "- author_id — идентификатор автора;\n",
    "- author — имя автора."
   ]
  },
  {
   "cell_type": "markdown",
   "metadata": {},
   "source": [
    "**Таблица publishers**\n",
    "- publisher_id — идентификатор издательства;\n",
    "- publisher — название издательства;"
   ]
  },
  {
   "cell_type": "markdown",
   "metadata": {},
   "source": [
    "**Таблица ratings**\n",
    "- rating_id — идентификатор оценки;\n",
    "- book_id — идентификатор книги;\n",
    "- username — имя пользователя, оставившего оценку;\n",
    "- rating — оценка книги."
   ]
  },
  {
   "cell_type": "markdown",
   "metadata": {},
   "source": [
    "**Таблица reviews**\n",
    "- review_id — идентификатор обзора;\n",
    "- book_id — идентификатор книги;\n",
    "- username — имя автора обзора;\n",
    "- text — текст обзора."
   ]
  },
  {
   "cell_type": "markdown",
   "metadata": {},
   "source": [
    "## Задания"
   ]
  },
  {
   "cell_type": "markdown",
   "metadata": {},
   "source": [
    "- Посчитайте, сколько книг вышло после 1 января 2000 года;\n",
    "- Для каждой книги посчитайте количество обзоров и среднюю оценку;\n",
    "- Определите издательство, которое выпустило наибольшее число книг толще 50 страниц — так вы исключите из анализа брошюры;\n",
    "- Определите автора с самой высокой средней оценкой книг — учитывайте только книги с 50 и более оценками;\n",
    "- Посчитайте среднее количество обзоров от пользователей, которые поставили больше 48 оценок."
   ]
  },
  {
   "cell_type": "markdown",
   "metadata": {},
   "source": [
    "## Импортируем библиотеки"
   ]
  },
  {
   "cell_type": "code",
   "execution_count": 1,
   "metadata": {},
   "outputs": [],
   "source": [
    "import pandas as pd\n",
    "from sqlalchemy import create_engine"
   ]
  },
  {
   "cell_type": "code",
   "execution_count": 2,
   "metadata": {},
   "outputs": [],
   "source": [
    "db_config = {'user': 'praktikum_student', # имя пользователя\n",
    "'pwd': 'Sdf4$2;d-d30pp', # пароль\n",
    "'host': 'rc1b-wcoijxj3yxfsf3fs.mdb.yandexcloud.net',\n",
    "'port': 6432, # порт подключения\n",
    "'db': 'data-analyst-final-project-db'} # название базы данных"
   ]
  },
  {
   "cell_type": "code",
   "execution_count": 3,
   "metadata": {},
   "outputs": [],
   "source": [
    "connection_string = 'postgresql://{}:{}@{}:{}/{}'.format(db_config['user'],\n",
    "db_config['pwd'],\n",
    "db_config['host'],\n",
    "db_config['port'],\n",
    "db_config['db'])"
   ]
  },
  {
   "cell_type": "code",
   "execution_count": 4,
   "metadata": {},
   "outputs": [],
   "source": [
    "engine = create_engine(connection_string)"
   ]
  },
  {
   "cell_type": "code",
   "execution_count": 5,
   "metadata": {},
   "outputs": [],
   "source": [
    "#Создадим функцию для вывода результата\n",
    "def select(sql):\n",
    "  return pd.read_sql(sql,con = engine)"
   ]
  },
  {
   "cell_type": "code",
   "execution_count": 6,
   "metadata": {},
   "outputs": [],
   "source": [
    "#Посмотрим данные из таблицы books\n",
    "books = '''\n",
    "SELECT * FROM books\n",
    "'''"
   ]
  },
  {
   "cell_type": "code",
   "execution_count": 7,
   "metadata": {},
   "outputs": [
    {
     "data": {
      "text/html": [
       "<div>\n",
       "<style scoped>\n",
       "    .dataframe tbody tr th:only-of-type {\n",
       "        vertical-align: middle;\n",
       "    }\n",
       "\n",
       "    .dataframe tbody tr th {\n",
       "        vertical-align: top;\n",
       "    }\n",
       "\n",
       "    .dataframe thead th {\n",
       "        text-align: right;\n",
       "    }\n",
       "</style>\n",
       "<table border=\"1\" class=\"dataframe\">\n",
       "  <thead>\n",
       "    <tr style=\"text-align: right;\">\n",
       "      <th></th>\n",
       "      <th>book_id</th>\n",
       "      <th>author_id</th>\n",
       "      <th>title</th>\n",
       "      <th>num_pages</th>\n",
       "      <th>publication_date</th>\n",
       "      <th>publisher_id</th>\n",
       "    </tr>\n",
       "  </thead>\n",
       "  <tbody>\n",
       "    <tr>\n",
       "      <th>0</th>\n",
       "      <td>1</td>\n",
       "      <td>546</td>\n",
       "      <td>'Salem's Lot</td>\n",
       "      <td>594</td>\n",
       "      <td>2005-11-01</td>\n",
       "      <td>93</td>\n",
       "    </tr>\n",
       "    <tr>\n",
       "      <th>1</th>\n",
       "      <td>2</td>\n",
       "      <td>465</td>\n",
       "      <td>1 000 Places to See Before You Die</td>\n",
       "      <td>992</td>\n",
       "      <td>2003-05-22</td>\n",
       "      <td>336</td>\n",
       "    </tr>\n",
       "    <tr>\n",
       "      <th>2</th>\n",
       "      <td>3</td>\n",
       "      <td>407</td>\n",
       "      <td>13 Little Blue Envelopes (Little Blue Envelope...</td>\n",
       "      <td>322</td>\n",
       "      <td>2010-12-21</td>\n",
       "      <td>135</td>\n",
       "    </tr>\n",
       "  </tbody>\n",
       "</table>\n",
       "</div>"
      ],
      "text/plain": [
       "   book_id  author_id                                              title  \\\n",
       "0        1        546                                       'Salem's Lot   \n",
       "1        2        465                 1 000 Places to See Before You Die   \n",
       "2        3        407  13 Little Blue Envelopes (Little Blue Envelope...   \n",
       "\n",
       "   num_pages publication_date  publisher_id  \n",
       "0        594       2005-11-01            93  \n",
       "1        992       2003-05-22           336  \n",
       "2        322       2010-12-21           135  "
      ]
     },
     "execution_count": 7,
     "metadata": {},
     "output_type": "execute_result"
    }
   ],
   "source": [
    "select(books).head(3)"
   ]
  },
  {
   "cell_type": "code",
   "execution_count": 8,
   "metadata": {},
   "outputs": [
    {
     "name": "stdout",
     "output_type": "stream",
     "text": [
      "<class 'pandas.core.frame.DataFrame'>\n",
      "RangeIndex: 1000 entries, 0 to 999\n",
      "Data columns (total 6 columns):\n",
      " #   Column            Non-Null Count  Dtype \n",
      "---  ------            --------------  ----- \n",
      " 0   book_id           1000 non-null   int64 \n",
      " 1   author_id         1000 non-null   int64 \n",
      " 2   title             1000 non-null   object\n",
      " 3   num_pages         1000 non-null   int64 \n",
      " 4   publication_date  1000 non-null   object\n",
      " 5   publisher_id      1000 non-null   int64 \n",
      "dtypes: int64(4), object(2)\n",
      "memory usage: 47.0+ KB\n"
     ]
    }
   ],
   "source": [
    "select(books).info()"
   ]
  },
  {
   "cell_type": "code",
   "execution_count": 9,
   "metadata": {},
   "outputs": [
    {
     "data": {
      "text/plain": [
       "book_id             0\n",
       "author_id           0\n",
       "title               0\n",
       "num_pages           0\n",
       "publication_date    0\n",
       "publisher_id        0\n",
       "dtype: int64"
      ]
     },
     "execution_count": 9,
     "metadata": {},
     "output_type": "execute_result"
    }
   ],
   "source": [
    "#Проверим на наличие пропусков и дубликатов\n",
    "select(books).isnull().sum()"
   ]
  },
  {
   "cell_type": "code",
   "execution_count": 10,
   "metadata": {},
   "outputs": [
    {
     "data": {
      "text/plain": [
       "0"
      ]
     },
     "execution_count": 10,
     "metadata": {},
     "output_type": "execute_result"
    }
   ],
   "source": [
    "select(books).duplicated().sum()"
   ]
  },
  {
   "cell_type": "markdown",
   "metadata": {},
   "source": [
    "**В таблице books 1000 строк и 6 столбцов, отсутствуют пропуски и дубликаты**"
   ]
  },
  {
   "cell_type": "code",
   "execution_count": 11,
   "metadata": {},
   "outputs": [],
   "source": [
    "#Посмотрим данные из таблицы authors\n",
    "authors = '''\n",
    "SELECT * FROM authors\n",
    "'''"
   ]
  },
  {
   "cell_type": "code",
   "execution_count": 12,
   "metadata": {},
   "outputs": [
    {
     "data": {
      "text/html": [
       "<div>\n",
       "<style scoped>\n",
       "    .dataframe tbody tr th:only-of-type {\n",
       "        vertical-align: middle;\n",
       "    }\n",
       "\n",
       "    .dataframe tbody tr th {\n",
       "        vertical-align: top;\n",
       "    }\n",
       "\n",
       "    .dataframe thead th {\n",
       "        text-align: right;\n",
       "    }\n",
       "</style>\n",
       "<table border=\"1\" class=\"dataframe\">\n",
       "  <thead>\n",
       "    <tr style=\"text-align: right;\">\n",
       "      <th></th>\n",
       "      <th>author_id</th>\n",
       "      <th>author</th>\n",
       "    </tr>\n",
       "  </thead>\n",
       "  <tbody>\n",
       "    <tr>\n",
       "      <th>0</th>\n",
       "      <td>1</td>\n",
       "      <td>A.S. Byatt</td>\n",
       "    </tr>\n",
       "    <tr>\n",
       "      <th>1</th>\n",
       "      <td>2</td>\n",
       "      <td>Aesop/Laura Harris/Laura Gibbs</td>\n",
       "    </tr>\n",
       "    <tr>\n",
       "      <th>2</th>\n",
       "      <td>3</td>\n",
       "      <td>Agatha Christie</td>\n",
       "    </tr>\n",
       "  </tbody>\n",
       "</table>\n",
       "</div>"
      ],
      "text/plain": [
       "   author_id                          author\n",
       "0          1                      A.S. Byatt\n",
       "1          2  Aesop/Laura Harris/Laura Gibbs\n",
       "2          3                 Agatha Christie"
      ]
     },
     "execution_count": 12,
     "metadata": {},
     "output_type": "execute_result"
    }
   ],
   "source": [
    "select(authors).head(3)"
   ]
  },
  {
   "cell_type": "code",
   "execution_count": 13,
   "metadata": {},
   "outputs": [
    {
     "name": "stdout",
     "output_type": "stream",
     "text": [
      "<class 'pandas.core.frame.DataFrame'>\n",
      "RangeIndex: 636 entries, 0 to 635\n",
      "Data columns (total 2 columns):\n",
      " #   Column     Non-Null Count  Dtype \n",
      "---  ------     --------------  ----- \n",
      " 0   author_id  636 non-null    int64 \n",
      " 1   author     636 non-null    object\n",
      "dtypes: int64(1), object(1)\n",
      "memory usage: 10.1+ KB\n"
     ]
    }
   ],
   "source": [
    "select(authors).info()"
   ]
  },
  {
   "cell_type": "code",
   "execution_count": 14,
   "metadata": {},
   "outputs": [
    {
     "data": {
      "text/plain": [
       "author_id    0\n",
       "author       0\n",
       "dtype: int64"
      ]
     },
     "execution_count": 14,
     "metadata": {},
     "output_type": "execute_result"
    }
   ],
   "source": [
    "#Проверим на наличие пропусков и дубликатов\n",
    "select(authors).isnull().sum()"
   ]
  },
  {
   "cell_type": "code",
   "execution_count": 15,
   "metadata": {},
   "outputs": [
    {
     "data": {
      "text/plain": [
       "0"
      ]
     },
     "execution_count": 15,
     "metadata": {},
     "output_type": "execute_result"
    }
   ],
   "source": [
    "select(authors).duplicated().sum()"
   ]
  },
  {
   "cell_type": "markdown",
   "metadata": {},
   "source": [
    "**В таблице authors 636 строк и 2 столбца, отсутствуют пропуски и дубликаты**"
   ]
  },
  {
   "cell_type": "code",
   "execution_count": 16,
   "metadata": {},
   "outputs": [],
   "source": [
    "#Посмотрим данные из таблицы publishers\n",
    "publishers = '''\n",
    "SELECT * FROM publishers\n",
    "'''"
   ]
  },
  {
   "cell_type": "code",
   "execution_count": 17,
   "metadata": {},
   "outputs": [
    {
     "data": {
      "text/html": [
       "<div>\n",
       "<style scoped>\n",
       "    .dataframe tbody tr th:only-of-type {\n",
       "        vertical-align: middle;\n",
       "    }\n",
       "\n",
       "    .dataframe tbody tr th {\n",
       "        vertical-align: top;\n",
       "    }\n",
       "\n",
       "    .dataframe thead th {\n",
       "        text-align: right;\n",
       "    }\n",
       "</style>\n",
       "<table border=\"1\" class=\"dataframe\">\n",
       "  <thead>\n",
       "    <tr style=\"text-align: right;\">\n",
       "      <th></th>\n",
       "      <th>publisher_id</th>\n",
       "      <th>publisher</th>\n",
       "    </tr>\n",
       "  </thead>\n",
       "  <tbody>\n",
       "    <tr>\n",
       "      <th>0</th>\n",
       "      <td>1</td>\n",
       "      <td>Ace</td>\n",
       "    </tr>\n",
       "    <tr>\n",
       "      <th>1</th>\n",
       "      <td>2</td>\n",
       "      <td>Ace Book</td>\n",
       "    </tr>\n",
       "    <tr>\n",
       "      <th>2</th>\n",
       "      <td>3</td>\n",
       "      <td>Ace Books</td>\n",
       "    </tr>\n",
       "  </tbody>\n",
       "</table>\n",
       "</div>"
      ],
      "text/plain": [
       "   publisher_id  publisher\n",
       "0             1        Ace\n",
       "1             2   Ace Book\n",
       "2             3  Ace Books"
      ]
     },
     "execution_count": 17,
     "metadata": {},
     "output_type": "execute_result"
    }
   ],
   "source": [
    "select(publishers).head(3)"
   ]
  },
  {
   "cell_type": "code",
   "execution_count": 18,
   "metadata": {},
   "outputs": [
    {
     "name": "stdout",
     "output_type": "stream",
     "text": [
      "<class 'pandas.core.frame.DataFrame'>\n",
      "RangeIndex: 340 entries, 0 to 339\n",
      "Data columns (total 2 columns):\n",
      " #   Column        Non-Null Count  Dtype \n",
      "---  ------        --------------  ----- \n",
      " 0   publisher_id  340 non-null    int64 \n",
      " 1   publisher     340 non-null    object\n",
      "dtypes: int64(1), object(1)\n",
      "memory usage: 5.4+ KB\n"
     ]
    }
   ],
   "source": [
    "select(publishers).info()"
   ]
  },
  {
   "cell_type": "code",
   "execution_count": 19,
   "metadata": {},
   "outputs": [
    {
     "data": {
      "text/plain": [
       "publisher_id    0\n",
       "publisher       0\n",
       "dtype: int64"
      ]
     },
     "execution_count": 19,
     "metadata": {},
     "output_type": "execute_result"
    }
   ],
   "source": [
    "#Проверим на наличие пропусков и дубликатов\n",
    "select(publishers).isnull().sum()"
   ]
  },
  {
   "cell_type": "code",
   "execution_count": 20,
   "metadata": {},
   "outputs": [
    {
     "data": {
      "text/plain": [
       "0"
      ]
     },
     "execution_count": 20,
     "metadata": {},
     "output_type": "execute_result"
    }
   ],
   "source": [
    "select(publishers).duplicated().sum()"
   ]
  },
  {
   "cell_type": "markdown",
   "metadata": {},
   "source": [
    "**В таблице publishers 340 строк и 2 столбца, отсутствуют пропуски и дубликаты**"
   ]
  },
  {
   "cell_type": "code",
   "execution_count": 21,
   "metadata": {},
   "outputs": [],
   "source": [
    "#Посмотрим данные из таблицы ratings\n",
    "ratings = '''\n",
    "SELECT * FROM ratings\n",
    "'''"
   ]
  },
  {
   "cell_type": "code",
   "execution_count": 22,
   "metadata": {},
   "outputs": [
    {
     "data": {
      "text/html": [
       "<div>\n",
       "<style scoped>\n",
       "    .dataframe tbody tr th:only-of-type {\n",
       "        vertical-align: middle;\n",
       "    }\n",
       "\n",
       "    .dataframe tbody tr th {\n",
       "        vertical-align: top;\n",
       "    }\n",
       "\n",
       "    .dataframe thead th {\n",
       "        text-align: right;\n",
       "    }\n",
       "</style>\n",
       "<table border=\"1\" class=\"dataframe\">\n",
       "  <thead>\n",
       "    <tr style=\"text-align: right;\">\n",
       "      <th></th>\n",
       "      <th>rating_id</th>\n",
       "      <th>book_id</th>\n",
       "      <th>username</th>\n",
       "      <th>rating</th>\n",
       "    </tr>\n",
       "  </thead>\n",
       "  <tbody>\n",
       "    <tr>\n",
       "      <th>0</th>\n",
       "      <td>1</td>\n",
       "      <td>1</td>\n",
       "      <td>ryanfranco</td>\n",
       "      <td>4</td>\n",
       "    </tr>\n",
       "    <tr>\n",
       "      <th>1</th>\n",
       "      <td>2</td>\n",
       "      <td>1</td>\n",
       "      <td>grantpatricia</td>\n",
       "      <td>2</td>\n",
       "    </tr>\n",
       "    <tr>\n",
       "      <th>2</th>\n",
       "      <td>3</td>\n",
       "      <td>1</td>\n",
       "      <td>brandtandrea</td>\n",
       "      <td>5</td>\n",
       "    </tr>\n",
       "  </tbody>\n",
       "</table>\n",
       "</div>"
      ],
      "text/plain": [
       "   rating_id  book_id       username  rating\n",
       "0          1        1     ryanfranco       4\n",
       "1          2        1  grantpatricia       2\n",
       "2          3        1   brandtandrea       5"
      ]
     },
     "execution_count": 22,
     "metadata": {},
     "output_type": "execute_result"
    }
   ],
   "source": [
    "select(ratings).head(3)"
   ]
  },
  {
   "cell_type": "code",
   "execution_count": 23,
   "metadata": {},
   "outputs": [
    {
     "name": "stdout",
     "output_type": "stream",
     "text": [
      "<class 'pandas.core.frame.DataFrame'>\n",
      "RangeIndex: 6456 entries, 0 to 6455\n",
      "Data columns (total 4 columns):\n",
      " #   Column     Non-Null Count  Dtype \n",
      "---  ------     --------------  ----- \n",
      " 0   rating_id  6456 non-null   int64 \n",
      " 1   book_id    6456 non-null   int64 \n",
      " 2   username   6456 non-null   object\n",
      " 3   rating     6456 non-null   int64 \n",
      "dtypes: int64(3), object(1)\n",
      "memory usage: 201.9+ KB\n"
     ]
    }
   ],
   "source": [
    "select(ratings).info()"
   ]
  },
  {
   "cell_type": "code",
   "execution_count": 24,
   "metadata": {},
   "outputs": [
    {
     "data": {
      "text/plain": [
       "rating_id    0\n",
       "book_id      0\n",
       "username     0\n",
       "rating       0\n",
       "dtype: int64"
      ]
     },
     "execution_count": 24,
     "metadata": {},
     "output_type": "execute_result"
    }
   ],
   "source": [
    "#Проверим на наличие пропусков и дубликатов\n",
    "select(ratings).isnull().sum()"
   ]
  },
  {
   "cell_type": "code",
   "execution_count": 25,
   "metadata": {},
   "outputs": [
    {
     "data": {
      "text/plain": [
       "0"
      ]
     },
     "execution_count": 25,
     "metadata": {},
     "output_type": "execute_result"
    }
   ],
   "source": [
    "select(ratings).duplicated().sum()"
   ]
  },
  {
   "cell_type": "markdown",
   "metadata": {},
   "source": [
    "**В таблице ratings 6456 строк и 4 столбца, отсутствуют пропуски и дубликаты**"
   ]
  },
  {
   "cell_type": "code",
   "execution_count": 26,
   "metadata": {},
   "outputs": [],
   "source": [
    "#Посмотрим данные из таблицы reviews\n",
    "reviews = '''\n",
    "SELECT * FROM reviews\n",
    "'''"
   ]
  },
  {
   "cell_type": "code",
   "execution_count": 27,
   "metadata": {},
   "outputs": [
    {
     "data": {
      "text/html": [
       "<div>\n",
       "<style scoped>\n",
       "    .dataframe tbody tr th:only-of-type {\n",
       "        vertical-align: middle;\n",
       "    }\n",
       "\n",
       "    .dataframe tbody tr th {\n",
       "        vertical-align: top;\n",
       "    }\n",
       "\n",
       "    .dataframe thead th {\n",
       "        text-align: right;\n",
       "    }\n",
       "</style>\n",
       "<table border=\"1\" class=\"dataframe\">\n",
       "  <thead>\n",
       "    <tr style=\"text-align: right;\">\n",
       "      <th></th>\n",
       "      <th>review_id</th>\n",
       "      <th>book_id</th>\n",
       "      <th>username</th>\n",
       "      <th>text</th>\n",
       "    </tr>\n",
       "  </thead>\n",
       "  <tbody>\n",
       "    <tr>\n",
       "      <th>0</th>\n",
       "      <td>1</td>\n",
       "      <td>1</td>\n",
       "      <td>brandtandrea</td>\n",
       "      <td>Mention society tell send professor analysis. ...</td>\n",
       "    </tr>\n",
       "    <tr>\n",
       "      <th>1</th>\n",
       "      <td>2</td>\n",
       "      <td>1</td>\n",
       "      <td>ryanfranco</td>\n",
       "      <td>Foot glass pretty audience hit themselves. Amo...</td>\n",
       "    </tr>\n",
       "    <tr>\n",
       "      <th>2</th>\n",
       "      <td>3</td>\n",
       "      <td>2</td>\n",
       "      <td>lorichen</td>\n",
       "      <td>Listen treat keep worry. Miss husband tax but ...</td>\n",
       "    </tr>\n",
       "  </tbody>\n",
       "</table>\n",
       "</div>"
      ],
      "text/plain": [
       "   review_id  book_id      username  \\\n",
       "0          1        1  brandtandrea   \n",
       "1          2        1    ryanfranco   \n",
       "2          3        2      lorichen   \n",
       "\n",
       "                                                text  \n",
       "0  Mention society tell send professor analysis. ...  \n",
       "1  Foot glass pretty audience hit themselves. Amo...  \n",
       "2  Listen treat keep worry. Miss husband tax but ...  "
      ]
     },
     "execution_count": 27,
     "metadata": {},
     "output_type": "execute_result"
    }
   ],
   "source": [
    "select(reviews).head(3)"
   ]
  },
  {
   "cell_type": "code",
   "execution_count": 28,
   "metadata": {},
   "outputs": [
    {
     "name": "stdout",
     "output_type": "stream",
     "text": [
      "<class 'pandas.core.frame.DataFrame'>\n",
      "RangeIndex: 2793 entries, 0 to 2792\n",
      "Data columns (total 4 columns):\n",
      " #   Column     Non-Null Count  Dtype \n",
      "---  ------     --------------  ----- \n",
      " 0   review_id  2793 non-null   int64 \n",
      " 1   book_id    2793 non-null   int64 \n",
      " 2   username   2793 non-null   object\n",
      " 3   text       2793 non-null   object\n",
      "dtypes: int64(2), object(2)\n",
      "memory usage: 87.4+ KB\n"
     ]
    }
   ],
   "source": [
    "select(reviews).info()"
   ]
  },
  {
   "cell_type": "code",
   "execution_count": 29,
   "metadata": {},
   "outputs": [
    {
     "data": {
      "text/plain": [
       "review_id    0\n",
       "book_id      0\n",
       "username     0\n",
       "text         0\n",
       "dtype: int64"
      ]
     },
     "execution_count": 29,
     "metadata": {},
     "output_type": "execute_result"
    }
   ],
   "source": [
    "#Проверим на наличие пропусков и дубликатов\n",
    "select(reviews).isnull().sum()"
   ]
  },
  {
   "cell_type": "code",
   "execution_count": 30,
   "metadata": {},
   "outputs": [
    {
     "data": {
      "text/plain": [
       "0"
      ]
     },
     "execution_count": 30,
     "metadata": {},
     "output_type": "execute_result"
    }
   ],
   "source": [
    "select(reviews).duplicated().sum()"
   ]
  },
  {
   "cell_type": "markdown",
   "metadata": {},
   "source": [
    "**В таблице reviews 2793 строк и 4 столбца, отсутствуют пропуски и дубликаты**"
   ]
  },
  {
   "cell_type": "markdown",
   "metadata": {},
   "source": [
    "## Задание 1"
   ]
  },
  {
   "cell_type": "code",
   "execution_count": 31,
   "metadata": {},
   "outputs": [],
   "source": [
    "#Посчитаем сколько книг, выпущено после 1 января 2000 года\n",
    "books_cnt = '''\n",
    "SELECT COUNT(book_id) FROM books WHERE publication_date > '2000-01-01'\n",
    "'''"
   ]
  },
  {
   "cell_type": "code",
   "execution_count": 32,
   "metadata": {},
   "outputs": [
    {
     "data": {
      "text/html": [
       "<div>\n",
       "<style scoped>\n",
       "    .dataframe tbody tr th:only-of-type {\n",
       "        vertical-align: middle;\n",
       "    }\n",
       "\n",
       "    .dataframe tbody tr th {\n",
       "        vertical-align: top;\n",
       "    }\n",
       "\n",
       "    .dataframe thead th {\n",
       "        text-align: right;\n",
       "    }\n",
       "</style>\n",
       "<table border=\"1\" class=\"dataframe\">\n",
       "  <thead>\n",
       "    <tr style=\"text-align: right;\">\n",
       "      <th></th>\n",
       "      <th>count</th>\n",
       "    </tr>\n",
       "  </thead>\n",
       "  <tbody>\n",
       "    <tr>\n",
       "      <th>0</th>\n",
       "      <td>819</td>\n",
       "    </tr>\n",
       "  </tbody>\n",
       "</table>\n",
       "</div>"
      ],
      "text/plain": [
       "   count\n",
       "0    819"
      ]
     },
     "execution_count": 32,
     "metadata": {},
     "output_type": "execute_result"
    }
   ],
   "source": [
    "select(books_cnt)"
   ]
  },
  {
   "cell_type": "markdown",
   "metadata": {},
   "source": [
    "**После 1 января 2000 года было выпущено 819 книг**"
   ]
  },
  {
   "cell_type": "markdown",
   "metadata": {},
   "source": [
    "## Задание 2"
   ]
  },
  {
   "cell_type": "code",
   "execution_count": 33,
   "metadata": {},
   "outputs": [],
   "source": [
    "#Посчитаем для каждой книги количество обзоров и среднюю оценку\n",
    "book_reviews = '''\n",
    "SELECT books.title,\n",
    "    books.book_id,\n",
    "    AVG(ratings.rating) AS avg,\n",
    "    COUNT(DISTINCT reviews.text) AS cnt\n",
    "FROM\n",
    "    books\n",
    "LEFT JOIN ratings ON ratings.book_id = books.book_id\n",
    "LEFT JOIN reviews ON reviews.book_id = books.book_id\n",
    "GROUP BY\n",
    "    books.title,\n",
    "    books.book_id\n",
    "ORDER BY\n",
    "    cnt DESC\n",
    "\n",
    "'''"
   ]
  },
  {
   "cell_type": "code",
   "execution_count": 34,
   "metadata": {},
   "outputs": [
    {
     "data": {
      "text/html": [
       "<div>\n",
       "<style scoped>\n",
       "    .dataframe tbody tr th:only-of-type {\n",
       "        vertical-align: middle;\n",
       "    }\n",
       "\n",
       "    .dataframe tbody tr th {\n",
       "        vertical-align: top;\n",
       "    }\n",
       "\n",
       "    .dataframe thead th {\n",
       "        text-align: right;\n",
       "    }\n",
       "</style>\n",
       "<table border=\"1\" class=\"dataframe\">\n",
       "  <thead>\n",
       "    <tr style=\"text-align: right;\">\n",
       "      <th></th>\n",
       "      <th>title</th>\n",
       "      <th>book_id</th>\n",
       "      <th>avg</th>\n",
       "      <th>cnt</th>\n",
       "    </tr>\n",
       "  </thead>\n",
       "  <tbody>\n",
       "    <tr>\n",
       "      <th>0</th>\n",
       "      <td>Twilight (Twilight  #1)</td>\n",
       "      <td>948</td>\n",
       "      <td>3.662500</td>\n",
       "      <td>7</td>\n",
       "    </tr>\n",
       "    <tr>\n",
       "      <th>1</th>\n",
       "      <td>Water for Elephants</td>\n",
       "      <td>963</td>\n",
       "      <td>3.977273</td>\n",
       "      <td>6</td>\n",
       "    </tr>\n",
       "    <tr>\n",
       "      <th>2</th>\n",
       "      <td>The Glass Castle</td>\n",
       "      <td>734</td>\n",
       "      <td>4.206897</td>\n",
       "      <td>6</td>\n",
       "    </tr>\n",
       "    <tr>\n",
       "      <th>3</th>\n",
       "      <td>Harry Potter and the Prisoner of Azkaban (Harr...</td>\n",
       "      <td>302</td>\n",
       "      <td>4.414634</td>\n",
       "      <td>6</td>\n",
       "    </tr>\n",
       "    <tr>\n",
       "      <th>4</th>\n",
       "      <td>The Curious Incident of the Dog in the Night-Time</td>\n",
       "      <td>695</td>\n",
       "      <td>4.081081</td>\n",
       "      <td>6</td>\n",
       "    </tr>\n",
       "    <tr>\n",
       "      <th>...</th>\n",
       "      <td>...</td>\n",
       "      <td>...</td>\n",
       "      <td>...</td>\n",
       "      <td>...</td>\n",
       "    </tr>\n",
       "    <tr>\n",
       "      <th>995</th>\n",
       "      <td>Anne Rice's The Vampire Lestat: A Graphic Novel</td>\n",
       "      <td>83</td>\n",
       "      <td>3.666667</td>\n",
       "      <td>0</td>\n",
       "    </tr>\n",
       "    <tr>\n",
       "      <th>996</th>\n",
       "      <td>The Natural Way to Draw</td>\n",
       "      <td>808</td>\n",
       "      <td>3.000000</td>\n",
       "      <td>0</td>\n",
       "    </tr>\n",
       "    <tr>\n",
       "      <th>997</th>\n",
       "      <td>The Cat in the Hat and Other Dr. Seuss Favorites</td>\n",
       "      <td>672</td>\n",
       "      <td>5.000000</td>\n",
       "      <td>0</td>\n",
       "    </tr>\n",
       "    <tr>\n",
       "      <th>998</th>\n",
       "      <td>Essential Tales and Poems</td>\n",
       "      <td>221</td>\n",
       "      <td>4.000000</td>\n",
       "      <td>0</td>\n",
       "    </tr>\n",
       "    <tr>\n",
       "      <th>999</th>\n",
       "      <td>Disney's Beauty and the Beast (A Little Golden...</td>\n",
       "      <td>191</td>\n",
       "      <td>4.000000</td>\n",
       "      <td>0</td>\n",
       "    </tr>\n",
       "  </tbody>\n",
       "</table>\n",
       "<p>1000 rows × 4 columns</p>\n",
       "</div>"
      ],
      "text/plain": [
       "                                                 title  book_id       avg  cnt\n",
       "0                              Twilight (Twilight  #1)      948  3.662500    7\n",
       "1                                  Water for Elephants      963  3.977273    6\n",
       "2                                     The Glass Castle      734  4.206897    6\n",
       "3    Harry Potter and the Prisoner of Azkaban (Harr...      302  4.414634    6\n",
       "4    The Curious Incident of the Dog in the Night-Time      695  4.081081    6\n",
       "..                                                 ...      ...       ...  ...\n",
       "995    Anne Rice's The Vampire Lestat: A Graphic Novel       83  3.666667    0\n",
       "996                            The Natural Way to Draw      808  3.000000    0\n",
       "997   The Cat in the Hat and Other Dr. Seuss Favorites      672  5.000000    0\n",
       "998                          Essential Tales and Poems      221  4.000000    0\n",
       "999  Disney's Beauty and the Beast (A Little Golden...      191  4.000000    0\n",
       "\n",
       "[1000 rows x 4 columns]"
      ]
     },
     "execution_count": 34,
     "metadata": {},
     "output_type": "execute_result"
    }
   ],
   "source": [
    "select(book_reviews)"
   ]
  },
  {
   "cell_type": "markdown",
   "metadata": {},
   "source": [
    "**Максимальное кол-во обзоров у книги Twilight (Twilight #1) - 7, затем следует множество книг с количеством обзоров - 6, средняя оценка в диапазоне 3.8 - 4.2.**"
   ]
  },
  {
   "cell_type": "markdown",
   "metadata": {},
   "source": [
    "## Задание 3"
   ]
  },
  {
   "cell_type": "code",
   "execution_count": 35,
   "metadata": {},
   "outputs": [],
   "source": [
    "#Определим издательство, которое издало наибольшее число книг толще 50 страниц\n",
    "book_publisher = '''\n",
    "SELECT\n",
    "    publishers.publisher AS name,\n",
    "    COUNT(books.book_id) AS cnt\n",
    "FROM\n",
    "    publishers\n",
    "INNER JOIN books ON books.publisher_id = publishers.publisher_id\n",
    "WHERE\n",
    "    books.num_pages > 50\n",
    "GROUP BY\n",
    "    name\n",
    "ORDER BY \n",
    "    cnt DESC\n",
    "LIMIT 10\n",
    "'''"
   ]
  },
  {
   "cell_type": "code",
   "execution_count": 36,
   "metadata": {},
   "outputs": [
    {
     "data": {
      "text/html": [
       "<div>\n",
       "<style scoped>\n",
       "    .dataframe tbody tr th:only-of-type {\n",
       "        vertical-align: middle;\n",
       "    }\n",
       "\n",
       "    .dataframe tbody tr th {\n",
       "        vertical-align: top;\n",
       "    }\n",
       "\n",
       "    .dataframe thead th {\n",
       "        text-align: right;\n",
       "    }\n",
       "</style>\n",
       "<table border=\"1\" class=\"dataframe\">\n",
       "  <thead>\n",
       "    <tr style=\"text-align: right;\">\n",
       "      <th></th>\n",
       "      <th>name</th>\n",
       "      <th>cnt</th>\n",
       "    </tr>\n",
       "  </thead>\n",
       "  <tbody>\n",
       "    <tr>\n",
       "      <th>0</th>\n",
       "      <td>Penguin Books</td>\n",
       "      <td>42</td>\n",
       "    </tr>\n",
       "    <tr>\n",
       "      <th>1</th>\n",
       "      <td>Vintage</td>\n",
       "      <td>31</td>\n",
       "    </tr>\n",
       "    <tr>\n",
       "      <th>2</th>\n",
       "      <td>Grand Central Publishing</td>\n",
       "      <td>25</td>\n",
       "    </tr>\n",
       "    <tr>\n",
       "      <th>3</th>\n",
       "      <td>Penguin Classics</td>\n",
       "      <td>24</td>\n",
       "    </tr>\n",
       "    <tr>\n",
       "      <th>4</th>\n",
       "      <td>Ballantine Books</td>\n",
       "      <td>19</td>\n",
       "    </tr>\n",
       "  </tbody>\n",
       "</table>\n",
       "</div>"
      ],
      "text/plain": [
       "                       name  cnt\n",
       "0             Penguin Books   42\n",
       "1                   Vintage   31\n",
       "2  Grand Central Publishing   25\n",
       "3          Penguin Classics   24\n",
       "4          Ballantine Books   19"
      ]
     },
     "execution_count": 36,
     "metadata": {},
     "output_type": "execute_result"
    }
   ],
   "source": [
    "select(book_publisher).head()"
   ]
  },
  {
   "cell_type": "markdown",
   "metadata": {},
   "source": [
    "**Издательство Penguin Books - выпустило наибольше число книг в кол-ве 42 книг, толще 50 страниц, затем следуют издательства Vintage (31) и Grand Central Publishing (25)**"
   ]
  },
  {
   "cell_type": "markdown",
   "metadata": {},
   "source": [
    "## Задание 4"
   ]
  },
  {
   "cell_type": "code",
   "execution_count": 37,
   "metadata": {},
   "outputs": [],
   "source": [
    "#Определим автора с самой высокой средней оценкой книг (учитываем только книги с 50 и более оценками)\n",
    "best_author = '''\n",
    "SELECT\n",
    "    ABAC.author AS author,\n",
    "    AVG(ABAC.avg_rating) AS avg_rating\n",
    "FROM\n",
    "(SELECT\n",
    "    authors.author AS author,\n",
    "    books.book_id AS id,\n",
    "    AVG(ratings.rating) AS avg_rating,\n",
    "    COUNT(ratings.rating) AS cnt_rating\n",
    "FROM\n",
    "    authors\n",
    "INNER JOIN books ON books.author_id = authors.author_id\n",
    "INNER JOIN ratings ON ratings.book_id = books.book_id\n",
    "GROUP BY\n",
    "    author,\n",
    "    id\n",
    "    HAVING\n",
    "    COUNT(ratings.rating) >= 50) AS ABAC\n",
    "GROUP BY\n",
    "    author\n",
    "ORDER BY\n",
    "    avg_rating DESC\n",
    "'''"
   ]
  },
  {
   "cell_type": "code",
   "execution_count": 38,
   "metadata": {
    "scrolled": true
   },
   "outputs": [
    {
     "data": {
      "text/html": [
       "<div>\n",
       "<style scoped>\n",
       "    .dataframe tbody tr th:only-of-type {\n",
       "        vertical-align: middle;\n",
       "    }\n",
       "\n",
       "    .dataframe tbody tr th {\n",
       "        vertical-align: top;\n",
       "    }\n",
       "\n",
       "    .dataframe thead th {\n",
       "        text-align: right;\n",
       "    }\n",
       "</style>\n",
       "<table border=\"1\" class=\"dataframe\">\n",
       "  <thead>\n",
       "    <tr style=\"text-align: right;\">\n",
       "      <th></th>\n",
       "      <th>author</th>\n",
       "      <th>avg_rating</th>\n",
       "    </tr>\n",
       "  </thead>\n",
       "  <tbody>\n",
       "    <tr>\n",
       "      <th>0</th>\n",
       "      <td>J.K. Rowling/Mary GrandPré</td>\n",
       "      <td>4.283844</td>\n",
       "    </tr>\n",
       "    <tr>\n",
       "      <th>1</th>\n",
       "      <td>Markus Zusak/Cao Xuân Việt Khương</td>\n",
       "      <td>4.264151</td>\n",
       "    </tr>\n",
       "    <tr>\n",
       "      <th>2</th>\n",
       "      <td>J.R.R. Tolkien</td>\n",
       "      <td>4.258446</td>\n",
       "    </tr>\n",
       "    <tr>\n",
       "      <th>3</th>\n",
       "      <td>Louisa May Alcott</td>\n",
       "      <td>4.192308</td>\n",
       "    </tr>\n",
       "    <tr>\n",
       "      <th>4</th>\n",
       "      <td>Rick Riordan</td>\n",
       "      <td>4.080645</td>\n",
       "    </tr>\n",
       "  </tbody>\n",
       "</table>\n",
       "</div>"
      ],
      "text/plain": [
       "                              author  avg_rating\n",
       "0         J.K. Rowling/Mary GrandPré    4.283844\n",
       "1  Markus Zusak/Cao Xuân Việt Khương    4.264151\n",
       "2                     J.R.R. Tolkien    4.258446\n",
       "3                  Louisa May Alcott    4.192308\n",
       "4                       Rick Riordan    4.080645"
      ]
     },
     "execution_count": 38,
     "metadata": {},
     "output_type": "execute_result"
    }
   ],
   "source": [
    "select(best_author).head()"
   ]
  },
  {
   "cell_type": "markdown",
   "metadata": {},
   "source": [
    "**Cамая высокая средняя оценка у автора J.K. Rowling/Mary GrandPré (4.2838), далее Markus Zusak/Cao Xuân Việt Khương (4.2641) и J.R.R. Tolkien (4.2584)**"
   ]
  },
  {
   "cell_type": "markdown",
   "metadata": {},
   "source": [
    "## Задание 5"
   ]
  },
  {
   "cell_type": "code",
   "execution_count": 39,
   "metadata": {},
   "outputs": [],
   "source": [
    "#Посчитаем среднее количество обзоров от пользователей, которые поставили больше 48 оценок\n",
    "avg_text = '''\n",
    "SELECT ROUND(avg(count)) \n",
    "FROM\n",
    "(SELECT\n",
    "    COUNT(text)\n",
    "FROM \n",
    "    reviews\n",
    "FULL OUTER JOIN (SELECT username,\n",
    "    COUNT(rating_id) as cnt\n",
    "FROM \n",
    "    ratings\n",
    "GROUP BY\n",
    "    username) AS cnt_rating\n",
    "ON cnt_rating.username = reviews.username\n",
    "WHERE cnt > 48\n",
    "GROUP BY reviews.username) as count\n",
    "'''"
   ]
  },
  {
   "cell_type": "code",
   "execution_count": 40,
   "metadata": {},
   "outputs": [
    {
     "data": {
      "text/html": [
       "<div>\n",
       "<style scoped>\n",
       "    .dataframe tbody tr th:only-of-type {\n",
       "        vertical-align: middle;\n",
       "    }\n",
       "\n",
       "    .dataframe tbody tr th {\n",
       "        vertical-align: top;\n",
       "    }\n",
       "\n",
       "    .dataframe thead th {\n",
       "        text-align: right;\n",
       "    }\n",
       "</style>\n",
       "<table border=\"1\" class=\"dataframe\">\n",
       "  <thead>\n",
       "    <tr style=\"text-align: right;\">\n",
       "      <th></th>\n",
       "      <th>round</th>\n",
       "    </tr>\n",
       "  </thead>\n",
       "  <tbody>\n",
       "    <tr>\n",
       "      <th>0</th>\n",
       "      <td>24.0</td>\n",
       "    </tr>\n",
       "  </tbody>\n",
       "</table>\n",
       "</div>"
      ],
      "text/plain": [
       "   round\n",
       "0   24.0"
      ]
     },
     "execution_count": 40,
     "metadata": {},
     "output_type": "execute_result"
    }
   ],
   "source": [
    "select(avg_text)"
   ]
  },
  {
   "cell_type": "markdown",
   "metadata": {},
   "source": [
    "**Среднее кол-во обзоров пользователей, которые поставили более чем по 48 оценок равно 24.**"
   ]
  },
  {
   "cell_type": "markdown",
   "metadata": {},
   "source": [
    "## Общий вывод"
   ]
  },
  {
   "cell_type": "markdown",
   "metadata": {},
   "source": [
    "- В таблице book_publisher лежит список всех издательств, которые выпускают книги от 50 страниц.\n",
    "- В таблице best_author лежит список авторов с самой выской средней оценкой, так как у этих авторов учтены книги которые имеют больше 50 пользовательских оценок.\n",
    "- В таблице book_reviews есть книги со средней оценкой и пользовательскими обзорами.\n",
    "- Так же среднее количество текстовых обзоров на книги более чем 48 оценками имеют в среднем 24 текстовых обзора, что будет достаточно информативно для будущих пользователей."
   ]
  }
 ],
 "metadata": {
  "ExecuteTimeLog": [
   {
    "duration": 624,
    "start_time": "2023-06-27T15:41:26.426Z"
   },
   {
    "duration": 4,
    "start_time": "2023-06-27T15:41:47.961Z"
   },
   {
    "duration": 7,
    "start_time": "2023-06-27T15:41:57.304Z"
   },
   {
    "duration": 11209,
    "start_time": "2023-06-27T15:42:08.666Z"
   },
   {
    "duration": 3,
    "start_time": "2023-06-27T15:42:27.311Z"
   },
   {
    "duration": 4,
    "start_time": "2023-06-27T15:43:09.841Z"
   },
   {
    "duration": 98,
    "start_time": "2023-06-27T15:43:16.934Z"
   },
   {
    "duration": 65,
    "start_time": "2023-06-27T15:43:37.664Z"
   },
   {
    "duration": 27,
    "start_time": "2023-06-27T15:44:00.504Z"
   },
   {
    "duration": 41,
    "start_time": "2023-06-27T15:44:13.014Z"
   },
   {
    "duration": 2,
    "start_time": "2023-06-27T15:44:57.729Z"
   },
   {
    "duration": 18,
    "start_time": "2023-06-27T15:45:04.457Z"
   },
   {
    "duration": 19,
    "start_time": "2023-06-27T15:45:16.336Z"
   },
   {
    "duration": 13,
    "start_time": "2023-06-27T15:45:36.133Z"
   },
   {
    "duration": 17,
    "start_time": "2023-06-27T15:45:43.804Z"
   },
   {
    "duration": 3,
    "start_time": "2023-06-27T15:46:40.718Z"
   },
   {
    "duration": 18,
    "start_time": "2023-06-27T15:46:48.600Z"
   },
   {
    "duration": 17,
    "start_time": "2023-06-27T15:47:00.513Z"
   },
   {
    "duration": 21,
    "start_time": "2023-06-27T15:47:24.558Z"
   },
   {
    "duration": 12,
    "start_time": "2023-06-27T15:47:31.138Z"
   },
   {
    "duration": 4,
    "start_time": "2023-06-27T15:48:10.504Z"
   },
   {
    "duration": 32,
    "start_time": "2023-06-27T15:48:17.226Z"
   },
   {
    "duration": 29,
    "start_time": "2023-06-27T15:48:28.709Z"
   },
   {
    "duration": 88,
    "start_time": "2023-06-27T15:48:45.832Z"
   },
   {
    "duration": 35,
    "start_time": "2023-06-27T15:48:52.247Z"
   },
   {
    "duration": 3,
    "start_time": "2023-06-27T15:49:31.259Z"
   },
   {
    "duration": 22,
    "start_time": "2023-06-27T15:49:37.413Z"
   },
   {
    "duration": 59,
    "start_time": "2023-06-27T15:49:52.958Z"
   },
   {
    "duration": 74,
    "start_time": "2023-06-27T15:50:14.262Z"
   },
   {
    "duration": 28,
    "start_time": "2023-06-27T15:50:20.924Z"
   },
   {
    "duration": 3,
    "start_time": "2023-06-27T15:51:35.515Z"
   },
   {
    "duration": 12,
    "start_time": "2023-06-27T15:51:41.649Z"
   },
   {
    "duration": 3,
    "start_time": "2023-06-27T15:52:43.624Z"
   },
   {
    "duration": 38,
    "start_time": "2023-06-27T15:52:51.311Z"
   },
   {
    "duration": 3,
    "start_time": "2023-06-27T15:54:41.717Z"
   },
   {
    "duration": 29,
    "start_time": "2023-06-27T15:54:48.157Z"
   },
   {
    "duration": 3,
    "start_time": "2023-06-27T15:56:06.862Z"
   },
   {
    "duration": 36,
    "start_time": "2023-06-27T15:56:13.006Z"
   },
   {
    "duration": 3,
    "start_time": "2023-06-27T15:57:03.848Z"
   },
   {
    "duration": 21,
    "start_time": "2023-06-27T15:57:10.555Z"
   },
   {
    "duration": 5,
    "start_time": "2023-06-27T16:00:34.553Z"
   },
   {
    "duration": 85,
    "start_time": "2023-06-27T16:00:35.371Z"
   },
   {
    "duration": 4,
    "start_time": "2023-06-27T16:03:16.057Z"
   },
   {
    "duration": 16,
    "start_time": "2023-06-27T16:03:16.542Z"
   },
   {
    "duration": 629,
    "start_time": "2023-06-27T16:03:56.828Z"
   },
   {
    "duration": 4,
    "start_time": "2023-06-27T16:03:57.459Z"
   },
   {
    "duration": 8,
    "start_time": "2023-06-27T16:03:57.466Z"
   },
   {
    "duration": 11739,
    "start_time": "2023-06-27T16:03:57.482Z"
   },
   {
    "duration": 6,
    "start_time": "2023-06-27T16:04:09.224Z"
   },
   {
    "duration": 13,
    "start_time": "2023-06-27T16:04:09.232Z"
   },
   {
    "duration": 142,
    "start_time": "2023-06-27T16:04:09.247Z"
   },
   {
    "duration": 69,
    "start_time": "2023-06-27T16:04:09.392Z"
   },
   {
    "duration": 77,
    "start_time": "2023-06-27T16:04:09.464Z"
   },
   {
    "duration": 20,
    "start_time": "2023-06-27T16:04:09.543Z"
   },
   {
    "duration": 37,
    "start_time": "2023-06-27T16:04:09.565Z"
   },
   {
    "duration": 40,
    "start_time": "2023-06-27T16:04:09.604Z"
   },
   {
    "duration": 35,
    "start_time": "2023-06-27T16:04:09.647Z"
   },
   {
    "duration": 48,
    "start_time": "2023-06-27T16:04:09.689Z"
   },
   {
    "duration": 15,
    "start_time": "2023-06-27T16:04:09.739Z"
   },
   {
    "duration": 27,
    "start_time": "2023-06-27T16:04:09.756Z"
   },
   {
    "duration": 57,
    "start_time": "2023-06-27T16:04:09.785Z"
   },
   {
    "duration": 17,
    "start_time": "2023-06-27T16:04:09.844Z"
   },
   {
    "duration": 67,
    "start_time": "2023-06-27T16:04:09.863Z"
   },
   {
    "duration": 15,
    "start_time": "2023-06-27T16:04:09.932Z"
   },
   {
    "duration": 46,
    "start_time": "2023-06-27T16:04:09.949Z"
   },
   {
    "duration": 76,
    "start_time": "2023-06-27T16:04:09.997Z"
   },
   {
    "duration": 72,
    "start_time": "2023-06-27T16:04:10.075Z"
   },
   {
    "duration": 95,
    "start_time": "2023-06-27T16:04:10.149Z"
   },
   {
    "duration": 37,
    "start_time": "2023-06-27T16:04:10.246Z"
   },
   {
    "duration": 4,
    "start_time": "2023-06-27T16:04:10.293Z"
   },
   {
    "duration": 64,
    "start_time": "2023-06-27T16:04:10.299Z"
   },
   {
    "duration": 93,
    "start_time": "2023-06-27T16:04:10.365Z"
   },
   {
    "duration": 94,
    "start_time": "2023-06-27T16:04:10.461Z"
   },
   {
    "duration": 33,
    "start_time": "2023-06-27T16:04:10.557Z"
   },
   {
    "duration": 62,
    "start_time": "2023-06-27T16:04:10.592Z"
   },
   {
    "duration": 81,
    "start_time": "2023-06-27T16:04:10.656Z"
   },
   {
    "duration": 6,
    "start_time": "2023-06-27T16:04:10.739Z"
   },
   {
    "duration": 93,
    "start_time": "2023-06-27T16:04:10.747Z"
   },
   {
    "duration": 4,
    "start_time": "2023-06-27T16:04:10.843Z"
   },
   {
    "duration": 55,
    "start_time": "2023-06-27T16:04:10.849Z"
   },
   {
    "duration": 5,
    "start_time": "2023-06-27T16:04:10.907Z"
   },
   {
    "duration": 46,
    "start_time": "2023-06-27T16:04:10.920Z"
   },
   {
    "duration": 8,
    "start_time": "2023-06-27T16:04:10.969Z"
   },
   {
    "duration": 62,
    "start_time": "2023-06-27T16:04:10.978Z"
   },
   {
    "duration": 570,
    "start_time": "2023-06-27T21:18:32.451Z"
   },
   {
    "duration": 5,
    "start_time": "2023-06-27T21:18:33.028Z"
   },
   {
    "duration": 13,
    "start_time": "2023-06-27T21:18:33.035Z"
   },
   {
    "duration": 13502,
    "start_time": "2023-06-27T21:18:33.049Z"
   },
   {
    "duration": 2,
    "start_time": "2023-06-27T21:18:46.554Z"
   },
   {
    "duration": 23,
    "start_time": "2023-06-27T21:18:46.558Z"
   },
   {
    "duration": 429,
    "start_time": "2023-06-27T21:18:46.583Z"
   },
   {
    "duration": 126,
    "start_time": "2023-06-27T21:18:47.014Z"
   },
   {
    "duration": 110,
    "start_time": "2023-06-27T21:18:47.142Z"
   },
   {
    "duration": 104,
    "start_time": "2023-06-27T21:18:47.253Z"
   },
   {
    "duration": 2,
    "start_time": "2023-06-27T21:18:47.359Z"
   },
   {
    "duration": 120,
    "start_time": "2023-06-27T21:18:47.362Z"
   },
   {
    "duration": 103,
    "start_time": "2023-06-27T21:18:47.484Z"
   },
   {
    "duration": 99,
    "start_time": "2023-06-27T21:18:47.590Z"
   },
   {
    "duration": 100,
    "start_time": "2023-06-27T21:18:47.690Z"
   },
   {
    "duration": 3,
    "start_time": "2023-06-27T21:18:47.792Z"
   },
   {
    "duration": 143,
    "start_time": "2023-06-27T21:18:47.797Z"
   },
   {
    "duration": 106,
    "start_time": "2023-06-27T21:18:47.942Z"
   },
   {
    "duration": 99,
    "start_time": "2023-06-27T21:18:48.050Z"
   },
   {
    "duration": 93,
    "start_time": "2023-06-27T21:18:48.151Z"
   },
   {
    "duration": 3,
    "start_time": "2023-06-27T21:18:48.246Z"
   },
   {
    "duration": 132,
    "start_time": "2023-06-27T21:18:48.250Z"
   },
   {
    "duration": 114,
    "start_time": "2023-06-27T21:18:48.384Z"
   },
   {
    "duration": 161,
    "start_time": "2023-06-27T21:18:48.500Z"
   },
   {
    "duration": 105,
    "start_time": "2023-06-27T21:18:48.662Z"
   },
   {
    "duration": 2,
    "start_time": "2023-06-27T21:18:48.769Z"
   },
   {
    "duration": 106,
    "start_time": "2023-06-27T21:18:48.773Z"
   },
   {
    "duration": 108,
    "start_time": "2023-06-27T21:18:48.881Z"
   },
   {
    "duration": 86,
    "start_time": "2023-06-27T21:18:48.991Z"
   },
   {
    "duration": 110,
    "start_time": "2023-06-27T21:18:49.078Z"
   },
   {
    "duration": 3,
    "start_time": "2023-06-27T21:18:49.190Z"
   },
   {
    "duration": 134,
    "start_time": "2023-06-27T21:18:49.194Z"
   },
   {
    "duration": 7,
    "start_time": "2023-06-27T21:18:49.329Z"
   },
   {
    "duration": 125,
    "start_time": "2023-06-27T21:18:49.337Z"
   },
   {
    "duration": 3,
    "start_time": "2023-06-27T21:18:49.463Z"
   },
   {
    "duration": 111,
    "start_time": "2023-06-27T21:18:49.467Z"
   },
   {
    "duration": 3,
    "start_time": "2023-06-27T21:18:49.579Z"
   },
   {
    "duration": 112,
    "start_time": "2023-06-27T21:18:49.583Z"
   },
   {
    "duration": 3,
    "start_time": "2023-06-27T21:18:49.696Z"
   },
   {
    "duration": 146,
    "start_time": "2023-06-27T21:18:49.701Z"
   },
   {
    "duration": 464,
    "start_time": "2023-10-13T09:39:16.147Z"
   },
   {
    "duration": 2,
    "start_time": "2023-10-13T09:39:16.613Z"
   },
   {
    "duration": 12,
    "start_time": "2023-10-13T09:39:16.617Z"
   },
   {
    "duration": 15030,
    "start_time": "2023-10-13T09:39:16.630Z"
   },
   {
    "duration": 2,
    "start_time": "2023-10-13T09:39:31.662Z"
   },
   {
    "duration": 22,
    "start_time": "2023-10-13T09:39:31.665Z"
   },
   {
    "duration": 399,
    "start_time": "2023-10-13T09:39:31.688Z"
   },
   {
    "duration": 116,
    "start_time": "2023-10-13T09:39:32.089Z"
   },
   {
    "duration": 98,
    "start_time": "2023-10-13T09:39:32.207Z"
   },
   {
    "duration": 100,
    "start_time": "2023-10-13T09:39:32.307Z"
   },
   {
    "duration": 2,
    "start_time": "2023-10-13T09:39:32.409Z"
   },
   {
    "duration": 101,
    "start_time": "2023-10-13T09:39:32.413Z"
   },
   {
    "duration": 101,
    "start_time": "2023-10-13T09:39:32.516Z"
   },
   {
    "duration": 94,
    "start_time": "2023-10-13T09:39:32.619Z"
   },
   {
    "duration": 94,
    "start_time": "2023-10-13T09:39:32.714Z"
   },
   {
    "duration": 3,
    "start_time": "2023-10-13T09:39:32.809Z"
   },
   {
    "duration": 98,
    "start_time": "2023-10-13T09:39:32.813Z"
   },
   {
    "duration": 97,
    "start_time": "2023-10-13T09:39:32.912Z"
   },
   {
    "duration": 94,
    "start_time": "2023-10-13T09:39:33.010Z"
   },
   {
    "duration": 93,
    "start_time": "2023-10-13T09:39:33.105Z"
   },
   {
    "duration": 2,
    "start_time": "2023-10-13T09:39:33.199Z"
   },
   {
    "duration": 124,
    "start_time": "2023-10-13T09:39:33.203Z"
   },
   {
    "duration": 106,
    "start_time": "2023-10-13T09:39:33.328Z"
   },
   {
    "duration": 128,
    "start_time": "2023-10-13T09:39:33.436Z"
   },
   {
    "duration": 105,
    "start_time": "2023-10-13T09:39:33.566Z"
   },
   {
    "duration": 3,
    "start_time": "2023-10-13T09:39:33.672Z"
   },
   {
    "duration": 114,
    "start_time": "2023-10-13T09:39:33.676Z"
   },
   {
    "duration": 102,
    "start_time": "2023-10-13T09:39:33.791Z"
   },
   {
    "duration": 98,
    "start_time": "2023-10-13T09:39:33.894Z"
   },
   {
    "duration": 99,
    "start_time": "2023-10-13T09:39:33.993Z"
   },
   {
    "duration": 2,
    "start_time": "2023-10-13T09:39:34.093Z"
   },
   {
    "duration": 114,
    "start_time": "2023-10-13T09:39:34.097Z"
   },
   {
    "duration": 2,
    "start_time": "2023-10-13T09:39:34.213Z"
   },
   {
    "duration": 127,
    "start_time": "2023-10-13T09:39:34.216Z"
   },
   {
    "duration": 3,
    "start_time": "2023-10-13T09:39:34.344Z"
   },
   {
    "duration": 101,
    "start_time": "2023-10-13T09:39:34.348Z"
   },
   {
    "duration": 2,
    "start_time": "2023-10-13T09:39:34.450Z"
   },
   {
    "duration": 111,
    "start_time": "2023-10-13T09:39:34.453Z"
   },
   {
    "duration": 2,
    "start_time": "2023-10-13T09:39:34.565Z"
   },
   {
    "duration": 99,
    "start_time": "2023-10-13T09:39:34.568Z"
   }
  ],
  "kernelspec": {
   "display_name": "Python 3 (ipykernel)",
   "language": "python",
   "name": "python3"
  },
  "language_info": {
   "codemirror_mode": {
    "name": "ipython",
    "version": 3
   },
   "file_extension": ".py",
   "mimetype": "text/x-python",
   "name": "python",
   "nbconvert_exporter": "python",
   "pygments_lexer": "ipython3",
   "version": "3.9.5"
  },
  "toc": {
   "base_numbering": 1,
   "nav_menu": {},
   "number_sections": false,
   "sideBar": true,
   "skip_h1_title": false,
   "title_cell": "Table of Contents",
   "title_sidebar": "Contents",
   "toc_cell": false,
   "toc_position": {
    "height": "calc(100% - 180px)",
    "left": "10px",
    "top": "150px",
    "width": "275px"
   },
   "toc_section_display": true,
   "toc_window_display": false
  }
 },
 "nbformat": 4,
 "nbformat_minor": 2
}
